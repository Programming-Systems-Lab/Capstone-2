{
 "cells": [
  {
   "cell_type": "code",
   "execution_count": 165,
   "metadata": {},
   "outputs": [],
   "source": [
    "import pandas as pd\n",
    "import numpy as np\n",
    "import matplotlib.pyplot as plt"
   ]
  },
  {
   "cell_type": "code",
   "execution_count": 166,
   "metadata": {},
   "outputs": [],
   "source": [
    "X = pd.read_csv('Training_Dataset.csv')"
   ]
  },
  {
   "cell_type": "code",
   "execution_count": 167,
   "metadata": {},
   "outputs": [],
   "source": [
    "y = pd.read_csv('Labels.csv')"
   ]
  },
  {
   "cell_type": "code",
   "execution_count": 168,
   "metadata": {},
   "outputs": [],
   "source": [
    "# Delete useless features told by Shirish\n",
    "X.drop(['Package_Name', 'SHA256', 'ThumbPrint', 'Application_Category', \n",
    "        'Family_Name', 'Malware_Category', 'Malware/Benign', 'label'], axis = 1, inplace = True)"
   ]
  },
  {
   "cell_type": "markdown",
   "metadata": {},
   "source": [
    "## Feature Exploration"
   ]
  },
  {
   "cell_type": "markdown",
   "metadata": {},
   "source": [
    "#### Find the one-hot features having missing values"
   ]
  },
  {
   "cell_type": "code",
   "execution_count": 169,
   "metadata": {},
   "outputs": [
    {
     "data": {
      "text/plain": [
       "sdkVersion          0.0\n",
       "targetSdkVersion    0.0\n",
       "Name: count, dtype: float64"
      ]
     },
     "execution_count": 169,
     "metadata": {},
     "output_type": "execute_result"
    }
   ],
   "source": [
    "X.describe().loc['count'][X.describe().loc['count'] < 10954]"
   ]
  },
  {
   "cell_type": "code",
   "execution_count": 170,
   "metadata": {},
   "outputs": [],
   "source": [
    "# Delete these useless features (100% missing values)\n",
    "X = X.drop(['sdkVersion', 'targetSdkVersion'], axis = 1)"
   ]
  },
  {
   "cell_type": "code",
   "execution_count": 171,
   "metadata": {},
   "outputs": [
    {
     "data": {
      "text/plain": [
       "Series([], Name: count, dtype: float64)"
      ]
     },
     "execution_count": 171,
     "metadata": {},
     "output_type": "execute_result"
    }
   ],
   "source": [
    "# Check if there's no onehot feature has missing values\n",
    "X.describe().loc['count'][X.describe().loc['count'] < 10954]"
   ]
  },
  {
   "cell_type": "markdown",
   "metadata": {},
   "source": [
    "#### Remove features with 0 variance"
   ]
  },
  {
   "cell_type": "code",
   "execution_count": 172,
   "metadata": {
    "scrolled": true
   },
   "outputs": [
    {
     "data": {
      "text/plain": [
       "['Permission: REQUEST_DELETE_PACKAGES',\n",
       " 'Permission: BIND_MIDI_DEVICE_SERVICE',\n",
       " 'Permission: BIND_TV_INPUT',\n",
       " 'Permission: com.android.voicemail.permission.ADD_VOICEMAIL',\n",
       " 'Permission: com.android.launcher.permission.UNINSTALL_SHORTCUT',\n",
       " 'Permission: READ_PHONE_NUMBERS',\n",
       " 'Permission: GET_ACCOUNTS_PRIVILEGED',\n",
       " 'Permission: REQUEST_COMPANION_RUN_IN_BACKGROUND',\n",
       " 'Permission: ANSWER_PHONE_CALLS',\n",
       " 'Permission: BIND_CARRIER_SERVICES',\n",
       " 'Permission: REQUEST_IGNORE_BATTERY_OPTIMIZATIONS',\n",
       " 'Permission: ACCESS_NOTIFICATION_POLICY',\n",
       " 'Permission: com.android.voicemail.permission.READ_VOICEMAIL',\n",
       " 'Permission: BODY_SENSORS',\n",
       " 'Permission: BIND_SCREENING_SERVICE',\n",
       " 'Permission: REQUEST_COMPANION_USE_DATA_IN_BACKGROUND',\n",
       " 'Permission: BIND_TELECOM_CONNECTION_SERVICE',\n",
       " 'Permission: BIND_VOICE_INTERACTION',\n",
       " 'Permission: BIND_CHOOSER_TARGET_SERVICE',\n",
       " 'Permission: com.android.launcher.permission.INSTALL_SHORTCUT',\n",
       " 'Permission: BIND_AUTOFILL_SERVICE',\n",
       " 'Permission: USE_FINGERPRINT',\n",
       " 'Permission: com.android.voicemail.permission.WRITE_VOICEMAIL',\n",
       " 'Permission: BIND_VISUAL_VOICEMAIL_SERVICE',\n",
       " 'Permission: com.android.alarm.permission.SET_ALARM',\n",
       " 'Permission: BIND_CONDITION_PROVIDER_SERVICE',\n",
       " 'Permission: REQUEST_INSTALL_PACKAGES',\n",
       " 'Permission: BIND_CARRIER_MESSAGING_SERVICE',\n",
       " 'Permission: MANAGE_OWN_CALLS',\n",
       " 'Permission: BIND_INCALL_SERVICE',\n",
       " 'Permission: BIND_DREAM_SERVICE',\n",
       " 'Permission: INSTANT_APP_FOREGROUND_SERVICE',\n",
       " 'Permission: PACKAGE_USAGE_STATS',\n",
       " 'Permission: BIND_VR_LISTENER_SERVICE',\n",
       " 'Permission: BIND_QUICK_SETTINGS_TILE',\n",
       " 'Hardware/Software: hardware.camera2.autofocus',\n",
       " 'Hardware/Software: hardware.camera.level.full',\n",
       " 'Hardware/Software: hardware.type.automotive',\n",
       " 'Hardware/Software: hardware.nfc.hce',\n",
       " 'Hardware/Software: software.print',\n",
       " 'Hardware/Software: software.verified_boot',\n",
       " 'Hardware/Software: hardware.sensor.light',\n",
       " 'Hardware/Software: software.leanback',\n",
       " 'Hardware/Software: hardware.gamepad',\n",
       " 'Hardware/Software: hardware.opengles.aep',\n",
       " 'Hardware/Software: software.sip',\n",
       " 'Hardware/Software: hardware.sensor.barometer',\n",
       " 'Hardware/Software: software.live_tv',\n",
       " 'Hardware/Software: hardware.type.television',\n",
       " 'Hardware/Software: software.device_admin',\n",
       " 'Hardware/Software: software.sip.voip',\n",
       " 'Hardware/Software: hardware.sensor.stepdetector',\n",
       " 'Hardware/Software: software.app_widgets',\n",
       " 'Hardware/Software: hardware.camera2.full',\n",
       " 'Hardware/Software: hardware.consumerir',\n",
       " 'Hardware/Software: hardware.type.watch',\n",
       " 'Hardware/Software: hardware.audio.low_latency',\n",
       " 'Hardware/Software: software.midi',\n",
       " 'Hardware/Software: hardware.camera.external',\n",
       " 'Hardware/Software: hardware.camera.capability.raw',\n",
       " 'Hardware/Software: hardware.sensor.stepcounter',\n",
       " 'Hardware/Software: hardware.sensor.heartrate.ecg',\n",
       " 'Hardware/Software: hardware.camera.capability.manual_sensor',\n",
       " 'Hardware/Software: hardware.sensor.heartrate',\n",
       " 'Hardware/Software: hardware.audio.output',\n",
       " 'Hardware/Software: hardware.camera.capability.manual_post_processing',\n",
       " 'Hardware/Software: hardware.wifi.direct',\n",
       " 'Hardware/Software: software.managed_users',\n",
       " 'Hardware/Software: hardware.sensor.hifi_sensors',\n",
       " 'Hardware/Software: software.home_screen',\n",
       " 'Hardware/Software: software.securely_removes_users',\n",
       " 'Hardware/Software: hardware.audio.pro',\n",
       " 'Hardware/Software: hardware.sensor.ambient_temperature',\n",
       " 'Hardware/Software: software.backup',\n",
       " 'Hardware/Software: hardware.fingerprint',\n",
       " 'Hardware/Software: software.webview',\n",
       " 'Hardware/Software: hardware.sensor.relative_humidity',\n",
       " 'Hardware/Software: hardware.camera2.flash',\n",
       " 'Hardware/Software: hardware.camera2',\n",
       " 'Hardware/Software: software.input_methods',\n",
       " 'Intent: extra.changed_component_name',\n",
       " 'Intent: action.UMS_CONNECTED',\n",
       " 'Intent: extra.PACKAGE_NAME',\n",
       " 'Intent: extra.CC',\n",
       " 'Intent: action.PACKAGE_FIRST_LAUNCH',\n",
       " 'Intent: category.CAR_MODE',\n",
       " 'Intent: action.MEDIA_CHECKING',\n",
       " 'Intent: action.UMS_DISCONNECTED',\n",
       " 'Intent: extra.ORIGINATING_URI',\n",
       " 'Intent: action.MANAGE_PACKAGE_STORAGE',\n",
       " 'Intent: extra.PROCESS_TEXT_READONLY',\n",
       " 'Intent: action.REBOOT',\n",
       " 'Intent: category.APP_CALCULATOR',\n",
       " 'Intent: action.GTALK_DISCONNECTED',\n",
       " 'Intent: action.MEDIA_REMOVED',\n",
       " 'Intent: category.OPENABLE',\n",
       " 'Intent: action.OPEN_DOCUMENT',\n",
       " 'Intent: action.APPLICATION_RESTRICTIONS_CHANGED',\n",
       " 'Intent: extra.COMPONENT_NAME',\n",
       " 'Intent: extra.changed_uid_list',\n",
       " 'Intent: extra.STREAM',\n",
       " 'Intent: extra.changed_package_list',\n",
       " 'Intent: category.MONKEY',\n",
       " 'Intent: action.MEDIA_UNMOUNTABLE',\n",
       " 'Intent: category.CAR_DOCK',\n",
       " 'Intent: action.ASSIST',\n",
       " 'Intent: action.USER_UNLOCKED',\n",
       " 'Intent: extra.KEY_EVENT',\n",
       " 'Intent: action.USER_INITIALIZE',\n",
       " 'Intent: extra.USER',\n",
       " 'Intent: extra.SUBJECT',\n",
       " 'Intent: category.FRAMEWORK_INSTRUMENTATION_TEST',\n",
       " 'Intent: category.DESK_DOCK',\n",
       " 'Intent: action.PACKAGE_DATA_CLEARED',\n",
       " 'Intent: extra.SHUTDOWN_USERSPACE_ONLY',\n",
       " 'Intent: extra.CHOSEN_COMPONENT',\n",
       " 'Intent: category.TYPED_OPENABLE',\n",
       " 'Intent: extra.ALTERNATE_INTENTS',\n",
       " 'Intent: category.APP_MARKET',\n",
       " 'Intent: category.UNIT_TEST',\n",
       " 'Intent: extra.DOCK_STATE',\n",
       " 'Intent: extra.REFERRER',\n",
       " 'Intent: action.CAMERA_BUTTON',\n",
       " 'Intent: category.BROWSABLE',\n",
       " 'Intent: extra.ASSIST_PACKAGE',\n",
       " 'Intent: extra.ALARM_COUNT',\n",
       " 'Intent: action.PACKAGE_RESTARTED',\n",
       " 'Intent: action.SEARCH_LONG_PRESS',\n",
       " 'Intent: extra.REFERRER_NAME',\n",
       " 'Intent: action.MEDIA_EJECT',\n",
       " 'Intent: extra.restrictions_bundle',\n",
       " 'Intent: extra.shortcut.ICON',\n",
       " 'Intent: action.VOICE_COMMAND',\n",
       " 'Intent: action.MANAGED_PROFILE_ADDED',\n",
       " 'Intent: action.PACKAGES_SUSPENDED',\n",
       " 'Intent: extra.INSTALLER_PACKAGE_NAME',\n",
       " 'Intent: action.EXTERNAL_APPLICATIONS_UNAVAILABLE',\n",
       " 'Intent: extra.CHOOSER_REFINEMENT_INTENT_SENDER',\n",
       " 'Intent: extra.PHONE_NUMBER',\n",
       " 'Intent: extra.ASSIST_INPUT_HINT_KEYBOARD',\n",
       " 'Intent: action.LOCKED_BOOT_COMPLETED',\n",
       " 'Intent: action.USER_FOREGROUND',\n",
       " 'Intent: action.BUG_REPORT',\n",
       " 'Intent: action.MANAGED_PROFILE_AVAILABLE',\n",
       " 'Intent: extra.DONT_KILL_APP',\n",
       " 'Intent: extra.CONTENT_ANNOTATIONS',\n",
       " 'Intent: action.APPLICATION_PREFERENCES',\n",
       " 'Intent: action.QUICK_VIEW',\n",
       " 'Intent: action.INSTALL_FAILURE',\n",
       " 'Intent: action.PACKAGE_FULLY_REMOVED',\n",
       " 'Intent: category.ALTERNATIVE',\n",
       " 'Intent: extra.INDEX',\n",
       " 'Intent: extra.CHOOSER_TARGETS',\n",
       " 'Intent: extra.ASSIST_INPUT_DEVICE_ID',\n",
       " 'Intent: category.DEFAULT',\n",
       " 'Intent: extra.RETURN_RESULT',\n",
       " 'Intent: extra.BUG_REPORT',\n",
       " 'Intent: action.SYSTEM_TUTORIAL',\n",
       " 'Intent: category.LE_DESK_DOCK',\n",
       " 'Intent: action.ANSWER',\n",
       " 'Intent: action.GTALK_CONNECTED',\n",
       " 'Intent: extra.ASSIST_CONTEXT',\n",
       " 'Intent: action.MANAGED_PROFILE_UNAVAILABLE',\n",
       " 'Intent: extra.REPLACEMENT_EXTRAS',\n",
       " 'Intent: extra.INTENT',\n",
       " 'Intent: category.EMBED',\n",
       " 'Intent: action.PROCESS_TEXT',\n",
       " 'Intent: extra.shortcut.INTENT',\n",
       " 'Intent: extra.NOT_UNKNOWN_SOURCE',\n",
       " 'Intent: extra.CHOSEN_COMPONENT_INTENT_SENDER',\n",
       " 'Intent: category.HOME',\n",
       " 'Intent: extra.changed_component_name_list',\n",
       " 'Intent: category.PREFERENCE',\n",
       " 'Intent: category.LAUNCHER',\n",
       " 'Intent: action.SHOW_APP_INFO',\n",
       " 'Intent: action.MANAGE_NETWORK_USAGE',\n",
       " 'Intent: category.APP_CALENDAR',\n",
       " 'Intent: extra.RESULT_RECEIVER',\n",
       " 'Intent: action.MY_PACKAGE_REPLACED',\n",
       " 'Intent: extra.shortcut.NAME',\n",
       " 'Intent: category.APP_EMAIL',\n",
       " 'Intent: extra.TITLE',\n",
       " 'Intent: action.FACTORY_TEST',\n",
       " 'Intent: category.APP_MAPS',\n",
       " 'Intent: extra.MIME_TYPES',\n",
       " 'Intent: extra.FROM_STORAGE',\n",
       " 'Intent: action.GET_RESTRICTION_ENTRIES',\n",
       " 'Intent: extra.remote_intent_token',\n",
       " 'Intent: category.APP_BROWSER',\n",
       " 'Intent: extra.DATA_REMOVED',\n",
       " 'Intent: category.TAB',\n",
       " 'Intent: action.MEDIA_NOFS',\n",
       " 'Intent: action.MANAGED_PROFILE_UNLOCKED',\n",
       " 'Intent: extra.restrictions_intent',\n",
       " 'Intent: category.APP_CONTACTS',\n",
       " 'Intent: action.MEDIA_BAD_REMOVAL',\n",
       " 'Intent: action.ALL_APPS',\n",
       " 'Intent: action.EXTERNAL_APPLICATIONS_AVAILABLE',\n",
       " 'Intent: category.LEANBACK_LAUNCHER',\n",
       " 'Intent: action.PACKAGES_UNSUSPENDED',\n",
       " 'Intent: action.CARRIER_SETUP',\n",
       " 'Intent: action.PACKAGE_CHANGED',\n",
       " 'Intent: category.SELECTED_ALTERNATIVE',\n",
       " 'Intent: category.TEST',\n",
       " 'Intent: extra.PROCESS_TEXT',\n",
       " 'Intent: action.PACKAGE_VERIFIED',\n",
       " 'Intent: extra.REPLACING',\n",
       " 'Intent: action.QUICK_CLOCK',\n",
       " 'Intent: extra.TEMPLATE',\n",
       " 'Intent: category.APP_GALLERY',\n",
       " 'Intent: action.NEW_OUTGOING_CALL',\n",
       " 'Intent: action.MEDIA_UNMOUNTED',\n",
       " 'Intent: action.INSTALL_PACKAGE',\n",
       " 'Intent: action.CREATE_DOCUMENT',\n",
       " 'Intent: category.VOICE',\n",
       " 'Intent: extra.ALLOW_MULTIPLE',\n",
       " 'Intent: extra.EXCLUDE_COMPONENTS',\n",
       " 'Intent: extra.ASSIST_UID',\n",
       " 'Intent: action.SYNC',\n",
       " 'Intent: category.DEVELOPMENT_PREFERENCE',\n",
       " 'Intent: action.USER_BACKGROUND',\n",
       " 'Intent: category.INFO',\n",
       " 'Intent: extra.shortcut.ICON_RESOURCE',\n",
       " 'Intent: extra.QUIET_MODE',\n",
       " 'Intent: extra.SPLIT_NAME',\n",
       " 'Intent: extra.LOCAL_ONLY',\n",
       " 'Intent: action.PROVIDER_CHANGED',\n",
       " 'Intent: extra.restrictions_list',\n",
       " 'Intent: category.VR_HOME',\n",
       " 'Intent: extra.QUICK_VIEW_FEATURES',\n",
       " 'Intent: category.SAMPLE_CODE',\n",
       " 'Intent: action.UID_REMOVED',\n",
       " 'Intent: extra.UID',\n",
       " 'Intent: action.DREAMING_STOPPED',\n",
       " 'Intent: category.HE_DESK_DOCK',\n",
       " 'Intent: extra.ALLOW_REPLACE',\n",
       " 'Intent: action.PASTE',\n",
       " 'Intent: action.BATTERY_OKAY',\n",
       " 'Intent: action.PACKAGE_NEEDS_VERIFICATION',\n",
       " 'Intent: action.OPEN_DOCUMENT_TREE',\n",
       " 'Intent: category.APP_MUSIC',\n",
       " 'Intent: category.APP_MESSAGING',\n",
       " 'Intent: action.MANAGED_PROFILE_REMOVED',\n",
       " 'Package: com.google.firebase.perf',\n",
       " 'Package: android.content.res',\n",
       " 'Package: android.accessibilityservice',\n",
       " 'Package: javax.microedition.khronos.opengles',\n",
       " 'Package: android.view.textservice',\n",
       " 'Package: org.xml.sax',\n",
       " 'Package: android.hardware.usb',\n",
       " 'Package: com.google.android.gms.awareness.state',\n",
       " 'Package: android.app.usage',\n",
       " 'Package: android.speech',\n",
       " 'Package: com.google.android.gms.fitness.result',\n",
       " 'Package: java.util.concurrent.locks',\n",
       " 'Package: java.nio',\n",
       " 'Package: com.google.firebase.ml.vision.cloud.label',\n",
       " 'Package: com.google.android.gms.iid',\n",
       " 'Package: javax.crypto.spec',\n",
       " 'Package: java.nio.file',\n",
       " 'Package: android.accounts',\n",
       " 'Package: android.graphics',\n",
       " 'Package: android.service.dreams',\n",
       " 'Package: java.io',\n",
       " 'Package: java.lang.reflect',\n",
       " 'Package: com.google.android.gms.measurement',\n",
       " 'Package: android.service.vr',\n",
       " 'Package: android.app.job',\n",
       " 'Package: java.time.temporal',\n",
       " 'Package: android.graphics.fonts',\n",
       " 'Package: javax.security.auth.callback',\n",
       " 'Package: com.google.android.gms.fido',\n",
       " 'Package: com.google.android.gms.auth.api',\n",
       " 'Package: javax.crypto.interfaces',\n",
       " 'Package: org.xml.sax.ext',\n",
       " 'Package: android.speech.tts',\n",
       " 'Package: android.net.wifi.p2p.nsd',\n",
       " 'Package: android.hardware.camera2.params',\n",
       " 'Package: android.gesture',\n",
       " 'Package: android.telecom',\n",
       " 'Package: android.net.wifi.aware',\n",
       " 'Package: com.google.android.gms.nearby.connection',\n",
       " 'Package: android.preference',\n",
       " 'Package: android.media.midi',\n",
       " 'Package: android.media.audiofx',\n",
       " 'Package: java.lang.annotation',\n",
       " 'Package: android.security.keystore',\n",
       " 'Package: com.android.test.runner',\n",
       " 'Package: com.google.android.gms.instantapps',\n",
       " 'Package: javax.xml.transform.dom',\n",
       " 'Package: javax.security.auth',\n",
       " 'Package: java.net',\n",
       " 'Package: com.google.firebase.ml.vision.label',\n",
       " 'Package: com.google.firebase.ml.vision.cloud.landmark',\n",
       " 'Package: android.text.util',\n",
       " 'Package: org.w3c.dom',\n",
       " 'Package: android.hardware.fingerprint',\n",
       " 'Package: android.media.projection',\n",
       " 'Package: dalvik.bytecode',\n",
       " 'Package: com.google.firebase.appinvite',\n",
       " 'Package: android.net.wifi.hotspot2.pps',\n",
       " 'Package: com.google.firebase.ml.vision.text',\n",
       " 'Package: java.util.concurrent',\n",
       " 'Package: android.os.storage',\n",
       " 'Package: javax.xml.transform',\n",
       " 'Package: com.google.android.vending.verifier',\n",
       " 'Package: com.google.android.gms.fido.u2f',\n",
       " 'Package: android.print.pdf',\n",
       " 'Package: com.google.android.gms.fido.fido2.api.common',\n",
       " 'Package: com.google.firebase.remoteconfig',\n",
       " 'Package: java.beans',\n",
       " 'Package: com.google.android.gms.auth.api.accounttransfer',\n",
       " 'Package: android.graphics.drawable.shapes',\n",
       " 'Package: android.view.inputmethod',\n",
       " 'Package: android.content',\n",
       " 'Package: android.media.session',\n",
       " 'Package: com.google.android.gms.auth.account',\n",
       " 'Package: java.nio.file.spi',\n",
       " 'Package: android.service.textservice',\n",
       " 'Package: com.google.firebase.crash',\n",
       " 'Package: com.google.android.gms.fido.u2f.api.messagebased',\n",
       " 'Package: com.google.firebase.ml.vision.common',\n",
       " 'Package: com.google.android.gms.oss.licenses',\n",
       " 'Package: com.google.android.gms.auth.api.credentials',\n",
       " 'Package: com.google.firebase.ml.custom',\n",
       " 'Package: java.util.stream',\n",
       " 'Package: android.service.carrier',\n",
       " 'Package: com.google.android.gms.nearby.messages.audio',\n",
       " 'Package: java.time.zone',\n",
       " 'Package: com.google.android.gms.cast.framework.media.uicontroller',\n",
       " 'Package: java.nio.channels.spi',\n",
       " 'Package: com.google.firebase.firestore',\n",
       " 'Package: dalvik.annotation',\n",
       " 'Package: com.google.firebase.iid',\n",
       " 'Package: com.google.android.gms.tasks',\n",
       " 'Package: com.google.android.gms.awareness',\n",
       " 'Package: java.util',\n",
       " 'Package: android.location',\n",
       " 'Package: android.net.rtp',\n",
       " 'Package: java.text',\n",
       " 'Package: android.net.wifi.p2p',\n",
       " 'Package: javax.xml.validation',\n",
       " 'Package: javax.security.auth.x500',\n",
       " 'Package: android.view.accessibility',\n",
       " 'Package: java.util.concurrent.atomic',\n",
       " 'Package: javax.net.ssl',\n",
       " 'Package: com.google.firebase',\n",
       " 'Package: com.google.android.gms.vision.barcode',\n",
       " 'Package: com.google.android.gms.nearby.messages',\n",
       " 'Package: java.nio.channels',\n",
       " 'Package: android.database.sqlite',\n",
       " 'Package: java.nio.file.attribute',\n",
       " 'Package: android.hardware',\n",
       " 'Package: java.util.logging',\n",
       " 'Package: android.net.nsd',\n",
       " 'Package: com.google.android.gms.vision.face',\n",
       " 'Package: java.math',\n",
       " 'Package: com.google.firebase.auth',\n",
       " 'Package: android.service.wallpaper',\n",
       " 'Package: android.print',\n",
       " 'Package: java.sql',\n",
       " 'Package: android.mtp',\n",
       " 'Package: java.util.prefs',\n",
       " 'Package: javax.xml.datatype',\n",
       " 'Package: android.service.autofill',\n",
       " 'Package: android.test.suitebuilder.annotation',\n",
       " 'Package: com.google.firebase.database',\n",
       " 'Package: com.google.android.gms.ads.reward',\n",
       " 'Package: com.google.firebase.ml.vision.cloud.text',\n",
       " 'Package: android.view.autofill',\n",
       " 'Package: java.security.cert',\n",
       " 'Package: com.google.android.gms.ads.formats',\n",
       " 'Package: com.google.android.gms.fido.fido2',\n",
       " 'Package: android.inputmethodservice',\n",
       " 'Package: java.time.chrono',\n",
       " 'Package: com.google.android.gms.safetynet',\n",
       " 'Package: java.util.zip',\n",
       " 'Package: com.google.android.gms.fitness.service',\n",
       " 'Package: android.icu.util',\n",
       " 'Package: com.google.firebase.ml.vision.barcode',\n",
       " 'Package: android.database',\n",
       " 'Package: com.google.firebase.ml.vision',\n",
       " 'Package: android.text',\n",
       " 'Package: com.google.android.gms.nearby',\n",
       " 'Package: android.service.notification',\n",
       " 'Package: javax.security.auth.login',\n",
       " 'Package: android.service.chooser',\n",
       " 'Package: android.net.wifi.hotspot2.omadm',\n",
       " 'Package: java.lang',\n",
       " 'Package: java.util.function',\n",
       " 'Package: android.icu.text',\n",
       " 'Package: javax.xml.xpath',\n",
       " 'Package: com.google.android.gms.fido.common',\n",
       " 'Package: android.app.backup',\n",
       " 'Package: com.google.firebase.ml.common',\n",
       " 'Package: android.nfc.tech',\n",
       " 'Package: com.google.android.gms.fitness',\n",
       " 'Package: android.net.sip',\n",
       " 'Package: android.media.tv',\n",
       " 'Package: android.app.assist',\n",
       " 'Package: android.companion',\n",
       " 'Package: com.google.android.gms.cast.framework.media.widget',\n",
       " 'Package: com.google.android.gms.cast.framework',\n",
       " 'Package: android.media.browse',\n",
       " 'Package: com.google.android.gms.auth.api.phone',\n",
       " 'Package: com.google.android.gms.auth.api.signin',\n",
       " 'Package: org.w3c.dom.ls',\n",
       " 'Package: android.support',\n",
       " 'Package: android.text.method',\n",
       " 'Package: android.bluetooth.le',\n",
       " 'Package: android.view',\n",
       " 'Package: com.google.android.gms.location.places.ui',\n",
       " 'Package: com.google.android.gms.location.places',\n",
       " 'Package: com.google.firebase.provider',\n",
       " 'Package: android.icu.math',\n",
       " 'Package: javax.crypto',\n",
       " 'Package: java.time.format',\n",
       " 'Package: javax.net',\n",
       " 'Package: android.nfc.cardemulation',\n",
       " 'Package: com.google.firebase.appindexing.builders',\n",
       " 'Package: javax.security.cert',\n",
       " 'Package: com.google.android.gms.stats',\n",
       " 'Package: android.graphics.drawable',\n",
       " 'Package: com.google.android.gms.games.video',\n",
       " 'Package: android.hardware.input',\n",
       " 'Package: com.google.firebase.ml.vision.cloud',\n",
       " 'Package: java.security.acl',\n",
       " 'Package: android.service.quicksettings',\n",
       " 'Package: android.renderscript',\n",
       " 'Package: com.google.android.gms.fitness.data',\n",
       " 'Package: java.nio.charset',\n",
       " 'Package: android.hardware.camera2',\n",
       " 'Package: android.annotation',\n",
       " 'Package: android.service.restrictions',\n",
       " 'Package: android.sax',\n",
       " 'Package: java.security.interfaces',\n",
       " 'Package: android.icu.lang',\n",
       " 'Package: javax.microedition.khronos.egl',\n",
       " 'Package: com.google.android.gms.cast.framework.media',\n",
       " 'Package: android.databinding',\n",
       " 'Package: com.google.firebase.dynamiclinks',\n",
       " 'Package: android.media.effect',\n",
       " 'Package: android.transition',\n",
       " 'Package: android.test',\n",
       " 'Package: com.google.android.gms.games.stats',\n",
       " 'Package: com.google.android.gms.vision',\n",
       " 'Package: android.graphics.pdf',\n",
       " 'Package: android.system',\n",
       " 'Package: com.google.android.gms.appinvite',\n",
       " 'Package: javax.xml.parsers',\n",
       " 'Package: java.awt.font',\n",
       " 'Package: android.printservice',\n",
       " 'Package: com.google.android.gms.awareness.snapshot',\n",
       " 'Package: javax.xml',\n",
       " 'Package: java.util.regex',\n",
       " 'Package: android.nfc',\n",
       " 'Package: javax.xml.transform.stream',\n",
       " 'Package: com.google.android.gms.vision.text',\n",
       " 'Package: android.test.suitebuilder',\n",
       " 'Package: com.google.android.gms.search',\n",
       " 'Package: java.security.spec',\n",
       " 'Package: android.net',\n",
       " 'Package: android.telephony.gsm',\n",
       " 'Package: javax.xml.namespace',\n",
       " 'Package: android.service.voice',\n",
       " 'Package: android.drm',\n",
       " 'Package: com.google.android.gms.ads.reward.mediation',\n",
       " 'Package: com.google.firebase.ml.custom.model',\n",
       " 'Package: com.google.android.gms.fido.u2f.api.common',\n",
       " 'Package: java.time',\n",
       " 'Package: android.text.style',\n",
       " 'Package: android.text.format',\n",
       " 'Package: org.xml.sax.helpers',\n",
       " 'Package: android.test.mock',\n",
       " 'Package: com.google.firebase.ml.vision.face',\n",
       " 'Package: com.google.firebase.perf.metrics',\n",
       " 'Package: android.service.media',\n",
       " 'Package: java.util.jar',\n",
       " 'Package: com.google.android.gms.fitness.request',\n",
       " 'Package: javax.sql',\n",
       " 'Package: android.net.wifi',\n",
       " 'Package: android.app.admin',\n",
       " 'Package: android.hardware.display',\n",
       " 'Package: android.os.health',\n",
       " 'Package: com.google.firebase.messaging',\n",
       " 'Package: android.net.wifi.hotspot2',\n",
       " 'Package: com.google.firebase.analytics',\n",
       " 'Package: java.lang.invoke',\n",
       " 'Package: com.google.android.gms.awareness.fence',\n",
       " 'Package: com.google.firebase.storage',\n",
       " 'Package: com.google.android.gms.cast.games',\n",
       " 'Package: android.telephony.cdma',\n",
       " 'Package: java.nio.charset.spi',\n",
       " 'Package: java.security',\n",
       " 'Package: com.qihoo.util',\n",
       " 'Package: android.appwidget',\n",
       " 'Package: javax.xml.transform.sax',\n",
       " 'Package: com.google.android.gms.ads.mediation',\n",
       " 'Package: android.view.textclassifier',\n",
       " 'Package: com.google.firebase.appindexing',\n",
       " 'Package: java.lang.ref',\n",
       " 'Class: java.lang.Runtime ',\n",
       " 'Class: dalvik.system.BaseDexClassLoader',\n",
       " 'Class: android.telecom.PhoneAccount',\n",
       " 'Class: android.content.pm.PackageInstaller',\n",
       " 'Class: android.app.admin.NetworkEvent',\n",
       " 'Class: android.hardware.fingerprint.FingerprintManager',\n",
       " 'Class: android.telecom.TelecomManager',\n",
       " 'Class: android.app.AlarmManager ',\n",
       " 'Class: android.net.VpnService',\n",
       " 'Leak: PIM_Data_Leakage']"
      ]
     },
     "execution_count": 172,
     "metadata": {},
     "output_type": "execute_result"
    }
   ],
   "source": [
    "X.max()[X.max() == 0].index.to_list()"
   ]
  },
  {
   "cell_type": "code",
   "execution_count": 173,
   "metadata": {},
   "outputs": [],
   "source": [
    "X.drop(X.max()[X.max() == 0].index.to_list(), axis = 1, inplace = True)"
   ]
  },
  {
   "cell_type": "markdown",
   "metadata": {},
   "source": [
    "## Feature Summary:\n",
    "\n",
    "\n",
    "### Original Dataset:\n",
    "\n",
    "#### (1) Missing Values:\n",
    "   + Features with 100% missing values: 'sdkVersion', 'targetSdkVersion' (deleted)\n",
    "\n",
    "\n",
    "#### (2) Features with 0 Variance:\n",
    "  + Number of Features with 0 Variance: 511 (deleted)\n",
    "\n",
    "\n",
    "### Preprocessed Dataset:\n",
    "\n",
    "#### (1) Categories of Features:\n",
    "  + Number of one-hot features: 352\n",
    " \n",
    " \n",
    "#### (2) Features Extracted by Us\n",
    "  + Number of featuers extracted by us (sensors): 29"
   ]
  },
  {
   "cell_type": "code",
   "execution_count": 178,
   "metadata": {},
   "outputs": [],
   "source": [
    "chi2, p = chi2(X, y)"
   ]
  },
  {
   "cell_type": "code",
   "execution_count": 180,
   "metadata": {},
   "outputs": [
    {
     "data": {
      "text/plain": [
       "<matplotlib.legend.Legend at 0x7f9d24c75cd0>"
      ]
     },
     "execution_count": 180,
     "metadata": {},
     "output_type": "execute_result"
    },
    {
     "data": {
      "image/png": "[encoded data removed]",
      "text/plain": [
       "<Figure size 720x432 with 1 Axes>"
      ]
     },
     "metadata": {
      "needs_background": "light"
     },
     "output_type": "display_data"
    }
   ],
   "source": [
    "plt.figure(figsize = (10, 6))\n",
    "plt.scatter(np.arange(1, 353), p)\n",
    "plt.axhline(y=0.05, color='r', linestyle='-', label = 'p = 0.05')\n",
    "plt.xlabel('Features', fontsize = 12)\n",
    "plt.ylabel('p-value', fontsize = 12)\n",
    "plt.legend()"
   ]
  },
  {
   "cell_type": "code",
   "execution_count": 144,
   "metadata": {},
   "outputs": [
    {
     "data": {
      "text/plain": [
       "SelectKBest(k=353, score_func=<function chi2 at 0x7f9d515a6320>)"
      ]
     },
     "execution_count": 144,
     "metadata": {},
     "output_type": "execute_result"
    }
   ],
   "source": [
    "select = SelectKBest(k=353, score_func=chi2)\n",
    "select.fit(X, y)"
   ]
  },
  {
   "cell_type": "code",
   "execution_count": 145,
   "metadata": {},
   "outputs": [
    {
     "data": {
      "text/plain": [
       "array([[0, 0, 0, ..., 0, 0, 0],\n",
       "       [0, 0, 0, ..., 0, 0, 0],\n",
       "       [0, 0, 0, ..., 0, 0, 0],\n",
       "       ...,\n",
       "       [0, 0, 0, ..., 0, 0, 0],\n",
       "       [0, 0, 0, ..., 0, 0, 0],\n",
       "       [0, 0, 0, ..., 0, 0, 0]])"
      ]
     },
     "execution_count": 145,
     "metadata": {},
     "output_type": "execute_result"
    }
   ],
   "source": [
    "select.transform(X)"
   ]
  },
  {
   "cell_type": "markdown",
   "metadata": {},
   "source": [
    "## Building Pipelines"
   ]
  },
  {
   "cell_type": "code",
   "execution_count": 181,
   "metadata": {},
   "outputs": [],
   "source": [
    "from sklearn.compose import ColumnTransformer, TransformedTargetRegressor\n",
    "from sklearn.compose import make_column_transformer, make_column_selector\n",
    "from sklearn.preprocessing import OneHotEncoder, StandardScaler, PolynomialFeatures\n",
    "from sklearn.pipeline import Pipeline, make_pipeline\n",
    "from sklearn.impute import SimpleImputer\n",
    "from sklearn.linear_model import LogisticRegression\n",
    "from sklearn.model_selection import train_test_split, cross_val_score, GridSearchCV\n",
    "from sklearn.ensemble import RandomForestRegressor\n",
    "from sklearn.feature_selection import SelectFromModel, SelectKBest, f_classif, chi2\n",
    "from category_encoders.target_encoder import TargetEncoder, OrdinalEncoder\n",
    "from sklearn import tree\n",
    "from sklearn.metrics import confusion_matrix"
   ]
  },
  {
   "cell_type": "code",
   "execution_count": 187,
   "metadata": {},
   "outputs": [],
   "source": [
    "X_train, X_test, y_train, y_test = train_test_split(X, y, \n",
    "                                                    test_size = 0.2, \n",
    "                                                    random_state = 123, \n",
    "                                                    stratify = y)"
   ]
  },
  {
   "cell_type": "code",
   "execution_count": 188,
   "metadata": {},
   "outputs": [],
   "source": [
    "continuous = make_column_selector(dtype_exclude = 'object')\n",
    "\n",
    "pipe = make_pipeline(SimpleImputer(), StandardScaler(), LogisticRegression())"
   ]
  },
  {
   "cell_type": "code",
   "execution_count": 189,
   "metadata": {
    "collapsed": true
   },
   "outputs": [
    {
     "name": "stderr",
     "output_type": "stream",
     "text": [
      "/Users/liuboyu/.local/lib/python3.7/site-packages/sklearn/linear_model/_logistic.py:940: ConvergenceWarning: lbfgs failed to converge (status=1):\n",
      "STOP: TOTAL NO. of ITERATIONS REACHED LIMIT.\n",
      "\n",
      "Increase the number of iterations (max_iter) or scale the data as shown in:\n",
      "    https://scikit-learn.org/stable/modules/preprocessing.html\n",
      "Please also refer to the documentation for alternative solver options:\n",
      "    https://scikit-learn.org/stable/modules/linear_model.html#logistic-regression\n",
      "  extra_warning_msg=_LOGISTIC_SOLVER_CONVERGENCE_MSG)\n",
      "/Users/liuboyu/.local/lib/python3.7/site-packages/sklearn/linear_model/_logistic.py:940: ConvergenceWarning: lbfgs failed to converge (status=1):\n",
      "STOP: TOTAL NO. of ITERATIONS REACHED LIMIT.\n",
      "\n",
      "Increase the number of iterations (max_iter) or scale the data as shown in:\n",
      "    https://scikit-learn.org/stable/modules/preprocessing.html\n",
      "Please also refer to the documentation for alternative solver options:\n",
      "    https://scikit-learn.org/stable/modules/linear_model.html#logistic-regression\n",
      "  extra_warning_msg=_LOGISTIC_SOLVER_CONVERGENCE_MSG)\n",
      "/Users/liuboyu/.local/lib/python3.7/site-packages/sklearn/linear_model/_logistic.py:940: ConvergenceWarning: lbfgs failed to converge (status=1):\n",
      "STOP: TOTAL NO. of ITERATIONS REACHED LIMIT.\n",
      "\n",
      "Increase the number of iterations (max_iter) or scale the data as shown in:\n",
      "    https://scikit-learn.org/stable/modules/preprocessing.html\n",
      "Please also refer to the documentation for alternative solver options:\n",
      "    https://scikit-learn.org/stable/modules/linear_model.html#logistic-regression\n",
      "  extra_warning_msg=_LOGISTIC_SOLVER_CONVERGENCE_MSG)\n",
      "/Users/liuboyu/.local/lib/python3.7/site-packages/sklearn/linear_model/_logistic.py:940: ConvergenceWarning: lbfgs failed to converge (status=1):\n",
      "STOP: TOTAL NO. of ITERATIONS REACHED LIMIT.\n",
      "\n",
      "Increase the number of iterations (max_iter) or scale the data as shown in:\n",
      "    https://scikit-learn.org/stable/modules/preprocessing.html\n",
      "Please also refer to the documentation for alternative solver options:\n",
      "    https://scikit-learn.org/stable/modules/linear_model.html#logistic-regression\n",
      "  extra_warning_msg=_LOGISTIC_SOLVER_CONVERGENCE_MSG)\n"
     ]
    },
    {
     "name": "stdout",
     "output_type": "stream",
     "text": [
      "The mean test score of Logistic Regression model is: 0.885882192822741\n"
     ]
    },
    {
     "name": "stderr",
     "output_type": "stream",
     "text": [
      "/Users/liuboyu/.local/lib/python3.7/site-packages/sklearn/linear_model/_logistic.py:940: ConvergenceWarning: lbfgs failed to converge (status=1):\n",
      "STOP: TOTAL NO. of ITERATIONS REACHED LIMIT.\n",
      "\n",
      "Increase the number of iterations (max_iter) or scale the data as shown in:\n",
      "    https://scikit-learn.org/stable/modules/preprocessing.html\n",
      "Please also refer to the documentation for alternative solver options:\n",
      "    https://scikit-learn.org/stable/modules/linear_model.html#logistic-regression\n",
      "  extra_warning_msg=_LOGISTIC_SOLVER_CONVERGENCE_MSG)\n"
     ]
    }
   ],
   "source": [
    "avg_val_score = np.mean(cross_val_score(pipe, X_train, np.squeeze(y_train.to_numpy().reshape(1, -1)), cv = 5))\n",
    "print('The mean test score of Logistic Regression model is:', avg_val_score)"
   ]
  },
  {
   "cell_type": "code",
   "execution_count": 190,
   "metadata": {
    "collapsed": true
   },
   "outputs": [
    {
     "name": "stderr",
     "output_type": "stream",
     "text": [
      "/Users/liuboyu/.local/lib/python3.7/site-packages/sklearn/linear_model/_logistic.py:940: ConvergenceWarning: lbfgs failed to converge (status=1):\n",
      "STOP: TOTAL NO. of ITERATIONS REACHED LIMIT.\n",
      "\n",
      "Increase the number of iterations (max_iter) or scale the data as shown in:\n",
      "    https://scikit-learn.org/stable/modules/preprocessing.html\n",
      "Please also refer to the documentation for alternative solver options:\n",
      "    https://scikit-learn.org/stable/modules/linear_model.html#logistic-regression\n",
      "  extra_warning_msg=_LOGISTIC_SOLVER_CONVERGENCE_MSG)\n"
     ]
    },
    {
     "data": {
      "text/plain": [
       "Pipeline(memory=None,\n",
       "         steps=[('simpleimputer',\n",
       "                 SimpleImputer(add_indicator=False, copy=True, fill_value=None,\n",
       "                               missing_values=nan, strategy='mean',\n",
       "                               verbose=0)),\n",
       "                ('standardscaler',\n",
       "                 StandardScaler(copy=True, with_mean=True, with_std=True)),\n",
       "                ('logisticregression',\n",
       "                 LogisticRegression(C=1.0, class_weight=None, dual=False,\n",
       "                                    fit_intercept=True, intercept_scaling=1,\n",
       "                                    l1_ratio=None, max_iter=100,\n",
       "                                    multi_class='auto', n_jobs=None,\n",
       "                                    penalty='l2', random_state=None,\n",
       "                                    solver='lbfgs', tol=0.0001, verbose=0,\n",
       "                                    warm_start=False))],\n",
       "         verbose=False)"
      ]
     },
     "execution_count": 190,
     "metadata": {},
     "output_type": "execute_result"
    }
   ],
   "source": [
    "pipe.fit(X_train, np.squeeze(y_train.to_numpy().reshape(1, -1)))"
   ]
  },
  {
   "cell_type": "code",
   "execution_count": 191,
   "metadata": {},
   "outputs": [],
   "source": [
    "y_pred = pipe.predict(X_test)"
   ]
  },
  {
   "cell_type": "code",
   "execution_count": 192,
   "metadata": {},
   "outputs": [
    {
     "data": {
      "text/plain": [
       "array([[ 215,  186],\n",
       "       [  70, 1720]])"
      ]
     },
     "execution_count": 192,
     "metadata": {},
     "output_type": "execute_result"
    }
   ],
   "source": [
    "confusion_matrix(np.squeeze(y_test.to_numpy().reshape(1, -1)), y_pred)"
   ]
  },
  {
   "cell_type": "code",
   "execution_count": null,
   "metadata": {},
   "outputs": [],
   "source": []
  }
 ],
 "metadata": {
  "kernelspec": {
   "display_name": "Python 3",
   "language": "python",
   "name": "python3"
  },
  "language_info": {
   "codemirror_mode": {
    "name": "ipython",
    "version": 3
   },
   "file_extension": ".py",
   "mimetype": "text/x-python",
   "name": "python",
   "nbconvert_exporter": "python",
   "pygments_lexer": "ipython3",
   "version": "3.7.6"
  }
 },
 "nbformat": 4,
 "nbformat_minor": 4
}
