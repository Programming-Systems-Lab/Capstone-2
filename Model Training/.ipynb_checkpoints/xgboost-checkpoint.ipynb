{
 "cells": [
  {
   "cell_type": "code",
   "execution_count": 1,
   "metadata": {},
   "outputs": [],
   "source": [
    "import pandas as pd\n",
    "import numpy as np\n",
    "import matplotlib.pyplot as plt\n",
    "\n",
    "from sklearn.compose import ColumnTransformer, TransformedTargetRegressor\n",
    "from sklearn.compose import make_column_transformer, make_column_selector\n",
    "from sklearn.preprocessing import OneHotEncoder, StandardScaler, PolynomialFeatures\n",
    "from sklearn.pipeline import Pipeline, make_pipeline\n",
    "from sklearn.impute import SimpleImputer\n",
    "\n",
    "from sklearn.model_selection import train_test_split, cross_val_score, GridSearchCV\n",
    "\n",
    "from sklearn.feature_selection import SelectFromModel, SelectKBest, f_classif, chi2\n",
    "from category_encoders.target_encoder import TargetEncoder, OrdinalEncoder\n",
    "from sklearn import tree\n",
    "from sklearn.metrics import precision_recall_curve, roc_curve, roc_auc_score, precision_recall_fscore_support\n",
    "from sklearn.metrics import balanced_accuracy_score, confusion_matrix\n",
    "\n",
    "from numpy import loadtxt\n",
    "from xgboost import XGBClassifier\n",
    "import xgboost as xgb\n",
    "from sklearn.model_selection import train_test_split,GridSearchCV \n",
    "from sklearn.metrics import accuracy_score,recall_score,precision_score,roc_auc_score,confusion_matrix\n",
    "from xgboost import plot_importance\n",
    "import matplotlib.pyplot as plt\n",
    "\n",
    "from sklearn.utils import class_weight\n"
   ]
  },
  {
   "cell_type": "code",
   "execution_count": 106,
   "metadata": {},
   "outputs": [],
   "source": [
    "X = pd.read_csv('../data/Training_Data/Training_Dataset.csv')\n",
    "repackaged_benign_test_X =  pd.read_csv('../data/Test_Data/Repackaged_Benign_Testset.csv')\n",
    "covid_test_X = pd.read_csv('../data/Test_Data/COVID_Testset.csv')"
   ]
  },
  {
   "cell_type": "code",
   "execution_count": 107,
   "metadata": {},
   "outputs": [],
   "source": [
    "y = pd.read_csv('../data/Training_Data/Labels.csv')\n",
    "repackaged_benign_test_y = pd.read_csv('../data/Test_Data/Labels_Repackaged_Benign_Test.csv')\n",
    "COVID_test_y = pd.read_csv('../data/Test_Data/Labels_COVID_Test.csv')"
   ]
  },
  {
   "cell_type": "code",
   "execution_count": 108,
   "metadata": {},
   "outputs": [],
   "source": [
    "# Delete useless features told by Shirish\n",
    "X.drop(['Package_Name', 'SHA256', 'ThumbPrint', 'Application_Category', \n",
    "        'Family_Name', 'Malware_Category', 'Malware/Benign','sdkVersion', 'targetSdkVersion'], axis = 1, inplace = True)\n",
    "\n",
    "repackaged_benign_test_X.drop(['Package_Name', 'SHA256', 'ThumbPrint', 'Application_Category', \n",
    "                               'Family_Name', 'Malware_Category', 'Malware/Benign','sdkVersion', 'targetSdkVersion'], axis = 1, inplace = True)\n",
    "\n",
    "covid_test_X.drop(['Package_Name', 'SHA256', 'ThumbPrint', 'Application_Category', \n",
    "                 'Family_Name', 'Malware_Category', 'Malware/Benign','sdkVersion', 'targetSdkVersion'], axis = 1, inplace = True)"
   ]
  },
  {
   "cell_type": "markdown",
   "metadata": {},
   "source": [
    "## Feature Exploration"
   ]
  },
  {
   "cell_type": "markdown",
   "metadata": {},
   "source": [
    "#### Find the one-hot features having missing values"
   ]
  },
  {
   "cell_type": "code",
   "execution_count": 109,
   "metadata": {},
   "outputs": [
    {
     "data": {
      "text/plain": [
       "Series([], Name: count, dtype: float64)"
      ]
     },
     "execution_count": 109,
     "metadata": {},
     "output_type": "execute_result"
    }
   ],
   "source": [
    "X.describe().loc['count'][X.describe().loc['count'] < 10951]"
   ]
  },
  {
   "cell_type": "markdown",
   "metadata": {},
   "source": [
    "#### Remove features with 0 variance"
   ]
  },
  {
   "cell_type": "code",
   "execution_count": 110,
   "metadata": {},
   "outputs": [],
   "source": [
    "drop_features = X.max()[X.max() == 0].index.to_list()\n",
    "X.drop(drop_features, axis = 1, inplace = True)\n",
    "repackaged_benign_test_X.drop(drop_features, axis = 1, inplace = True)\n",
    "covid_test_X.drop(drop_features, axis = 1, inplace = True)"
   ]
  },
  {
   "cell_type": "markdown",
   "metadata": {},
   "source": [
    "## Splitting Training and Test set"
   ]
  },
  {
   "cell_type": "code",
   "execution_count": 111,
   "metadata": {},
   "outputs": [],
   "source": [
    "X['label']=y['label']"
   ]
  },
  {
   "cell_type": "code",
   "execution_count": 112,
   "metadata": {},
   "outputs": [],
   "source": [
    "# Create dataset without sensor features in order to see if there's some improvement by adding sensor features\n",
    "sensor_lst=list(X.iloc[:,-30:-1].columns)\n",
    "X_wo_sensors = X.drop(sensor_lst, axis = 1)\n",
    "repackaged_benign_test_X_wo_sensors = repackaged_benign_test_X.drop(sensor_lst, axis = 1)\n",
    "covid_test_X_wo_sensors = covid_test_X.drop(sensor_lst, axis = 1)"
   ]
  },
  {
   "cell_type": "code",
   "execution_count": 22,
   "metadata": {},
   "outputs": [],
   "source": [
    "# Train test split\n",
    "X_train, X_test, y_train, y_test = train_test_split(X, X['label'], \n",
    "                                                    test_size = 0.2, \n",
    "                                                    random_state = 123, \n",
    "                                                    stratify = X['label'])\n",
    "\n",
    "X_train_wo_sensor, X_test_wo_sensor, y_train_wo_sensor, y_test_wo_sensor = train_test_split(X_wo_sensors, X_wo_sensors['label'], \n",
    "                                                                                            test_size = 0.2, \n",
    "                                                                                            random_state = 123, \n",
    "                                                                                            stratify = X_wo_sensors['label'])"
   ]
  },
  {
   "cell_type": "markdown",
   "metadata": {},
   "source": [
    "## balance the training data"
   ]
  },
  {
   "cell_type": "code",
   "execution_count": 23,
   "metadata": {},
   "outputs": [],
   "source": [
    "def resample(df):\n",
    "    gp=df.groupby('label').count().iloc[:,0:1].reset_index().sort_values('label')\n",
    "    gp.columns=['label','cnt']\n",
    "    cnt_lst=list(gp['cnt'])\n",
    "    x_df_resample=pd.concat([df.query('label==0').sample(n=cnt_lst[1]-cnt_lst[0],random_state=123,replace=True),df])\n",
    "    y_df_resample=x_df_resample['label']\n",
    "    return x_df_resample,y_df_resample"
   ]
  },
  {
   "cell_type": "code",
   "execution_count": 24,
   "metadata": {},
   "outputs": [],
   "source": [
    "X_train_resample,y_train_resample=resample(X_train)\n",
    "X_test_resample,y_test_resample=resample(X_test)\n",
    "\n",
    "X_train_wo_sensor_resample,y_train_wo_sensor_resample=resample(X_train_wo_sensor)\n",
    "X_test_wo_sensor_resample,y_test_wo_sensor_resample=resample(X_test_wo_sensor)\n"
   ]
  },
  {
   "cell_type": "markdown",
   "metadata": {},
   "source": [
    "  + **compute label weight.(hold)**"
   ]
  },
  {
   "cell_type": "code",
   "execution_count": 14,
   "metadata": {},
   "outputs": [
    {
     "name": "stdout",
     "output_type": "stream",
     "text": [
      "Class weights should be: 2.780938 for 0 and 0.609604 for 1\n"
     ]
    }
   ],
   "source": [
    "# # Calculate class weights\n",
    "# class_weights = class_weight.compute_class_weight('balanced',\n",
    "#                                                   np.unique(y),\n",
    "#                                                   y['label'].values)\n",
    "# print(\"Class weights should be: %f for 0 and %f for 1\" % (class_weights[0], class_weights[1]))"
   ]
  },
  {
   "cell_type": "markdown",
   "metadata": {},
   "source": [
    "## Building Pipelines and Training XGBoost Model"
   ]
  },
  {
   "cell_type": "code",
   "execution_count": 25,
   "metadata": {},
   "outputs": [],
   "source": [
    "continuous = make_column_selector(dtype_exclude = 'object')\n",
    "\n",
    "pipe = make_pipeline(SelectKBest(k = 273, score_func=chi2), \n",
    "                     xgb.XGBClassifier())\n",
    "\n",
    "# xgb_clf = xgb.XGBRegressor({'objective': 'reg:squarederror'}) \n",
    "# parameters = {'n_estimators': [60, 100, 120, 140], \n",
    "#               'learning_rate': [0.01, 0.1],\n",
    "#               'max_depth': [5, 7],\n",
    "#               'reg_lambda': [0.5]}\n",
    "# xgb_reg = GridSearchCV(estimator=xgb_clf, param_grid=parameters, cv=5, n_jobs=-1).fit(trainb, targetb)\n",
    "# print(\"Best score: %0.3f\" % xgb_reg.best_score_)\n",
    "# print(\"Best parameters set:\", xgb_reg.best_params_)\n",
    "# acc_boosting_model(7,xgb_reg,trainb,testb)"
   ]
  },
  {
   "cell_type": "code",
   "execution_count": 13,
   "metadata": {},
   "outputs": [
    {
     "name": "stdout",
     "output_type": "stream",
     "text": [
      "The mean test score of XGBoost model with sensor features is: 0.847394181885506\n"
     ]
    }
   ],
   "source": [
    "avg_val_score = np.mean(cross_val_score(pipe, X_train_resample.drop('label',axis=1), np.squeeze(y_train_resample.to_numpy().reshape(1, -1)), cv = 5, scoring = 'balanced_accuracy'))\n",
    "print('The mean test score of XGBoost model with sensor features is:', avg_val_score)"
   ]
  },
  {
   "cell_type": "code",
   "execution_count": 14,
   "metadata": {},
   "outputs": [
    {
     "name": "stdout",
     "output_type": "stream",
     "text": [
      "The mean test score of XGBoost model without sensor features is: 0.8389172315192907\n"
     ]
    }
   ],
   "source": [
    "avg_val_score = np.mean(cross_val_score(pipe, X_train_wo_sensor_resample.drop('label',axis=1), np.squeeze(y_train_wo_sensor_resample.to_numpy().reshape(1, -1)), cv = 5, scoring = 'balanced_accuracy'))\n",
    "print('The mean test score of XGBoost model without sensor features is:', avg_val_score)"
   ]
  },
  {
   "cell_type": "markdown",
   "metadata": {},
   "source": [
    "## Tuning Hyperparameters"
   ]
  },
  {
   "cell_type": "markdown",
   "metadata": {},
   "source": [
    "**1. Training on Dataset Including Sensor Features**"
   ]
  },
  {
   "cell_type": "code",
   "execution_count": 31,
   "metadata": {},
   "outputs": [
    {
     "name": "stdout",
     "output_type": "stream",
     "text": [
      "Training XGB classifier took: 5 seconds.\n"
     ]
    }
   ],
   "source": [
    "# Initially trying an untuned classifier to test the performance\n",
    "import datetime\n",
    "import warnings\n",
    "warnings.filterwarnings('ignore')\n",
    "import xgboost as xgb\n",
    "start = datetime.datetime.now()\n",
    "\n",
    "# Instantiate the classifier\n",
    "xgbc = xgb.XGBClassifier(nthread=3)\n",
    "xgbc.fit(X_train_resample.drop('label',axis=1),y_train_resample)\n",
    "\n",
    "end = datetime.datetime.now()\n",
    "process_time = end - start\n",
    "print(\"Training XGB classifier took: \" + str(process_time.seconds) + \" seconds.\")"
   ]
  },
  {
   "cell_type": "code",
   "execution_count": 32,
   "metadata": {},
   "outputs": [
    {
     "name": "stdout",
     "output_type": "stream",
     "text": [
      "Untuned XGB classifier roc score : 0.9386418139992709\n"
     ]
    }
   ],
   "source": [
    "# Looking at the performance on training set of the untuned xgb classifier\n",
    "from sklearn.metrics import roc_auc_score\n",
    "probs = xgbc.predict_proba(X_train.drop('label',axis=1))\n",
    "probs = probs[:,1]\n",
    "print(\"Untuned XGB classifier roc score : \" + str(roc_auc_score(y_train,probs)))"
   ]
  },
  {
   "cell_type": "markdown",
   "metadata": {},
   "source": [
    "### start hyper parameter tuning"
   ]
  },
  {
   "cell_type": "code",
   "execution_count": 33,
   "metadata": {},
   "outputs": [],
   "source": [
    "# We start by defining the score we want to be maximized using Bayesian Optimization\n",
    "# Return MEAN validated 'roc_auc' score from xgb Classifier\n",
    "# Note that the 4 parameters we will optimize are called as generic arguments\n",
    "\n",
    "seed = 112 # Random seed\n",
    "def xgbc_cv_with_sensor(max_depth,learning_rate,n_estimators,reg_alpha):\n",
    "    from sklearn.metrics import roc_auc_score\n",
    "    import numpy as np\n",
    "    \n",
    "    estimator_function = xgb.XGBClassifier(max_depth=int(max_depth),\n",
    "                                           learning_rate= learning_rate,\n",
    "                                           n_estimators= int(n_estimators),\n",
    "                                           reg_alpha = reg_alpha,\n",
    "                                           nthread = -1,\n",
    "                                           objective='binary:logistic',\n",
    "                                           seed = seed)\n",
    "    # Fit the estimator\n",
    "    estimator_function.fit(X_train_resample.drop('label',axis=1),y_train_resample)\n",
    "    \n",
    "    # calculate out-of-the-box roc_score using validation set 1\n",
    "    probs = estimator_function.predict_proba(X_test.drop('label',axis=1))\n",
    "    probs = probs[:,1]\n",
    "    val1_roc = roc_auc_score(y_test,probs)\n",
    "    \n",
    "    # return the mean validation score to be maximized \n",
    "    return val1_roc"
   ]
  },
  {
   "cell_type": "code",
   "execution_count": 34,
   "metadata": {},
   "outputs": [],
   "source": [
    "# We start by defining the score we want to be maximized using Bayesian Optimization\n",
    "# Return MEAN validated 'roc_auc' score from xgb Classifier\n",
    "# Note that the 4 parameters we will optimize are called as generic arguments\n",
    "\n",
    "seed = 112 # Random seed\n",
    "\n",
    "def xgbc_cv_without_sensor(max_depth,learning_rate,n_estimators,reg_alpha):\n",
    "    from sklearn.metrics import roc_auc_score\n",
    "    import numpy as np\n",
    "    \n",
    "    estimator_function = xgb.XGBClassifier(max_depth=int(max_depth),\n",
    "                                           learning_rate= learning_rate,\n",
    "                                           n_estimators= int(n_estimators),\n",
    "                                           reg_alpha = reg_alpha,\n",
    "                                           nthread = -1,\n",
    "                                           objective='binary:logistic',\n",
    "                                           seed = seed)\n",
    "    # Fit the estimator\n",
    "    estimator_function.fit(X_train_wo_sensor_resample.drop('label',axis=1),y_train_wo_sensor_resample)\n",
    "    \n",
    "    # calculate out-of-the-box roc_score using validation set 1\n",
    "    probs = estimator_function.predict_proba(X_test_wo_sensor.drop('label',axis=1))\n",
    "    probs = probs[:,1]\n",
    "    val1_roc = roc_auc_score(y_test_wo_sensor,probs)\n",
    "    \n",
    "    # return the mean validation score to be maximized \n",
    "    return val1_roc"
   ]
  },
  {
   "cell_type": "code",
   "execution_count": 35,
   "metadata": {},
   "outputs": [
    {
     "name": "stdout",
     "output_type": "stream",
     "text": [
      "|   iter    |  target   | learni... | max_depth | n_esti... | reg_alpha |\n",
      "-------------------------------------------------------------------------\n",
      "| \u001b[0m 1       \u001b[0m | \u001b[0m 0.911   \u001b[0m | \u001b[0m 0.3751  \u001b[0m | \u001b[0m 14.6    \u001b[0m | \u001b[0m 95.5    \u001b[0m | \u001b[0m 0.07568 \u001b[0m |\n",
      "| \u001b[95m 2       \u001b[0m | \u001b[95m 0.915   \u001b[0m | \u001b[95m 0.7769  \u001b[0m | \u001b[95m 17.49   \u001b[0m | \u001b[95m 14.93   \u001b[0m | \u001b[95m 0.8177  \u001b[0m |\n",
      "| \u001b[95m 3       \u001b[0m | \u001b[95m 0.9181  \u001b[0m | \u001b[95m 0.8854  \u001b[0m | \u001b[95m 15.84   \u001b[0m | \u001b[95m 10.23   \u001b[0m | \u001b[95m 0.9812  \u001b[0m |\n",
      "| \u001b[95m 4       \u001b[0m | \u001b[95m 0.9217  \u001b[0m | \u001b[95m 0.6026  \u001b[0m | \u001b[95m 11.13   \u001b[0m | \u001b[95m 10.0    \u001b[0m | \u001b[95m 1.0     \u001b[0m |\n",
      "| \u001b[0m 5       \u001b[0m | \u001b[0m 0.5     \u001b[0m | \u001b[0m 0.0     \u001b[0m | \u001b[0m 5.0     \u001b[0m | \u001b[0m 13.59   \u001b[0m | \u001b[0m 0.0     \u001b[0m |\n",
      "| \u001b[0m 6       \u001b[0m | \u001b[0m 0.9097  \u001b[0m | \u001b[0m 0.5576  \u001b[0m | \u001b[0m 17.09   \u001b[0m | \u001b[0m 89.0    \u001b[0m | \u001b[0m 0.2847  \u001b[0m |\n",
      "| \u001b[0m 7       \u001b[0m | \u001b[0m 0.9132  \u001b[0m | \u001b[0m 0.4582  \u001b[0m | \u001b[0m 9.711   \u001b[0m | \u001b[0m 89.95   \u001b[0m | \u001b[0m 0.03883 \u001b[0m |\n",
      "| \u001b[0m 8       \u001b[0m | \u001b[0m 0.5     \u001b[0m | \u001b[0m 0.0     \u001b[0m | \u001b[0m 6.651   \u001b[0m | \u001b[0m 97.35   \u001b[0m | \u001b[0m 0.1671  \u001b[0m |\n",
      "| \u001b[0m 9       \u001b[0m | \u001b[0m 0.9008  \u001b[0m | \u001b[0m 1.0     \u001b[0m | \u001b[0m 12.49   \u001b[0m | \u001b[0m 85.02   \u001b[0m | \u001b[0m 0.0     \u001b[0m |\n",
      "| \u001b[95m 10      \u001b[0m | \u001b[95m 0.928   \u001b[0m | \u001b[95m 0.05965 \u001b[0m | \u001b[95m 19.99   \u001b[0m | \u001b[95m 98.45   \u001b[0m | \u001b[95m 0.9852  \u001b[0m |\n",
      "| \u001b[0m 11      \u001b[0m | \u001b[0m 0.5     \u001b[0m | \u001b[0m 0.0     \u001b[0m | \u001b[0m 5.0     \u001b[0m | \u001b[0m 83.1    \u001b[0m | \u001b[0m 1.0     \u001b[0m |\n",
      "| \u001b[0m 12      \u001b[0m | \u001b[0m 0.9095  \u001b[0m | \u001b[0m 0.5956  \u001b[0m | \u001b[0m 18.89   \u001b[0m | \u001b[0m 81.57   \u001b[0m | \u001b[0m 0.3672  \u001b[0m |\n",
      "| \u001b[0m 13      \u001b[0m | \u001b[0m 0.9029  \u001b[0m | \u001b[0m 1.0     \u001b[0m | \u001b[0m 20.0    \u001b[0m | \u001b[0m 74.01   \u001b[0m | \u001b[0m 0.0     \u001b[0m |\n",
      "=========================================================================\n"
     ]
    }
   ],
   "source": [
    "import warnings\n",
    "warnings.filterwarnings('ignore')\n",
    "\n",
    "from bayes_opt import BayesianOptimization\n",
    "\n",
    "# alpha is a parameter for the gaussian process\n",
    "# Note that this is itself a hyperparemter that can be optimized.\n",
    "gp_params = {\"alpha\": 1e-10}\n",
    "\n",
    "# We create the BayesianOptimization objects using the functions that utilize\n",
    "# the respective classifiers and return cross-validated scores to be optimized.\n",
    "\n",
    "seed = 112 # Random seed\n",
    "\n",
    "# We create the bayes_opt object and pass the function to be maximized\n",
    "# together with the parameters names and their bounds.\n",
    "# Note the syntax of bayes_opt package: bounds of hyperparameters are passed as two-tuples\n",
    "\n",
    "hyperparameter_space = {\n",
    "    'max_depth': (5, 20),\n",
    "    'learning_rate': (0, 1),\n",
    "    'n_estimators' : (10,100),\n",
    "    'reg_alpha': (0,1)\n",
    "}\n",
    "\n",
    "xgbcBO = BayesianOptimization(f = xgbc_cv_with_sensor, \n",
    "                             pbounds =  hyperparameter_space,\n",
    "                             random_state = seed,\n",
    "                             verbose = 10)\n",
    "\n",
    "# Finally we call .maximize method of the optimizer with the appropriate arguments\n",
    "# kappa is a measure of 'aggressiveness' of the bayesian optimization process\n",
    "# The algorithm will randomly choose 3 points to establish a 'prior', then will perform \n",
    "# 10 interations to maximize the value of estimator function\n",
    "xgbcBO.maximize(init_points=3,n_iter=10,acq='ucb', kappa= 3, **gp_params)\n"
   ]
  },
  {
   "cell_type": "code",
   "execution_count": 36,
   "metadata": {},
   "outputs": [
    {
     "name": "stdout",
     "output_type": "stream",
     "text": [
      "{'target': 0.927952807974596, 'params': {'learning_rate': 0.05964851265350479, 'max_depth': 19.987873765688988, 'n_estimators': 98.45362181890923, 'reg_alpha': 0.985207824919467}}\n"
     ]
    }
   ],
   "source": [
    "print(xgbcBO.max)"
   ]
  },
  {
   "cell_type": "code",
   "execution_count": 37,
   "metadata": {},
   "outputs": [
    {
     "name": "stdout",
     "output_type": "stream",
     "text": [
      "|   iter    |  target   | learni... | max_depth | n_esti... | reg_alpha |\n",
      "-------------------------------------------------------------------------\n",
      "| \u001b[0m 1       \u001b[0m | \u001b[0m 0.9017  \u001b[0m | \u001b[0m 0.3751  \u001b[0m | \u001b[0m 14.6    \u001b[0m | \u001b[0m 95.5    \u001b[0m | \u001b[0m 0.07568 \u001b[0m |\n",
      "| \u001b[95m 2       \u001b[0m | \u001b[95m 0.9119  \u001b[0m | \u001b[95m 0.7769  \u001b[0m | \u001b[95m 17.49   \u001b[0m | \u001b[95m 14.93   \u001b[0m | \u001b[95m 0.8177  \u001b[0m |\n",
      "| \u001b[0m 3       \u001b[0m | \u001b[0m 0.9116  \u001b[0m | \u001b[0m 0.8854  \u001b[0m | \u001b[0m 15.84   \u001b[0m | \u001b[0m 10.23   \u001b[0m | \u001b[0m 0.9812  \u001b[0m |\n",
      "| \u001b[0m 4       \u001b[0m | \u001b[0m 0.5     \u001b[0m | \u001b[0m 0.0     \u001b[0m | \u001b[0m 5.0     \u001b[0m | \u001b[0m 42.16   \u001b[0m | \u001b[0m 1.0     \u001b[0m |\n",
      "| \u001b[0m 5       \u001b[0m | \u001b[0m 0.9034  \u001b[0m | \u001b[0m 1.0     \u001b[0m | \u001b[0m 20.0    \u001b[0m | \u001b[0m 75.28   \u001b[0m | \u001b[0m 1.0     \u001b[0m |\n",
      "| \u001b[0m 6       \u001b[0m | \u001b[0m 0.5     \u001b[0m | \u001b[0m 0.0     \u001b[0m | \u001b[0m 5.0     \u001b[0m | \u001b[0m 81.15   \u001b[0m | \u001b[0m 0.0     \u001b[0m |\n",
      "| \u001b[0m 7       \u001b[0m | \u001b[0m 0.9009  \u001b[0m | \u001b[0m 1.0     \u001b[0m | \u001b[0m 5.0     \u001b[0m | \u001b[0m 15.05   \u001b[0m | \u001b[0m 0.0     \u001b[0m |\n",
      "| \u001b[0m 8       \u001b[0m | \u001b[0m 0.9035  \u001b[0m | \u001b[0m 1.0     \u001b[0m | \u001b[0m 20.0    \u001b[0m | \u001b[0m 62.14   \u001b[0m | \u001b[0m 1.0     \u001b[0m |\n",
      "| \u001b[0m 9       \u001b[0m | \u001b[0m 0.8979  \u001b[0m | \u001b[0m 1.0     \u001b[0m | \u001b[0m 20.0    \u001b[0m | \u001b[0m 28.41   \u001b[0m | \u001b[0m 0.0     \u001b[0m |\n",
      "| \u001b[0m 10      \u001b[0m | \u001b[0m 0.9048  \u001b[0m | \u001b[0m 0.6693  \u001b[0m | \u001b[0m 5.377   \u001b[0m | \u001b[0m 99.84   \u001b[0m | \u001b[0m 0.2159  \u001b[0m |\n",
      "| \u001b[0m 11      \u001b[0m | \u001b[0m 0.5     \u001b[0m | \u001b[0m 0.0     \u001b[0m | \u001b[0m 20.0    \u001b[0m | \u001b[0m 100.0   \u001b[0m | \u001b[0m 1.0     \u001b[0m |\n",
      "| \u001b[0m 12      \u001b[0m | \u001b[0m 0.9091  \u001b[0m | \u001b[0m 0.8899  \u001b[0m | \u001b[0m 12.18   \u001b[0m | \u001b[0m 13.97   \u001b[0m | \u001b[0m 0.5283  \u001b[0m |\n",
      "| \u001b[0m 13      \u001b[0m | \u001b[0m 0.8988  \u001b[0m | \u001b[0m 1.0     \u001b[0m | \u001b[0m 11.67   \u001b[0m | \u001b[0m 23.3    \u001b[0m | \u001b[0m 0.0     \u001b[0m |\n",
      "=========================================================================\n"
     ]
    }
   ],
   "source": [
    "import warnings\n",
    "warnings.filterwarnings('ignore')\n",
    "\n",
    "from bayes_opt import BayesianOptimization\n",
    "\n",
    "# alpha is a parameter for the gaussian process\n",
    "# Note that this is itself a hyperparemter that can be optimized.\n",
    "gp_params = {\"alpha\": 1e-10}\n",
    "\n",
    "# We create the BayesianOptimization objects using the functions that utilize\n",
    "# the respective classifiers and return cross-validated scores to be optimized.\n",
    "\n",
    "seed = 112 # Random seed\n",
    "\n",
    "# We create the bayes_opt object and pass the function to be maximized\n",
    "# together with the parameters names and their bounds.\n",
    "# Note the syntax of bayes_opt package: bounds of hyperparameters are passed as two-tuples\n",
    "\n",
    "hyperparameter_space = {\n",
    "    'max_depth': (5, 20),\n",
    "    'learning_rate': (0, 1),\n",
    "    'n_estimators' : (10,100),\n",
    "    'reg_alpha': (0,1)\n",
    "}\n",
    "\n",
    "xgbcBO_wo = BayesianOptimization(f = xgbc_cv_without_sensor, \n",
    "                             pbounds =  hyperparameter_space,\n",
    "                             random_state = seed,\n",
    "                             verbose = 10)\n",
    "\n",
    "# Finally we call .maximize method of the optimizer with the appropriate arguments\n",
    "# kappa is a measure of 'aggressiveness' of the bayesian optimization process\n",
    "# The algorithm will randomly choose 3 points to establish a 'prior', then will perform \n",
    "# 10 interations to maximize the value of estimator function\n",
    "xgbcBO_wo.maximize(init_points=3,n_iter=10,acq='ucb', kappa= 3, **gp_params)\n"
   ]
  },
  {
   "cell_type": "code",
   "execution_count": 38,
   "metadata": {},
   "outputs": [
    {
     "name": "stdout",
     "output_type": "stream",
     "text": [
      "{'target': 0.9118735419515727, 'params': {'learning_rate': 0.7769296587181205, 'max_depth': 17.49118643842789, 'n_estimators': 14.932516625416742, 'reg_alpha': 0.8176773821752682}}\n"
     ]
    }
   ],
   "source": [
    "print(xgbcBO_wo.max)"
   ]
  },
  {
   "cell_type": "markdown",
   "metadata": {},
   "source": [
    "## Testing"
   ]
  },
  {
   "cell_type": "code",
   "execution_count": 39,
   "metadata": {},
   "outputs": [],
   "source": [
    "def model_create_fit(optimizer,X_train,y_train,X_test,y_test):\n",
    "    param_dct_tp=optimizer.max['params']\n",
    "    param_dct={}\n",
    "    for param,value in param_dct_tp.items():\n",
    "        if param in {'max_depth','n_estimators'}:\n",
    "            param_dct[param]=int(value)\n",
    "        else:\n",
    "            param_dct[param]=value\n",
    "    print(param_dct)\n",
    "    continuous = make_column_selector(dtype_exclude = 'object')\n",
    "    pipe = make_pipeline(SelectKBest(k = 273, score_func=chi2), \n",
    "                     xgb.XGBClassifier(**param_dct))\n",
    "    pipe.fit(X_train.drop('label',axis=1), np.squeeze(y_train.to_numpy().reshape(1, -1)))\n",
    "    y_pred = pipe.predict_proba(X_test)\n",
    "    return pipe,y_pred"
   ]
  },
  {
   "cell_type": "code",
   "execution_count": 40,
   "metadata": {},
   "outputs": [
    {
     "name": "stdout",
     "output_type": "stream",
     "text": [
      "{'learning_rate': 0.05964851265350479, 'max_depth': 19, 'n_estimators': 98, 'reg_alpha': 0.985207824919467}\n",
      "{'learning_rate': 0.7769296587181205, 'max_depth': 17, 'n_estimators': 14, 'reg_alpha': 0.8176773821752682}\n"
     ]
    }
   ],
   "source": [
    "pipe_with_sensor,y_pred_with_sensor = model_create_fit(xgbcBO,X_train_resample,y_train_resample,X_test.drop('label',axis=1),y_test)\n",
    "pipe_without_sensor,y_pred_wo_sensor = model_create_fit(xgbcBO_wo,X_train_wo_sensor_resample,y_train_wo_sensor_resample,X_test_wo_sensor.drop('label',axis=1),y_test_wo_sensor)"
   ]
  },
  {
   "cell_type": "code",
   "execution_count": 41,
   "metadata": {},
   "outputs": [
    {
     "name": "stdout",
     "output_type": "stream",
     "text": [
      "AUC (including sensor features) 0.929524875618499\n",
      "AUC (not including sensor features) 0.910297383932187\n"
     ]
    },
    {
     "data": {
      "text/plain": [
       "<matplotlib.legend.Legend at 0x7fab2f824450>"
      ]
     },
     "execution_count": 41,
     "metadata": {},
     "output_type": "execute_result"
    },
    {
     "data": {
      "image/png": "[encoded data removed]",
      "text/plain": [
       "<Figure size 720x432 with 1 Axes>"
      ]
     },
     "metadata": {
      "needs_background": "light"
     },
     "output_type": "display_data"
    }
   ],
   "source": [
    "plt.figure(figsize = (10, 6))\n",
    "fpr, tpr, _ = roc_curve(y_test, y_pred_with_sensor[:, 1])\n",
    "fpr2, tpr2, _2 = roc_curve(y_test_wo_sensor, y_pred_wo_sensor[:, 1])\n",
    "plt.plot(fpr, tpr, lw=2, label='With sensor features')\n",
    "plt.plot(fpr2, tpr2, lw=2, label='Without sensor features')\n",
    "print('AUC (including sensor features)', roc_auc_score(y_test, y_pred_with_sensor[:, 1]))\n",
    "print('AUC (not including sensor features)', roc_auc_score(y_test, y_pred_wo_sensor[:, 1]))\n",
    "\n",
    "plt.xlabel('False Positive Rate', fontsize = 13)\n",
    "plt.ylabel('True Positive Rate', fontsize = 13)\n",
    "plt.title('ROC Curve', fontsize = 15)\n",
    "plt.legend(fontsize = 13)"
   ]
  },
  {
   "cell_type": "code",
   "execution_count": 87,
   "metadata": {},
   "outputs": [
    {
     "data": {
      "text/plain": [
       "array([1, 1, 1, ..., 1, 1, 1])"
      ]
     },
     "execution_count": 87,
     "metadata": {},
     "output_type": "execute_result"
    }
   ],
   "source": [
    "np.argmax(y_pred_with_sensor,axis=1)"
   ]
  },
  {
   "cell_type": "code",
   "execution_count": 88,
   "metadata": {},
   "outputs": [
    {
     "data": {
      "text/plain": [
       "(array([0.61190965, 0.94090648]),\n",
       " array([0.74314214, 0.89666484]),\n",
       " array([0.67117117, 0.91825308]),\n",
       " array([ 401, 1829]))"
      ]
     },
     "execution_count": 88,
     "metadata": {},
     "output_type": "execute_result"
    }
   ],
   "source": [
    "precision_recall_fscore_support(y_test, np.argmax(y_pred_with_sensor,axis=1))"
   ]
  },
  {
   "cell_type": "code",
   "execution_count": 89,
   "metadata": {},
   "outputs": [
    {
     "data": {
      "text/plain": [
       "(array([0.59227468, 0.92913832]),\n",
       " array([0.6882793, 0.8961181]),\n",
       " array([0.6366782 , 0.91232953]),\n",
       " array([ 401, 1829]))"
      ]
     },
     "execution_count": 89,
     "metadata": {},
     "output_type": "execute_result"
    }
   ],
   "source": [
    "precision_recall_fscore_support(y_test, np.argmax(y_pred_wo_sensor,axis=1))"
   ]
  },
  {
   "cell_type": "markdown",
   "metadata": {},
   "source": [
    "**Adding sensor features slightly improves the Logistic Regression model's performance.**"
   ]
  },
  {
   "cell_type": "markdown",
   "metadata": {},
   "source": [
    "## Other Metrics"
   ]
  },
  {
   "cell_type": "code",
   "execution_count": 90,
   "metadata": {},
   "outputs": [
    {
     "name": "stdout",
     "output_type": "stream",
     "text": [
      "Balanced Average Accuracy (including sensor features): 0.819903494407775\n",
      "Balanced Average Accuracy (not including sensor features): 0.7921986995332881\n"
     ]
    }
   ],
   "source": [
    "print('Balanced Average Accuracy (including sensor features):', balanced_accuracy_score(y_test, np.argmax(y_pred_with_sensor,axis=1)))\n",
    "print('Balanced Average Accuracy (not including sensor features):', balanced_accuracy_score(y_test, np.argmax(y_pred_wo_sensor,axis=1)))"
   ]
  },
  {
   "cell_type": "markdown",
   "metadata": {},
   "source": [
    "## Paired or Non-paired"
   ]
  },
  {
   "cell_type": "code",
   "execution_count": 91,
   "metadata": {},
   "outputs": [],
   "source": [
    "pairs = pd.read_csv('../../repackaging_pairs.txt')"
   ]
  },
  {
   "cell_type": "code",
   "execution_count": 51,
   "metadata": {},
   "outputs": [],
   "source": [
    "# Train test split\n",
    "X_ = pd.read_csv('../data/Training_Data/Training_Dataset.csv')\n",
    "y_ = pd.read_csv('../data/Training_Data/Labels.csv')\n",
    "\n",
    "X_train_, X_test_, y_train_, y_test_ = train_test_split(X_,y_['label'], \n",
    "                                                    test_size = 0.2, \n",
    "                                                    random_state = 123, \n",
    "                                                    stratify = y_['label'])"
   ]
  },
  {
   "cell_type": "code",
   "execution_count": 95,
   "metadata": {},
   "outputs": [],
   "source": [
    "paired_w_sensor_accuracy = []\n",
    "non_paired_w_sensor_accuracy = []\n",
    "paired_wo_sensor_accuracy = []\n",
    "non_paired_wo_sensor_accuracy = []\n",
    "\n",
    "visited = []\n",
    "for i in range(X_test_.shape[0]):\n",
    "    acc1 = np.argmax(y_pred_with_sensor[i])  == y_test_.iloc[i]\n",
    "    acc2 =np.argmax(y_pred_wo_sensor[i]) == y_test_.iloc[i]\n",
    "    \n",
    "    sha = X_test_.iloc[i]['SHA256']\n",
    "    \n",
    "    for idx in pairs.index:\n",
    "        if sha == pairs.loc[idx, 'SHA256_ORIGINAL']:\n",
    "            if pairs.loc[idx, 'SHA256_REPACKAGE'] in X_test_['SHA256'].values:\n",
    "                paired_w_sensor_accuracy.append(acc1)\n",
    "                paired_wo_sensor_accuracy.append(acc2)\n",
    "            else:\n",
    "                non_paired_w_sensor_accuracy.append(acc1)\n",
    "                non_paired_wo_sensor_accuracy.append(acc2)\n",
    "            break\n",
    "        elif sha == pairs.loc[idx, 'SHA256_REPACKAGE']:\n",
    "            if pairs.loc[idx, 'SHA256_ORIGINAL'] in X_test_['SHA256'].values:\n",
    "                paired_w_sensor_accuracy.append(acc1)\n",
    "                paired_wo_sensor_accuracy.append(acc2)\n",
    "            else:\n",
    "                non_paired_w_sensor_accuracy.append(acc1)  \n",
    "                non_paired_wo_sensor_accuracy.append(acc2)  \n",
    "            break"
   ]
  },
  {
   "cell_type": "code",
   "execution_count": 96,
   "metadata": {},
   "outputs": [],
   "source": [
    "acc_1 = []\n",
    "acc_2 = []\n",
    "for i in range(X_test.shape[0]):\n",
    "    acc1 = np.argmax(y_pred_with_sensor[i]) == y_test.iloc[i]\n",
    "    acc2 = np.argmax(y_pred_wo_sensor[i])== y_test.iloc[i]\n",
    "    \n",
    "    acc_1.append(acc1)\n",
    "    acc_2.append(acc2)"
   ]
  },
  {
   "cell_type": "code",
   "execution_count": 97,
   "metadata": {
    "scrolled": true
   },
   "outputs": [
    {
     "data": {
      "text/plain": [
       "1938"
      ]
     },
     "execution_count": 97,
     "metadata": {},
     "output_type": "execute_result"
    }
   ],
   "source": [
    "np.sum(acc_1)"
   ]
  },
  {
   "cell_type": "code",
   "execution_count": 98,
   "metadata": {
    "scrolled": true
   },
   "outputs": [
    {
     "data": {
      "text/plain": [
       "190"
      ]
     },
     "execution_count": 98,
     "metadata": {},
     "output_type": "execute_result"
    }
   ],
   "source": [
    "np.sum(paired_w_sensor_accuracy)"
   ]
  },
  {
   "cell_type": "code",
   "execution_count": 99,
   "metadata": {},
   "outputs": [
    {
     "data": {
      "text/plain": [
       "1748"
      ]
     },
     "execution_count": 99,
     "metadata": {},
     "output_type": "execute_result"
    }
   ],
   "source": [
    "np.sum(non_paired_w_sensor_accuracy)"
   ]
  },
  {
   "cell_type": "code",
   "execution_count": 100,
   "metadata": {},
   "outputs": [
    {
     "name": "stdout",
     "output_type": "stream",
     "text": [
      "Accuracy for paired apps (including sensor features): 0.8370044052863436\n",
      "Accuracy for non-paired apps (including sensor features): 0.872690963554668\n",
      "Accuracy for paired apps (not including sensor features): 0.8281938325991189\n",
      "Accuracy for non-paired apps (not including sensor features): 0.8622066899650525\n"
     ]
    }
   ],
   "source": [
    "print(\"Accuracy for paired apps (including sensor features):\", np.sum(paired_w_sensor_accuracy)/len(paired_w_sensor_accuracy))\n",
    "print(\"Accuracy for non-paired apps (including sensor features):\", np.sum(non_paired_w_sensor_accuracy)/len(non_paired_w_sensor_accuracy))\n",
    "\n",
    "print(\"Accuracy for paired apps (not including sensor features):\", np.sum(paired_wo_sensor_accuracy)/len(paired_wo_sensor_accuracy))\n",
    "print(\"Accuracy for non-paired apps (not including sensor features):\", np.sum(non_paired_wo_sensor_accuracy)/len(non_paired_wo_sensor_accuracy))"
   ]
  },
  {
   "cell_type": "markdown",
   "metadata": {},
   "source": [
    "## Testing on Repackaged Benign Apps Dataset"
   ]
  },
  {
   "cell_type": "code",
   "execution_count": 60,
   "metadata": {},
   "outputs": [
    {
     "data": {
      "text/plain": [
       "GridSearchCV(cv=None, error_score=nan,\n",
       "             estimator=Pipeline(memory=None,\n",
       "                                steps=[('selectkbest',\n",
       "                                        SelectKBest(k=200,\n",
       "                                                    score_func=<function chi2 at 0x7f81bb35b440>)),\n",
       "                                       ('logisticregression',\n",
       "                                        LogisticRegression(C=1.0,\n",
       "                                                           class_weight={0: 2.780938123752495,\n",
       "                                                                         1: 0.6096040253773791},\n",
       "                                                           dual=False,\n",
       "                                                           fit_intercept=True,\n",
       "                                                           intercept_scaling=1,\n",
       "                                                           l1_ratio=None,\n",
       "                                                           max_iter=1000,\n",
       "                                                           multi_class='auto',\n",
       "                                                           n_jobs=None,\n",
       "                                                           penalty='l2',\n",
       "                                                           random_state=None,\n",
       "                                                           solver='lbfgs',\n",
       "                                                           tol=0.0001,\n",
       "                                                           verbose=0,\n",
       "                                                           warm_start=False))],\n",
       "                                verbose=False),\n",
       "             iid='deprecated', n_jobs=None,\n",
       "             param_grid={'logisticregression__C': [0.1, 0.3, 0.5, 0.7, 0.8, 0.9,\n",
       "                                                   1]},\n",
       "             pre_dispatch='2*n_jobs', refit=True, return_train_score=False,\n",
       "             scoring=None, verbose=0)"
      ]
     },
     "execution_count": 60,
     "metadata": {},
     "output_type": "execute_result"
    }
   ],
   "source": [
    "# # Tune C of Logistic Regression\n",
    "# pipe_with_sensor = make_pipeline(SelectKBest(k = 200, score_func = chi2), \n",
    "#                                  LogisticRegression(class_weight = class_weights, max_iter = 1000))\n",
    "\n",
    "# params = {'logisticregression__C': [0.1, 0.3, 0.5, 0.7, 0.8, 0.9, 1]}\n",
    "\n",
    "# grid_with_sensor = GridSearchCV(pipe_with_sensor, param_grid = params)\n",
    "# grid_with_sensor.fit(X, y['label'].values)"
   ]
  },
  {
   "cell_type": "code",
   "execution_count": 61,
   "metadata": {},
   "outputs": [],
   "source": [
    "accuracy = grid_with_sensor.score(repackaged_benign_test_X, repackaged_benign_test_y['label'].values)"
   ]
  },
  {
   "cell_type": "code",
   "execution_count": 62,
   "metadata": {
    "scrolled": true
   },
   "outputs": [
    {
     "name": "stdout",
     "output_type": "stream",
     "text": [
      "Accuracy (including sensor features): 0.8827851644506648\n"
     ]
    }
   ],
   "source": [
    "print('Accuracy (including sensor features):', accuracy)"
   ]
  },
  {
   "cell_type": "code",
   "execution_count": 116,
   "metadata": {},
   "outputs": [
    {
     "data": {
      "text/plain": [
       "(2858, 323)"
      ]
     },
     "execution_count": 116,
     "metadata": {},
     "output_type": "execute_result"
    }
   ],
   "source": [
    "repackaged_benign_test_X_wo_sensors.shape"
   ]
  },
  {
   "cell_type": "code",
   "execution_count": 120,
   "metadata": {},
   "outputs": [],
   "source": [
    "# # Tune C of Logistic Regression\n",
    "# pipe_wo_sensor = make_pipeline(SelectKBest(k = 200, score_func = chi2), \n",
    "#                                LogisticRegression(class_weight = class_weights, max_iter = 1000))\n",
    "\n",
    "# params = {'logisticregression__C': [0.1, 0.3, 0.5, 0.7, 0.8, 0.9, 1]}\n",
    "\n",
    "# grid_wo_sensor = GridSearchCV(pipe_wo_sensor, param_grid = params)\n",
    "# grid_wo_sensor.fit(X_wo_sensors, y['label'].values)\n",
    "\n",
    "\n",
    "y_pred_repack_benign = pipe_with_sensor.predict_proba(repackaged_benign_test_X)\n",
    "y_pred_repack_benign_wo_sensor = pipe_without_sensor.predict_proba(repackaged_benign_test_X_wo_sensors)\n"
   ]
  },
  {
   "cell_type": "code",
   "execution_count": 122,
   "metadata": {},
   "outputs": [
    {
     "data": {
      "text/html": [
       "<div>\n",
       "<style scoped>\n",
       "    .dataframe tbody tr th:only-of-type {\n",
       "        vertical-align: middle;\n",
       "    }\n",
       "\n",
       "    .dataframe tbody tr th {\n",
       "        vertical-align: top;\n",
       "    }\n",
       "\n",
       "    .dataframe thead th {\n",
       "        text-align: right;\n",
       "    }\n",
       "</style>\n",
       "<table border=\"1\" class=\"dataframe\">\n",
       "  <thead>\n",
       "    <tr style=\"text-align: right;\">\n",
       "      <th></th>\n",
       "      <th>label</th>\n",
       "    </tr>\n",
       "  </thead>\n",
       "  <tbody>\n",
       "    <tr>\n",
       "      <th>0</th>\n",
       "      <td>0</td>\n",
       "    </tr>\n",
       "    <tr>\n",
       "      <th>1</th>\n",
       "      <td>0</td>\n",
       "    </tr>\n",
       "    <tr>\n",
       "      <th>2</th>\n",
       "      <td>0</td>\n",
       "    </tr>\n",
       "    <tr>\n",
       "      <th>3</th>\n",
       "      <td>0</td>\n",
       "    </tr>\n",
       "    <tr>\n",
       "      <th>4</th>\n",
       "      <td>0</td>\n",
       "    </tr>\n",
       "    <tr>\n",
       "      <th>...</th>\n",
       "      <td>...</td>\n",
       "    </tr>\n",
       "    <tr>\n",
       "      <th>2853</th>\n",
       "      <td>0</td>\n",
       "    </tr>\n",
       "    <tr>\n",
       "      <th>2854</th>\n",
       "      <td>0</td>\n",
       "    </tr>\n",
       "    <tr>\n",
       "      <th>2855</th>\n",
       "      <td>0</td>\n",
       "    </tr>\n",
       "    <tr>\n",
       "      <th>2856</th>\n",
       "      <td>0</td>\n",
       "    </tr>\n",
       "    <tr>\n",
       "      <th>2857</th>\n",
       "      <td>0</td>\n",
       "    </tr>\n",
       "  </tbody>\n",
       "</table>\n",
       "<p>2858 rows × 1 columns</p>\n",
       "</div>"
      ],
      "text/plain": [
       "      label\n",
       "0         0\n",
       "1         0\n",
       "2         0\n",
       "3         0\n",
       "4         0\n",
       "...     ...\n",
       "2853      0\n",
       "2854      0\n",
       "2855      0\n",
       "2856      0\n",
       "2857      0\n",
       "\n",
       "[2858 rows x 1 columns]"
      ]
     },
     "execution_count": 122,
     "metadata": {},
     "output_type": "execute_result"
    }
   ],
   "source": [
    "repackaged_benign_test_y"
   ]
  },
  {
   "cell_type": "code",
   "execution_count": 124,
   "metadata": {},
   "outputs": [],
   "source": [
    "accuracy = accuracy_score(repackaged_benign_test_y['label'],np.argmax(y_pred_repack_benign,axis=1))"
   ]
  },
  {
   "cell_type": "code",
   "execution_count": 125,
   "metadata": {},
   "outputs": [
    {
     "name": "stdout",
     "output_type": "stream",
     "text": [
      "Accuracy (including sensor features): 0.913925822253324\n"
     ]
    }
   ],
   "source": [
    "print('Accuracy (including sensor features):', accuracy)"
   ]
  },
  {
   "cell_type": "code",
   "execution_count": 126,
   "metadata": {},
   "outputs": [],
   "source": [
    "accuracy = accuracy_score(repackaged_benign_test_y['label'],np.argmax(y_pred_repack_benign_wo_sensor,axis=1))"
   ]
  },
  {
   "cell_type": "code",
   "execution_count": 127,
   "metadata": {},
   "outputs": [
    {
     "name": "stdout",
     "output_type": "stream",
     "text": [
      "Accuracy (without sensor features): 0.900629811056683\n"
     ]
    }
   ],
   "source": [
    "print('Accuracy (without sensor features):', accuracy)"
   ]
  },
  {
   "cell_type": "markdown",
   "metadata": {},
   "source": [
    "+ **Logistic Regression can classify 88.2% repackaged benign apps correctly, but still misclassify 11.8% cases.**"
   ]
  },
  {
   "cell_type": "markdown",
   "metadata": {},
   "source": [
    "## Testing on COVID Dataset"
   ]
  },
  {
   "cell_type": "code",
   "execution_count": 128,
   "metadata": {},
   "outputs": [],
   "source": [
    "covid_test_X.fillna(0, inplace = True)"
   ]
  },
  {
   "cell_type": "code",
   "execution_count": 129,
   "metadata": {},
   "outputs": [],
   "source": [
    "covid_y_pred_w_sensor = pipe_with_sensor.predict_proba(covid_test_X)\n",
    "covid_y_pred_wo_sensor = pipe_without_sensor.predict_proba(covid_test_X_wo_sensors)"
   ]
  },
  {
   "cell_type": "code",
   "execution_count": 131,
   "metadata": {},
   "outputs": [
    {
     "name": "stdout",
     "output_type": "stream",
     "text": [
      "Balanced Average Accuracy (including sensor features): 0.5020473157415832\n",
      "Balanced Average Accuracy (not including sensor features): 0.4479071883530482\n"
     ]
    }
   ],
   "source": [
    "print('Balanced Average Accuracy (including sensor features):', balanced_accuracy_score(COVID_test_y['label'].values, np.argmax(covid_y_pred_w_sensor,axis=1)))\n",
    "print('Balanced Average Accuracy (not including sensor features):', balanced_accuracy_score(COVID_test_y['label'].values, np.argmax(covid_y_pred_wo_sensor,axis=1)))\n"
   ]
  },
  {
   "cell_type": "markdown",
   "metadata": {},
   "source": [
    "## Thumbprint Score"
   ]
  },
  {
   "cell_type": "code",
   "execution_count": 136,
   "metadata": {},
   "outputs": [],
   "source": [
    "X_test_['y_pred_with_sensor'] = np.argmax(y_pred_with_sensor,axis=1)\n",
    "X_test_['y_pred_wo_sensor'] = np.argmax(y_pred_wo_sensor,axis=1)\n",
    "X_test_['label'] = y_test"
   ]
  },
  {
   "cell_type": "code",
   "execution_count": 138,
   "metadata": {},
   "outputs": [
    {
     "data": {
      "text/html": [
       "<div>\n",
       "<style scoped>\n",
       "    .dataframe tbody tr th:only-of-type {\n",
       "        vertical-align: middle;\n",
       "    }\n",
       "\n",
       "    .dataframe tbody tr th {\n",
       "        vertical-align: top;\n",
       "    }\n",
       "\n",
       "    .dataframe thead th {\n",
       "        text-align: right;\n",
       "    }\n",
       "</style>\n",
       "<table border=\"1\" class=\"dataframe\">\n",
       "  <thead>\n",
       "    <tr style=\"text-align: right;\">\n",
       "      <th></th>\n",
       "      <th>N</th>\n",
       "      <th>correct</th>\n",
       "      <th>score</th>\n",
       "    </tr>\n",
       "    <tr>\n",
       "      <th>ThumbPrint</th>\n",
       "      <th></th>\n",
       "      <th></th>\n",
       "      <th></th>\n",
       "    </tr>\n",
       "  </thead>\n",
       "  <tbody>\n",
       "    <tr>\n",
       "      <th>61ED377E85D386A8DFEE6B864BD85B0BFAA5AF81</th>\n",
       "      <td>162</td>\n",
       "      <td>113</td>\n",
       "      <td>0.697531</td>\n",
       "    </tr>\n",
       "    <tr>\n",
       "      <th>28EAC321D548B4247D9C84810C0656EC9426716B</th>\n",
       "      <td>97</td>\n",
       "      <td>82</td>\n",
       "      <td>0.845361</td>\n",
       "    </tr>\n",
       "    <tr>\n",
       "      <th>F3FA0BE3FEB31AC2920E399AF0F0CFB37D729284</th>\n",
       "      <td>71</td>\n",
       "      <td>71</td>\n",
       "      <td>1.000000</td>\n",
       "    </tr>\n",
       "    <tr>\n",
       "      <th>95653B2BD67722B6EF4021CB812FF2B4DC5DCF03</th>\n",
       "      <td>67</td>\n",
       "      <td>67</td>\n",
       "      <td>1.000000</td>\n",
       "    </tr>\n",
       "    <tr>\n",
       "      <th>00F7DCC41988D8642C51D4F8BA5A42C413275885</th>\n",
       "      <td>58</td>\n",
       "      <td>58</td>\n",
       "      <td>1.000000</td>\n",
       "    </tr>\n",
       "    <tr>\n",
       "      <th>F243B92AD5EABA98BD43084864C4D5483F191CD9</th>\n",
       "      <td>52</td>\n",
       "      <td>43</td>\n",
       "      <td>0.826923</td>\n",
       "    </tr>\n",
       "    <tr>\n",
       "      <th>45A195BE1E17B3AFA086623DCC4661DEE2043B70</th>\n",
       "      <td>45</td>\n",
       "      <td>45</td>\n",
       "      <td>1.000000</td>\n",
       "    </tr>\n",
       "    <tr>\n",
       "      <th>6C699C8D1F7157366994ACDA5495051F2C58D7AB</th>\n",
       "      <td>44</td>\n",
       "      <td>44</td>\n",
       "      <td>1.000000</td>\n",
       "    </tr>\n",
       "    <tr>\n",
       "      <th>699512C8B49E7A01A622BD250544E09A80A42D55</th>\n",
       "      <td>39</td>\n",
       "      <td>35</td>\n",
       "      <td>0.897436</td>\n",
       "    </tr>\n",
       "    <tr>\n",
       "      <th>5BFC55F389F4B5427341E4320A501711140AE444</th>\n",
       "      <td>35</td>\n",
       "      <td>17</td>\n",
       "      <td>0.485714</td>\n",
       "    </tr>\n",
       "  </tbody>\n",
       "</table>\n",
       "</div>"
      ],
      "text/plain": [
       "                                            N  correct     score\n",
       "ThumbPrint                                                      \n",
       "61ED377E85D386A8DFEE6B864BD85B0BFAA5AF81  162      113  0.697531\n",
       "28EAC321D548B4247D9C84810C0656EC9426716B   97       82  0.845361\n",
       "F3FA0BE3FEB31AC2920E399AF0F0CFB37D729284   71       71  1.000000\n",
       "95653B2BD67722B6EF4021CB812FF2B4DC5DCF03   67       67  1.000000\n",
       "00F7DCC41988D8642C51D4F8BA5A42C413275885   58       58  1.000000\n",
       "F243B92AD5EABA98BD43084864C4D5483F191CD9   52       43  0.826923\n",
       "45A195BE1E17B3AFA086623DCC4661DEE2043B70   45       45  1.000000\n",
       "6C699C8D1F7157366994ACDA5495051F2C58D7AB   44       44  1.000000\n",
       "699512C8B49E7A01A622BD250544E09A80A42D55   39       35  0.897436\n",
       "5BFC55F389F4B5427341E4320A501711140AE444   35       17  0.485714"
      ]
     },
     "execution_count": 138,
     "metadata": {},
     "output_type": "execute_result"
    }
   ],
   "source": [
    "# scores of top 10 authors\n",
    "X_test_['correct'] = X_test_['label'] == X_test_['y_pred_with_sensor']\n",
    "summ = X_test_[X_test_['label']==1].groupby('ThumbPrint').agg(N=('SHA256','count'),\n",
    "                                                      correct=('correct','sum'))\\\n",
    ".sort_values(['N','correct'], ascending=False).iloc[:10,:]\n",
    "summ['score'] = summ['correct']/summ['N']\n",
    "summ"
   ]
  },
  {
   "cell_type": "code",
   "execution_count": 139,
   "metadata": {},
   "outputs": [
    {
     "data": {
      "text/html": [
       "<div>\n",
       "<style scoped>\n",
       "    .dataframe tbody tr th:only-of-type {\n",
       "        vertical-align: middle;\n",
       "    }\n",
       "\n",
       "    .dataframe tbody tr th {\n",
       "        vertical-align: top;\n",
       "    }\n",
       "\n",
       "    .dataframe thead th {\n",
       "        text-align: right;\n",
       "    }\n",
       "</style>\n",
       "<table border=\"1\" class=\"dataframe\">\n",
       "  <thead>\n",
       "    <tr style=\"text-align: right;\">\n",
       "      <th></th>\n",
       "      <th>N</th>\n",
       "      <th>correct</th>\n",
       "      <th>score</th>\n",
       "    </tr>\n",
       "    <tr>\n",
       "      <th>ThumbPrint</th>\n",
       "      <th></th>\n",
       "      <th></th>\n",
       "      <th></th>\n",
       "    </tr>\n",
       "  </thead>\n",
       "  <tbody>\n",
       "    <tr>\n",
       "      <th>61ED377E85D386A8DFEE6B864BD85B0BFAA5AF81</th>\n",
       "      <td>162</td>\n",
       "      <td>112</td>\n",
       "      <td>0.691358</td>\n",
       "    </tr>\n",
       "    <tr>\n",
       "      <th>28EAC321D548B4247D9C84810C0656EC9426716B</th>\n",
       "      <td>97</td>\n",
       "      <td>81</td>\n",
       "      <td>0.835052</td>\n",
       "    </tr>\n",
       "    <tr>\n",
       "      <th>F3FA0BE3FEB31AC2920E399AF0F0CFB37D729284</th>\n",
       "      <td>71</td>\n",
       "      <td>71</td>\n",
       "      <td>1.000000</td>\n",
       "    </tr>\n",
       "    <tr>\n",
       "      <th>95653B2BD67722B6EF4021CB812FF2B4DC5DCF03</th>\n",
       "      <td>67</td>\n",
       "      <td>67</td>\n",
       "      <td>1.000000</td>\n",
       "    </tr>\n",
       "    <tr>\n",
       "      <th>00F7DCC41988D8642C51D4F8BA5A42C413275885</th>\n",
       "      <td>58</td>\n",
       "      <td>58</td>\n",
       "      <td>1.000000</td>\n",
       "    </tr>\n",
       "    <tr>\n",
       "      <th>F243B92AD5EABA98BD43084864C4D5483F191CD9</th>\n",
       "      <td>52</td>\n",
       "      <td>43</td>\n",
       "      <td>0.826923</td>\n",
       "    </tr>\n",
       "    <tr>\n",
       "      <th>45A195BE1E17B3AFA086623DCC4661DEE2043B70</th>\n",
       "      <td>45</td>\n",
       "      <td>45</td>\n",
       "      <td>1.000000</td>\n",
       "    </tr>\n",
       "    <tr>\n",
       "      <th>6C699C8D1F7157366994ACDA5495051F2C58D7AB</th>\n",
       "      <td>44</td>\n",
       "      <td>44</td>\n",
       "      <td>1.000000</td>\n",
       "    </tr>\n",
       "    <tr>\n",
       "      <th>699512C8B49E7A01A622BD250544E09A80A42D55</th>\n",
       "      <td>39</td>\n",
       "      <td>35</td>\n",
       "      <td>0.897436</td>\n",
       "    </tr>\n",
       "    <tr>\n",
       "      <th>5BFC55F389F4B5427341E4320A501711140AE444</th>\n",
       "      <td>35</td>\n",
       "      <td>17</td>\n",
       "      <td>0.485714</td>\n",
       "    </tr>\n",
       "  </tbody>\n",
       "</table>\n",
       "</div>"
      ],
      "text/plain": [
       "                                            N  correct     score\n",
       "ThumbPrint                                                      \n",
       "61ED377E85D386A8DFEE6B864BD85B0BFAA5AF81  162      112  0.691358\n",
       "28EAC321D548B4247D9C84810C0656EC9426716B   97       81  0.835052\n",
       "F3FA0BE3FEB31AC2920E399AF0F0CFB37D729284   71       71  1.000000\n",
       "95653B2BD67722B6EF4021CB812FF2B4DC5DCF03   67       67  1.000000\n",
       "00F7DCC41988D8642C51D4F8BA5A42C413275885   58       58  1.000000\n",
       "F243B92AD5EABA98BD43084864C4D5483F191CD9   52       43  0.826923\n",
       "45A195BE1E17B3AFA086623DCC4661DEE2043B70   45       45  1.000000\n",
       "6C699C8D1F7157366994ACDA5495051F2C58D7AB   44       44  1.000000\n",
       "699512C8B49E7A01A622BD250544E09A80A42D55   39       35  0.897436\n",
       "5BFC55F389F4B5427341E4320A501711140AE444   35       17  0.485714"
      ]
     },
     "execution_count": 139,
     "metadata": {},
     "output_type": "execute_result"
    }
   ],
   "source": [
    "# scores of top 10 authors\n",
    "X_test_['correct'] = X_test_['label'] == X_test_['y_pred_wo_sensor']\n",
    "summ = X_test_[X_test_['label']==1].groupby('ThumbPrint').agg(N=('SHA256','count'),\n",
    "                                                      correct=('correct','sum'))\\\n",
    ".sort_values(['N','correct'], ascending=False).iloc[:10,:]\n",
    "summ['score'] = summ['correct']/summ['N']\n",
    "summ"
   ]
  },
  {
   "cell_type": "code",
   "execution_count": null,
   "metadata": {},
   "outputs": [],
   "source": []
  }
 ],
 "metadata": {
  "kernelspec": {
   "display_name": "Python 3",
   "language": "python",
   "name": "python3"
  },
  "language_info": {
   "codemirror_mode": {
    "name": "ipython",
    "version": 3
   },
   "file_extension": ".py",
   "mimetype": "text/x-python",
   "name": "python",
   "nbconvert_exporter": "python",
   "pygments_lexer": "ipython3",
   "version": "3.7.9"
  }
 },
 "nbformat": 4,
 "nbformat_minor": 4
}
