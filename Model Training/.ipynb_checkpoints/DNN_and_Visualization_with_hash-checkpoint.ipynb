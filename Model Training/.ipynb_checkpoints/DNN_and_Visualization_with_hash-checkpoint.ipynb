{
 "cells": [
  {
   "cell_type": "code",
   "execution_count": 1,
   "metadata": {},
   "outputs": [
    {
     "ename": "ModuleNotFoundError",
     "evalue": "No module named 'shap'",
     "output_type": "error",
     "traceback": [
      "\u001b[0;31m---------------------------------------------------------------------------\u001b[0m",
      "\u001b[0;31mModuleNotFoundError\u001b[0m                       Traceback (most recent call last)",
      "\u001b[0;32m<ipython-input-1-9772c5b86786>\u001b[0m in \u001b[0;36m<module>\u001b[0;34m\u001b[0m\n\u001b[1;32m     20\u001b[0m \u001b[0;32mfrom\u001b[0m \u001b[0msklearn\u001b[0m\u001b[0;34m.\u001b[0m\u001b[0mutils\u001b[0m \u001b[0;32mimport\u001b[0m \u001b[0mclass_weight\u001b[0m\u001b[0;34m\u001b[0m\u001b[0;34m\u001b[0m\u001b[0m\n\u001b[1;32m     21\u001b[0m \u001b[0;34m\u001b[0m\u001b[0m\n\u001b[0;32m---> 22\u001b[0;31m \u001b[0;32mimport\u001b[0m \u001b[0mshap\u001b[0m\u001b[0;34m\u001b[0m\u001b[0;34m\u001b[0m\u001b[0m\n\u001b[0m\u001b[1;32m     23\u001b[0m \u001b[0mshap\u001b[0m\u001b[0;34m.\u001b[0m\u001b[0minitjs\u001b[0m\u001b[0;34m(\u001b[0m\u001b[0;34m)\u001b[0m\u001b[0;34m\u001b[0m\u001b[0;34m\u001b[0m\u001b[0m\n",
      "\u001b[0;31mModuleNotFoundError\u001b[0m: No module named 'shap'"
     ]
    }
   ],
   "source": [
    "import pandas as pd\n",
    "import numpy as np\n",
    "import matplotlib.pyplot as plt\n",
    "\n",
    "from sklearn.compose import ColumnTransformer, TransformedTargetRegressor\n",
    "from sklearn.compose import make_column_selector\n",
    "from sklearn.pipeline import Pipeline, make_pipeline\n",
    "\n",
    "from sklearn.model_selection import train_test_split, cross_val_score, GridSearchCV\n",
    "\n",
    "from sklearn.feature_selection import SelectKBest,  chi2\n",
    "from sklearn import tree\n",
    "from sklearn.metrics import  roc_curve, roc_auc_score,accuracy_score, precision_recall_fscore_support\n",
    "from sklearn.metrics import balanced_accuracy_score\n",
    "\n",
    "from numpy import loadtxt\n",
    "from sklearn.model_selection import train_test_split,GridSearchCV \n",
    "import matplotlib.pyplot as plt\n",
    "\n",
    "from sklearn.utils import class_weight\n",
    "\n",
    "import shap\n",
    "shap.initjs()"
   ]
  },
  {
   "cell_type": "code",
   "execution_count": 2,
   "metadata": {},
   "outputs": [],
   "source": [
    "X = pd.read_csv('../data/Training_Data/Training_Dataset.csv')\n",
    "repackaged_benign_test_X =  pd.read_csv('../data/Test_Data/Repackaged_Benign_Testset.csv')\n",
    "covid_test_X = pd.read_csv('../data/Test_Data/COVID_Testset.csv')\n",
    "y = pd.read_csv('../data/Training_Data/Labels.csv')\n",
    "repackaged_benign_test_y = pd.read_csv('../data/Test_Data/Labels_Repackaged_Benign_Test.csv')\n",
    "COVID_test_y = pd.read_csv('../data/Test_Data/Labels_COVID_Test.csv')"
   ]
  },
  {
   "cell_type": "code",
   "execution_count": 3,
   "metadata": {},
   "outputs": [],
   "source": [
    "# Delete useless features told by Shirish\n",
    "X.drop(['Package_Name', 'SHA256', 'ThumbPrint', 'Application_Category', \n",
    "        'Family_Name', 'Malware_Category', 'Malware/Benign','sdkVersion', 'targetSdkVersion'], axis = 1, inplace = True)\n",
    "\n",
    "repackaged_benign_test_X.drop(['Package_Name', 'SHA256', 'ThumbPrint', 'Application_Category', \n",
    "                               'Family_Name', 'Malware_Category', 'Malware/Benign','sdkVersion', 'targetSdkVersion'], axis = 1, inplace = True)\n",
    "\n",
    "covid_test_X.drop(['Package_Name', 'SHA256', 'ThumbPrint', 'Application_Category', \n",
    "                 'Family_Name', 'Malware_Category', 'Malware/Benign','sdkVersion', 'targetSdkVersion'], axis = 1, inplace = True)\n"
   ]
  },
  {
   "cell_type": "markdown",
   "metadata": {},
   "source": [
    "## Feature Exploration"
   ]
  },
  {
   "cell_type": "markdown",
   "metadata": {},
   "source": [
    "#### Remove features with 0 variance"
   ]
  },
  {
   "cell_type": "code",
   "execution_count": 5,
   "metadata": {
    "scrolled": true
   },
   "outputs": [],
   "source": [
    "drop_features = X.max()[X.max() == 0].index.to_list()\n",
    "X.drop(drop_features, axis = 1, inplace = True)\n",
    "repackaged_benign_test_X.drop(drop_features, axis = 1, inplace = True)\n",
    "covid_test_X.drop(drop_features, axis = 1, inplace = True)"
   ]
  },
  {
   "cell_type": "code",
   "execution_count": 6,
   "metadata": {},
   "outputs": [
    {
     "data": {
      "text/plain": [
       "Series([], Name: count, dtype: float64)"
      ]
     },
     "execution_count": 6,
     "metadata": {},
     "output_type": "execute_result"
    }
   ],
   "source": [
    "# Check if there's no onehot feature has missing values\n",
    "X.describe().loc['count'][X.describe().loc['count'] < 10954]"
   ]
  },
  {
   "cell_type": "markdown",
   "metadata": {},
   "source": [
    "## Feature Summary:\n",
    "\n",
    "\n",
    "### Original Dataset:\n",
    "\n",
    "#### (1) Missing Values:\n",
    "   + Features with 100% missing values: 'sdkVersion', 'targetSdkVersion' (deleted)\n",
    "\n",
    "\n",
    "#### (2) Features with 0 Variance:\n",
    "  + Number of Features with 0 Variance: 511 (deleted)\n",
    "\n",
    "\n",
    "### Preprocessed Dataset:\n",
    "\n",
    "#### (1) Categories of Features:\n",
    "  + Number of one-hot features: 352\n",
    " \n",
    " \n",
    "#### (2) Features Extracted by Us\n",
    "  + Number of featuers extracted by us (sensors): 29"
   ]
  },
  {
   "cell_type": "markdown",
   "metadata": {},
   "source": [
    "## Correlation Between Features and Target"
   ]
  },
  {
   "cell_type": "code",
   "execution_count": 6,
   "metadata": {},
   "outputs": [],
   "source": [
    "chi_2, p = chi2(X, y)"
   ]
  },
  {
   "cell_type": "code",
   "execution_count": 7,
   "metadata": {},
   "outputs": [
    {
     "data": {
      "text/plain": [
       "<matplotlib.legend.Legend at 0x7ff0e1525890>"
      ]
     },
     "execution_count": 7,
     "metadata": {},
     "output_type": "execute_result"
    },
    {
     "data": {
      "image/png": "[encoded data removed]",
      "text/plain": [
       "<Figure size 720x432 with 1 Axes>"
      ]
     },
     "metadata": {
      "needs_background": "light"
     },
     "output_type": "display_data"
    }
   ],
   "source": [
    "plt.figure(figsize = (10, 6))\n",
    "plt.scatter(np.arange(1, 353), p)\n",
    "plt.axhline(y=0.05, color='r', linestyle='-', label = 'p = 0.05')\n",
    "plt.xlabel('Features', fontsize = 13)\n",
    "plt.ylabel('p-value', fontsize = 13)\n",
    "plt.legend()"
   ]
  },
  {
   "cell_type": "code",
   "execution_count": 8,
   "metadata": {},
   "outputs": [
    {
     "name": "stdout",
     "output_type": "stream",
     "text": [
      "The number of features that are correlated with the target (p-value < 0.05) is: 272\n"
     ]
    }
   ],
   "source": [
    "print('The number of features that are correlated with the target (p-value < 0.05) is:', np.sum(p < 0.05))"
   ]
  },
  {
   "cell_type": "markdown",
   "metadata": {},
   "source": [
    "## Distribution of Target"
   ]
  },
  {
   "cell_type": "code",
   "execution_count": 9,
   "metadata": {},
   "outputs": [
    {
     "data": {
      "text/plain": [
       "Text(0.5, 1.0, 'Distribution of Target')"
      ]
     },
     "execution_count": 9,
     "metadata": {},
     "output_type": "execute_result"
    },
    {
     "data": {
      "image/png": "[encoded data removed]",
      "text/plain": [
       "<Figure size 720x432 with 1 Axes>"
      ]
     },
     "metadata": {
      "needs_background": "light"
     },
     "output_type": "display_data"
    }
   ],
   "source": [
    "plt.figure(figsize = (10, 6))\n",
    "plt.bar(['0', '1'], y['label'].value_counts().values)\n",
    "plt.xlabel('Label', fontsize = 13)\n",
    "plt.ylabel('Count', fontsize = 13)\n",
    "plt.title('Distribution of Target', fontsize = 15)"
   ]
  },
  {
   "cell_type": "markdown",
   "metadata": {},
   "source": [
    "  + **Need to deal with imbalanced dataset.**"
   ]
  },
  {
   "cell_type": "code",
   "execution_count": 6,
   "metadata": {},
   "outputs": [
    {
     "name": "stdout",
     "output_type": "stream",
     "text": [
      "Class weights should be: 2.780938 for 0 and 0.609604 for 1\n"
     ]
    },
    {
     "name": "stderr",
     "output_type": "stream",
     "text": [
      "Pass classes=[0 1], y=[0 0 0 ... 1 1 1] as keyword args. From version 0.25 passing these as positional arguments will result in an error\n"
     ]
    }
   ],
   "source": [
    "# Calculate class weights\n",
    "class_weights = class_weight.compute_class_weight('balanced',\n",
    "                                                  np.unique(y),\n",
    "                                                  y['label'].values)\n",
    "print(\"Class weights should be: %f for 0 and %f for 1\" % (class_weights[0], class_weights[1]))"
   ]
  },
  {
   "cell_type": "code",
   "execution_count": 11,
   "metadata": {},
   "outputs": [],
   "source": [
    "class_weights = {0: class_weights[0], 1: class_weights[1]}"
   ]
  },
  {
   "cell_type": "markdown",
   "metadata": {},
   "source": [
    "## Splitting Training and Test set"
   ]
  },
  {
   "cell_type": "code",
   "execution_count": 7,
   "metadata": {},
   "outputs": [],
   "source": [
    "X['label']=y['label']"
   ]
  },
  {
   "cell_type": "code",
   "execution_count": 8,
   "metadata": {},
   "outputs": [
    {
     "data": {
      "text/html": [
       "<div>\n",
       "<style scoped>\n",
       "    .dataframe tbody tr th:only-of-type {\n",
       "        vertical-align: middle;\n",
       "    }\n",
       "\n",
       "    .dataframe tbody tr th {\n",
       "        vertical-align: top;\n",
       "    }\n",
       "\n",
       "    .dataframe thead th {\n",
       "        text-align: right;\n",
       "    }\n",
       "</style>\n",
       "<table border=\"1\" class=\"dataframe\">\n",
       "  <thead>\n",
       "    <tr style=\"text-align: right;\">\n",
       "      <th></th>\n",
       "      <th>Permission: FACTORY_TEST</th>\n",
       "      <th>Permission: DUMP</th>\n",
       "      <th>Permission: BATTERY_STATS</th>\n",
       "      <th>Permission: BIND_WALLPAPER</th>\n",
       "      <th>Permission: BIND_INPUT_METHOD</th>\n",
       "      <th>Permission: READ_LOGS</th>\n",
       "      <th>Permission: INSTALL_LOCATION_PROVIDER</th>\n",
       "      <th>Permission: READ_FRAME_BUFFER</th>\n",
       "      <th>Permission: SET_PROCESS_LIMIT</th>\n",
       "      <th>Permission: SET_ANIMATION_SCALE</th>\n",
       "      <th>...</th>\n",
       "      <th>proximity</th>\n",
       "      <th>relative_humidity</th>\n",
       "      <th>rotation_vector</th>\n",
       "      <th>significant_motion</th>\n",
       "      <th>stationary_detect</th>\n",
       "      <th>step_counter</th>\n",
       "      <th>step_detector</th>\n",
       "      <th>temperature</th>\n",
       "      <th>if_the_app_using_suspicious_libs</th>\n",
       "      <th>label</th>\n",
       "    </tr>\n",
       "  </thead>\n",
       "  <tbody>\n",
       "    <tr>\n",
       "      <th>0</th>\n",
       "      <td>0</td>\n",
       "      <td>0</td>\n",
       "      <td>0</td>\n",
       "      <td>0</td>\n",
       "      <td>0</td>\n",
       "      <td>0</td>\n",
       "      <td>0</td>\n",
       "      <td>0</td>\n",
       "      <td>0</td>\n",
       "      <td>0</td>\n",
       "      <td>...</td>\n",
       "      <td>0</td>\n",
       "      <td>0</td>\n",
       "      <td>0</td>\n",
       "      <td>0</td>\n",
       "      <td>0</td>\n",
       "      <td>0</td>\n",
       "      <td>0</td>\n",
       "      <td>0</td>\n",
       "      <td>0.0</td>\n",
       "      <td>0</td>\n",
       "    </tr>\n",
       "    <tr>\n",
       "      <th>1</th>\n",
       "      <td>0</td>\n",
       "      <td>0</td>\n",
       "      <td>0</td>\n",
       "      <td>0</td>\n",
       "      <td>0</td>\n",
       "      <td>0</td>\n",
       "      <td>0</td>\n",
       "      <td>0</td>\n",
       "      <td>0</td>\n",
       "      <td>0</td>\n",
       "      <td>...</td>\n",
       "      <td>0</td>\n",
       "      <td>0</td>\n",
       "      <td>0</td>\n",
       "      <td>0</td>\n",
       "      <td>0</td>\n",
       "      <td>0</td>\n",
       "      <td>0</td>\n",
       "      <td>0</td>\n",
       "      <td>0.0</td>\n",
       "      <td>0</td>\n",
       "    </tr>\n",
       "    <tr>\n",
       "      <th>2</th>\n",
       "      <td>0</td>\n",
       "      <td>0</td>\n",
       "      <td>0</td>\n",
       "      <td>0</td>\n",
       "      <td>0</td>\n",
       "      <td>0</td>\n",
       "      <td>0</td>\n",
       "      <td>0</td>\n",
       "      <td>0</td>\n",
       "      <td>0</td>\n",
       "      <td>...</td>\n",
       "      <td>0</td>\n",
       "      <td>0</td>\n",
       "      <td>0</td>\n",
       "      <td>0</td>\n",
       "      <td>0</td>\n",
       "      <td>0</td>\n",
       "      <td>0</td>\n",
       "      <td>0</td>\n",
       "      <td>0.0</td>\n",
       "      <td>0</td>\n",
       "    </tr>\n",
       "    <tr>\n",
       "      <th>3</th>\n",
       "      <td>0</td>\n",
       "      <td>0</td>\n",
       "      <td>0</td>\n",
       "      <td>0</td>\n",
       "      <td>0</td>\n",
       "      <td>0</td>\n",
       "      <td>0</td>\n",
       "      <td>0</td>\n",
       "      <td>0</td>\n",
       "      <td>0</td>\n",
       "      <td>...</td>\n",
       "      <td>0</td>\n",
       "      <td>0</td>\n",
       "      <td>0</td>\n",
       "      <td>0</td>\n",
       "      <td>0</td>\n",
       "      <td>0</td>\n",
       "      <td>0</td>\n",
       "      <td>0</td>\n",
       "      <td>0.0</td>\n",
       "      <td>0</td>\n",
       "    </tr>\n",
       "    <tr>\n",
       "      <th>4</th>\n",
       "      <td>0</td>\n",
       "      <td>0</td>\n",
       "      <td>0</td>\n",
       "      <td>0</td>\n",
       "      <td>0</td>\n",
       "      <td>0</td>\n",
       "      <td>0</td>\n",
       "      <td>0</td>\n",
       "      <td>0</td>\n",
       "      <td>0</td>\n",
       "      <td>...</td>\n",
       "      <td>0</td>\n",
       "      <td>0</td>\n",
       "      <td>0</td>\n",
       "      <td>0</td>\n",
       "      <td>0</td>\n",
       "      <td>0</td>\n",
       "      <td>0</td>\n",
       "      <td>0</td>\n",
       "      <td>0.0</td>\n",
       "      <td>0</td>\n",
       "    </tr>\n",
       "    <tr>\n",
       "      <th>...</th>\n",
       "      <td>...</td>\n",
       "      <td>...</td>\n",
       "      <td>...</td>\n",
       "      <td>...</td>\n",
       "      <td>...</td>\n",
       "      <td>...</td>\n",
       "      <td>...</td>\n",
       "      <td>...</td>\n",
       "      <td>...</td>\n",
       "      <td>...</td>\n",
       "      <td>...</td>\n",
       "      <td>...</td>\n",
       "      <td>...</td>\n",
       "      <td>...</td>\n",
       "      <td>...</td>\n",
       "      <td>...</td>\n",
       "      <td>...</td>\n",
       "      <td>...</td>\n",
       "      <td>...</td>\n",
       "      <td>...</td>\n",
       "      <td>...</td>\n",
       "    </tr>\n",
       "    <tr>\n",
       "      <th>11141</th>\n",
       "      <td>0</td>\n",
       "      <td>0</td>\n",
       "      <td>0</td>\n",
       "      <td>0</td>\n",
       "      <td>0</td>\n",
       "      <td>0</td>\n",
       "      <td>0</td>\n",
       "      <td>0</td>\n",
       "      <td>0</td>\n",
       "      <td>0</td>\n",
       "      <td>...</td>\n",
       "      <td>0</td>\n",
       "      <td>0</td>\n",
       "      <td>0</td>\n",
       "      <td>0</td>\n",
       "      <td>0</td>\n",
       "      <td>0</td>\n",
       "      <td>0</td>\n",
       "      <td>0</td>\n",
       "      <td>1.0</td>\n",
       "      <td>1</td>\n",
       "    </tr>\n",
       "    <tr>\n",
       "      <th>11142</th>\n",
       "      <td>0</td>\n",
       "      <td>0</td>\n",
       "      <td>0</td>\n",
       "      <td>0</td>\n",
       "      <td>0</td>\n",
       "      <td>0</td>\n",
       "      <td>0</td>\n",
       "      <td>0</td>\n",
       "      <td>0</td>\n",
       "      <td>0</td>\n",
       "      <td>...</td>\n",
       "      <td>0</td>\n",
       "      <td>0</td>\n",
       "      <td>0</td>\n",
       "      <td>0</td>\n",
       "      <td>0</td>\n",
       "      <td>0</td>\n",
       "      <td>0</td>\n",
       "      <td>0</td>\n",
       "      <td>0.0</td>\n",
       "      <td>1</td>\n",
       "    </tr>\n",
       "    <tr>\n",
       "      <th>11143</th>\n",
       "      <td>0</td>\n",
       "      <td>0</td>\n",
       "      <td>0</td>\n",
       "      <td>0</td>\n",
       "      <td>0</td>\n",
       "      <td>0</td>\n",
       "      <td>0</td>\n",
       "      <td>0</td>\n",
       "      <td>0</td>\n",
       "      <td>0</td>\n",
       "      <td>...</td>\n",
       "      <td>0</td>\n",
       "      <td>0</td>\n",
       "      <td>0</td>\n",
       "      <td>0</td>\n",
       "      <td>0</td>\n",
       "      <td>0</td>\n",
       "      <td>0</td>\n",
       "      <td>0</td>\n",
       "      <td>0.0</td>\n",
       "      <td>1</td>\n",
       "    </tr>\n",
       "    <tr>\n",
       "      <th>11144</th>\n",
       "      <td>0</td>\n",
       "      <td>0</td>\n",
       "      <td>0</td>\n",
       "      <td>0</td>\n",
       "      <td>0</td>\n",
       "      <td>0</td>\n",
       "      <td>0</td>\n",
       "      <td>0</td>\n",
       "      <td>0</td>\n",
       "      <td>0</td>\n",
       "      <td>...</td>\n",
       "      <td>0</td>\n",
       "      <td>0</td>\n",
       "      <td>0</td>\n",
       "      <td>0</td>\n",
       "      <td>0</td>\n",
       "      <td>0</td>\n",
       "      <td>0</td>\n",
       "      <td>0</td>\n",
       "      <td>0.0</td>\n",
       "      <td>1</td>\n",
       "    </tr>\n",
       "    <tr>\n",
       "      <th>11145</th>\n",
       "      <td>0</td>\n",
       "      <td>0</td>\n",
       "      <td>0</td>\n",
       "      <td>0</td>\n",
       "      <td>0</td>\n",
       "      <td>0</td>\n",
       "      <td>0</td>\n",
       "      <td>0</td>\n",
       "      <td>0</td>\n",
       "      <td>0</td>\n",
       "      <td>...</td>\n",
       "      <td>0</td>\n",
       "      <td>0</td>\n",
       "      <td>0</td>\n",
       "      <td>0</td>\n",
       "      <td>0</td>\n",
       "      <td>0</td>\n",
       "      <td>0</td>\n",
       "      <td>0</td>\n",
       "      <td>0.0</td>\n",
       "      <td>1</td>\n",
       "    </tr>\n",
       "  </tbody>\n",
       "</table>\n",
       "<p>11146 rows × 354 columns</p>\n",
       "</div>"
      ],
      "text/plain": [
       "       Permission: FACTORY_TEST  Permission: DUMP  Permission: BATTERY_STATS  \\\n",
       "0                             0                 0                          0   \n",
       "1                             0                 0                          0   \n",
       "2                             0                 0                          0   \n",
       "3                             0                 0                          0   \n",
       "4                             0                 0                          0   \n",
       "...                         ...               ...                        ...   \n",
       "11141                         0                 0                          0   \n",
       "11142                         0                 0                          0   \n",
       "11143                         0                 0                          0   \n",
       "11144                         0                 0                          0   \n",
       "11145                         0                 0                          0   \n",
       "\n",
       "       Permission: BIND_WALLPAPER  Permission: BIND_INPUT_METHOD  \\\n",
       "0                               0                              0   \n",
       "1                               0                              0   \n",
       "2                               0                              0   \n",
       "3                               0                              0   \n",
       "4                               0                              0   \n",
       "...                           ...                            ...   \n",
       "11141                           0                              0   \n",
       "11142                           0                              0   \n",
       "11143                           0                              0   \n",
       "11144                           0                              0   \n",
       "11145                           0                              0   \n",
       "\n",
       "       Permission: READ_LOGS  Permission: INSTALL_LOCATION_PROVIDER  \\\n",
       "0                          0                                      0   \n",
       "1                          0                                      0   \n",
       "2                          0                                      0   \n",
       "3                          0                                      0   \n",
       "4                          0                                      0   \n",
       "...                      ...                                    ...   \n",
       "11141                      0                                      0   \n",
       "11142                      0                                      0   \n",
       "11143                      0                                      0   \n",
       "11144                      0                                      0   \n",
       "11145                      0                                      0   \n",
       "\n",
       "       Permission: READ_FRAME_BUFFER  Permission: SET_PROCESS_LIMIT  \\\n",
       "0                                  0                              0   \n",
       "1                                  0                              0   \n",
       "2                                  0                              0   \n",
       "3                                  0                              0   \n",
       "4                                  0                              0   \n",
       "...                              ...                            ...   \n",
       "11141                              0                              0   \n",
       "11142                              0                              0   \n",
       "11143                              0                              0   \n",
       "11144                              0                              0   \n",
       "11145                              0                              0   \n",
       "\n",
       "       Permission: SET_ANIMATION_SCALE  ...  proximity  relative_humidity  \\\n",
       "0                                    0  ...          0                  0   \n",
       "1                                    0  ...          0                  0   \n",
       "2                                    0  ...          0                  0   \n",
       "3                                    0  ...          0                  0   \n",
       "4                                    0  ...          0                  0   \n",
       "...                                ...  ...        ...                ...   \n",
       "11141                                0  ...          0                  0   \n",
       "11142                                0  ...          0                  0   \n",
       "11143                                0  ...          0                  0   \n",
       "11144                                0  ...          0                  0   \n",
       "11145                                0  ...          0                  0   \n",
       "\n",
       "       rotation_vector  significant_motion  stationary_detect  step_counter  \\\n",
       "0                    0                   0                  0             0   \n",
       "1                    0                   0                  0             0   \n",
       "2                    0                   0                  0             0   \n",
       "3                    0                   0                  0             0   \n",
       "4                    0                   0                  0             0   \n",
       "...                ...                 ...                ...           ...   \n",
       "11141                0                   0                  0             0   \n",
       "11142                0                   0                  0             0   \n",
       "11143                0                   0                  0             0   \n",
       "11144                0                   0                  0             0   \n",
       "11145                0                   0                  0             0   \n",
       "\n",
       "       step_detector  temperature  if_the_app_using_suspicious_libs  label  \n",
       "0                  0            0                               0.0      0  \n",
       "1                  0            0                               0.0      0  \n",
       "2                  0            0                               0.0      0  \n",
       "3                  0            0                               0.0      0  \n",
       "4                  0            0                               0.0      0  \n",
       "...              ...          ...                               ...    ...  \n",
       "11141              0            0                               1.0      1  \n",
       "11142              0            0                               0.0      1  \n",
       "11143              0            0                               0.0      1  \n",
       "11144              0            0                               0.0      1  \n",
       "11145              0            0                               0.0      1  \n",
       "\n",
       "[11146 rows x 354 columns]"
      ]
     },
     "execution_count": 8,
     "metadata": {},
     "output_type": "execute_result"
    }
   ],
   "source": [
    "X"
   ]
  },
  {
   "cell_type": "code",
   "execution_count": 9,
   "metadata": {},
   "outputs": [],
   "source": [
    "# Create dataset without sensor features in order to see if there's some improvement by adding sensor features\n",
    "sensor_lst=list(X.iloc[:,-31:-1].columns)\n",
    "sensor_lst.remove('if_the_app_using_suspicious_libs')\n",
    "X_wo_sensors = X.drop(sensor_lst, axis = 1)\n",
    "repackaged_benign_test_X_wo_sensors = repackaged_benign_test_X.drop(sensor_lst, axis = 1)\n",
    "covid_test_X_wo_sensors = covid_test_X.drop(sensor_lst, axis = 1)\n"
   ]
  },
  {
   "cell_type": "code",
   "execution_count": 10,
   "metadata": {},
   "outputs": [],
   "source": [
    "# Train test split\n",
    "X_train, X_test, y_train, y_test = train_test_split(X, X['label'], \n",
    "                                                    test_size = 0.2, \n",
    "                                                    random_state = 123, \n",
    "                                                    stratify = X['label'])\n",
    "\n",
    "X_train_wo_sensor, X_test_wo_sensor, y_train_wo_sensor, y_test_wo_sensor = train_test_split(X_wo_sensors, X_wo_sensors['label'], \n",
    "                                                                                            test_size = 0.2, \n",
    "                                                                                            random_state = 123, \n",
    "                                                                                            stratify = X_wo_sensors['label'])"
   ]
  },
  {
   "cell_type": "markdown",
   "metadata": {},
   "source": [
    "## resample training set"
   ]
  },
  {
   "cell_type": "code",
   "execution_count": 11,
   "metadata": {},
   "outputs": [],
   "source": [
    "def resample(df):\n",
    "    gp=df.groupby('label').count().iloc[:,0:1].reset_index().sort_values('label')\n",
    "    gp.columns=['label','cnt']\n",
    "    cnt_lst=list(gp['cnt'])\n",
    "    x_df_resample=pd.concat([df.query('label==0').sample(n=cnt_lst[1]-cnt_lst[0],random_state=123,replace=True),df])\n",
    "    y_df_resample=x_df_resample['label']\n",
    "    return x_df_resample,y_df_resample"
   ]
  },
  {
   "cell_type": "code",
   "execution_count": 12,
   "metadata": {},
   "outputs": [],
   "source": [
    "X_train_resample,y_train_resample=resample(X_train)\n",
    "X_test_resample,y_test_resample=resample(X_test)\n",
    "\n",
    "X_train_wo_sensor_resample,y_train_wo_sensor_resample=resample(X_train_wo_sensor)\n",
    "X_test_wo_sensor_resample,y_test_wo_sensor_resample=resample(X_test_wo_sensor)"
   ]
  },
  {
   "cell_type": "markdown",
   "metadata": {},
   "source": [
    "# Visualizing Dataset"
   ]
  },
  {
   "cell_type": "code",
   "execution_count": 12,
   "metadata": {},
   "outputs": [
    {
     "name": "stderr",
     "output_type": "stream",
     "text": [
      "\n",
      "A value is trying to be set on a copy of a slice from a DataFrame\n",
      "\n",
      "See the caveats in the documentation: https://pandas.pydata.org/pandas-docs/stable/user_guide/indexing.html#returning-a-view-versus-a-copy\n"
     ]
    },
    {
     "data": {
      "image/png": "[encoded data removed]",
      "text/plain": [
       "<Figure size 576x360 with 1 Axes>"
      ]
     },
     "metadata": {
      "needs_background": "light"
     },
     "output_type": "display_data"
    }
   ],
   "source": [
    "from sklearn.manifold import TSNE\n",
    "\n",
    "combined_data = X.copy()\n",
    "combined_data['Ground_Truth'] = y\n",
    "\n",
    "# Separate malware and benign dataset to plot\n",
    "df_malware = combined_data[combined_data['Ground_Truth'] == 1]\n",
    "df_benign = combined_data[combined_data['Ground_Truth'] == 0]\n",
    "\n",
    "# Drop the ground truth column\n",
    "df_malware.drop(['Ground_Truth'], axis=1, inplace=True)\n",
    "df_benign.drop(['Ground_Truth'], axis=1, inplace=True)\n",
    "\n",
    "df_malware = pd.DataFrame(df_malware).sample(frac = 0.13, random_state=0)\n",
    "m_rd_features = df_malware\n",
    "\n",
    "df_benign = pd.DataFrame(df_benign).sample(frac = 0.5, random_state=0) \n",
    "b_rd_features = df_benign\n",
    "\n",
    "X_embedded = TSNE(n_components=2, init='pca', random_state=0, perplexity=300).fit_transform(np.concatenate((m_rd_features,b_rd_features),axis=0))\n",
    "\n",
    "plt.subplots(figsize=(8,5))\n",
    "plt.axis('off')\n",
    "plt.scatter(X_embedded[:m_rd_features.shape[0], 0], X_embedded[:m_rd_features.shape[0], 1], marker ='^', c='red',alpha=0.5)\n",
    "plt.scatter(X_embedded[m_rd_features.shape[0]:, 0], X_embedded[m_rd_features.shape[0]:, 1], marker = 'o', c='green',alpha=0.5)\n",
    "plt.legend(['Malware','Benign'], loc='upper center', bbox_to_anchor=(0.5, 0.05),\n",
    "          fancybox=True, shadow=True, ncol=5, markerscale=1.2, \n",
    "          fontsize=14)\n",
    "#plt.savefig(\"safe_learning.png\")\n",
    "plt.show()"
   ]
  },
  {
   "cell_type": "markdown",
   "metadata": {},
   "source": [
    "# Neural Network"
   ]
  },
  {
   "cell_type": "code",
   "execution_count": 13,
   "metadata": {},
   "outputs": [],
   "source": [
    "import tensorflow as tf\n",
    "from tensorflow import keras\n",
    "import IPython"
   ]
  },
  {
   "cell_type": "code",
   "execution_count": 19,
   "metadata": {},
   "outputs": [],
   "source": [
    "# !conda install -c conda-forge keras-tuner"
   ]
  },
  {
   "cell_type": "code",
   "execution_count": 14,
   "metadata": {},
   "outputs": [],
   "source": [
    "import kerastuner as kt"
   ]
  },
  {
   "cell_type": "code",
   "execution_count": 15,
   "metadata": {},
   "outputs": [
    {
     "name": "stderr",
     "output_type": "stream",
     "text": [
      "Using TensorFlow backend.\n"
     ]
    }
   ],
   "source": [
    "import tensorflow as tf\n",
    "from tensorflow import keras\n",
    "from keras import layers\n",
    "from keras.models import Sequential\n",
    "from keras.layers import Dense\n",
    "from keras.callbacks import ModelCheckpoint\n",
    "from keras.losses import categorical_crossentropy as logloss\n",
    "from keras.utils import np_utils\n",
    "from keras.layers import Dropout\n",
    "from keras.optimizers import adam\n",
    "\n",
    "# import GPy, GPyOpt\n",
    "# import numpy as np\n",
    "# import pandas as pds\n",
    "# import random\n",
    "# from keras.layers import Activation, Dropout, BatchNormalization, Dense\n",
    "# from keras.models import Sequential\n",
    "# from keras.datasets import mnist\n",
    "# from keras.metrics import categorical_crossentropy\n",
    "# from keras.utils import np_utils\n",
    "# from keras.optimizers import Adam\n",
    "# from keras.callbacks import EarlyStopping"
   ]
  },
  {
   "cell_type": "code",
   "execution_count": 17,
   "metadata": {},
   "outputs": [],
   "source": [
    "## keras-tunner--- cannot add dropout layer ---- not useful enough\n",
    "def model_builder(hp):\n",
    "    tf.keras.backend.clear_session()\n",
    "    model = keras.Sequential()\n",
    "    # Tune the number of units in the first Dense layer\n",
    "    # Choose an optimal value between 32-64\n",
    "    hp_units1 = hp.Int('units1', min_value = 16, max_value = 64, step = 16)\n",
    "    model.add(keras.layers.Dense(units = hp_units1, activation = 'relu'))\n",
    "    model.add(keras.layers.Dropout(0.4))\n",
    "    hp_units2 = hp.Int('units2', min_value = 16, max_value = 64, step = 16)\n",
    "    model.add(keras.layers.Dense(units = hp_units2, activation = 'relu'))\n",
    "    model.add(keras.layers.Dropout(0.4))\n",
    "    model.add(keras.layers.Dense(1,activation='sigmoid'))\n",
    "\n",
    "    # Tune the learning rate for the optimizer \n",
    "    # Choose an optimal value from 0.01, 0.001, or 0.0001\n",
    "    hp_learning_rate = hp.Choice('learning_rate', values = [1e-1,1e-2, 1e-3, 1e-4]) \n",
    "    \n",
    "#     model.compile(loss='binary_crossentropy', optimizer=adam(lr=1e-4, decay=1e-6), metrics=[tf.keras.metrics.AUC(),'accuracy'])\n",
    "\n",
    "    model.compile(optimizer = keras.optimizers.Adam(learning_rate = hp_learning_rate),\n",
    "                loss = keras.losses.BinaryCrossentropy(from_logits = True), \n",
    "                metrics=[tf.keras.metrics.Precision()])\n",
    "    return model\n"
   ]
  },
  {
   "cell_type": "code",
   "execution_count": 18,
   "metadata": {},
   "outputs": [],
   "source": [
    "tf.keras.backend.clear_session()\n",
    "\n",
    "tuner = kt.Hyperband(model_builder,\n",
    "                     kt.Objective(\"val_precision\", direction=\"max\"),\n",
    "                     max_epochs = 10,\n",
    "                     factor = 3,\n",
    "                     directory = 'dnn_model_training',\n",
    "                     project_name = '2_layers',\n",
    "                     overwrite = True)   \n",
    "\n",
    "# tuner = kt.RandomSearch(\n",
    "#     model_builder,\n",
    "#     objective='val_accuracy',\n",
    "#     max_trials=20,\n",
    "#     executions_per_trial=3,\n",
    "#     directory='dnn_model_training',\n",
    "#     project_name='2_layers',\n",
    "#     overwrite = True) "
   ]
  },
  {
   "cell_type": "code",
   "execution_count": 19,
   "metadata": {},
   "outputs": [],
   "source": [
    "class ClearTrainingOutput(tf.keras.callbacks.Callback):\n",
    "    def on_train_end(*args, **kwargs):\n",
    "        IPython.display.clear_output(wait = True)"
   ]
  },
  {
   "cell_type": "code",
   "execution_count": 20,
   "metadata": {},
   "outputs": [
    {
     "data": {
      "text/html": [
       "<span style=\"color:#4527A0\"><h1 style=\"font-size:18px\">Trial complete</h1></span>"
      ],
      "text/plain": [
       "<IPython.core.display.HTML object>"
      ]
     },
     "metadata": {},
     "output_type": "display_data"
    },
    {
     "data": {
      "text/html": [
       "<span style=\"color:#4527A0\"><h1 style=\"font-size:18px\">Trial summary</h1></span>"
      ],
      "text/plain": [
       "<IPython.core.display.HTML object>"
      ]
     },
     "metadata": {},
     "output_type": "display_data"
    },
    {
     "data": {
      "text/html": [
       "<span style=\"color:cyan\"> |-Trial ID: c200583c46447ea854551278bfd3072b</span>"
      ],
      "text/plain": [
       "<IPython.core.display.HTML object>"
      ]
     },
     "metadata": {},
     "output_type": "display_data"
    },
    {
     "data": {
      "text/html": [
       "<span style=\"color:cyan\"> |-Score: 0.8201793432235718</span>"
      ],
      "text/plain": [
       "<IPython.core.display.HTML object>"
      ]
     },
     "metadata": {},
     "output_type": "display_data"
    },
    {
     "data": {
      "text/html": [
       "<span style=\"color:cyan\"> |-Best step: 0</span>"
      ],
      "text/plain": [
       "<IPython.core.display.HTML object>"
      ]
     },
     "metadata": {},
     "output_type": "display_data"
    },
    {
     "data": {
      "text/html": [
       "<span style=\"color:#7E57C2\"><h2 style=\"font-size:16px\">Hyperparameters:</h2></span>"
      ],
      "text/plain": [
       "<IPython.core.display.HTML object>"
      ]
     },
     "metadata": {},
     "output_type": "display_data"
    },
    {
     "data": {
      "text/html": [
       "<span style=\"color:cyan\"> |-learning_rate: 0.1</span>"
      ],
      "text/plain": [
       "<IPython.core.display.HTML object>"
      ]
     },
     "metadata": {},
     "output_type": "display_data"
    },
    {
     "data": {
      "text/html": [
       "<span style=\"color:blue\"> |-tuner/bracket: 0</span>"
      ],
      "text/plain": [
       "<IPython.core.display.HTML object>"
      ]
     },
     "metadata": {},
     "output_type": "display_data"
    },
    {
     "data": {
      "text/html": [
       "<span style=\"color:cyan\"> |-tuner/epochs: 10</span>"
      ],
      "text/plain": [
       "<IPython.core.display.HTML object>"
      ]
     },
     "metadata": {},
     "output_type": "display_data"
    },
    {
     "data": {
      "text/html": [
       "<span style=\"color:blue\"> |-tuner/initial_epoch: 0</span>"
      ],
      "text/plain": [
       "<IPython.core.display.HTML object>"
      ]
     },
     "metadata": {},
     "output_type": "display_data"
    },
    {
     "data": {
      "text/html": [
       "<span style=\"color:cyan\"> |-tuner/round: 0</span>"
      ],
      "text/plain": [
       "<IPython.core.display.HTML object>"
      ]
     },
     "metadata": {},
     "output_type": "display_data"
    },
    {
     "data": {
      "text/html": [
       "<span style=\"color:blue\"> |-units1: 48</span>"
      ],
      "text/plain": [
       "<IPython.core.display.HTML object>"
      ]
     },
     "metadata": {},
     "output_type": "display_data"
    },
    {
     "data": {
      "text/html": [
       "<span style=\"color:cyan\"> |-units2: 48</span>"
      ],
      "text/plain": [
       "<IPython.core.display.HTML object>"
      ]
     },
     "metadata": {},
     "output_type": "display_data"
    },
    {
     "name": "stdout",
     "output_type": "stream",
     "text": [
      "INFO:tensorflow:Oracle triggered exit\n"
     ]
    }
   ],
   "source": [
    "tuner.search(X_train_resample.drop('label',axis=1).values, y_train_resample.values, epochs = 20, \n",
    "             validation_data=(X_test.drop('label',axis=1).values, y_test.values),verbose=2,\n",
    "             callbacks = [ClearTrainingOutput()])"
   ]
  },
  {
   "cell_type": "code",
   "execution_count": 21,
   "metadata": {},
   "outputs": [
    {
     "name": "stdout",
     "output_type": "stream",
     "text": [
      "\n",
      "The hyperparameter search is complete. \n",
      "\n",
      "The optimal number of units in the first densely-connected layer is 48 \n",
      "\n",
      "The optimal number of units in the second densely-connected layer is 16 \n",
      "\n",
      "The optimal learning rate for the optimizer\n",
      "is 0.0001.\n",
      "\n"
     ]
    }
   ],
   "source": [
    "# Get the optimal hyperparameters\n",
    "best_hps = tuner.get_best_hyperparameters(num_trials = 1)[0]\n",
    "print(f\"\"\"\n",
    "The hyperparameter search is complete. \\n\n",
    "The optimal number of units in the first densely-connected layer is {best_hps.get('units1')} \\n\n",
    "The optimal number of units in the second densely-connected layer is {best_hps.get('units2')} \\n\n",
    "The optimal learning rate for the optimizer\n",
    "is {best_hps.get('learning_rate')}.\n",
    "\"\"\")"
   ]
  },
  {
   "cell_type": "code",
   "execution_count": 24,
   "metadata": {},
   "outputs": [
    {
     "data": {
      "text/html": [
       "<span style=\"color:#4527A0\"><h1 style=\"font-size:18px\">Trial complete</h1></span>"
      ],
      "text/plain": [
       "<IPython.core.display.HTML object>"
      ]
     },
     "metadata": {},
     "output_type": "display_data"
    },
    {
     "data": {
      "text/html": [
       "<span style=\"color:#4527A0\"><h1 style=\"font-size:18px\">Trial summary</h1></span>"
      ],
      "text/plain": [
       "<IPython.core.display.HTML object>"
      ]
     },
     "metadata": {},
     "output_type": "display_data"
    },
    {
     "data": {
      "text/html": [
       "<span style=\"color:cyan\"> |-Trial ID: f916ea6a5872b522119fa3659fdf6219</span>"
      ],
      "text/plain": [
       "<IPython.core.display.HTML object>"
      ]
     },
     "metadata": {},
     "output_type": "display_data"
    },
    {
     "data": {
      "text/html": [
       "<span style=\"color:cyan\"> |-Score: 1.0</span>"
      ],
      "text/plain": [
       "<IPython.core.display.HTML object>"
      ]
     },
     "metadata": {},
     "output_type": "display_data"
    },
    {
     "data": {
      "text/html": [
       "<span style=\"color:cyan\"> |-Best step: 0</span>"
      ],
      "text/plain": [
       "<IPython.core.display.HTML object>"
      ]
     },
     "metadata": {},
     "output_type": "display_data"
    },
    {
     "data": {
      "text/html": [
       "<span style=\"color:#7E57C2\"><h2 style=\"font-size:16px\">Hyperparameters:</h2></span>"
      ],
      "text/plain": [
       "<IPython.core.display.HTML object>"
      ]
     },
     "metadata": {},
     "output_type": "display_data"
    },
    {
     "data": {
      "text/html": [
       "<span style=\"color:cyan\"> |-learning_rate: 0.01</span>"
      ],
      "text/plain": [
       "<IPython.core.display.HTML object>"
      ]
     },
     "metadata": {},
     "output_type": "display_data"
    },
    {
     "data": {
      "text/html": [
       "<span style=\"color:blue\"> |-tuner/bracket: 0</span>"
      ],
      "text/plain": [
       "<IPython.core.display.HTML object>"
      ]
     },
     "metadata": {},
     "output_type": "display_data"
    },
    {
     "data": {
      "text/html": [
       "<span style=\"color:cyan\"> |-tuner/epochs: 10</span>"
      ],
      "text/plain": [
       "<IPython.core.display.HTML object>"
      ]
     },
     "metadata": {},
     "output_type": "display_data"
    },
    {
     "data": {
      "text/html": [
       "<span style=\"color:blue\"> |-tuner/initial_epoch: 0</span>"
      ],
      "text/plain": [
       "<IPython.core.display.HTML object>"
      ]
     },
     "metadata": {},
     "output_type": "display_data"
    },
    {
     "data": {
      "text/html": [
       "<span style=\"color:cyan\"> |-tuner/round: 0</span>"
      ],
      "text/plain": [
       "<IPython.core.display.HTML object>"
      ]
     },
     "metadata": {},
     "output_type": "display_data"
    },
    {
     "data": {
      "text/html": [
       "<span style=\"color:blue\"> |-units1: 16</span>"
      ],
      "text/plain": [
       "<IPython.core.display.HTML object>"
      ]
     },
     "metadata": {},
     "output_type": "display_data"
    },
    {
     "data": {
      "text/html": [
       "<span style=\"color:cyan\"> |-units2: 16</span>"
      ],
      "text/plain": [
       "<IPython.core.display.HTML object>"
      ]
     },
     "metadata": {},
     "output_type": "display_data"
    },
    {
     "name": "stdout",
     "output_type": "stream",
     "text": [
      "INFO:tensorflow:Oracle triggered exit\n"
     ]
    }
   ],
   "source": [
    "tf.keras.backend.clear_session()\n",
    "tuner = kt.Hyperband(model_builder,\n",
    "                     kt.Objective(\"val_precision\", direction=\"max\"),\n",
    "                     max_epochs = 10,\n",
    "                     factor = 3,\n",
    "                     directory = 'dnn_model_training',\n",
    "                     project_name = '2_layers_wo_sensor',\n",
    "                     overwrite = True)   \n",
    "\n",
    "# tuner = kt.RandomSearch(\n",
    "#     model_builder,\n",
    "#     objective='val_accuracy',\n",
    "#     max_trials=20,\n",
    "#     executions_per_trial=3,\n",
    "#     directory='dnn_model_training',\n",
    "#     project_name='2_layers',\n",
    "#     overwrite = True) \n",
    "\n",
    "tuner.search(X_train_wo_sensor_resample.drop('label',axis=1).values,y_train_wo_sensor_resample.values, epochs = 20, validation_split=0.2,\n",
    "             callbacks = [ClearTrainingOutput()])"
   ]
  },
  {
   "cell_type": "code",
   "execution_count": 25,
   "metadata": {},
   "outputs": [
    {
     "name": "stdout",
     "output_type": "stream",
     "text": [
      "\n",
      "The hyperparameter search is complete. \n",
      "\n",
      "The optimal number of units in the first densely-connected layer is 48 \n",
      "\n",
      "The optimal number of units in the second densely-connected layer is 16 \n",
      "\n",
      "The optimal learning rate for the optimizer\n",
      "is 0.0001.\n",
      "\n"
     ]
    }
   ],
   "source": [
    "# Get the optimal hyperparameters\n",
    "best_hps = tuner.get_best_hyperparameters(num_trials = 1)[0]\n",
    "print(f\"\"\"\n",
    "The hyperparameter search is complete. \\n\n",
    "The optimal number of units in the first densely-connected layer is {best_hps.get('units1')} \\n\n",
    "The optimal number of units in the second densely-connected layer is {best_hps.get('units2')} \\n\n",
    "The optimal learning rate for the optimizer\n",
    "is {best_hps.get('learning_rate')}.\n",
    "\"\"\")"
   ]
  },
  {
   "cell_type": "markdown",
   "metadata": {},
   "source": [
    "### bayesian optimizer"
   ]
  },
  {
   "cell_type": "code",
   "execution_count": 43,
   "metadata": {},
   "outputs": [],
   "source": [
    "seed = 112 # Random seed\n",
    "def dnn_with_sensor(dropout1,dropout2,neural1,neural2,learning_rate):\n",
    "    from sklearn.metrics import roc_auc_score,f1_score\n",
    "    import numpy as np\n",
    "    tf.keras.backend.clear_session()\n",
    "    model = keras.Sequential()\n",
    "    model.add(keras.layers.Dense(units = neural1, activation = 'relu'))\n",
    "    model.add(keras.layers.Dropout(dropout1))\n",
    "    model.add(keras.layers.Dense(units = neural2, activation = 'relu'))\n",
    "    model.add(keras.layers.Dropout(dropout2))\n",
    "    model.add(keras.layers.Dense(1,activation='sigmoid'))\n",
    "    \n",
    "    model.compile(optimizer = keras.optimizers.Adam(learning_rate = learning_rate),\n",
    "                loss = keras.losses.BinaryCrossentropy(from_logits = True), \n",
    "                metrics = ['accuracy'])\n",
    "    \n",
    "    model.fit(X_train_resample.drop('label',axis=1).values, y_train_resample.values, epochs = 20, verbose=False)\n",
    "    y_pred=model.predict(X_test.drop('label',axis=1).values)\n",
    "    val1_roc = f1_score(y_test,np.round(y_pred))\n",
    "    return val1_roc"
   ]
  },
  {
   "cell_type": "code",
   "execution_count": 41,
   "metadata": {},
   "outputs": [],
   "source": [
    "seed = 112 # Random seed\n",
    "def dnn_wo_sensor(dropout1,dropout2,neural1,neural2,learning_rate):\n",
    "    from sklearn.metrics import roc_auc_score,f1_score\n",
    "    import numpy as np\n",
    "    tf.keras.backend.clear_session()\n",
    "    model = keras.Sequential()\n",
    "    model.add(keras.layers.Dense(units = neural1, activation = 'relu'))\n",
    "    model.add(keras.layers.Dropout(dropout1))\n",
    "    model.add(keras.layers.Dense(units = neural2, activation = 'relu'))\n",
    "    model.add(keras.layers.Dropout(dropout2))\n",
    "    model.add(keras.layers.Dense(1,activation='sigmoid'))\n",
    "    \n",
    "    model.compile(optimizer = keras.optimizers.Adam(learning_rate = learning_rate),\n",
    "                loss = keras.losses.BinaryCrossentropy(from_logits = True), \n",
    "                metrics = ['accuracy'])\n",
    "    \n",
    "    model.fit(X_train_wo_sensor_resample.drop('label',axis=1).values,\n",
    "              y_train_wo_sensor_resample.values, epochs = 20, verbose=False)\n",
    "    \n",
    "    y_pred=model.predict(X_test_wo_sensor.drop('label',axis=1).values)\n",
    "    val1_roc = f1_score(y_test,np.round(y_pred))\n",
    "    return val1_roc"
   ]
  },
  {
   "cell_type": "code",
   "execution_count": 44,
   "metadata": {
    "collapsed": true,
    "jupyter": {
     "outputs_hidden": true
    }
   },
   "outputs": [
    {
     "name": "stdout",
     "output_type": "stream",
     "text": [
      "|   iter    |  target   | dropout1  | dropout2  | learni... |  neural1  |  neural2  |\n",
      "-------------------------------------------------------------------------------------\n",
      "|  1        |  0.8401   |  0.4375   |  0.464    |  0.001    |  19.63    |  53.29    |\n",
      "|  2        |  0.8495   |  0.4833   |  0.4055   |  0.001    |  58.5     |  50.67    |\n",
      "|  3        |  0.8446   |  0.4003   |  0.4981   |  0.001    |  20.55    |  34.94    |\n",
      "|  4        |  0.851    |  0.4398   |  0.4193   |  0.001    |  63.81    |  43.56    |\n",
      "|  5        |  0.8503   |  0.4182   |  0.4108   |  0.001    |  63.74    |  42.14    |\n",
      "|  6        |  0.8482   |  0.4262   |  0.4153   |  0.001    |  44.33    |  16.03    |\n",
      "|  7        |  0.8492   |  0.422    |  0.4359   |  0.001    |  63.48    |  63.99    |\n",
      "|  8        |  0.8509   |  0.4061   |  0.4093   |  0.001    |  63.41    |  16.1     |\n",
      "|  9        |  0.8393   |  0.4895   |  0.4201   |  0.001    |  16.7     |  16.02    |\n",
      "|  10       |  0.8452   |  0.4835   |  0.4935   |  0.001    |  45.1     |  33.96    |\n",
      "|  11       |  0.8429   |  0.4754   |  0.4425   |  0.001    |  45.25    |  63.97    |\n",
      "|  12       |  0.8538   |  0.4335   |  0.4808   |  0.001    |  56.61    |  22.74    |\n",
      "|  13       |  0.8482   |  0.4826   |  0.4305   |  0.001    |  63.98    |  26.88    |\n",
      "|  14       |  0.8499   |  0.4714   |  0.4319   |  0.001    |  54.58    |  16.21    |\n",
      "|  15       |  0.844    |  0.4049   |  0.4226   |  0.001    |  51.3     |  24.93    |\n",
      "|  16       |  0.8557   |  0.4468   |  0.4793   |  0.001    |  60.42    |  20.78    |\n",
      "|  17       |  0.8509   |  0.4354   |  0.4551   |  0.001    |  47.94    |  47.3     |\n",
      "|  18       |  0.8399   |  0.4606   |  0.4205   |  0.001    |  38.26    |  46.73    |\n",
      "|  19       |  0.851    |  0.4833   |  0.484    |  0.001    |  54.24    |  42.73    |\n",
      "|  20       |  0.8447   |  0.4104   |  0.4656   |  0.001    |  33.59    |  16.66    |\n",
      "|  21       |  0.8556   |  0.4699   |  0.4916   |  0.001    |  63.89    |  55.06    |\n",
      "|  22       |  0.8454   |  0.4784   |  0.4799   |  0.001    |  59.2     |  57.98    |\n",
      "|  23       |  0.8657   |  0.4318   |  0.4413   |  0.001    |  63.97    |  51.08    |\n",
      "|  24       |  0.8468   |  0.4839   |  0.4788   |  0.001    |  63.75    |  48.91    |\n",
      "|  25       |  0.8501   |  0.4348   |  0.4564   |  0.001    |  63.75    |  51.37    |\n",
      "|  26       |  0.8558   |  0.4925   |  0.4503   |  0.001    |  63.45    |  63.98    |\n",
      "|  27       |  0.8419   |  0.467    |  0.4285   |  0.001    |  30.2     |  45.76    |\n",
      "|  28       |  0.8512   |  0.4104   |  0.4896   |  0.001    |  63.9     |  51.04    |\n",
      "|  29       |  0.8555   |  0.4991   |  0.4438   |  0.001    |  63.81    |  51.08    |\n",
      "|  30       |  0.8404   |  0.4178   |  0.4482   |  0.001    |  21.67    |  53.25    |\n",
      "|  31       |  0.8469   |  0.4967   |  0.4635   |  0.001    |  63.93    |  50.99    |\n",
      "|  32       |  0.8402   |  0.4878   |  0.4212   |  0.001    |  28.61    |  19.56    |\n",
      "|  33       |  0.8471   |  0.4099   |  0.4199   |  0.001    |  48.03    |  21.86    |\n",
      "|  34       |  0.8464   |  0.4852   |  0.4169   |  0.001    |  54.63    |  16.22    |\n",
      "|  35       |  0.8462   |  0.4267   |  0.4337   |  0.001    |  56.53    |  22.69    |\n",
      "|  36       |  0.8507   |  0.455    |  0.4406   |  0.001    |  57.02    |  18.72    |\n",
      "|  37       |  0.8522   |  0.4101   |  0.4255   |  0.001    |  63.72    |  51.45    |\n"
     ]
    },
    {
     "ename": "KeyboardInterrupt",
     "evalue": "",
     "output_type": "error",
     "traceback": [
      "\u001b[0;31m---------------------------------------------------------------------------\u001b[0m",
      "\u001b[0;31mKeyError\u001b[0m                                  Traceback (most recent call last)",
      "\u001b[0;32m~/opt/anaconda3/envs/tensorflow/lib/python3.7/site-packages/bayes_opt/target_space.py\u001b[0m in \u001b[0;36mprobe\u001b[0;34m(self, params)\u001b[0m\n\u001b[1;32m    190\u001b[0m         \u001b[0;32mtry\u001b[0m\u001b[0;34m:\u001b[0m\u001b[0;34m\u001b[0m\u001b[0;34m\u001b[0m\u001b[0m\n\u001b[0;32m--> 191\u001b[0;31m             \u001b[0mtarget\u001b[0m \u001b[0;34m=\u001b[0m \u001b[0mself\u001b[0m\u001b[0;34m.\u001b[0m\u001b[0m_cache\u001b[0m\u001b[0;34m[\u001b[0m\u001b[0m_hashable\u001b[0m\u001b[0;34m(\u001b[0m\u001b[0mx\u001b[0m\u001b[0;34m)\u001b[0m\u001b[0;34m]\u001b[0m\u001b[0;34m\u001b[0m\u001b[0;34m\u001b[0m\u001b[0m\n\u001b[0m\u001b[1;32m    192\u001b[0m         \u001b[0;32mexcept\u001b[0m \u001b[0mKeyError\u001b[0m\u001b[0;34m:\u001b[0m\u001b[0;34m\u001b[0m\u001b[0;34m\u001b[0m\u001b[0m\n",
      "\u001b[0;31mKeyError\u001b[0m: (0.40984593828907184, 0.4859035343756539, 0.001, 50.75041606687564, 17.22355654601165)",
      "\nDuring handling of the above exception, another exception occurred:\n",
      "\u001b[0;31mKeyboardInterrupt\u001b[0m                         Traceback (most recent call last)",
      "\u001b[0;32m<ipython-input-44-bdefcf59d8f8>\u001b[0m in \u001b[0;36m<module>\u001b[0;34m\u001b[0m\n\u001b[1;32m     21\u001b[0m                              verbose = 10)\n\u001b[1;32m     22\u001b[0m \u001b[0;34m\u001b[0m\u001b[0m\n\u001b[0;32m---> 23\u001b[0;31m \u001b[0mdnnBO\u001b[0m\u001b[0;34m.\u001b[0m\u001b[0mmaximize\u001b[0m\u001b[0;34m(\u001b[0m\u001b[0minit_points\u001b[0m\u001b[0;34m=\u001b[0m\u001b[0;36m3\u001b[0m\u001b[0;34m,\u001b[0m\u001b[0mn_iter\u001b[0m\u001b[0;34m=\u001b[0m\u001b[0;36m50\u001b[0m\u001b[0;34m,\u001b[0m\u001b[0macq\u001b[0m\u001b[0;34m=\u001b[0m\u001b[0;34m'ucb'\u001b[0m\u001b[0;34m,\u001b[0m \u001b[0mkappa\u001b[0m\u001b[0;34m=\u001b[0m \u001b[0;36m3\u001b[0m\u001b[0;34m,\u001b[0m \u001b[0;34m**\u001b[0m\u001b[0mgp_params\u001b[0m\u001b[0;34m)\u001b[0m\u001b[0;34m\u001b[0m\u001b[0;34m\u001b[0m\u001b[0m\n\u001b[0m",
      "\u001b[0;32m~/opt/anaconda3/envs/tensorflow/lib/python3.7/site-packages/bayes_opt/bayesian_optimization.py\u001b[0m in \u001b[0;36mmaximize\u001b[0;34m(self, init_points, n_iter, acq, kappa, xi, **gp_params)\u001b[0m\n\u001b[1;32m    172\u001b[0m                 \u001b[0miteration\u001b[0m \u001b[0;34m+=\u001b[0m \u001b[0;36m1\u001b[0m\u001b[0;34m\u001b[0m\u001b[0;34m\u001b[0m\u001b[0m\n\u001b[1;32m    173\u001b[0m \u001b[0;34m\u001b[0m\u001b[0m\n\u001b[0;32m--> 174\u001b[0;31m             \u001b[0mself\u001b[0m\u001b[0;34m.\u001b[0m\u001b[0mprobe\u001b[0m\u001b[0;34m(\u001b[0m\u001b[0mx_probe\u001b[0m\u001b[0;34m,\u001b[0m \u001b[0mlazy\u001b[0m\u001b[0;34m=\u001b[0m\u001b[0;32mFalse\u001b[0m\u001b[0;34m)\u001b[0m\u001b[0;34m\u001b[0m\u001b[0;34m\u001b[0m\u001b[0m\n\u001b[0m\u001b[1;32m    175\u001b[0m \u001b[0;34m\u001b[0m\u001b[0m\n\u001b[1;32m    176\u001b[0m         \u001b[0mself\u001b[0m\u001b[0;34m.\u001b[0m\u001b[0mdispatch\u001b[0m\u001b[0;34m(\u001b[0m\u001b[0mEvents\u001b[0m\u001b[0;34m.\u001b[0m\u001b[0mOPTIMIZATION_END\u001b[0m\u001b[0;34m)\u001b[0m\u001b[0;34m\u001b[0m\u001b[0;34m\u001b[0m\u001b[0m\n",
      "\u001b[0;32m~/opt/anaconda3/envs/tensorflow/lib/python3.7/site-packages/bayes_opt/bayesian_optimization.py\u001b[0m in \u001b[0;36mprobe\u001b[0;34m(self, params, lazy)\u001b[0m\n\u001b[1;32m    110\u001b[0m             \u001b[0mself\u001b[0m\u001b[0;34m.\u001b[0m\u001b[0m_queue\u001b[0m\u001b[0;34m.\u001b[0m\u001b[0madd\u001b[0m\u001b[0;34m(\u001b[0m\u001b[0mparams\u001b[0m\u001b[0;34m)\u001b[0m\u001b[0;34m\u001b[0m\u001b[0;34m\u001b[0m\u001b[0m\n\u001b[1;32m    111\u001b[0m         \u001b[0;32melse\u001b[0m\u001b[0;34m:\u001b[0m\u001b[0;34m\u001b[0m\u001b[0;34m\u001b[0m\u001b[0m\n\u001b[0;32m--> 112\u001b[0;31m             \u001b[0mself\u001b[0m\u001b[0;34m.\u001b[0m\u001b[0m_space\u001b[0m\u001b[0;34m.\u001b[0m\u001b[0mprobe\u001b[0m\u001b[0;34m(\u001b[0m\u001b[0mparams\u001b[0m\u001b[0;34m)\u001b[0m\u001b[0;34m\u001b[0m\u001b[0;34m\u001b[0m\u001b[0m\n\u001b[0m\u001b[1;32m    113\u001b[0m             \u001b[0mself\u001b[0m\u001b[0;34m.\u001b[0m\u001b[0mdispatch\u001b[0m\u001b[0;34m(\u001b[0m\u001b[0mEvents\u001b[0m\u001b[0;34m.\u001b[0m\u001b[0mOPTIMIZATION_STEP\u001b[0m\u001b[0;34m)\u001b[0m\u001b[0;34m\u001b[0m\u001b[0;34m\u001b[0m\u001b[0m\n\u001b[1;32m    114\u001b[0m \u001b[0;34m\u001b[0m\u001b[0m\n",
      "\u001b[0;32m~/opt/anaconda3/envs/tensorflow/lib/python3.7/site-packages/bayes_opt/target_space.py\u001b[0m in \u001b[0;36mprobe\u001b[0;34m(self, params)\u001b[0m\n\u001b[1;32m    192\u001b[0m         \u001b[0;32mexcept\u001b[0m \u001b[0mKeyError\u001b[0m\u001b[0;34m:\u001b[0m\u001b[0;34m\u001b[0m\u001b[0;34m\u001b[0m\u001b[0m\n\u001b[1;32m    193\u001b[0m             \u001b[0mparams\u001b[0m \u001b[0;34m=\u001b[0m \u001b[0mdict\u001b[0m\u001b[0;34m(\u001b[0m\u001b[0mzip\u001b[0m\u001b[0;34m(\u001b[0m\u001b[0mself\u001b[0m\u001b[0;34m.\u001b[0m\u001b[0m_keys\u001b[0m\u001b[0;34m,\u001b[0m \u001b[0mx\u001b[0m\u001b[0;34m)\u001b[0m\u001b[0;34m)\u001b[0m\u001b[0;34m\u001b[0m\u001b[0;34m\u001b[0m\u001b[0m\n\u001b[0;32m--> 194\u001b[0;31m             \u001b[0mtarget\u001b[0m \u001b[0;34m=\u001b[0m \u001b[0mself\u001b[0m\u001b[0;34m.\u001b[0m\u001b[0mtarget_func\u001b[0m\u001b[0;34m(\u001b[0m\u001b[0;34m**\u001b[0m\u001b[0mparams\u001b[0m\u001b[0;34m)\u001b[0m\u001b[0;34m\u001b[0m\u001b[0;34m\u001b[0m\u001b[0m\n\u001b[0m\u001b[1;32m    195\u001b[0m             \u001b[0mself\u001b[0m\u001b[0;34m.\u001b[0m\u001b[0mregister\u001b[0m\u001b[0;34m(\u001b[0m\u001b[0mx\u001b[0m\u001b[0;34m,\u001b[0m \u001b[0mtarget\u001b[0m\u001b[0;34m)\u001b[0m\u001b[0;34m\u001b[0m\u001b[0;34m\u001b[0m\u001b[0m\n\u001b[1;32m    196\u001b[0m         \u001b[0;32mreturn\u001b[0m \u001b[0mtarget\u001b[0m\u001b[0;34m\u001b[0m\u001b[0;34m\u001b[0m\u001b[0m\n",
      "\u001b[0;32m<ipython-input-43-1710cbc7afd6>\u001b[0m in \u001b[0;36mdnn_with_sensor\u001b[0;34m(dropout1, dropout2, neural1, neural2, learning_rate)\u001b[0m\n\u001b[1;32m     15\u001b[0m                 metrics = ['accuracy'])\n\u001b[1;32m     16\u001b[0m \u001b[0;34m\u001b[0m\u001b[0m\n\u001b[0;32m---> 17\u001b[0;31m     \u001b[0mmodel\u001b[0m\u001b[0;34m.\u001b[0m\u001b[0mfit\u001b[0m\u001b[0;34m(\u001b[0m\u001b[0mX_train_resample\u001b[0m\u001b[0;34m.\u001b[0m\u001b[0mdrop\u001b[0m\u001b[0;34m(\u001b[0m\u001b[0;34m'label'\u001b[0m\u001b[0;34m,\u001b[0m\u001b[0maxis\u001b[0m\u001b[0;34m=\u001b[0m\u001b[0;36m1\u001b[0m\u001b[0;34m)\u001b[0m\u001b[0;34m.\u001b[0m\u001b[0mvalues\u001b[0m\u001b[0;34m,\u001b[0m \u001b[0my_train_resample\u001b[0m\u001b[0;34m.\u001b[0m\u001b[0mvalues\u001b[0m\u001b[0;34m,\u001b[0m \u001b[0mepochs\u001b[0m \u001b[0;34m=\u001b[0m \u001b[0;36m20\u001b[0m\u001b[0;34m,\u001b[0m \u001b[0mverbose\u001b[0m\u001b[0;34m=\u001b[0m\u001b[0;32mFalse\u001b[0m\u001b[0;34m)\u001b[0m\u001b[0;34m\u001b[0m\u001b[0;34m\u001b[0m\u001b[0m\n\u001b[0m\u001b[1;32m     18\u001b[0m     \u001b[0my_pred\u001b[0m\u001b[0;34m=\u001b[0m\u001b[0mmodel\u001b[0m\u001b[0;34m.\u001b[0m\u001b[0mpredict\u001b[0m\u001b[0;34m(\u001b[0m\u001b[0mX_test\u001b[0m\u001b[0;34m.\u001b[0m\u001b[0mdrop\u001b[0m\u001b[0;34m(\u001b[0m\u001b[0;34m'label'\u001b[0m\u001b[0;34m,\u001b[0m\u001b[0maxis\u001b[0m\u001b[0;34m=\u001b[0m\u001b[0;36m1\u001b[0m\u001b[0;34m)\u001b[0m\u001b[0;34m.\u001b[0m\u001b[0mvalues\u001b[0m\u001b[0;34m)\u001b[0m\u001b[0;34m\u001b[0m\u001b[0;34m\u001b[0m\u001b[0m\n\u001b[1;32m     19\u001b[0m     \u001b[0mval1_roc\u001b[0m \u001b[0;34m=\u001b[0m \u001b[0mf1_score\u001b[0m\u001b[0;34m(\u001b[0m\u001b[0my_test\u001b[0m\u001b[0;34m,\u001b[0m\u001b[0mnp\u001b[0m\u001b[0;34m.\u001b[0m\u001b[0mround\u001b[0m\u001b[0;34m(\u001b[0m\u001b[0my_pred\u001b[0m\u001b[0;34m)\u001b[0m\u001b[0;34m)\u001b[0m\u001b[0;34m\u001b[0m\u001b[0;34m\u001b[0m\u001b[0m\n",
      "\u001b[0;32m~/opt/anaconda3/envs/tensorflow/lib/python3.7/site-packages/tensorflow_core/python/keras/engine/training.py\u001b[0m in \u001b[0;36mfit\u001b[0;34m(self, x, y, batch_size, epochs, verbose, callbacks, validation_split, validation_data, shuffle, class_weight, sample_weight, initial_epoch, steps_per_epoch, validation_steps, validation_freq, max_queue_size, workers, use_multiprocessing, **kwargs)\u001b[0m\n\u001b[1;32m    726\u001b[0m         \u001b[0mmax_queue_size\u001b[0m\u001b[0;34m=\u001b[0m\u001b[0mmax_queue_size\u001b[0m\u001b[0;34m,\u001b[0m\u001b[0;34m\u001b[0m\u001b[0;34m\u001b[0m\u001b[0m\n\u001b[1;32m    727\u001b[0m         \u001b[0mworkers\u001b[0m\u001b[0;34m=\u001b[0m\u001b[0mworkers\u001b[0m\u001b[0;34m,\u001b[0m\u001b[0;34m\u001b[0m\u001b[0;34m\u001b[0m\u001b[0m\n\u001b[0;32m--> 728\u001b[0;31m         use_multiprocessing=use_multiprocessing)\n\u001b[0m\u001b[1;32m    729\u001b[0m \u001b[0;34m\u001b[0m\u001b[0m\n\u001b[1;32m    730\u001b[0m   def evaluate(self,\n",
      "\u001b[0;32m~/opt/anaconda3/envs/tensorflow/lib/python3.7/site-packages/tensorflow_core/python/keras/engine/training_v2.py\u001b[0m in \u001b[0;36mfit\u001b[0;34m(self, model, x, y, batch_size, epochs, verbose, callbacks, validation_split, validation_data, shuffle, class_weight, sample_weight, initial_epoch, steps_per_epoch, validation_steps, validation_freq, **kwargs)\u001b[0m\n\u001b[1;32m    322\u001b[0m                 \u001b[0mmode\u001b[0m\u001b[0;34m=\u001b[0m\u001b[0mModeKeys\u001b[0m\u001b[0;34m.\u001b[0m\u001b[0mTRAIN\u001b[0m\u001b[0;34m,\u001b[0m\u001b[0;34m\u001b[0m\u001b[0;34m\u001b[0m\u001b[0m\n\u001b[1;32m    323\u001b[0m                 \u001b[0mtraining_context\u001b[0m\u001b[0;34m=\u001b[0m\u001b[0mtraining_context\u001b[0m\u001b[0;34m,\u001b[0m\u001b[0;34m\u001b[0m\u001b[0;34m\u001b[0m\u001b[0m\n\u001b[0;32m--> 324\u001b[0;31m                 total_epochs=epochs)\n\u001b[0m\u001b[1;32m    325\u001b[0m             \u001b[0mcbks\u001b[0m\u001b[0;34m.\u001b[0m\u001b[0mmake_logs\u001b[0m\u001b[0;34m(\u001b[0m\u001b[0mmodel\u001b[0m\u001b[0;34m,\u001b[0m \u001b[0mepoch_logs\u001b[0m\u001b[0;34m,\u001b[0m \u001b[0mtraining_result\u001b[0m\u001b[0;34m,\u001b[0m \u001b[0mModeKeys\u001b[0m\u001b[0;34m.\u001b[0m\u001b[0mTRAIN\u001b[0m\u001b[0;34m)\u001b[0m\u001b[0;34m\u001b[0m\u001b[0;34m\u001b[0m\u001b[0m\n\u001b[1;32m    326\u001b[0m \u001b[0;34m\u001b[0m\u001b[0m\n",
      "\u001b[0;32m~/opt/anaconda3/envs/tensorflow/lib/python3.7/site-packages/tensorflow_core/python/keras/engine/training_v2.py\u001b[0m in \u001b[0;36mrun_one_epoch\u001b[0;34m(model, iterator, execution_function, dataset_size, batch_size, strategy, steps_per_epoch, num_samples, mode, training_context, total_epochs)\u001b[0m\n\u001b[1;32m    121\u001b[0m         step=step, mode=mode, size=current_batch_size) as batch_logs:\n\u001b[1;32m    122\u001b[0m       \u001b[0;32mtry\u001b[0m\u001b[0;34m:\u001b[0m\u001b[0;34m\u001b[0m\u001b[0;34m\u001b[0m\u001b[0m\n\u001b[0;32m--> 123\u001b[0;31m         \u001b[0mbatch_outs\u001b[0m \u001b[0;34m=\u001b[0m \u001b[0mexecution_function\u001b[0m\u001b[0;34m(\u001b[0m\u001b[0miterator\u001b[0m\u001b[0;34m)\u001b[0m\u001b[0;34m\u001b[0m\u001b[0;34m\u001b[0m\u001b[0m\n\u001b[0m\u001b[1;32m    124\u001b[0m       \u001b[0;32mexcept\u001b[0m \u001b[0;34m(\u001b[0m\u001b[0mStopIteration\u001b[0m\u001b[0;34m,\u001b[0m \u001b[0merrors\u001b[0m\u001b[0;34m.\u001b[0m\u001b[0mOutOfRangeError\u001b[0m\u001b[0;34m)\u001b[0m\u001b[0;34m:\u001b[0m\u001b[0;34m\u001b[0m\u001b[0;34m\u001b[0m\u001b[0m\n\u001b[1;32m    125\u001b[0m         \u001b[0;31m# TODO(kaftan): File bug about tf function and errors.OutOfRangeError?\u001b[0m\u001b[0;34m\u001b[0m\u001b[0;34m\u001b[0m\u001b[0;34m\u001b[0m\u001b[0m\n",
      "\u001b[0;32m~/opt/anaconda3/envs/tensorflow/lib/python3.7/site-packages/tensorflow_core/python/keras/engine/training_v2_utils.py\u001b[0m in \u001b[0;36mexecution_function\u001b[0;34m(input_fn)\u001b[0m\n\u001b[1;32m     84\u001b[0m     \u001b[0;31m# `numpy` translates Tensors to values in Eager mode.\u001b[0m\u001b[0;34m\u001b[0m\u001b[0;34m\u001b[0m\u001b[0;34m\u001b[0m\u001b[0m\n\u001b[1;32m     85\u001b[0m     return nest.map_structure(_non_none_constant_value,\n\u001b[0;32m---> 86\u001b[0;31m                               distributed_function(input_fn))\n\u001b[0m\u001b[1;32m     87\u001b[0m \u001b[0;34m\u001b[0m\u001b[0m\n\u001b[1;32m     88\u001b[0m   \u001b[0;32mreturn\u001b[0m \u001b[0mexecution_function\u001b[0m\u001b[0;34m\u001b[0m\u001b[0;34m\u001b[0m\u001b[0m\n",
      "\u001b[0;32m~/opt/anaconda3/envs/tensorflow/lib/python3.7/site-packages/tensorflow_core/python/eager/def_function.py\u001b[0m in \u001b[0;36m__call__\u001b[0;34m(self, *args, **kwds)\u001b[0m\n\u001b[1;32m    455\u001b[0m \u001b[0;34m\u001b[0m\u001b[0m\n\u001b[1;32m    456\u001b[0m     \u001b[0mtracing_count\u001b[0m \u001b[0;34m=\u001b[0m \u001b[0mself\u001b[0m\u001b[0;34m.\u001b[0m\u001b[0m_get_tracing_count\u001b[0m\u001b[0;34m(\u001b[0m\u001b[0;34m)\u001b[0m\u001b[0;34m\u001b[0m\u001b[0;34m\u001b[0m\u001b[0m\n\u001b[0;32m--> 457\u001b[0;31m     \u001b[0mresult\u001b[0m \u001b[0;34m=\u001b[0m \u001b[0mself\u001b[0m\u001b[0;34m.\u001b[0m\u001b[0m_call\u001b[0m\u001b[0;34m(\u001b[0m\u001b[0;34m*\u001b[0m\u001b[0margs\u001b[0m\u001b[0;34m,\u001b[0m \u001b[0;34m**\u001b[0m\u001b[0mkwds\u001b[0m\u001b[0;34m)\u001b[0m\u001b[0;34m\u001b[0m\u001b[0;34m\u001b[0m\u001b[0m\n\u001b[0m\u001b[1;32m    458\u001b[0m     \u001b[0;32mif\u001b[0m \u001b[0mtracing_count\u001b[0m \u001b[0;34m==\u001b[0m \u001b[0mself\u001b[0m\u001b[0;34m.\u001b[0m\u001b[0m_get_tracing_count\u001b[0m\u001b[0;34m(\u001b[0m\u001b[0;34m)\u001b[0m\u001b[0;34m:\u001b[0m\u001b[0;34m\u001b[0m\u001b[0;34m\u001b[0m\u001b[0m\n\u001b[1;32m    459\u001b[0m       \u001b[0mself\u001b[0m\u001b[0;34m.\u001b[0m\u001b[0m_call_counter\u001b[0m\u001b[0;34m.\u001b[0m\u001b[0mcalled_without_tracing\u001b[0m\u001b[0;34m(\u001b[0m\u001b[0;34m)\u001b[0m\u001b[0;34m\u001b[0m\u001b[0;34m\u001b[0m\u001b[0m\n",
      "\u001b[0;32m~/opt/anaconda3/envs/tensorflow/lib/python3.7/site-packages/tensorflow_core/python/eager/def_function.py\u001b[0m in \u001b[0;36m_call\u001b[0;34m(self, *args, **kwds)\u001b[0m\n\u001b[1;32m    485\u001b[0m       \u001b[0;31m# In this case we have created variables on the first call, so we run the\u001b[0m\u001b[0;34m\u001b[0m\u001b[0;34m\u001b[0m\u001b[0;34m\u001b[0m\u001b[0m\n\u001b[1;32m    486\u001b[0m       \u001b[0;31m# defunned version which is guaranteed to never create variables.\u001b[0m\u001b[0;34m\u001b[0m\u001b[0;34m\u001b[0m\u001b[0;34m\u001b[0m\u001b[0m\n\u001b[0;32m--> 487\u001b[0;31m       \u001b[0;32mreturn\u001b[0m \u001b[0mself\u001b[0m\u001b[0;34m.\u001b[0m\u001b[0m_stateless_fn\u001b[0m\u001b[0;34m(\u001b[0m\u001b[0;34m*\u001b[0m\u001b[0margs\u001b[0m\u001b[0;34m,\u001b[0m \u001b[0;34m**\u001b[0m\u001b[0mkwds\u001b[0m\u001b[0;34m)\u001b[0m  \u001b[0;31m# pylint: disable=not-callable\u001b[0m\u001b[0;34m\u001b[0m\u001b[0;34m\u001b[0m\u001b[0m\n\u001b[0m\u001b[1;32m    488\u001b[0m     \u001b[0;32melif\u001b[0m \u001b[0mself\u001b[0m\u001b[0;34m.\u001b[0m\u001b[0m_stateful_fn\u001b[0m \u001b[0;32mis\u001b[0m \u001b[0;32mnot\u001b[0m \u001b[0;32mNone\u001b[0m\u001b[0;34m:\u001b[0m\u001b[0;34m\u001b[0m\u001b[0;34m\u001b[0m\u001b[0m\n\u001b[1;32m    489\u001b[0m       \u001b[0;31m# Release the lock early so that multiple threads can perform the call\u001b[0m\u001b[0;34m\u001b[0m\u001b[0;34m\u001b[0m\u001b[0;34m\u001b[0m\u001b[0m\n",
      "\u001b[0;32m~/opt/anaconda3/envs/tensorflow/lib/python3.7/site-packages/tensorflow_core/python/eager/function.py\u001b[0m in \u001b[0;36m__call__\u001b[0;34m(self, *args, **kwargs)\u001b[0m\n\u001b[1;32m   1821\u001b[0m     \u001b[0;34m\"\"\"Calls a graph function specialized to the inputs.\"\"\"\u001b[0m\u001b[0;34m\u001b[0m\u001b[0;34m\u001b[0m\u001b[0m\n\u001b[1;32m   1822\u001b[0m     \u001b[0mgraph_function\u001b[0m\u001b[0;34m,\u001b[0m \u001b[0margs\u001b[0m\u001b[0;34m,\u001b[0m \u001b[0mkwargs\u001b[0m \u001b[0;34m=\u001b[0m \u001b[0mself\u001b[0m\u001b[0;34m.\u001b[0m\u001b[0m_maybe_define_function\u001b[0m\u001b[0;34m(\u001b[0m\u001b[0margs\u001b[0m\u001b[0;34m,\u001b[0m \u001b[0mkwargs\u001b[0m\u001b[0;34m)\u001b[0m\u001b[0;34m\u001b[0m\u001b[0;34m\u001b[0m\u001b[0m\n\u001b[0;32m-> 1823\u001b[0;31m     \u001b[0;32mreturn\u001b[0m \u001b[0mgraph_function\u001b[0m\u001b[0;34m.\u001b[0m\u001b[0m_filtered_call\u001b[0m\u001b[0;34m(\u001b[0m\u001b[0margs\u001b[0m\u001b[0;34m,\u001b[0m \u001b[0mkwargs\u001b[0m\u001b[0;34m)\u001b[0m  \u001b[0;31m# pylint: disable=protected-access\u001b[0m\u001b[0;34m\u001b[0m\u001b[0;34m\u001b[0m\u001b[0m\n\u001b[0m\u001b[1;32m   1824\u001b[0m \u001b[0;34m\u001b[0m\u001b[0m\n\u001b[1;32m   1825\u001b[0m   \u001b[0;34m@\u001b[0m\u001b[0mproperty\u001b[0m\u001b[0;34m\u001b[0m\u001b[0;34m\u001b[0m\u001b[0m\n",
      "\u001b[0;32m~/opt/anaconda3/envs/tensorflow/lib/python3.7/site-packages/tensorflow_core/python/eager/function.py\u001b[0m in \u001b[0;36m_filtered_call\u001b[0;34m(self, args, kwargs)\u001b[0m\n\u001b[1;32m   1139\u001b[0m          if isinstance(t, (ops.Tensor,\n\u001b[1;32m   1140\u001b[0m                            resource_variable_ops.BaseResourceVariable))),\n\u001b[0;32m-> 1141\u001b[0;31m         self.captured_inputs)\n\u001b[0m\u001b[1;32m   1142\u001b[0m \u001b[0;34m\u001b[0m\u001b[0m\n\u001b[1;32m   1143\u001b[0m   \u001b[0;32mdef\u001b[0m \u001b[0m_call_flat\u001b[0m\u001b[0;34m(\u001b[0m\u001b[0mself\u001b[0m\u001b[0;34m,\u001b[0m \u001b[0margs\u001b[0m\u001b[0;34m,\u001b[0m \u001b[0mcaptured_inputs\u001b[0m\u001b[0;34m,\u001b[0m \u001b[0mcancellation_manager\u001b[0m\u001b[0;34m=\u001b[0m\u001b[0;32mNone\u001b[0m\u001b[0;34m)\u001b[0m\u001b[0;34m:\u001b[0m\u001b[0;34m\u001b[0m\u001b[0;34m\u001b[0m\u001b[0m\n",
      "\u001b[0;32m~/opt/anaconda3/envs/tensorflow/lib/python3.7/site-packages/tensorflow_core/python/eager/function.py\u001b[0m in \u001b[0;36m_call_flat\u001b[0;34m(self, args, captured_inputs, cancellation_manager)\u001b[0m\n\u001b[1;32m   1222\u001b[0m     \u001b[0;32mif\u001b[0m \u001b[0mexecuting_eagerly\u001b[0m\u001b[0;34m:\u001b[0m\u001b[0;34m\u001b[0m\u001b[0;34m\u001b[0m\u001b[0m\n\u001b[1;32m   1223\u001b[0m       flat_outputs = forward_function.call(\n\u001b[0;32m-> 1224\u001b[0;31m           ctx, args, cancellation_manager=cancellation_manager)\n\u001b[0m\u001b[1;32m   1225\u001b[0m     \u001b[0;32melse\u001b[0m\u001b[0;34m:\u001b[0m\u001b[0;34m\u001b[0m\u001b[0;34m\u001b[0m\u001b[0m\n\u001b[1;32m   1226\u001b[0m       \u001b[0mgradient_name\u001b[0m \u001b[0;34m=\u001b[0m \u001b[0mself\u001b[0m\u001b[0;34m.\u001b[0m\u001b[0m_delayed_rewrite_functions\u001b[0m\u001b[0;34m.\u001b[0m\u001b[0mregister\u001b[0m\u001b[0;34m(\u001b[0m\u001b[0;34m)\u001b[0m\u001b[0;34m\u001b[0m\u001b[0;34m\u001b[0m\u001b[0m\n",
      "\u001b[0;32m~/opt/anaconda3/envs/tensorflow/lib/python3.7/site-packages/tensorflow_core/python/eager/function.py\u001b[0m in \u001b[0;36mcall\u001b[0;34m(self, ctx, args, cancellation_manager)\u001b[0m\n\u001b[1;32m    509\u001b[0m               \u001b[0minputs\u001b[0m\u001b[0;34m=\u001b[0m\u001b[0margs\u001b[0m\u001b[0;34m,\u001b[0m\u001b[0;34m\u001b[0m\u001b[0;34m\u001b[0m\u001b[0m\n\u001b[1;32m    510\u001b[0m               \u001b[0mattrs\u001b[0m\u001b[0;34m=\u001b[0m\u001b[0;34m(\u001b[0m\u001b[0;34m\"executor_type\"\u001b[0m\u001b[0;34m,\u001b[0m \u001b[0mexecutor_type\u001b[0m\u001b[0;34m,\u001b[0m \u001b[0;34m\"config_proto\"\u001b[0m\u001b[0;34m,\u001b[0m \u001b[0mconfig\u001b[0m\u001b[0;34m)\u001b[0m\u001b[0;34m,\u001b[0m\u001b[0;34m\u001b[0m\u001b[0;34m\u001b[0m\u001b[0m\n\u001b[0;32m--> 511\u001b[0;31m               ctx=ctx)\n\u001b[0m\u001b[1;32m    512\u001b[0m         \u001b[0;32melse\u001b[0m\u001b[0;34m:\u001b[0m\u001b[0;34m\u001b[0m\u001b[0;34m\u001b[0m\u001b[0m\n\u001b[1;32m    513\u001b[0m           outputs = execute.execute_with_cancellation(\n",
      "\u001b[0;32m~/opt/anaconda3/envs/tensorflow/lib/python3.7/site-packages/tensorflow_core/python/eager/execute.py\u001b[0m in \u001b[0;36mquick_execute\u001b[0;34m(op_name, num_outputs, inputs, attrs, ctx, name)\u001b[0m\n\u001b[1;32m     59\u001b[0m     tensors = pywrap_tensorflow.TFE_Py_Execute(ctx._handle, device_name,\n\u001b[1;32m     60\u001b[0m                                                \u001b[0mop_name\u001b[0m\u001b[0;34m,\u001b[0m \u001b[0minputs\u001b[0m\u001b[0;34m,\u001b[0m \u001b[0mattrs\u001b[0m\u001b[0;34m,\u001b[0m\u001b[0;34m\u001b[0m\u001b[0;34m\u001b[0m\u001b[0m\n\u001b[0;32m---> 61\u001b[0;31m                                                num_outputs)\n\u001b[0m\u001b[1;32m     62\u001b[0m   \u001b[0;32mexcept\u001b[0m \u001b[0mcore\u001b[0m\u001b[0;34m.\u001b[0m\u001b[0m_NotOkStatusException\u001b[0m \u001b[0;32mas\u001b[0m \u001b[0me\u001b[0m\u001b[0;34m:\u001b[0m\u001b[0;34m\u001b[0m\u001b[0;34m\u001b[0m\u001b[0m\n\u001b[1;32m     63\u001b[0m     \u001b[0;32mif\u001b[0m \u001b[0mname\u001b[0m \u001b[0;32mis\u001b[0m \u001b[0;32mnot\u001b[0m \u001b[0;32mNone\u001b[0m\u001b[0;34m:\u001b[0m\u001b[0;34m\u001b[0m\u001b[0;34m\u001b[0m\u001b[0m\n",
      "\u001b[0;31mKeyboardInterrupt\u001b[0m: "
     ]
    }
   ],
   "source": [
    "import warnings\n",
    "warnings.filterwarnings('ignore')\n",
    "\n",
    "from bayes_opt import BayesianOptimization\n",
    "\n",
    "gp_params = {\"alpha\": 1e-10}\n",
    "\n",
    "seed = 112 # Random seed\n",
    "\n",
    "hyperparameter_space = {\n",
    "    'dropout1': (0.4, 0.5),\n",
    "    'dropout2': (0.4, 0.5),\n",
    "    'neural1':(16,64),\n",
    "    'neural2':(16,64),\n",
    "    'learning_rate': (0.001,0.001),\n",
    "}\n",
    "\n",
    "dnnBO = BayesianOptimization(f = dnn_with_sensor, \n",
    "                             pbounds =  hyperparameter_space,\n",
    "                             random_state = seed,\n",
    "                             verbose = 10)\n",
    "\n",
    "dnnBO.maximize(init_points=3,n_iter=10,acq='ucb', kappa= 3, **gp_params)\n"
   ]
  },
  {
   "cell_type": "code",
   "execution_count": 32,
   "metadata": {},
   "outputs": [],
   "source": [
    "# X_train.shape[1]"
   ]
  },
  {
   "cell_type": "markdown",
   "metadata": {},
   "source": [
    "### model training"
   ]
  },
  {
   "cell_type": "code",
   "execution_count": 52,
   "metadata": {},
   "outputs": [
    {
     "name": "stdout",
     "output_type": "stream",
     "text": [
      "Model: \"sequential_1\"\n",
      "_________________________________________________________________\n",
      "Layer (type)                 Output Shape              Param #   \n",
      "=================================================================\n",
      "dense_1 (Dense)              (None, 48)                16992     \n",
      "_________________________________________________________________\n",
      "dropout_1 (Dropout)          (None, 48)                0         \n",
      "_________________________________________________________________\n",
      "dense_2 (Dense)              (None, 16)                784       \n",
      "_________________________________________________________________\n",
      "dropout_2 (Dropout)          (None, 16)                0         \n",
      "_________________________________________________________________\n",
      "dense_3 (Dense)              (None, 1)                 17        \n",
      "=================================================================\n",
      "Total params: 17,793\n",
      "Trainable params: 17,793\n",
      "Non-trainable params: 0\n",
      "_________________________________________________________________\n"
     ]
    }
   ],
   "source": [
    "tf.keras.backend.clear_session()\n",
    "model = keras.Sequential()\n",
    "model = Sequential()\n",
    "model.add(Dense(48, input_dim=X_train.shape[1]-1, activation='relu'))\n",
    "model.add(Dropout(0.4))\n",
    "model.add(Dense(16, activation='relu'))\n",
    "model.add(Dropout(0.4))\n",
    "# model.add(Dense(128, activation='relu'))\n",
    "model.add(Dense(1, activation='sigmoid'))\n",
    "\n",
    "# Compile model\n",
    "model.compile(loss='binary_crossentropy', optimizer=adam(lr=0.0001), metrics=['accuracy',tf.keras.metrics.AUC()])\n",
    "model.summary()"
   ]
  },
  {
   "cell_type": "code",
   "execution_count": 1,
   "metadata": {},
   "outputs": [
    {
     "ename": "NameError",
     "evalue": "name 'model' is not defined",
     "output_type": "error",
     "traceback": [
      "\u001b[0;31m---------------------------------------------------------------------------\u001b[0m",
      "\u001b[0;31mNameError\u001b[0m                                 Traceback (most recent call last)",
      "\u001b[0;32m<ipython-input-1-393a83134c20>\u001b[0m in \u001b[0;36m<module>\u001b[0;34m\u001b[0m\n\u001b[0;32m----> 1\u001b[0;31m history=model.fit(X_train_resample.drop('label',axis=1).values, y_train_resample.values,\n\u001b[0m\u001b[1;32m      2\u001b[0m                   \u001b[0mvalidation_data\u001b[0m\u001b[0;34m=\u001b[0m\u001b[0;34m(\u001b[0m\u001b[0mX_test\u001b[0m\u001b[0;34m.\u001b[0m\u001b[0mdrop\u001b[0m\u001b[0;34m(\u001b[0m\u001b[0;34m'label'\u001b[0m\u001b[0;34m,\u001b[0m\u001b[0maxis\u001b[0m\u001b[0;34m=\u001b[0m\u001b[0;36m1\u001b[0m\u001b[0;34m)\u001b[0m\u001b[0;34m.\u001b[0m\u001b[0mvalues\u001b[0m\u001b[0;34m,\u001b[0m \u001b[0my_test\u001b[0m\u001b[0;34m)\u001b[0m\u001b[0;34m,\u001b[0m\u001b[0mverbose\u001b[0m\u001b[0;34m=\u001b[0m\u001b[0;36m2\u001b[0m\u001b[0;34m,\u001b[0m\u001b[0;34m\u001b[0m\u001b[0;34m\u001b[0m\u001b[0m\n\u001b[1;32m      3\u001b[0m                   epochs=100,batch_size=32)\n\u001b[1;32m      4\u001b[0m \u001b[0;31m# history = model.fit(X_train, y_train, validation_split=0.2,epochs=50,batch_size=32, shuffle=True)\u001b[0m\u001b[0;34m\u001b[0m\u001b[0;34m\u001b[0m\u001b[0;34m\u001b[0m\u001b[0m\n",
      "\u001b[0;31mNameError\u001b[0m: name 'model' is not defined"
     ]
    }
   ],
   "source": [
    "history=model.fit(X_train_resample.drop('label',axis=1).values, y_train_resample.values,\n",
    "                  validation_data=(X_test.drop('label',axis=1).values, y_test),verbose=2,\n",
    "                  epochs=100,batch_size=32)\n",
    "# history = model.fit(X_train, y_train, validation_split=0.2,epochs=50,batch_size=32, shuffle=True)"
   ]
  },
  {
   "cell_type": "code",
   "execution_count": 54,
   "metadata": {},
   "outputs": [],
   "source": [
    "# Plot Accuracy\n",
    "def plot(history):\n",
    "    plt.plot(history.history['accuracy'])\n",
    "    plt.plot(history.history['val_accuracy'])\n",
    "    plt.title('Model accuracy')\n",
    "    plt.ylabel('accuracy')\n",
    "    plt.xlabel('epoch')\n",
    "    plt.legend(['train', 'val'], loc='upper left')\n",
    "    plt.show()\n",
    "\n",
    "    # Plot Loss\n",
    "    plt.plot(history.history['loss'])\n",
    "    plt.plot(history.history['val_accuracy'])\n",
    "    plt.title('Model loss')\n",
    "    plt.ylabel('loss')\n",
    "    plt.xlabel('epoch')\n",
    "    plt.legend(['train', 'val'], loc='upper left')\n",
    "    plt.show()\n",
    "\n",
    "    # Plot Loss\n",
    "    plt.plot(history.history['loss'])\n",
    "    plt.plot(history.history['val_auc'])\n",
    "    plt.title('Model auc')\n",
    "    plt.ylabel('auc')\n",
    "    plt.xlabel('epoch')\n",
    "    plt.legend(['train', 'val'], loc='upper left')\n",
    "    plt.show()"
   ]
  },
  {
   "cell_type": "code",
   "execution_count": 55,
   "metadata": {},
   "outputs": [
    {
     "data": {
      "image/png": "[encoded data removed]",
      "text/plain": [
       "<Figure size 432x288 with 1 Axes>"
      ]
     },
     "metadata": {
      "needs_background": "light"
     },
     "output_type": "display_data"
    },
    {
     "data": {
      "image/png": "[encoded data removed]",
      "text/plain": [
       "<Figure size 432x288 with 1 Axes>"
      ]
     },
     "metadata": {
      "needs_background": "light"
     },
     "output_type": "display_data"
    },
    {
     "data": {
      "image/png": "[encoded data removed]",
      "text/plain": [
       "<Figure size 432x288 with 1 Axes>"
      ]
     },
     "metadata": {
      "needs_background": "light"
     },
     "output_type": "display_data"
    }
   ],
   "source": [
    "plot(history)"
   ]
  },
  {
   "cell_type": "code",
   "execution_count": 34,
   "metadata": {},
   "outputs": [
    {
     "data": {
      "text/plain": [
       "(171, 352)"
      ]
     },
     "execution_count": 34,
     "metadata": {},
     "output_type": "execute_result"
    }
   ],
   "source": []
  },
  {
   "cell_type": "code",
   "execution_count": 56,
   "metadata": {},
   "outputs": [],
   "source": [
    "## predict using sensor model\n",
    "y_pred_with_sensor = model.predict(X_test.drop('label',axis=1).values)\n",
    "y_pred_repack_benign = model.predict_proba(repackaged_benign_test_X)\n",
    "covid_test_X.fillna(0, inplace = True)\n",
    "# covid_y_pred_w_sensor = model.predict_proba(covid_test_X)"
   ]
  },
  {
   "cell_type": "markdown",
   "metadata": {},
   "source": [
    "## model without sensor"
   ]
  },
  {
   "cell_type": "code",
   "execution_count": 61,
   "metadata": {},
   "outputs": [
    {
     "name": "stdout",
     "output_type": "stream",
     "text": [
      "Model: \"sequential_1\"\n",
      "_________________________________________________________________\n",
      "Layer (type)                 Output Shape              Param #   \n",
      "=================================================================\n",
      "dense_1 (Dense)              (None, 48)                15600     \n",
      "_________________________________________________________________\n",
      "dropout_1 (Dropout)          (None, 48)                0         \n",
      "_________________________________________________________________\n",
      "dense_2 (Dense)              (None, 16)                784       \n",
      "_________________________________________________________________\n",
      "dropout_2 (Dropout)          (None, 16)                0         \n",
      "_________________________________________________________________\n",
      "dense_3 (Dense)              (None, 1)                 17        \n",
      "=================================================================\n",
      "Total params: 16,401\n",
      "Trainable params: 16,401\n",
      "Non-trainable params: 0\n",
      "_________________________________________________________________\n"
     ]
    }
   ],
   "source": [
    "tf.keras.backend.clear_session()\n",
    "model_wo = keras.Sequential()\n",
    "model_wo = Sequential()\n",
    "model_wo.add(Dense(48, input_dim=X_train_wo_sensor_resample.shape[1]-1, activation='relu'))\n",
    "model_wo.add(Dropout(0.4))\n",
    "model_wo.add(Dense(16, activation='relu'))\n",
    "model_wo.add(Dropout(0.4))\n",
    "# model.add(Dense(128, activation='relu'))\n",
    "model_wo.add(Dense(1, activation='sigmoid'))\n",
    "\n",
    "# Compile model\n",
    "model_wo.compile(loss='binary_crossentropy', optimizer=adam(lr=0.001), metrics=['accuracy',tf.keras.metrics.AUC()])\n",
    "model_wo.summary()"
   ]
  },
  {
   "cell_type": "code",
   "execution_count": 62,
   "metadata": {},
   "outputs": [
    {
     "name": "stdout",
     "output_type": "stream",
     "text": [
      "Train on 14626 samples, validate on 2230 samples\n",
      "Epoch 1/100\n",
      " - 4s - loss: 0.4698 - accuracy: 0.7645 - auc: 0.7798 - val_loss: 0.3412 - val_accuracy: 0.8184 - val_auc: 0.8594\n",
      "Epoch 2/100\n",
      " - 2s - loss: 0.3587 - accuracy: 0.8406 - auc: 0.8795 - val_loss: 0.3558 - val_accuracy: 0.8076 - val_auc: 0.8927\n",
      "Epoch 3/100\n",
      " - 2s - loss: 0.3176 - accuracy: 0.8602 - auc: 0.9007 - val_loss: 0.2981 - val_accuracy: 0.8543 - val_auc: 0.9087\n",
      "Epoch 4/100\n",
      " - 2s - loss: 0.2972 - accuracy: 0.8743 - auc: 0.9141 - val_loss: 0.2857 - val_accuracy: 0.8592 - val_auc: 0.9189\n",
      "Epoch 5/100\n",
      " - 2s - loss: 0.2833 - accuracy: 0.8782 - auc: 0.9225 - val_loss: 0.2809 - val_accuracy: 0.8605 - val_auc: 0.9254\n",
      "Epoch 6/100\n",
      " - 2s - loss: 0.2712 - accuracy: 0.8861 - auc: 0.9281 - val_loss: 0.3228 - val_accuracy: 0.8529 - val_auc: 0.9303\n",
      "Epoch 7/100\n",
      " - 2s - loss: 0.2633 - accuracy: 0.8900 - auc: 0.9322 - val_loss: 0.3032 - val_accuracy: 0.8561 - val_auc: 0.9339\n",
      "Epoch 8/100\n",
      " - 2s - loss: 0.2585 - accuracy: 0.8909 - auc: 0.9353 - val_loss: 0.2981 - val_accuracy: 0.8574 - val_auc: 0.9368\n",
      "Epoch 9/100\n",
      " - 2s - loss: 0.2498 - accuracy: 0.8989 - auc: 0.9382 - val_loss: 0.3043 - val_accuracy: 0.8561 - val_auc: 0.9394\n",
      "Epoch 10/100\n",
      " - 2s - loss: 0.2484 - accuracy: 0.8977 - auc: 0.9405 - val_loss: 0.3037 - val_accuracy: 0.8520 - val_auc: 0.9414\n",
      "Epoch 11/100\n",
      " - 2s - loss: 0.2439 - accuracy: 0.8984 - auc: 0.9423 - val_loss: 0.2924 - val_accuracy: 0.8632 - val_auc: 0.9432\n",
      "Epoch 12/100\n",
      " - 2s - loss: 0.2390 - accuracy: 0.9011 - auc: 0.9441 - val_loss: 0.3111 - val_accuracy: 0.8561 - val_auc: 0.9448\n",
      "Epoch 13/100\n",
      " - 2s - loss: 0.2393 - accuracy: 0.8976 - auc: 0.9455 - val_loss: 0.2972 - val_accuracy: 0.8637 - val_auc: 0.9461\n",
      "Epoch 14/100\n",
      " - 2s - loss: 0.2368 - accuracy: 0.8990 - auc: 0.9467 - val_loss: 0.3069 - val_accuracy: 0.8475 - val_auc: 0.9473\n",
      "Epoch 15/100\n",
      " - 2s - loss: 0.2318 - accuracy: 0.9005 - auc: 0.9479 - val_loss: 0.3104 - val_accuracy: 0.8561 - val_auc: 0.9484\n",
      "Epoch 16/100\n",
      " - 2s - loss: 0.2313 - accuracy: 0.9048 - auc: 0.9489 - val_loss: 0.3140 - val_accuracy: 0.8664 - val_auc: 0.9494\n",
      "Epoch 17/100\n",
      " - 2s - loss: 0.2292 - accuracy: 0.9035 - auc: 0.9498 - val_loss: 0.3311 - val_accuracy: 0.8561 - val_auc: 0.9502\n",
      "Epoch 18/100\n",
      " - 2s - loss: 0.2263 - accuracy: 0.9044 - auc: 0.9507 - val_loss: 0.3205 - val_accuracy: 0.8596 - val_auc: 0.9510\n",
      "Epoch 19/100\n",
      " - 2s - loss: 0.2233 - accuracy: 0.9059 - auc: 0.9514 - val_loss: 0.3326 - val_accuracy: 0.8534 - val_auc: 0.9518\n",
      "Epoch 20/100\n",
      " - 2s - loss: 0.2204 - accuracy: 0.9072 - auc: 0.9522 - val_loss: 0.3165 - val_accuracy: 0.8614 - val_auc: 0.9525\n",
      "Epoch 21/100\n",
      " - 2s - loss: 0.2189 - accuracy: 0.9085 - auc: 0.9529 - val_loss: 0.3193 - val_accuracy: 0.8632 - val_auc: 0.9532\n",
      "Epoch 22/100\n",
      " - 2s - loss: 0.2140 - accuracy: 0.9085 - auc: 0.9535 - val_loss: 0.3179 - val_accuracy: 0.8664 - val_auc: 0.9538\n",
      "Epoch 23/100\n",
      " - 2s - loss: 0.2175 - accuracy: 0.9059 - auc: 0.9541 - val_loss: 0.3331 - val_accuracy: 0.8686 - val_auc: 0.9544\n",
      "Epoch 24/100\n",
      " - 3s - loss: 0.2166 - accuracy: 0.9083 - auc: 0.9547 - val_loss: 0.3325 - val_accuracy: 0.8673 - val_auc: 0.9549\n",
      "Epoch 25/100\n",
      " - 2s - loss: 0.2150 - accuracy: 0.9086 - auc: 0.9552 - val_loss: 0.3371 - val_accuracy: 0.8570 - val_auc: 0.9554\n",
      "Epoch 26/100\n",
      " - 2s - loss: 0.2169 - accuracy: 0.9075 - auc: 0.9557 - val_loss: 0.3327 - val_accuracy: 0.8668 - val_auc: 0.9559\n",
      "Epoch 27/100\n",
      " - 2s - loss: 0.2099 - accuracy: 0.9069 - auc: 0.9561 - val_loss: 0.3653 - val_accuracy: 0.8578 - val_auc: 0.9563\n",
      "Epoch 28/100\n",
      " - 2s - loss: 0.2108 - accuracy: 0.9093 - auc: 0.9565 - val_loss: 0.3706 - val_accuracy: 0.8547 - val_auc: 0.9567\n",
      "Epoch 29/100\n",
      " - 2s - loss: 0.2105 - accuracy: 0.9102 - auc: 0.9569 - val_loss: 0.3626 - val_accuracy: 0.8583 - val_auc: 0.9571\n",
      "Epoch 30/100\n",
      " - 2s - loss: 0.2121 - accuracy: 0.9112 - auc: 0.9572 - val_loss: 0.3452 - val_accuracy: 0.8637 - val_auc: 0.9574\n",
      "Epoch 31/100\n",
      " - 2s - loss: 0.2083 - accuracy: 0.9092 - auc: 0.9576 - val_loss: 0.3487 - val_accuracy: 0.8637 - val_auc: 0.9578\n",
      "Epoch 32/100\n",
      " - 2s - loss: 0.2089 - accuracy: 0.9085 - auc: 0.9580 - val_loss: 0.3538 - val_accuracy: 0.8659 - val_auc: 0.9581\n",
      "Epoch 33/100\n",
      " - 2s - loss: 0.2150 - accuracy: 0.9065 - auc: 0.9583 - val_loss: 0.3576 - val_accuracy: 0.8637 - val_auc: 0.9584\n",
      "Epoch 34/100\n",
      " - 2s - loss: 0.2063 - accuracy: 0.9092 - auc: 0.9585 - val_loss: 0.3635 - val_accuracy: 0.8583 - val_auc: 0.9587\n",
      "Epoch 35/100\n",
      " - 2s - loss: 0.2025 - accuracy: 0.9115 - auc: 0.9588 - val_loss: 0.3728 - val_accuracy: 0.8516 - val_auc: 0.9590\n",
      "Epoch 36/100\n",
      " - 2s - loss: 0.2034 - accuracy: 0.9120 - auc: 0.9591 - val_loss: 0.3699 - val_accuracy: 0.8605 - val_auc: 0.9593\n",
      "Epoch 37/100\n",
      " - 2s - loss: 0.2036 - accuracy: 0.9100 - auc: 0.9594 - val_loss: 0.3651 - val_accuracy: 0.8583 - val_auc: 0.9595\n",
      "Epoch 38/100\n",
      " - 2s - loss: 0.2042 - accuracy: 0.9106 - auc: 0.9597 - val_loss: 0.3629 - val_accuracy: 0.8561 - val_auc: 0.9598\n",
      "Epoch 39/100\n",
      " - 2s - loss: 0.2014 - accuracy: 0.9132 - auc: 0.9599 - val_loss: 0.3820 - val_accuracy: 0.8650 - val_auc: 0.9601\n",
      "Epoch 40/100\n",
      " - 2s - loss: 0.2015 - accuracy: 0.9121 - auc: 0.9602 - val_loss: 0.3827 - val_accuracy: 0.8664 - val_auc: 0.9603\n",
      "Epoch 41/100\n",
      " - 2s - loss: 0.2007 - accuracy: 0.9105 - auc: 0.9604 - val_loss: 0.3852 - val_accuracy: 0.8650 - val_auc: 0.9605\n",
      "Epoch 42/100\n",
      " - 2s - loss: 0.2004 - accuracy: 0.9080 - auc: 0.9606 - val_loss: 0.3844 - val_accuracy: 0.8650 - val_auc: 0.9607\n",
      "Epoch 43/100\n",
      " - 2s - loss: 0.1985 - accuracy: 0.9111 - auc: 0.9609 - val_loss: 0.3925 - val_accuracy: 0.8614 - val_auc: 0.9610\n",
      "Epoch 44/100\n",
      " - 2s - loss: 0.2006 - accuracy: 0.9114 - auc: 0.9610 - val_loss: 0.3933 - val_accuracy: 0.8668 - val_auc: 0.9612\n",
      "Epoch 45/100\n",
      " - 2s - loss: 0.1972 - accuracy: 0.9118 - auc: 0.9613 - val_loss: 0.3960 - val_accuracy: 0.8516 - val_auc: 0.9613\n",
      "Epoch 46/100\n",
      " - 2s - loss: 0.1987 - accuracy: 0.9104 - auc: 0.9615 - val_loss: 0.3916 - val_accuracy: 0.8489 - val_auc: 0.9615\n",
      "Epoch 47/100\n",
      " - 2s - loss: 0.1981 - accuracy: 0.9089 - auc: 0.9616 - val_loss: 0.3862 - val_accuracy: 0.8583 - val_auc: 0.9617\n",
      "Epoch 48/100\n",
      " - 2s - loss: 0.1991 - accuracy: 0.9077 - auc: 0.9618 - val_loss: 0.4013 - val_accuracy: 0.8637 - val_auc: 0.9619\n",
      "Epoch 49/100\n",
      " - 2s - loss: 0.1909 - accuracy: 0.9146 - auc: 0.9620 - val_loss: 0.4055 - val_accuracy: 0.8498 - val_auc: 0.9621\n",
      "Epoch 50/100\n",
      " - 2s - loss: 0.1946 - accuracy: 0.9117 - auc: 0.9622 - val_loss: 0.4009 - val_accuracy: 0.8605 - val_auc: 0.9623\n",
      "Epoch 51/100\n",
      " - 2s - loss: 0.1931 - accuracy: 0.9121 - auc: 0.9624 - val_loss: 0.4149 - val_accuracy: 0.8632 - val_auc: 0.9625\n",
      "Epoch 52/100\n",
      " - 2s - loss: 0.1912 - accuracy: 0.9145 - auc: 0.9626 - val_loss: 0.3961 - val_accuracy: 0.8543 - val_auc: 0.9626\n",
      "Epoch 53/100\n",
      " - 2s - loss: 0.1961 - accuracy: 0.9102 - auc: 0.9627 - val_loss: 0.4277 - val_accuracy: 0.8596 - val_auc: 0.9628\n",
      "Epoch 54/100\n",
      " - 2s - loss: 0.1923 - accuracy: 0.9102 - auc: 0.9629 - val_loss: 0.4414 - val_accuracy: 0.8596 - val_auc: 0.9629\n",
      "Epoch 55/100\n",
      " - 2s - loss: 0.1961 - accuracy: 0.9126 - auc: 0.9630 - val_loss: 0.4078 - val_accuracy: 0.8614 - val_auc: 0.9631\n",
      "Epoch 56/100\n",
      " - 2s - loss: 0.1964 - accuracy: 0.9116 - auc: 0.9632 - val_loss: 0.4108 - val_accuracy: 0.8601 - val_auc: 0.9632\n",
      "Epoch 57/100\n",
      " - 2s - loss: 0.1942 - accuracy: 0.9144 - auc: 0.9633 - val_loss: 0.4161 - val_accuracy: 0.8650 - val_auc: 0.9634\n",
      "Epoch 58/100\n",
      " - 2s - loss: 0.1923 - accuracy: 0.9120 - auc: 0.9634 - val_loss: 0.4245 - val_accuracy: 0.8547 - val_auc: 0.9635\n",
      "Epoch 59/100\n",
      " - 2s - loss: 0.1938 - accuracy: 0.9102 - auc: 0.9636 - val_loss: 0.4217 - val_accuracy: 0.8516 - val_auc: 0.9636\n",
      "Epoch 60/100\n",
      " - 2s - loss: 0.1914 - accuracy: 0.9155 - auc: 0.9637 - val_loss: 0.4371 - val_accuracy: 0.8543 - val_auc: 0.9638\n",
      "Epoch 61/100\n",
      " - 2s - loss: 0.1943 - accuracy: 0.9102 - auc: 0.9638 - val_loss: 0.4437 - val_accuracy: 0.8561 - val_auc: 0.9639\n",
      "Epoch 62/100\n",
      " - 2s - loss: 0.1926 - accuracy: 0.9148 - auc: 0.9639 - val_loss: 0.4279 - val_accuracy: 0.8623 - val_auc: 0.9640\n",
      "Epoch 63/100\n",
      " - 2s - loss: 0.1912 - accuracy: 0.9137 - auc: 0.9641 - val_loss: 0.4247 - val_accuracy: 0.8601 - val_auc: 0.9641\n",
      "Epoch 64/100\n",
      " - 2s - loss: 0.1918 - accuracy: 0.9138 - auc: 0.9642 - val_loss: 0.4417 - val_accuracy: 0.8641 - val_auc: 0.9642\n",
      "Epoch 65/100\n",
      " - 2s - loss: 0.1914 - accuracy: 0.9121 - auc: 0.9643 - val_loss: 0.4173 - val_accuracy: 0.8592 - val_auc: 0.9643\n",
      "Epoch 66/100\n",
      " - 2s - loss: 0.1920 - accuracy: 0.9167 - auc: 0.9644 - val_loss: 0.4157 - val_accuracy: 0.8628 - val_auc: 0.9645\n",
      "Epoch 67/100\n",
      " - 2s - loss: 0.1927 - accuracy: 0.9112 - auc: 0.9645 - val_loss: 0.4210 - val_accuracy: 0.8583 - val_auc: 0.9646\n",
      "Epoch 68/100\n",
      " - 2s - loss: 0.1869 - accuracy: 0.9146 - auc: 0.9646 - val_loss: 0.4295 - val_accuracy: 0.8704 - val_auc: 0.9647\n",
      "Epoch 69/100\n",
      " - 2s - loss: 0.1919 - accuracy: 0.9134 - auc: 0.9647 - val_loss: 0.4504 - val_accuracy: 0.8668 - val_auc: 0.9648\n",
      "Epoch 70/100\n",
      " - 2s - loss: 0.1888 - accuracy: 0.9138 - auc: 0.9648 - val_loss: 0.4602 - val_accuracy: 0.8592 - val_auc: 0.9649\n",
      "Epoch 71/100\n",
      " - 2s - loss: 0.1906 - accuracy: 0.9128 - auc: 0.9649 - val_loss: 0.4353 - val_accuracy: 0.8641 - val_auc: 0.9650\n",
      "Epoch 72/100\n",
      " - 2s - loss: 0.1852 - accuracy: 0.9145 - auc: 0.9650 - val_loss: 0.4644 - val_accuracy: 0.8596 - val_auc: 0.9651\n",
      "Epoch 73/100\n",
      " - 2s - loss: 0.1845 - accuracy: 0.9144 - auc: 0.9652 - val_loss: 0.4663 - val_accuracy: 0.8578 - val_auc: 0.9652\n",
      "Epoch 74/100\n",
      " - 2s - loss: 0.1901 - accuracy: 0.9114 - auc: 0.9652 - val_loss: 0.4597 - val_accuracy: 0.8587 - val_auc: 0.9653\n",
      "Epoch 75/100\n",
      " - 2s - loss: 0.1892 - accuracy: 0.9109 - auc: 0.9653 - val_loss: 0.4778 - val_accuracy: 0.8561 - val_auc: 0.9654\n",
      "Epoch 76/100\n",
      " - 2s - loss: 0.1821 - accuracy: 0.9166 - auc: 0.9654 - val_loss: 0.4768 - val_accuracy: 0.8601 - val_auc: 0.9655\n",
      "Epoch 77/100\n",
      " - 2s - loss: 0.1880 - accuracy: 0.9147 - auc: 0.9655 - val_loss: 0.4635 - val_accuracy: 0.8574 - val_auc: 0.9655\n",
      "Epoch 78/100\n",
      " - 2s - loss: 0.1865 - accuracy: 0.9175 - auc: 0.9656 - val_loss: 0.4589 - val_accuracy: 0.8561 - val_auc: 0.9656\n",
      "Epoch 79/100\n",
      " - 2s - loss: 0.1872 - accuracy: 0.9146 - auc: 0.9657 - val_loss: 0.4522 - val_accuracy: 0.8561 - val_auc: 0.9657\n",
      "Epoch 80/100\n",
      " - 2s - loss: 0.1880 - accuracy: 0.9128 - auc: 0.9657 - val_loss: 0.4627 - val_accuracy: 0.8583 - val_auc: 0.9658\n",
      "Epoch 81/100\n",
      " - 2s - loss: 0.1849 - accuracy: 0.9168 - auc: 0.9658 - val_loss: 0.4965 - val_accuracy: 0.8623 - val_auc: 0.9659\n",
      "Epoch 82/100\n",
      " - 2s - loss: 0.1892 - accuracy: 0.9160 - auc: 0.9659 - val_loss: 0.4543 - val_accuracy: 0.8570 - val_auc: 0.9659\n",
      "Epoch 83/100\n",
      " - 2s - loss: 0.1851 - accuracy: 0.9134 - auc: 0.9660 - val_loss: 0.4459 - val_accuracy: 0.8574 - val_auc: 0.9660\n",
      "Epoch 84/100\n",
      " - 2s - loss: 0.1835 - accuracy: 0.9157 - auc: 0.9661 - val_loss: 0.4651 - val_accuracy: 0.8556 - val_auc: 0.9661\n",
      "Epoch 85/100\n",
      " - 2s - loss: 0.1884 - accuracy: 0.9119 - auc: 0.9661 - val_loss: 0.4543 - val_accuracy: 0.8650 - val_auc: 0.9662\n",
      "Epoch 86/100\n",
      " - 2s - loss: 0.1843 - accuracy: 0.9173 - auc: 0.9662 - val_loss: 0.4660 - val_accuracy: 0.8520 - val_auc: 0.9662\n",
      "Epoch 87/100\n",
      " - 2s - loss: 0.1814 - accuracy: 0.9166 - auc: 0.9663 - val_loss: 0.4883 - val_accuracy: 0.8574 - val_auc: 0.9663\n",
      "Epoch 88/100\n",
      " - 2s - loss: 0.1817 - accuracy: 0.9169 - auc: 0.9664 - val_loss: 0.5031 - val_accuracy: 0.8659 - val_auc: 0.9664\n",
      "Epoch 89/100\n",
      " - 2s - loss: 0.1852 - accuracy: 0.9141 - auc: 0.9664 - val_loss: 0.4287 - val_accuracy: 0.8664 - val_auc: 0.9665\n",
      "Epoch 90/100\n",
      " - 2s - loss: 0.1808 - accuracy: 0.9177 - auc: 0.9665 - val_loss: 0.4872 - val_accuracy: 0.8543 - val_auc: 0.9665\n",
      "Epoch 91/100\n",
      " - 2s - loss: 0.1831 - accuracy: 0.9148 - auc: 0.9666 - val_loss: 0.4958 - val_accuracy: 0.8628 - val_auc: 0.9666\n",
      "Epoch 92/100\n",
      " - 2s - loss: 0.1811 - accuracy: 0.9169 - auc: 0.9666 - val_loss: 0.5122 - val_accuracy: 0.8641 - val_auc: 0.9667\n",
      "Epoch 93/100\n",
      " - 2s - loss: 0.1848 - accuracy: 0.9178 - auc: 0.9667 - val_loss: 0.4835 - val_accuracy: 0.8601 - val_auc: 0.9667\n",
      "Epoch 94/100\n",
      " - 2s - loss: 0.1821 - accuracy: 0.9180 - auc: 0.9668 - val_loss: 0.4772 - val_accuracy: 0.8534 - val_auc: 0.9668\n",
      "Epoch 95/100\n",
      " - 2s - loss: 0.1835 - accuracy: 0.9145 - auc: 0.9668 - val_loss: 0.5259 - val_accuracy: 0.8610 - val_auc: 0.9669\n",
      "Epoch 96/100\n",
      " - 3s - loss: 0.1824 - accuracy: 0.9177 - auc: 0.9669 - val_loss: 0.4839 - val_accuracy: 0.8574 - val_auc: 0.9669\n",
      "Epoch 97/100\n",
      " - 3s - loss: 0.1787 - accuracy: 0.9165 - auc: 0.9670 - val_loss: 0.5152 - val_accuracy: 0.8547 - val_auc: 0.9670\n",
      "Epoch 98/100\n",
      " - 2s - loss: 0.1826 - accuracy: 0.9164 - auc: 0.9670 - val_loss: 0.5068 - val_accuracy: 0.8565 - val_auc: 0.9670\n",
      "Epoch 99/100\n",
      " - 2s - loss: 0.1802 - accuracy: 0.9156 - auc: 0.9671 - val_loss: 0.5067 - val_accuracy: 0.8587 - val_auc: 0.9671\n",
      "Epoch 100/100\n",
      " - 2s - loss: 0.1836 - accuracy: 0.9141 - auc: 0.9671 - val_loss: 0.4957 - val_accuracy: 0.8561 - val_auc: 0.9672\n"
     ]
    }
   ],
   "source": [
    "history_wo=model_wo.fit(X_train_wo_sensor_resample.drop('label',axis=1).values, y_train_wo_sensor_resample.values,\n",
    "                  validation_data=(X_test_wo_sensor.drop('label',axis=1).values, y_test_wo_sensor),\n",
    "                  epochs=100,batch_size=32,verbose=2)\n",
    "# history = model.fit(X_train, y_train, validation_data=(X_test, y_test),epochs=50,batch_size=32, shuffle=True)"
   ]
  },
  {
   "cell_type": "code",
   "execution_count": 63,
   "metadata": {},
   "outputs": [
    {
     "data": {
      "image/png": "[encoded data removed]",
      "text/plain": [
       "<Figure size 432x288 with 1 Axes>"
      ]
     },
     "metadata": {
      "needs_background": "light"
     },
     "output_type": "display_data"
    },
    {
     "data": {
      "image/png": "[encoded data removed]",
      "text/plain": [
       "<Figure size 432x288 with 1 Axes>"
      ]
     },
     "metadata": {
      "needs_background": "light"
     },
     "output_type": "display_data"
    },
    {
     "data": {
      "image/png": "[encoded data removed]",
      "text/plain": [
       "<Figure size 432x288 with 1 Axes>"
      ]
     },
     "metadata": {
      "needs_background": "light"
     },
     "output_type": "display_data"
    }
   ],
   "source": [
    "plot(history_wo)"
   ]
  },
  {
   "cell_type": "code",
   "execution_count": 65,
   "metadata": {},
   "outputs": [],
   "source": [
    "y_pred_wo_sensor = model_wo.predict(X_test_wo_sensor.drop('label',axis=1).values)\n",
    "y_pred_repack_benign_wo_sensor = model_wo.predict_proba(repackaged_benign_test_X_wo_sensors)\n",
    "# covid_y_pred_wo_sensor = model_wo.predict_proba(covid_test_X_wo_sensors)"
   ]
  },
  {
   "cell_type": "markdown",
   "metadata": {},
   "source": [
    "## TESTING"
   ]
  },
  {
   "cell_type": "code",
   "execution_count": 66,
   "metadata": {},
   "outputs": [
    {
     "data": {
      "text/plain": [
       "array([[0.9890421 ],\n",
       "       [0.7818043 ],\n",
       "       [0.9551253 ],\n",
       "       ...,\n",
       "       [1.        ],\n",
       "       [0.99996746],\n",
       "       [1.        ]], dtype=float32)"
      ]
     },
     "execution_count": 66,
     "metadata": {},
     "output_type": "execute_result"
    }
   ],
   "source": [
    "y_pred_with_sensor"
   ]
  },
  {
   "cell_type": "code",
   "execution_count": 67,
   "metadata": {},
   "outputs": [
    {
     "name": "stdout",
     "output_type": "stream",
     "text": [
      "AUC (including sensor features) 0.930525654153299\n",
      "AUC (not including sensor features) 0.9122928054385633\n"
     ]
    },
    {
     "data": {
      "text/plain": [
       "<matplotlib.legend.Legend at 0x7fdcf45e9bd0>"
      ]
     },
     "execution_count": 67,
     "metadata": {},
     "output_type": "execute_result"
    },
    {
     "data": {
      "image/png": "[encoded data removed]",
      "text/plain": [
       "<Figure size 720x432 with 1 Axes>"
      ]
     },
     "metadata": {
      "needs_background": "light"
     },
     "output_type": "display_data"
    }
   ],
   "source": [
    "plt.figure(figsize = (10, 6))\n",
    "fpr, tpr, _ = roc_curve(y_test, y_pred_with_sensor)\n",
    "fpr2, tpr2, _2 = roc_curve(y_test_wo_sensor, y_pred_wo_sensor)\n",
    "plt.plot(fpr, tpr, lw=2, label='With sensor features')\n",
    "plt.plot(fpr2, tpr2, lw=2, label='Without sensor features')\n",
    "print('AUC (including sensor features)', roc_auc_score(y_test, y_pred_with_sensor))\n",
    "print('AUC (not including sensor features)', roc_auc_score(y_test, y_pred_wo_sensor))\n",
    "\n",
    "plt.xlabel('False Positive Rate', fontsize = 13)\n",
    "plt.ylabel('True Positive Rate', fontsize = 13)\n",
    "plt.title('ROC Curve', fontsize = 15)\n",
    "plt.legend(fontsize = 13)"
   ]
  },
  {
   "cell_type": "code",
   "execution_count": 48,
   "metadata": {},
   "outputs": [
    {
     "data": {
      "text/plain": [
       "array([[0.9487287 ],\n",
       "       [0.6024469 ],\n",
       "       [0.94112784],\n",
       "       ...,\n",
       "       [0.9998621 ],\n",
       "       [0.9999224 ],\n",
       "       [0.9993837 ]], dtype=float32)"
      ]
     },
     "execution_count": 48,
     "metadata": {},
     "output_type": "execute_result"
    }
   ],
   "source": [
    "y_pred_with_sensor"
   ]
  },
  {
   "cell_type": "code",
   "execution_count": 68,
   "metadata": {},
   "outputs": [
    {
     "data": {
      "text/plain": [
       "(array([0.60571429, 0.95131965]),\n",
       " array([0.79301746, 0.8868234 ]),\n",
       " array([0.68682505, 0.91794001]),\n",
       " array([ 401, 1829]))"
      ]
     },
     "execution_count": 68,
     "metadata": {},
     "output_type": "execute_result"
    }
   ],
   "source": [
    "precision_recall_fscore_support(y_test, np.round(y_pred_with_sensor))"
   ]
  },
  {
   "cell_type": "code",
   "execution_count": 69,
   "metadata": {},
   "outputs": [
    {
     "data": {
      "text/plain": [
       "(array([0.57518797, 0.94405183]),\n",
       " array([0.76309227, 0.87643521]),\n",
       " array([0.65594855, 0.90898781]),\n",
       " array([ 401, 1829]))"
      ]
     },
     "execution_count": 69,
     "metadata": {},
     "output_type": "execute_result"
    }
   ],
   "source": [
    "precision_recall_fscore_support(y_test, np.round(y_pred_wo_sensor))"
   ]
  },
  {
   "cell_type": "markdown",
   "metadata": {},
   "source": [
    "## Other Metrics"
   ]
  },
  {
   "cell_type": "code",
   "execution_count": 70,
   "metadata": {},
   "outputs": [
    {
     "name": "stdout",
     "output_type": "stream",
     "text": [
      "Balanced Average Accuracy (including sensor features): 0.8399204285622739\n",
      "Balanced Average Accuracy (not including sensor features): 0.8197637399121114\n"
     ]
    }
   ],
   "source": [
    "print('Balanced Average Accuracy (including sensor features):', balanced_accuracy_score(y_test, np.round(y_pred_with_sensor)))\n",
    "print('Balanced Average Accuracy (not including sensor features):', balanced_accuracy_score(y_test, np.round(y_pred_wo_sensor)))"
   ]
  },
  {
   "cell_type": "markdown",
   "metadata": {},
   "source": [
    "## Paired or Non-paired"
   ]
  },
  {
   "cell_type": "code",
   "execution_count": 71,
   "metadata": {},
   "outputs": [],
   "source": [
    "pairs = pd.read_csv('../../repackaging_pairs.txt')\n",
    "# Train test split\n",
    "X_ = pd.read_csv('../data/Training_Data/Training_Dataset.csv')\n",
    "y_ = pd.read_csv('../data/Training_Data/Labels.csv')\n",
    "\n",
    "X_train_, X_test_, y_train_, y_test_ = train_test_split(X_,y_['label'], \n",
    "                                                    test_size = 0.2, \n",
    "                                                    random_state = 123, \n",
    "                                                    stratify = y_['label'])"
   ]
  },
  {
   "cell_type": "code",
   "execution_count": 72,
   "metadata": {},
   "outputs": [],
   "source": [
    "paired_w_sensor_accuracy = []\n",
    "non_paired_w_sensor_accuracy = []\n",
    "paired_wo_sensor_accuracy = []\n",
    "non_paired_wo_sensor_accuracy = []\n",
    "\n",
    "visited = []\n",
    "for i in range(X_test_.shape[0]):\n",
    "    acc1 = np.round(y_pred_with_sensor[i])  == y_test_.iloc[i]\n",
    "    acc2 =np.round(y_pred_wo_sensor[i]) == y_test_.iloc[i]\n",
    "    \n",
    "    sha = X_test_.iloc[i]['SHA256']\n",
    "    \n",
    "    for idx in pairs.index:\n",
    "        if sha == pairs.loc[idx, 'SHA256_ORIGINAL']:\n",
    "            if pairs.loc[idx, 'SHA256_REPACKAGE'] in X_test_['SHA256'].values:\n",
    "                paired_w_sensor_accuracy.append(acc1)\n",
    "                paired_wo_sensor_accuracy.append(acc2)\n",
    "            else:\n",
    "                non_paired_w_sensor_accuracy.append(acc1)\n",
    "                non_paired_wo_sensor_accuracy.append(acc2)\n",
    "            break\n",
    "        elif sha == pairs.loc[idx, 'SHA256_REPACKAGE']:\n",
    "            if pairs.loc[idx, 'SHA256_ORIGINAL'] in X_test_['SHA256'].values:\n",
    "                paired_w_sensor_accuracy.append(acc1)\n",
    "                paired_wo_sensor_accuracy.append(acc2)\n",
    "            else:\n",
    "                non_paired_w_sensor_accuracy.append(acc1)  \n",
    "                non_paired_wo_sensor_accuracy.append(acc2)  \n",
    "            break"
   ]
  },
  {
   "cell_type": "code",
   "execution_count": 73,
   "metadata": {},
   "outputs": [],
   "source": [
    "acc_1 = []\n",
    "acc_2 = []\n",
    "for i in range(X_test.shape[0]):\n",
    "    acc1 = np.round(y_pred_with_sensor[i]) == y_test.iloc[i]\n",
    "    acc2 = np.round(y_pred_wo_sensor[i])== y_test.iloc[i]\n",
    "    \n",
    "    acc_1.append(acc1)\n",
    "    acc_2.append(acc2)"
   ]
  },
  {
   "cell_type": "code",
   "execution_count": 74,
   "metadata": {},
   "outputs": [
    {
     "data": {
      "text/plain": [
       "1748"
      ]
     },
     "execution_count": 74,
     "metadata": {},
     "output_type": "execute_result"
    }
   ],
   "source": [
    "np.sum(acc_1)\n",
    "np.sum(paired_w_sensor_accuracy)\n",
    "np.sum(non_paired_w_sensor_accuracy)"
   ]
  },
  {
   "cell_type": "code",
   "execution_count": 75,
   "metadata": {},
   "outputs": [
    {
     "name": "stdout",
     "output_type": "stream",
     "text": [
      "Accuracy for paired apps (including sensor features): 0.8458149779735683\n",
      "Accuracy for non-paired apps (including sensor features): 0.872690963554668\n",
      "Accuracy for paired apps (not including sensor features): 0.8458149779735683\n",
      "Accuracy for non-paired apps (not including sensor features): 0.8572141787319022\n"
     ]
    }
   ],
   "source": [
    "print(\"Accuracy for paired apps (including sensor features):\", np.sum(paired_w_sensor_accuracy)/len(paired_w_sensor_accuracy))\n",
    "print(\"Accuracy for non-paired apps (including sensor features):\", np.sum(non_paired_w_sensor_accuracy)/len(non_paired_w_sensor_accuracy))\n",
    "\n",
    "print(\"Accuracy for paired apps (not including sensor features):\", np.sum(paired_wo_sensor_accuracy)/len(paired_wo_sensor_accuracy))\n",
    "print(\"Accuracy for non-paired apps (not including sensor features):\", np.sum(non_paired_wo_sensor_accuracy)/len(non_paired_wo_sensor_accuracy))"
   ]
  },
  {
   "cell_type": "markdown",
   "metadata": {},
   "source": [
    "## Testing on Repackaged Benign Apps Dataset"
   ]
  },
  {
   "cell_type": "code",
   "execution_count": 59,
   "metadata": {},
   "outputs": [],
   "source": [
    "# accuracy = accuracy_score.score(repackaged_benign_test_X, repackaged_benign_test_y['label'].values)\n",
    "# print('Accuracy (including sensor features):', accuracy)"
   ]
  },
  {
   "cell_type": "code",
   "execution_count": 40,
   "metadata": {},
   "outputs": [
    {
     "name": "stdout",
     "output_type": "stream",
     "text": [
      "Accuracy (including sensor features): 0.8362491252624212\n"
     ]
    },
    {
     "ename": "NameError",
     "evalue": "name 'y_pred_repack_benign_wo_sensor' is not defined",
     "output_type": "error",
     "traceback": [
      "\u001b[0;31m---------------------------------------------------------------------------\u001b[0m",
      "\u001b[0;31mNameError\u001b[0m                                 Traceback (most recent call last)",
      "\u001b[0;32m<ipython-input-40-23d16dcd3db3>\u001b[0m in \u001b[0;36m<module>\u001b[0;34m\u001b[0m\n\u001b[1;32m      3\u001b[0m \u001b[0maccuracy\u001b[0m \u001b[0;34m=\u001b[0m \u001b[0maccuracy_score\u001b[0m\u001b[0;34m(\u001b[0m\u001b[0mrepackaged_benign_test_y\u001b[0m\u001b[0;34m[\u001b[0m\u001b[0;34m'label'\u001b[0m\u001b[0;34m]\u001b[0m\u001b[0;34m,\u001b[0m\u001b[0mnp\u001b[0m\u001b[0;34m.\u001b[0m\u001b[0mround\u001b[0m\u001b[0;34m(\u001b[0m\u001b[0my_pred_repack_benign\u001b[0m\u001b[0;34m)\u001b[0m\u001b[0;34m)\u001b[0m\u001b[0;34m\u001b[0m\u001b[0;34m\u001b[0m\u001b[0m\n\u001b[1;32m      4\u001b[0m \u001b[0mprint\u001b[0m\u001b[0;34m(\u001b[0m\u001b[0;34m'Accuracy (including sensor features):'\u001b[0m\u001b[0;34m,\u001b[0m \u001b[0maccuracy\u001b[0m\u001b[0;34m)\u001b[0m\u001b[0;34m\u001b[0m\u001b[0;34m\u001b[0m\u001b[0m\n\u001b[0;32m----> 5\u001b[0;31m \u001b[0maccuracy\u001b[0m \u001b[0;34m=\u001b[0m \u001b[0maccuracy_score\u001b[0m\u001b[0;34m(\u001b[0m\u001b[0mrepackaged_benign_test_y\u001b[0m\u001b[0;34m[\u001b[0m\u001b[0;34m'label'\u001b[0m\u001b[0;34m]\u001b[0m\u001b[0;34m,\u001b[0m\u001b[0mnp\u001b[0m\u001b[0;34m.\u001b[0m\u001b[0mround\u001b[0m\u001b[0;34m(\u001b[0m\u001b[0my_pred_repack_benign_wo_sensor\u001b[0m\u001b[0;34m)\u001b[0m\u001b[0;34m)\u001b[0m\u001b[0;34m\u001b[0m\u001b[0;34m\u001b[0m\u001b[0m\n\u001b[0m\u001b[1;32m      6\u001b[0m \u001b[0mprint\u001b[0m\u001b[0;34m(\u001b[0m\u001b[0;34m'Accuracy (without sensor features):'\u001b[0m\u001b[0;34m,\u001b[0m \u001b[0maccuracy\u001b[0m\u001b[0;34m)\u001b[0m\u001b[0;34m\u001b[0m\u001b[0;34m\u001b[0m\u001b[0m\n",
      "\u001b[0;31mNameError\u001b[0m: name 'y_pred_repack_benign_wo_sensor' is not defined"
     ]
    }
   ],
   "source": [
    "# y_pred_repack_benign = pipe_with_sensor.predict_proba(repackaged_benign_test_X)\n",
    "# y_pred_repack_benign_wo_sensor = pipe_without_sensor.predict_proba(repackaged_benign_test_X_wo_sensors)\n",
    "accuracy = accuracy_score(repackaged_benign_test_y['label'],np.round(y_pred_repack_benign))\n",
    "print('Accuracy (including sensor features):', accuracy)\n",
    "accuracy = accuracy_score(repackaged_benign_test_y['label'],np.round(y_pred_repack_benign_wo_sensor))\n",
    "print('Accuracy (without sensor features):', accuracy)"
   ]
  },
  {
   "cell_type": "markdown",
   "metadata": {},
   "source": [
    "## Testing on covid-19"
   ]
  },
  {
   "cell_type": "code",
   "execution_count": 63,
   "metadata": {},
   "outputs": [
    {
     "name": "stdout",
     "output_type": "stream",
     "text": [
      "Balanced Average Accuracy (including sensor features): 0.4752047315741583\n",
      "Balanced Average Accuracy (not including sensor features): 0.4886260236578708\n"
     ]
    }
   ],
   "source": [
    "print('Balanced Average Accuracy (including sensor features):', balanced_accuracy_score(COVID_test_y['label'].values, np.round(covid_y_pred_w_sensor)))\n",
    "print('Balanced Average Accuracy (not including sensor features):', balanced_accuracy_score(COVID_test_y['label'].values, np.round(covid_y_pred_wo_sensor)))"
   ]
  },
  {
   "cell_type": "markdown",
   "metadata": {},
   "source": [
    "## Thumbprint Score"
   ]
  },
  {
   "cell_type": "code",
   "execution_count": 65,
   "metadata": {},
   "outputs": [
    {
     "name": "stderr",
     "output_type": "stream",
     "text": [
      "\n",
      "A value is trying to be set on a copy of a slice from a DataFrame.\n",
      "Try using .loc[row_indexer,col_indexer] = value instead\n",
      "\n",
      "See the caveats in the documentation: https://pandas.pydata.org/pandas-docs/stable/user_guide/indexing.html#returning-a-view-versus-a-copy\n",
      "\n",
      "A value is trying to be set on a copy of a slice from a DataFrame.\n",
      "Try using .loc[row_indexer,col_indexer] = value instead\n",
      "\n",
      "See the caveats in the documentation: https://pandas.pydata.org/pandas-docs/stable/user_guide/indexing.html#returning-a-view-versus-a-copy\n",
      "\n",
      "A value is trying to be set on a copy of a slice from a DataFrame.\n",
      "Try using .loc[row_indexer,col_indexer] = value instead\n",
      "\n",
      "See the caveats in the documentation: https://pandas.pydata.org/pandas-docs/stable/user_guide/indexing.html#returning-a-view-versus-a-copy\n"
     ]
    }
   ],
   "source": [
    "X_test_['y_pred_with_sensor'] = np.round(y_pred_with_sensor)\n",
    "X_test_['y_pred_wo_sensor'] = np.round(y_pred_wo_sensor)\n",
    "X_test_['label'] = y_test"
   ]
  },
  {
   "cell_type": "code",
   "execution_count": 68,
   "metadata": {},
   "outputs": [
    {
     "data": {
      "text/plain": [
       "5927    1.0\n",
       "5505    1.0\n",
       "5249    1.0\n",
       "9252    1.0\n",
       "3160    0.0\n",
       "       ... \n",
       "92      0.0\n",
       "6127    0.0\n",
       "7364    1.0\n",
       "6704    1.0\n",
       "4803    1.0\n",
       "Name: y_pred_wo_sensor, Length: 2230, dtype: float32"
      ]
     },
     "execution_count": 68,
     "metadata": {},
     "output_type": "execute_result"
    }
   ],
   "source": [
    "X_test_['y_pred_wo_sensor']"
   ]
  },
  {
   "cell_type": "code",
   "execution_count": 69,
   "metadata": {},
   "outputs": [
    {
     "name": "stderr",
     "output_type": "stream",
     "text": [
      "\n",
      "A value is trying to be set on a copy of a slice from a DataFrame.\n",
      "Try using .loc[row_indexer,col_indexer] = value instead\n",
      "\n",
      "See the caveats in the documentation: https://pandas.pydata.org/pandas-docs/stable/user_guide/indexing.html#returning-a-view-versus-a-copy\n"
     ]
    },
    {
     "data": {
      "text/html": [
       "<div>\n",
       "<style scoped>\n",
       "    .dataframe tbody tr th:only-of-type {\n",
       "        vertical-align: middle;\n",
       "    }\n",
       "\n",
       "    .dataframe tbody tr th {\n",
       "        vertical-align: top;\n",
       "    }\n",
       "\n",
       "    .dataframe thead th {\n",
       "        text-align: right;\n",
       "    }\n",
       "</style>\n",
       "<table border=\"1\" class=\"dataframe\">\n",
       "  <thead>\n",
       "    <tr style=\"text-align: right;\">\n",
       "      <th></th>\n",
       "      <th>ThumbPrint</th>\n",
       "      <th>N</th>\n",
       "      <th>correct</th>\n",
       "      <th>score</th>\n",
       "    </tr>\n",
       "  </thead>\n",
       "  <tbody>\n",
       "    <tr>\n",
       "      <th>0</th>\n",
       "      <td>61ED377E85D386A8DFEE6B864BD85B0BFAA5AF81</td>\n",
       "      <td>162</td>\n",
       "      <td>95</td>\n",
       "      <td>0.586420</td>\n",
       "    </tr>\n",
       "    <tr>\n",
       "      <th>1</th>\n",
       "      <td>28EAC321D548B4247D9C84810C0656EC9426716B</td>\n",
       "      <td>97</td>\n",
       "      <td>75</td>\n",
       "      <td>0.773196</td>\n",
       "    </tr>\n",
       "    <tr>\n",
       "      <th>2</th>\n",
       "      <td>F3FA0BE3FEB31AC2920E399AF0F0CFB37D729284</td>\n",
       "      <td>71</td>\n",
       "      <td>71</td>\n",
       "      <td>1.000000</td>\n",
       "    </tr>\n",
       "    <tr>\n",
       "      <th>3</th>\n",
       "      <td>95653B2BD67722B6EF4021CB812FF2B4DC5DCF03</td>\n",
       "      <td>67</td>\n",
       "      <td>67</td>\n",
       "      <td>1.000000</td>\n",
       "    </tr>\n",
       "    <tr>\n",
       "      <th>4</th>\n",
       "      <td>00F7DCC41988D8642C51D4F8BA5A42C413275885</td>\n",
       "      <td>58</td>\n",
       "      <td>58</td>\n",
       "      <td>1.000000</td>\n",
       "    </tr>\n",
       "    <tr>\n",
       "      <th>5</th>\n",
       "      <td>F243B92AD5EABA98BD43084864C4D5483F191CD9</td>\n",
       "      <td>52</td>\n",
       "      <td>38</td>\n",
       "      <td>0.730769</td>\n",
       "    </tr>\n",
       "    <tr>\n",
       "      <th>6</th>\n",
       "      <td>45A195BE1E17B3AFA086623DCC4661DEE2043B70</td>\n",
       "      <td>45</td>\n",
       "      <td>45</td>\n",
       "      <td>1.000000</td>\n",
       "    </tr>\n",
       "    <tr>\n",
       "      <th>7</th>\n",
       "      <td>6C699C8D1F7157366994ACDA5495051F2C58D7AB</td>\n",
       "      <td>44</td>\n",
       "      <td>44</td>\n",
       "      <td>1.000000</td>\n",
       "    </tr>\n",
       "    <tr>\n",
       "      <th>8</th>\n",
       "      <td>699512C8B49E7A01A622BD250544E09A80A42D55</td>\n",
       "      <td>39</td>\n",
       "      <td>28</td>\n",
       "      <td>0.717949</td>\n",
       "    </tr>\n",
       "    <tr>\n",
       "      <th>9</th>\n",
       "      <td>5BFC55F389F4B5427341E4320A501711140AE444</td>\n",
       "      <td>35</td>\n",
       "      <td>14</td>\n",
       "      <td>0.400000</td>\n",
       "    </tr>\n",
       "  </tbody>\n",
       "</table>\n",
       "</div>"
      ],
      "text/plain": [
       "                                 ThumbPrint    N  correct     score\n",
       "0  61ED377E85D386A8DFEE6B864BD85B0BFAA5AF81  162       95  0.586420\n",
       "1  28EAC321D548B4247D9C84810C0656EC9426716B   97       75  0.773196\n",
       "2  F3FA0BE3FEB31AC2920E399AF0F0CFB37D729284   71       71  1.000000\n",
       "3  95653B2BD67722B6EF4021CB812FF2B4DC5DCF03   67       67  1.000000\n",
       "4  00F7DCC41988D8642C51D4F8BA5A42C413275885   58       58  1.000000\n",
       "5  F243B92AD5EABA98BD43084864C4D5483F191CD9   52       38  0.730769\n",
       "6  45A195BE1E17B3AFA086623DCC4661DEE2043B70   45       45  1.000000\n",
       "7  6C699C8D1F7157366994ACDA5495051F2C58D7AB   44       44  1.000000\n",
       "8  699512C8B49E7A01A622BD250544E09A80A42D55   39       28  0.717949\n",
       "9  5BFC55F389F4B5427341E4320A501711140AE444   35       14  0.400000"
      ]
     },
     "execution_count": 69,
     "metadata": {},
     "output_type": "execute_result"
    }
   ],
   "source": [
    "# scores of top 10 authors\n",
    "X_test_['correct'] = X_test_['label'] == X_test_['y_pred_with_sensor']\n",
    "summ = X_test_[X_test_['label']==1].groupby('ThumbPrint').agg(N=('SHA256','count'),\n",
    "                                                              correct=('correct','sum'))\\\n",
    ".sort_values(['N','correct'], ascending=False).iloc[:10,:].reset_index()\n",
    "summ['score'] = summ['correct']/summ['N']\n",
    "summ"
   ]
  },
  {
   "cell_type": "code",
   "execution_count": 70,
   "metadata": {},
   "outputs": [
    {
     "name": "stderr",
     "output_type": "stream",
     "text": [
      "\n",
      "A value is trying to be set on a copy of a slice from a DataFrame.\n",
      "Try using .loc[row_indexer,col_indexer] = value instead\n",
      "\n",
      "See the caveats in the documentation: https://pandas.pydata.org/pandas-docs/stable/user_guide/indexing.html#returning-a-view-versus-a-copy\n"
     ]
    },
    {
     "data": {
      "text/html": [
       "<div>\n",
       "<style scoped>\n",
       "    .dataframe tbody tr th:only-of-type {\n",
       "        vertical-align: middle;\n",
       "    }\n",
       "\n",
       "    .dataframe tbody tr th {\n",
       "        vertical-align: top;\n",
       "    }\n",
       "\n",
       "    .dataframe thead th {\n",
       "        text-align: right;\n",
       "    }\n",
       "</style>\n",
       "<table border=\"1\" class=\"dataframe\">\n",
       "  <thead>\n",
       "    <tr style=\"text-align: right;\">\n",
       "      <th></th>\n",
       "      <th>ThumbPrint</th>\n",
       "      <th>N</th>\n",
       "      <th>correct</th>\n",
       "      <th>score</th>\n",
       "    </tr>\n",
       "  </thead>\n",
       "  <tbody>\n",
       "    <tr>\n",
       "      <th>0</th>\n",
       "      <td>61ED377E85D386A8DFEE6B864BD85B0BFAA5AF81</td>\n",
       "      <td>162</td>\n",
       "      <td>101</td>\n",
       "      <td>0.623457</td>\n",
       "    </tr>\n",
       "    <tr>\n",
       "      <th>1</th>\n",
       "      <td>28EAC321D548B4247D9C84810C0656EC9426716B</td>\n",
       "      <td>97</td>\n",
       "      <td>75</td>\n",
       "      <td>0.773196</td>\n",
       "    </tr>\n",
       "    <tr>\n",
       "      <th>2</th>\n",
       "      <td>F3FA0BE3FEB31AC2920E399AF0F0CFB37D729284</td>\n",
       "      <td>71</td>\n",
       "      <td>71</td>\n",
       "      <td>1.000000</td>\n",
       "    </tr>\n",
       "    <tr>\n",
       "      <th>3</th>\n",
       "      <td>95653B2BD67722B6EF4021CB812FF2B4DC5DCF03</td>\n",
       "      <td>67</td>\n",
       "      <td>67</td>\n",
       "      <td>1.000000</td>\n",
       "    </tr>\n",
       "    <tr>\n",
       "      <th>4</th>\n",
       "      <td>00F7DCC41988D8642C51D4F8BA5A42C413275885</td>\n",
       "      <td>58</td>\n",
       "      <td>58</td>\n",
       "      <td>1.000000</td>\n",
       "    </tr>\n",
       "    <tr>\n",
       "      <th>5</th>\n",
       "      <td>F243B92AD5EABA98BD43084864C4D5483F191CD9</td>\n",
       "      <td>52</td>\n",
       "      <td>40</td>\n",
       "      <td>0.769231</td>\n",
       "    </tr>\n",
       "    <tr>\n",
       "      <th>6</th>\n",
       "      <td>45A195BE1E17B3AFA086623DCC4661DEE2043B70</td>\n",
       "      <td>45</td>\n",
       "      <td>45</td>\n",
       "      <td>1.000000</td>\n",
       "    </tr>\n",
       "    <tr>\n",
       "      <th>7</th>\n",
       "      <td>6C699C8D1F7157366994ACDA5495051F2C58D7AB</td>\n",
       "      <td>44</td>\n",
       "      <td>44</td>\n",
       "      <td>1.000000</td>\n",
       "    </tr>\n",
       "    <tr>\n",
       "      <th>8</th>\n",
       "      <td>699512C8B49E7A01A622BD250544E09A80A42D55</td>\n",
       "      <td>39</td>\n",
       "      <td>34</td>\n",
       "      <td>0.871795</td>\n",
       "    </tr>\n",
       "    <tr>\n",
       "      <th>9</th>\n",
       "      <td>5BFC55F389F4B5427341E4320A501711140AE444</td>\n",
       "      <td>35</td>\n",
       "      <td>14</td>\n",
       "      <td>0.400000</td>\n",
       "    </tr>\n",
       "  </tbody>\n",
       "</table>\n",
       "</div>"
      ],
      "text/plain": [
       "                                 ThumbPrint    N  correct     score\n",
       "0  61ED377E85D386A8DFEE6B864BD85B0BFAA5AF81  162      101  0.623457\n",
       "1  28EAC321D548B4247D9C84810C0656EC9426716B   97       75  0.773196\n",
       "2  F3FA0BE3FEB31AC2920E399AF0F0CFB37D729284   71       71  1.000000\n",
       "3  95653B2BD67722B6EF4021CB812FF2B4DC5DCF03   67       67  1.000000\n",
       "4  00F7DCC41988D8642C51D4F8BA5A42C413275885   58       58  1.000000\n",
       "5  F243B92AD5EABA98BD43084864C4D5483F191CD9   52       40  0.769231\n",
       "6  45A195BE1E17B3AFA086623DCC4661DEE2043B70   45       45  1.000000\n",
       "7  6C699C8D1F7157366994ACDA5495051F2C58D7AB   44       44  1.000000\n",
       "8  699512C8B49E7A01A622BD250544E09A80A42D55   39       34  0.871795\n",
       "9  5BFC55F389F4B5427341E4320A501711140AE444   35       14  0.400000"
      ]
     },
     "execution_count": 70,
     "metadata": {},
     "output_type": "execute_result"
    }
   ],
   "source": [
    "# scores of top 10 authors\n",
    "X_test_['correct'] = X_test_['label'] == X_test_['y_pred_wo_sensor']\n",
    "summ = X_test_[X_test_['label']==1].groupby('ThumbPrint').agg(N=('SHA256','count'),\n",
    "                                                      correct=('correct','sum'))\\\n",
    ".sort_values(['N','correct'], ascending=False).iloc[:10,:].reset_index()\n",
    "summ['score'] = summ['correct']/summ['N']\n",
    "summ"
   ]
  },
  {
   "cell_type": "markdown",
   "metadata": {},
   "source": [
    "# SHAP FOR MISCLASSIFICATION"
   ]
  },
  {
   "cell_type": "code",
   "execution_count": 84,
   "metadata": {},
   "outputs": [],
   "source": [
    "def compute_changes(row):\n",
    "    if row['feature_importance_vals_true']*row['feature_importance_vals_false']<0:\n",
    "        return 1\n",
    "    else:\n",
    "        return 0\n",
    "\n",
    "class SHAP_Visual_ThumbPrint:  ## use shap to explain the prediction results of a thumbprint for a certain model\n",
    "    def __init__(self,thumbprint,X_train,X_test,model,model_name,feature_lst,link='logit'):\n",
    "        '''\n",
    "        thumbprint: the thumbprint of one author\n",
    "        X_test: from which dataframe to get the author information\n",
    "        model_with_sensor: the model trained using sensor information\n",
    "        model_wo_sensor: the model trained without sensor information\n",
    "        '''\n",
    "        self.thumbprint = thumbprint\n",
    "        self.model = model\n",
    "        self.model_name=model_name         ## model_name is related to the type of shap explainer\n",
    "        self.X_train=X_train               ## useful for linear_explainer and dnn_explainer because this provides background distribution of training set\n",
    "        self.X_test=X_test                ## useful only for get_prediction_records of a certain type (eg:correct classifications, misclassifications)\n",
    "        \n",
    "        self.get_pred_record(thumbprint,feature_lst) ## init author dataframes\n",
    "        self.init_explainer() ## init explainer\n",
    "        self.feature_lst=feature_lst\n",
    "        \n",
    "        \n",
    "    def combine_feature_importance_all(self):  ## combine the feature importance of misclsfy and clsfy\n",
    "        feature_importance_correct=self.compute_feature_importance(self.author_true_df)\n",
    "        feature_importance_false=self.compute_feature_importance(self.author_false_df)\n",
    "        feature_importance_merge=feature_importance_correct.merge(feature_importance_false,how='inner',on='col_name')\n",
    "        return feature_importance_merge\n",
    "        \n",
    "    def get_pred_record(self,thumbprint,feature_lst): ## just filter author dataframe for shap_value computations\n",
    "        author=self.X_test.query(f'ThumbPrint==\"{thumbprint}\"').query('label==1')\n",
    "#         print(author.groupby('correct').agg(cnt=('SHA256','count')).reset_index())\n",
    "        author_true=author.query('correct==1')\n",
    "        author_false=author.query('correct==0')\n",
    "#         return author[feature_lst],author_true[feature_lst],author_false[feature_lst]\n",
    "        self.author_df=author[feature_lst]              ## features of apps of an author (thumbprint)\n",
    "        self.author_true_df=author_true[feature_lst]    ## features of all correct classifications of an author (thumbprint)\n",
    "        self.author_false_df=author_false[feature_lst]  ## features of all misclassifications of an author (thumbprint)\n",
    "        \n",
    "        \n",
    "    def init_explainer(self):\n",
    "        ## useful link about shap models:\n",
    "        ## https://shap.readthedocs.io/en/latest/examples.html#linear-explainer-examples\n",
    "        if self.model_name.lower() in {'xgboost','xgb'}:\n",
    "            self.explainer= shap.TreeExplainer(self.model)\n",
    "        elif self.model_name.lower() in {'logistic_regression','LR','logistic regression'}:\n",
    "            self.explainer=shap.LinearExplainer(self.model,self.X_train)\n",
    "            ## The background dataset to use for computing conditional expectations. \n",
    "            ## Note that only the mean and covariance of the dataset are used. \n",
    "            ## This means passing a raw data matrix is just a convienent alternative to passing the mean and covariance directly.\n",
    "        elif self.model_name.lower() in {'dnn'}: ## useful for both keras model (framework ='pytorch') and pytorch model (framework ='pytorch')\n",
    "            self.explainer=shap.DeepExplainer(self.model,self.X_train.sample(n=1000,replace=0).values)\n",
    "            \n",
    "            ## why select 100 or 1000 from x_train:\n",
    "            ## The background dataset to use for integrating out features. \n",
    "            ## Deep integrates over these samples. \n",
    "            ## The data passed here must match the input tensors given in the first argument(model). \n",
    "            ## Note that since these samples are integrated over for each sample \n",
    "            ## you should only something like 100 or 1000 random background samples, not the whole training dataset.\n",
    "        else:\n",
    "            self.explainer=shap.KernelExplainer(self.model,self.X_train,link='logit')\n",
    "            ## A generalized linear model link to connect the feature importance values to the model output. \n",
    "            ## Since the feature importance values, phi, sum up to the model output, \n",
    "            ## it often makes sense to connect them to the output with a link function where link(output) = sum(phi). \n",
    "            ## If the model output is a probability then the LogitLink link function makes the feature importance values have log-odds units.\n",
    "            \n",
    "    def compute_feature_importance(self,df): ## compute feature_importance for a dataframe\n",
    "        shap_values = self.explainer.shap_values(df)\n",
    "        vals= np.abs(shap_values).mean(0)\n",
    "        feature_importance = pd.DataFrame(list(zip(df.columns,vals)),columns=['col_name','feature_importance_vals'])\n",
    "        feature_importance.sort_values(by=['feature_importance_vals'],ascending=False,inplace=True)\n",
    "        feature_importance['rank']=list(range(1,feature_importance.shape[0]+1))\n",
    "        feature_importance['ThumbPrint']=self.thumbprint\n",
    "        \n",
    "        return feature_importance\n",
    "\n",
    "    def combine_feature_importance_all(self):  ## combine the feature importance of misclsfy and clsfy\n",
    "        feature_importance_correct=self.compute_feature_importance(self.author_true_df[self.feature_lst])\n",
    "        feature_importance_false=self.compute_feature_importance(self.author_false_df[self.feature_lst])\n",
    "        feature_importance_merge=feature_importance_correct.merge(feature_importance_false,how='inner',on=['col_name','ThumbPrint'],suffixes=['_true','_false'])\n",
    "        feature_importance_merge['importance_change']=feature_importance_merge['feature_importance_vals_true']-feature_importance_merge['feature_importance_vals_false'] \n",
    "        feature_importance_merge['rank_change']=feature_importance_merge['rank_true']-feature_importance_merge['rank_false']\n",
    "        feature_importance_merge['change_direction']=feature_importance_merge.apply(lambda x:compute_changes(x),axis=1)\n",
    "        return feature_importance_merge \n",
    "    \n",
    "    def summary_plot(self,df):\n",
    "        '''\n",
    "        plot shows, how much features push the output value towards negativity or positivity\n",
    "        and color the visual output by the feature values (high or low, in our case : 0 or 1 )\n",
    "        '''\n",
    "        shap_values = self.explainer.shap_values(df)\n",
    "        shap.summary_plot(shap_values, df)\n",
    "        \n",
    "    def force_plot(self,df):   ## cannot be used in function?\n",
    "        '''\n",
    "        plot how much features push the output (can be used for an example or some examples(mean))\n",
    "        '''\n",
    "        print(self.explainer.expected_value)\n",
    "        shap_values = self.explainer.shap_values(df)\n",
    "        shap.force_plot(self.explainer.expected_value, shap_values, df)\n",
    "        \n",
    "    def dependence_plot(self,df,feature_name):  \n",
    "        '''\n",
    "        this plot is mainly use to explore the dependency between different features, temporaly not useful here\n",
    "        '''\n",
    "        shap_values = explainer.shap_values(df)\n",
    "        shap.dependence_plot(feature_name, shap_values, df)\n",
    "    \n",
    "    def visual_thumbprint(self):   ## just to show how to use visualization functions\n",
    "        feature_importance=self.combine_feature_importance_all() ## compute shap value for correect classified and misclassified\n",
    "        self.summary_plot(self.author_true_df)\n",
    "        self.summary_plot(self.author_false_df)\n",
    "        \n",
    "        self.force_plot(self.author_true_df.iloc[0,:])\n",
    "        self.force_plot(self.author_false_df.iloc[0,:])\n",
    "        \n",
    "def force_plot(shap_explainer,df):\n",
    "    shap_values = shap_explainer.explainer.shap_values(df)\n",
    "    print(shap_values.shape)\n",
    "    shap.force_plot(shap_tb.explainer.expected_value, shap_values, df)"
   ]
  },
  {
   "cell_type": "code",
   "execution_count": 85,
   "metadata": {},
   "outputs": [],
   "source": [
    "def combine_top_thumbprint(X_train,X_test,model,model_name,feature_lst):\n",
    "    '''\n",
    "    X_train: the data used for training the model (with sensor or without sensor)\n",
    "    X_test: the data used as testing data\n",
    "    model: the model trained (only model cannot use pipeline)\n",
    "    model_name: xgboost --------------- {'xgboost','xgb'}\n",
    "                logistic_regression --- {'logistic_regression','LR','logistic regression'}\n",
    "                dnn ------------------- {'dnn'}\n",
    "                svm & knn ------------- {'others'}\n",
    "    '''\n",
    "    # scores of top 10 authors\n",
    "    X_test['correct'] = X_test_['label'] == X_test['y_pred_with_sensor']\n",
    "    summ = X_test_[X_test_['label']==1].groupby('ThumbPrint').agg(N=('SHA256','count'),\n",
    "                                                                  correct=('correct','sum'))\\\n",
    "    .sort_values(['N','correct'], ascending=False).iloc[:10,:].reset_index()\n",
    "    summ['score'] = summ['correct']/summ['N']\n",
    "    \n",
    "    feature_importance_df=pd.DataFrame()\n",
    "    for idx,row in summ.iterrows():\n",
    "        thumbprint=row['ThumbPrint']\n",
    "        if row['score']==1:\n",
    "            continue\n",
    "        shap_tb=SHAP_Visual_ThumbPrint(thumbprint,X_train,X_test,model,model_name,feature_lst)\n",
    "        feature_importance=shap_tb.combine_feature_importance_all()\n",
    "        feature_importance=feature_importance[feature_importance.importance_change!=0]\n",
    "        feature_importance_df=pd.concat([feature_importance_df,feature_importance],axis=0)\n",
    "    summ_=summ.merge(feature_importance_df,on='ThumbPrint')\n",
    "    return summ,summ_"
   ]
  },
  {
   "cell_type": "code",
   "execution_count": 86,
   "metadata": {},
   "outputs": [
    {
     "name": "stderr",
     "output_type": "stream",
     "text": [
      "\n",
      "A value is trying to be set on a copy of a slice from a DataFrame.\n",
      "Try using .loc[row_indexer,col_indexer] = value instead\n",
      "\n",
      "See the caveats in the documentation: https://pandas.pydata.org/pandas-docs/stable/user_guide/indexing.html#returning-a-view-versus-a-copy\n"
     ]
    },
    {
     "ename": "ValueError",
     "evalue": "Layer sequential_1 was called with an input that isn't a symbolic tensor. Received type: <class 'numpy.ndarray'>. Full input: [array([[0, 0, 0, ..., 1, 0, 1],\n       [0, 0, 0, ..., 1, 0, 1],\n       [0, 0, 0, ..., 1, 0, 0],\n       ...,\n       [0, 0, 0, ..., 1, 0, 0],\n       [0, 0, 0, ..., 1, 0, 0],\n       [0, 0, 0, ..., 1, 0, 1]])]. All inputs to the layer should be tensors.",
     "output_type": "error",
     "traceback": [
      "\u001b[0;31m---------------------------------------------------------------------------\u001b[0m",
      "\u001b[0;31mValueError\u001b[0m                                Traceback (most recent call last)",
      "\u001b[0;32m~/opt/anaconda3/envs/tensorflow/lib/python3.7/site-packages/keras/engine/base_layer.py\u001b[0m in \u001b[0;36massert_input_compatibility\u001b[0;34m(self, inputs)\u001b[0m\n\u001b[1;32m    309\u001b[0m             \u001b[0;32mtry\u001b[0m\u001b[0;34m:\u001b[0m\u001b[0;34m\u001b[0m\u001b[0;34m\u001b[0m\u001b[0m\n\u001b[0;32m--> 310\u001b[0;31m                 \u001b[0mK\u001b[0m\u001b[0;34m.\u001b[0m\u001b[0mis_keras_tensor\u001b[0m\u001b[0;34m(\u001b[0m\u001b[0mx\u001b[0m\u001b[0;34m)\u001b[0m\u001b[0;34m\u001b[0m\u001b[0;34m\u001b[0m\u001b[0m\n\u001b[0m\u001b[1;32m    311\u001b[0m             \u001b[0;32mexcept\u001b[0m \u001b[0mValueError\u001b[0m\u001b[0;34m:\u001b[0m\u001b[0;34m\u001b[0m\u001b[0;34m\u001b[0m\u001b[0m\n",
      "\u001b[0;32m~/opt/anaconda3/envs/tensorflow/lib/python3.7/site-packages/keras/backend/tensorflow_backend.py\u001b[0m in \u001b[0;36mis_keras_tensor\u001b[0;34m(x)\u001b[0m\n\u001b[1;32m    696\u001b[0m         raise ValueError('Unexpectedly found an instance of type `' +\n\u001b[0;32m--> 697\u001b[0;31m                          \u001b[0mstr\u001b[0m\u001b[0;34m(\u001b[0m\u001b[0mtype\u001b[0m\u001b[0;34m(\u001b[0m\u001b[0mx\u001b[0m\u001b[0;34m)\u001b[0m\u001b[0;34m)\u001b[0m \u001b[0;34m+\u001b[0m \u001b[0;34m'`. '\u001b[0m\u001b[0;34m\u001b[0m\u001b[0;34m\u001b[0m\u001b[0m\n\u001b[0m\u001b[1;32m    698\u001b[0m                          'Expected a symbolic tensor instance.')\n",
      "\u001b[0;31mValueError\u001b[0m: Unexpectedly found an instance of type `<class 'numpy.ndarray'>`. Expected a symbolic tensor instance.",
      "\nDuring handling of the above exception, another exception occurred:\n",
      "\u001b[0;31mValueError\u001b[0m                                Traceback (most recent call last)",
      "\u001b[0;32m<ipython-input-86-31a0d6873e6c>\u001b[0m in \u001b[0;36m<module>\u001b[0;34m\u001b[0m\n\u001b[1;32m      1\u001b[0m summ_wo,summ_wo_combine=combine_top_thumbprint(X_train_wo_sensor_resample.drop('label',axis=1),X_test_,model,'dnn',\n\u001b[0;32m----> 2\u001b[0;31m                                                   list(repackaged_benign_test_X_wo_sensors.columns))\n\u001b[0m",
      "\u001b[0;32m<ipython-input-85-6bb6c0a7065c>\u001b[0m in \u001b[0;36mcombine_top_thumbprint\u001b[0;34m(X_train, X_test, model, model_name, feature_lst)\u001b[0m\n\u001b[1;32m     21\u001b[0m         \u001b[0;32mif\u001b[0m \u001b[0mrow\u001b[0m\u001b[0;34m[\u001b[0m\u001b[0;34m'score'\u001b[0m\u001b[0;34m]\u001b[0m\u001b[0;34m==\u001b[0m\u001b[0;36m1\u001b[0m\u001b[0;34m:\u001b[0m\u001b[0;34m\u001b[0m\u001b[0;34m\u001b[0m\u001b[0m\n\u001b[1;32m     22\u001b[0m             \u001b[0;32mcontinue\u001b[0m\u001b[0;34m\u001b[0m\u001b[0;34m\u001b[0m\u001b[0m\n\u001b[0;32m---> 23\u001b[0;31m         \u001b[0mshap_tb\u001b[0m\u001b[0;34m=\u001b[0m\u001b[0mSHAP_Visual_ThumbPrint\u001b[0m\u001b[0;34m(\u001b[0m\u001b[0mthumbprint\u001b[0m\u001b[0;34m,\u001b[0m\u001b[0mX_train\u001b[0m\u001b[0;34m,\u001b[0m\u001b[0mX_test\u001b[0m\u001b[0;34m,\u001b[0m\u001b[0mmodel\u001b[0m\u001b[0;34m,\u001b[0m\u001b[0mmodel_name\u001b[0m\u001b[0;34m,\u001b[0m\u001b[0mfeature_lst\u001b[0m\u001b[0;34m)\u001b[0m\u001b[0;34m\u001b[0m\u001b[0;34m\u001b[0m\u001b[0m\n\u001b[0m\u001b[1;32m     24\u001b[0m         \u001b[0mfeature_importance\u001b[0m\u001b[0;34m=\u001b[0m\u001b[0mshap_tb\u001b[0m\u001b[0;34m.\u001b[0m\u001b[0mcombine_feature_importance_all\u001b[0m\u001b[0;34m(\u001b[0m\u001b[0;34m)\u001b[0m\u001b[0;34m\u001b[0m\u001b[0;34m\u001b[0m\u001b[0m\n\u001b[1;32m     25\u001b[0m         \u001b[0mfeature_importance\u001b[0m\u001b[0;34m=\u001b[0m\u001b[0mfeature_importance\u001b[0m\u001b[0;34m[\u001b[0m\u001b[0mfeature_importance\u001b[0m\u001b[0;34m.\u001b[0m\u001b[0mimportance_change\u001b[0m\u001b[0;34m!=\u001b[0m\u001b[0;36m0\u001b[0m\u001b[0;34m]\u001b[0m\u001b[0;34m\u001b[0m\u001b[0;34m\u001b[0m\u001b[0m\n",
      "\u001b[0;32m<ipython-input-84-72abc69c1f5f>\u001b[0m in \u001b[0;36m__init__\u001b[0;34m(self, thumbprint, X_train, X_test, model, model_name, feature_lst, link)\u001b[0m\n\u001b[1;32m     20\u001b[0m \u001b[0;34m\u001b[0m\u001b[0m\n\u001b[1;32m     21\u001b[0m         \u001b[0mself\u001b[0m\u001b[0;34m.\u001b[0m\u001b[0mget_pred_record\u001b[0m\u001b[0;34m(\u001b[0m\u001b[0mthumbprint\u001b[0m\u001b[0;34m,\u001b[0m\u001b[0mfeature_lst\u001b[0m\u001b[0;34m)\u001b[0m \u001b[0;31m## init author dataframes\u001b[0m\u001b[0;34m\u001b[0m\u001b[0;34m\u001b[0m\u001b[0m\n\u001b[0;32m---> 22\u001b[0;31m         \u001b[0mself\u001b[0m\u001b[0;34m.\u001b[0m\u001b[0minit_explainer\u001b[0m\u001b[0;34m(\u001b[0m\u001b[0;34m)\u001b[0m \u001b[0;31m## init explainer\u001b[0m\u001b[0;34m\u001b[0m\u001b[0;34m\u001b[0m\u001b[0m\n\u001b[0m\u001b[1;32m     23\u001b[0m         \u001b[0mself\u001b[0m\u001b[0;34m.\u001b[0m\u001b[0mfeature_lst\u001b[0m\u001b[0;34m=\u001b[0m\u001b[0mfeature_lst\u001b[0m\u001b[0;34m\u001b[0m\u001b[0;34m\u001b[0m\u001b[0m\n\u001b[1;32m     24\u001b[0m \u001b[0;34m\u001b[0m\u001b[0m\n",
      "\u001b[0;32m<ipython-input-84-72abc69c1f5f>\u001b[0m in \u001b[0;36minit_explainer\u001b[0;34m(self)\u001b[0m\n\u001b[1;32m     52\u001b[0m             \u001b[0;31m## This means passing a raw data matrix is just a convienent alternative to passing the mean and covariance directly.\u001b[0m\u001b[0;34m\u001b[0m\u001b[0;34m\u001b[0m\u001b[0;34m\u001b[0m\u001b[0m\n\u001b[1;32m     53\u001b[0m         \u001b[0;32melif\u001b[0m \u001b[0mself\u001b[0m\u001b[0;34m.\u001b[0m\u001b[0mmodel_name\u001b[0m\u001b[0;34m.\u001b[0m\u001b[0mlower\u001b[0m\u001b[0;34m(\u001b[0m\u001b[0;34m)\u001b[0m \u001b[0;32min\u001b[0m \u001b[0;34m{\u001b[0m\u001b[0;34m'dnn'\u001b[0m\u001b[0;34m}\u001b[0m\u001b[0;34m:\u001b[0m \u001b[0;31m## useful for both keras model (framework ='pytorch') and pytorch model (framework ='pytorch')\u001b[0m\u001b[0;34m\u001b[0m\u001b[0;34m\u001b[0m\u001b[0m\n\u001b[0;32m---> 54\u001b[0;31m             \u001b[0mself\u001b[0m\u001b[0;34m.\u001b[0m\u001b[0mexplainer\u001b[0m\u001b[0;34m=\u001b[0m\u001b[0mshap\u001b[0m\u001b[0;34m.\u001b[0m\u001b[0mDeepExplainer\u001b[0m\u001b[0;34m(\u001b[0m\u001b[0mself\u001b[0m\u001b[0;34m.\u001b[0m\u001b[0mmodel\u001b[0m\u001b[0;34m,\u001b[0m\u001b[0mself\u001b[0m\u001b[0;34m.\u001b[0m\u001b[0mX_train\u001b[0m\u001b[0;34m.\u001b[0m\u001b[0msample\u001b[0m\u001b[0;34m(\u001b[0m\u001b[0mn\u001b[0m\u001b[0;34m=\u001b[0m\u001b[0;36m1000\u001b[0m\u001b[0;34m,\u001b[0m\u001b[0mreplace\u001b[0m\u001b[0;34m=\u001b[0m\u001b[0;36m0\u001b[0m\u001b[0;34m)\u001b[0m\u001b[0;34m.\u001b[0m\u001b[0mvalues\u001b[0m\u001b[0;34m)\u001b[0m\u001b[0;34m\u001b[0m\u001b[0;34m\u001b[0m\u001b[0m\n\u001b[0m\u001b[1;32m     55\u001b[0m \u001b[0;34m\u001b[0m\u001b[0m\n\u001b[1;32m     56\u001b[0m             \u001b[0;31m## why select 100 or 1000 from x_train:\u001b[0m\u001b[0;34m\u001b[0m\u001b[0;34m\u001b[0m\u001b[0;34m\u001b[0m\u001b[0m\n",
      "\u001b[0;32m~/opt/anaconda3/envs/tensorflow/lib/python3.7/site-packages/shap/explainers/_deep/__init__.py\u001b[0m in \u001b[0;36m__init__\u001b[0;34m(self, model, data, session, learning_phase_flags)\u001b[0m\n\u001b[1;32m     78\u001b[0m \u001b[0;34m\u001b[0m\u001b[0m\n\u001b[1;32m     79\u001b[0m         \u001b[0;32mif\u001b[0m \u001b[0mframework\u001b[0m \u001b[0;34m==\u001b[0m \u001b[0;34m'tensorflow'\u001b[0m\u001b[0;34m:\u001b[0m\u001b[0;34m\u001b[0m\u001b[0;34m\u001b[0m\u001b[0m\n\u001b[0;32m---> 80\u001b[0;31m             \u001b[0mself\u001b[0m\u001b[0;34m.\u001b[0m\u001b[0mexplainer\u001b[0m \u001b[0;34m=\u001b[0m \u001b[0mTFDeep\u001b[0m\u001b[0;34m(\u001b[0m\u001b[0mmodel\u001b[0m\u001b[0;34m,\u001b[0m \u001b[0mdata\u001b[0m\u001b[0;34m,\u001b[0m \u001b[0msession\u001b[0m\u001b[0;34m,\u001b[0m \u001b[0mlearning_phase_flags\u001b[0m\u001b[0;34m)\u001b[0m\u001b[0;34m\u001b[0m\u001b[0;34m\u001b[0m\u001b[0m\n\u001b[0m\u001b[1;32m     81\u001b[0m         \u001b[0;32melif\u001b[0m \u001b[0mframework\u001b[0m \u001b[0;34m==\u001b[0m \u001b[0;34m'pytorch'\u001b[0m\u001b[0;34m:\u001b[0m\u001b[0;34m\u001b[0m\u001b[0;34m\u001b[0m\u001b[0m\n\u001b[1;32m     82\u001b[0m             \u001b[0mself\u001b[0m\u001b[0;34m.\u001b[0m\u001b[0mexplainer\u001b[0m \u001b[0;34m=\u001b[0m \u001b[0mPyTorchDeep\u001b[0m\u001b[0;34m(\u001b[0m\u001b[0mmodel\u001b[0m\u001b[0;34m,\u001b[0m \u001b[0mdata\u001b[0m\u001b[0;34m)\u001b[0m\u001b[0;34m\u001b[0m\u001b[0;34m\u001b[0m\u001b[0m\n",
      "\u001b[0;32m~/opt/anaconda3/envs/tensorflow/lib/python3.7/site-packages/shap/explainers/_deep/deep_tf.py\u001b[0m in \u001b[0;36m__init__\u001b[0;34m(self, model, data, session, learning_phase_flags)\u001b[0m\n\u001b[1;32m    152\u001b[0m                 \u001b[0;32mif\u001b[0m \u001b[0mtype\u001b[0m\u001b[0;34m(\u001b[0m\u001b[0mself\u001b[0m\u001b[0;34m.\u001b[0m\u001b[0mmodel\u001b[0m\u001b[0;34m)\u001b[0m\u001b[0;32mis\u001b[0m \u001b[0mtuple\u001b[0m\u001b[0;34m:\u001b[0m\u001b[0;34m\u001b[0m\u001b[0;34m\u001b[0m\u001b[0m\n\u001b[1;32m    153\u001b[0m                     \u001b[0msel\u001b[0m\u001b[0;34m.\u001b[0m\u001b[0mfModel\u001b[0m\u001b[0;34m(\u001b[0m\u001b[0mcnn\u001b[0m\u001b[0;34m.\u001b[0m\u001b[0minputs\u001b[0m\u001b[0;34m,\u001b[0m \u001b[0mcnn\u001b[0m\u001b[0;34m.\u001b[0m\u001b[0mget_layer\u001b[0m\u001b[0;34m(\u001b[0m\u001b[0mtheNameYouWant\u001b[0m\u001b[0;34m)\u001b[0m\u001b[0;34m.\u001b[0m\u001b[0moutputs\u001b[0m\u001b[0;34m)\u001b[0m\u001b[0;34m\u001b[0m\u001b[0;34m\u001b[0m\u001b[0m\n\u001b[0;32m--> 154\u001b[0;31m                 \u001b[0mself\u001b[0m\u001b[0;34m.\u001b[0m\u001b[0mexpected_value\u001b[0m \u001b[0;34m=\u001b[0m \u001b[0mtf\u001b[0m\u001b[0;34m.\u001b[0m\u001b[0mreduce_mean\u001b[0m\u001b[0;34m(\u001b[0m\u001b[0mself\u001b[0m\u001b[0;34m.\u001b[0m\u001b[0mmodel\u001b[0m\u001b[0;34m(\u001b[0m\u001b[0mself\u001b[0m\u001b[0;34m.\u001b[0m\u001b[0mdata\u001b[0m\u001b[0;34m)\u001b[0m\u001b[0;34m,\u001b[0m \u001b[0;36m0\u001b[0m\u001b[0;34m)\u001b[0m\u001b[0;34m\u001b[0m\u001b[0;34m\u001b[0m\u001b[0m\n\u001b[0m\u001b[1;32m    155\u001b[0m \u001b[0;34m\u001b[0m\u001b[0m\n\u001b[1;32m    156\u001b[0m         \u001b[0;32mif\u001b[0m \u001b[0;32mnot\u001b[0m \u001b[0mtf\u001b[0m\u001b[0;34m.\u001b[0m\u001b[0mexecuting_eagerly\u001b[0m\u001b[0;34m(\u001b[0m\u001b[0;34m)\u001b[0m\u001b[0;34m:\u001b[0m\u001b[0;34m\u001b[0m\u001b[0;34m\u001b[0m\u001b[0m\n",
      "\u001b[0;32m~/opt/anaconda3/envs/tensorflow/lib/python3.7/site-packages/keras/backend/tensorflow_backend.py\u001b[0m in \u001b[0;36msymbolic_fn_wrapper\u001b[0;34m(*args, **kwargs)\u001b[0m\n\u001b[1;32m     73\u001b[0m         \u001b[0;32mif\u001b[0m \u001b[0m_SYMBOLIC_SCOPE\u001b[0m\u001b[0;34m.\u001b[0m\u001b[0mvalue\u001b[0m\u001b[0;34m:\u001b[0m\u001b[0;34m\u001b[0m\u001b[0;34m\u001b[0m\u001b[0m\n\u001b[1;32m     74\u001b[0m             \u001b[0;32mwith\u001b[0m \u001b[0mget_graph\u001b[0m\u001b[0;34m(\u001b[0m\u001b[0;34m)\u001b[0m\u001b[0;34m.\u001b[0m\u001b[0mas_default\u001b[0m\u001b[0;34m(\u001b[0m\u001b[0;34m)\u001b[0m\u001b[0;34m:\u001b[0m\u001b[0;34m\u001b[0m\u001b[0;34m\u001b[0m\u001b[0m\n\u001b[0;32m---> 75\u001b[0;31m                 \u001b[0;32mreturn\u001b[0m \u001b[0mfunc\u001b[0m\u001b[0;34m(\u001b[0m\u001b[0;34m*\u001b[0m\u001b[0margs\u001b[0m\u001b[0;34m,\u001b[0m \u001b[0;34m**\u001b[0m\u001b[0mkwargs\u001b[0m\u001b[0;34m)\u001b[0m\u001b[0;34m\u001b[0m\u001b[0;34m\u001b[0m\u001b[0m\n\u001b[0m\u001b[1;32m     76\u001b[0m         \u001b[0;32melse\u001b[0m\u001b[0;34m:\u001b[0m\u001b[0;34m\u001b[0m\u001b[0;34m\u001b[0m\u001b[0m\n\u001b[1;32m     77\u001b[0m             \u001b[0;32mreturn\u001b[0m \u001b[0mfunc\u001b[0m\u001b[0;34m(\u001b[0m\u001b[0;34m*\u001b[0m\u001b[0margs\u001b[0m\u001b[0;34m,\u001b[0m \u001b[0;34m**\u001b[0m\u001b[0mkwargs\u001b[0m\u001b[0;34m)\u001b[0m\u001b[0;34m\u001b[0m\u001b[0;34m\u001b[0m\u001b[0m\n",
      "\u001b[0;32m~/opt/anaconda3/envs/tensorflow/lib/python3.7/site-packages/keras/engine/base_layer.py\u001b[0m in \u001b[0;36m__call__\u001b[0;34m(self, inputs, **kwargs)\u001b[0m\n\u001b[1;32m    470\u001b[0m             \u001b[0;31m# Raise exceptions in case the input is not compatible\u001b[0m\u001b[0;34m\u001b[0m\u001b[0;34m\u001b[0m\u001b[0;34m\u001b[0m\u001b[0m\n\u001b[1;32m    471\u001b[0m             \u001b[0;31m# with the input_spec set at build time.\u001b[0m\u001b[0;34m\u001b[0m\u001b[0;34m\u001b[0m\u001b[0;34m\u001b[0m\u001b[0m\n\u001b[0;32m--> 472\u001b[0;31m             \u001b[0mself\u001b[0m\u001b[0;34m.\u001b[0m\u001b[0massert_input_compatibility\u001b[0m\u001b[0;34m(\u001b[0m\u001b[0minputs\u001b[0m\u001b[0;34m)\u001b[0m\u001b[0;34m\u001b[0m\u001b[0;34m\u001b[0m\u001b[0m\n\u001b[0m\u001b[1;32m    473\u001b[0m \u001b[0;34m\u001b[0m\u001b[0m\n\u001b[1;32m    474\u001b[0m             \u001b[0;31m# Handle mask propagation.\u001b[0m\u001b[0;34m\u001b[0m\u001b[0;34m\u001b[0m\u001b[0;34m\u001b[0m\u001b[0m\n",
      "\u001b[0;32m~/opt/anaconda3/envs/tensorflow/lib/python3.7/site-packages/keras/engine/base_layer.py\u001b[0m in \u001b[0;36massert_input_compatibility\u001b[0;34m(self, inputs)\u001b[0m\n\u001b[1;32m    314\u001b[0m                                  \u001b[0;34m'Received type: '\u001b[0m \u001b[0;34m+\u001b[0m\u001b[0;34m\u001b[0m\u001b[0;34m\u001b[0m\u001b[0m\n\u001b[1;32m    315\u001b[0m                                  \u001b[0mstr\u001b[0m\u001b[0;34m(\u001b[0m\u001b[0mtype\u001b[0m\u001b[0;34m(\u001b[0m\u001b[0mx\u001b[0m\u001b[0;34m)\u001b[0m\u001b[0;34m)\u001b[0m \u001b[0;34m+\u001b[0m \u001b[0;34m'. Full input: '\u001b[0m \u001b[0;34m+\u001b[0m\u001b[0;34m\u001b[0m\u001b[0;34m\u001b[0m\u001b[0m\n\u001b[0;32m--> 316\u001b[0;31m                                  \u001b[0mstr\u001b[0m\u001b[0;34m(\u001b[0m\u001b[0minputs\u001b[0m\u001b[0;34m)\u001b[0m \u001b[0;34m+\u001b[0m \u001b[0;34m'. All inputs to the layer '\u001b[0m\u001b[0;34m\u001b[0m\u001b[0;34m\u001b[0m\u001b[0m\n\u001b[0m\u001b[1;32m    317\u001b[0m                                  'should be tensors.')\n\u001b[1;32m    318\u001b[0m \u001b[0;34m\u001b[0m\u001b[0m\n",
      "\u001b[0;31mValueError\u001b[0m: Layer sequential_1 was called with an input that isn't a symbolic tensor. Received type: <class 'numpy.ndarray'>. Full input: [array([[0, 0, 0, ..., 1, 0, 1],\n       [0, 0, 0, ..., 1, 0, 1],\n       [0, 0, 0, ..., 1, 0, 0],\n       ...,\n       [0, 0, 0, ..., 1, 0, 0],\n       [0, 0, 0, ..., 1, 0, 0],\n       [0, 0, 0, ..., 1, 0, 1]])]. All inputs to the layer should be tensors."
     ]
    }
   ],
   "source": [
    "summ_wo,summ_wo_combine=combine_top_thumbprint(X_train_wo_sensor_resample.drop('label',axis=1),X_test_,model,'dnn',\n",
    "                                                  list(repackaged_benign_test_X_wo_sensors.columns))"
   ]
  },
  {
   "cell_type": "code",
   "execution_count": 87,
   "metadata": {},
   "outputs": [
    {
     "data": {
      "text/plain": [
       "array([[0, 0, 0, ..., 1, 0, 0],\n",
       "       [0, 0, 0, ..., 1, 0, 1],\n",
       "       [0, 0, 0, ..., 1, 0, 1],\n",
       "       ...,\n",
       "       [0, 0, 0, ..., 1, 0, 0],\n",
       "       [0, 0, 0, ..., 1, 0, 0],\n",
       "       [0, 0, 0, ..., 1, 0, 0]])"
      ]
     },
     "execution_count": 87,
     "metadata": {},
     "output_type": "execute_result"
    }
   ],
   "source": [
    "X_train_wo_sensor_resample.drop('label',axis=1).sample(n=1000,replace=False).values"
   ]
  },
  {
   "cell_type": "code",
   "execution_count": null,
   "metadata": {},
   "outputs": [],
   "source": []
  },
  {
   "cell_type": "code",
   "execution_count": null,
   "metadata": {},
   "outputs": [],
   "source": []
  }
 ],
 "metadata": {
  "kernelspec": {
   "display_name": "Python 3",
   "language": "python",
   "name": "python3"
  },
  "language_info": {
   "codemirror_mode": {
    "name": "ipython",
    "version": 3
   },
   "file_extension": ".py",
   "mimetype": "text/x-python",
   "name": "python",
   "nbconvert_exporter": "python",
   "pygments_lexer": "ipython3",
   "version": "3.8.3"
  }
 },
 "nbformat": 4,
 "nbformat_minor": 4
}
