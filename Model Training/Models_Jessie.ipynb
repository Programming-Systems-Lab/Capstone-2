{
 "cells": [
  {
   "cell_type": "code",
   "execution_count": 148,
   "metadata": {},
   "outputs": [],
   "source": [
    "import pandas as pd\n",
    "import numpy as np\n",
    "import matplotlib.pyplot as plt"
   ]
  },
  {
   "cell_type": "markdown",
   "metadata": {},
   "source": [
    "### 1. Read data"
   ]
  },
  {
   "cell_type": "code",
   "execution_count": 54,
   "metadata": {},
   "outputs": [
    {
     "data": {
      "text/html": [
       "<div>\n",
       "<style scoped>\n",
       "    .dataframe tbody tr th:only-of-type {\n",
       "        vertical-align: middle;\n",
       "    }\n",
       "\n",
       "    .dataframe tbody tr th {\n",
       "        vertical-align: top;\n",
       "    }\n",
       "\n",
       "    .dataframe thead th {\n",
       "        text-align: right;\n",
       "    }\n",
       "</style>\n",
       "<table border=\"1\" class=\"dataframe\">\n",
       "  <thead>\n",
       "    <tr style=\"text-align: right;\">\n",
       "      <th></th>\n",
       "      <th>Package_Name</th>\n",
       "      <th>SHA256</th>\n",
       "      <th>ThumbPrint</th>\n",
       "      <th>Application_Category</th>\n",
       "      <th>Family_Name</th>\n",
       "      <th>Malware_Category</th>\n",
       "      <th>Malware/Benign</th>\n",
       "      <th>Permission: FACTORY_TEST</th>\n",
       "      <th>Permission: DUMP</th>\n",
       "      <th>Permission: BATTERY_STATS</th>\n",
       "      <th>...</th>\n",
       "      <th>pose_6dof</th>\n",
       "      <th>pressure</th>\n",
       "      <th>proximity</th>\n",
       "      <th>relative_humidity</th>\n",
       "      <th>rotation_vector</th>\n",
       "      <th>significant_motion</th>\n",
       "      <th>stationary_detect</th>\n",
       "      <th>step_counter</th>\n",
       "      <th>step_detector</th>\n",
       "      <th>temperature</th>\n",
       "    </tr>\n",
       "  </thead>\n",
       "  <tbody>\n",
       "    <tr>\n",
       "      <th>0</th>\n",
       "      <td>a.com.saichedazhanjiangshi.bianz</td>\n",
       "      <td>53DCE48C4E666132A413F1C0C9D105EF7C018D7D4400E9...</td>\n",
       "      <td>F0CA270347F8E2D6D21F4F249BB6FA82AB6F83E3</td>\n",
       "      <td>NaN</td>\n",
       "      <td>NaN</td>\n",
       "      <td>NaN</td>\n",
       "      <td>0.0</td>\n",
       "      <td>0</td>\n",
       "      <td>0</td>\n",
       "      <td>0</td>\n",
       "      <td>...</td>\n",
       "      <td>0</td>\n",
       "      <td>0</td>\n",
       "      <td>0</td>\n",
       "      <td>0</td>\n",
       "      <td>0</td>\n",
       "      <td>0</td>\n",
       "      <td>0</td>\n",
       "      <td>0</td>\n",
       "      <td>0</td>\n",
       "      <td>0</td>\n",
       "    </tr>\n",
       "    <tr>\n",
       "      <th>1</th>\n",
       "      <td>a.com.saichedazhanjiangshi.bm</td>\n",
       "      <td>D5B7A0B21A9F2893B29939FE703E5FCA6E2625B72B9435...</td>\n",
       "      <td>672C7E09D7971FEFF924CB9BB9DF501B068699D2</td>\n",
       "      <td>NaN</td>\n",
       "      <td>NaN</td>\n",
       "      <td>NaN</td>\n",
       "      <td>0.0</td>\n",
       "      <td>0</td>\n",
       "      <td>0</td>\n",
       "      <td>0</td>\n",
       "      <td>...</td>\n",
       "      <td>0</td>\n",
       "      <td>0</td>\n",
       "      <td>0</td>\n",
       "      <td>0</td>\n",
       "      <td>0</td>\n",
       "      <td>0</td>\n",
       "      <td>0</td>\n",
       "      <td>0</td>\n",
       "      <td>0</td>\n",
       "      <td>0</td>\n",
       "    </tr>\n",
       "    <tr>\n",
       "      <th>2</th>\n",
       "      <td>a.com.tiantianaipaoku.biafewg</td>\n",
       "      <td>9B865DB16D7052C101B075F3B3CBC923F709D101F14EA1...</td>\n",
       "      <td>2567A99F17B580AABE2846936E4CDE5D77D74115</td>\n",
       "      <td>NaN</td>\n",
       "      <td>NaN</td>\n",
       "      <td>NaN</td>\n",
       "      <td>0.0</td>\n",
       "      <td>0</td>\n",
       "      <td>0</td>\n",
       "      <td>0</td>\n",
       "      <td>...</td>\n",
       "      <td>0</td>\n",
       "      <td>0</td>\n",
       "      <td>0</td>\n",
       "      <td>0</td>\n",
       "      <td>0</td>\n",
       "      <td>0</td>\n",
       "      <td>0</td>\n",
       "      <td>0</td>\n",
       "      <td>0</td>\n",
       "      <td>0</td>\n",
       "    </tr>\n",
       "    <tr>\n",
       "      <th>3</th>\n",
       "      <td>a.com.tiantianaipaoku.bianzs</td>\n",
       "      <td>28388B523EB9A554F97AF745710B6A6F074F51AAEE41D2...</td>\n",
       "      <td>61ED377E85D386A8DFEE6B864BD85B0BFAA5AF81</td>\n",
       "      <td>NaN</td>\n",
       "      <td>NaN</td>\n",
       "      <td>NaN</td>\n",
       "      <td>0.0</td>\n",
       "      <td>0</td>\n",
       "      <td>0</td>\n",
       "      <td>0</td>\n",
       "      <td>...</td>\n",
       "      <td>0</td>\n",
       "      <td>0</td>\n",
       "      <td>0</td>\n",
       "      <td>0</td>\n",
       "      <td>0</td>\n",
       "      <td>0</td>\n",
       "      <td>0</td>\n",
       "      <td>0</td>\n",
       "      <td>0</td>\n",
       "      <td>0</td>\n",
       "    </tr>\n",
       "    <tr>\n",
       "      <th>4</th>\n",
       "      <td>advance.car.racing</td>\n",
       "      <td>DCCDDBD3268C0C922170F6C1035AFD670BA020C08012D6...</td>\n",
       "      <td>0C6F6BB008DE7BF449587AE869E463A14137944A</td>\n",
       "      <td>Racing</td>\n",
       "      <td>NaN</td>\n",
       "      <td>NaN</td>\n",
       "      <td>0.0</td>\n",
       "      <td>0</td>\n",
       "      <td>0</td>\n",
       "      <td>0</td>\n",
       "      <td>...</td>\n",
       "      <td>0</td>\n",
       "      <td>0</td>\n",
       "      <td>0</td>\n",
       "      <td>0</td>\n",
       "      <td>0</td>\n",
       "      <td>0</td>\n",
       "      <td>0</td>\n",
       "      <td>0</td>\n",
       "      <td>0</td>\n",
       "      <td>0</td>\n",
       "    </tr>\n",
       "  </tbody>\n",
       "</table>\n",
       "<p>5 rows × 873 columns</p>\n",
       "</div>"
      ],
      "text/plain": [
       "                       Package_Name  \\\n",
       "0  a.com.saichedazhanjiangshi.bianz   \n",
       "1     a.com.saichedazhanjiangshi.bm   \n",
       "2     a.com.tiantianaipaoku.biafewg   \n",
       "3      a.com.tiantianaipaoku.bianzs   \n",
       "4                advance.car.racing   \n",
       "\n",
       "                                              SHA256  \\\n",
       "0  53DCE48C4E666132A413F1C0C9D105EF7C018D7D4400E9...   \n",
       "1  D5B7A0B21A9F2893B29939FE703E5FCA6E2625B72B9435...   \n",
       "2  9B865DB16D7052C101B075F3B3CBC923F709D101F14EA1...   \n",
       "3  28388B523EB9A554F97AF745710B6A6F074F51AAEE41D2...   \n",
       "4  DCCDDBD3268C0C922170F6C1035AFD670BA020C08012D6...   \n",
       "\n",
       "                                 ThumbPrint Application_Category  Family_Name  \\\n",
       "0  F0CA270347F8E2D6D21F4F249BB6FA82AB6F83E3                  NaN          NaN   \n",
       "1  672C7E09D7971FEFF924CB9BB9DF501B068699D2                  NaN          NaN   \n",
       "2  2567A99F17B580AABE2846936E4CDE5D77D74115                  NaN          NaN   \n",
       "3  61ED377E85D386A8DFEE6B864BD85B0BFAA5AF81                  NaN          NaN   \n",
       "4  0C6F6BB008DE7BF449587AE869E463A14137944A               Racing          NaN   \n",
       "\n",
       "   Malware_Category  Malware/Benign  Permission: FACTORY_TEST  \\\n",
       "0               NaN             0.0                         0   \n",
       "1               NaN             0.0                         0   \n",
       "2               NaN             0.0                         0   \n",
       "3               NaN             0.0                         0   \n",
       "4               NaN             0.0                         0   \n",
       "\n",
       "   Permission: DUMP  Permission: BATTERY_STATS  ...  pose_6dof  pressure  \\\n",
       "0                 0                          0  ...          0         0   \n",
       "1                 0                          0  ...          0         0   \n",
       "2                 0                          0  ...          0         0   \n",
       "3                 0                          0  ...          0         0   \n",
       "4                 0                          0  ...          0         0   \n",
       "\n",
       "   proximity  relative_humidity  rotation_vector  significant_motion  \\\n",
       "0          0                  0                0                   0   \n",
       "1          0                  0                0                   0   \n",
       "2          0                  0                0                   0   \n",
       "3          0                  0                0                   0   \n",
       "4          0                  0                0                   0   \n",
       "\n",
       "   stationary_detect  step_counter  step_detector  temperature  \n",
       "0                  0             0              0            0  \n",
       "1                  0             0              0            0  \n",
       "2                  0             0              0            0  \n",
       "3                  0             0              0            0  \n",
       "4                  0             0              0            0  \n",
       "\n",
       "[5 rows x 873 columns]"
      ]
     },
     "execution_count": 54,
     "metadata": {},
     "output_type": "execute_result"
    }
   ],
   "source": [
    "dt=pd.read_csv('https://raw.githubusercontent.com/Programming-Systems-Lab/Capstone-2/master/data/Training_Data/Training_Dataset.csv')\n",
    "dt.head()"
   ]
  },
  {
   "cell_type": "code",
   "execution_count": 19,
   "metadata": {},
   "outputs": [
    {
     "data": {
      "text/plain": [
       "(10954, 873)"
      ]
     },
     "execution_count": 19,
     "metadata": {},
     "output_type": "execute_result"
    }
   ],
   "source": [
    "dt.shape"
   ]
  },
  {
   "cell_type": "markdown",
   "metadata": {},
   "source": [
    "### 2. Drop unuseful columns"
   ]
  },
  {
   "cell_type": "markdown",
   "metadata": {},
   "source": [
    "#### 2.1 Drop empty columns"
   ]
  },
  {
   "cell_type": "code",
   "execution_count": 14,
   "metadata": {},
   "outputs": [
    {
     "data": {
      "text/plain": [
       "['Application_Category',\n",
       " 'Family_Name',\n",
       " 'Malware_Category',\n",
       " 'sdkVersion',\n",
       " 'targetSdkVersion']"
      ]
     },
     "execution_count": 14,
     "metadata": {},
     "output_type": "execute_result"
    }
   ],
   "source": [
    "NAcols=dt.columns[dt.isnull().any()]\n",
    "list(NAcols)"
   ]
  },
  {
   "cell_type": "code",
   "execution_count": 18,
   "metadata": {},
   "outputs": [
    {
     "data": {
      "text/plain": [
       "Application_Category     8592\n",
       "Family_Name             10954\n",
       "Malware_Category        10954\n",
       "sdkVersion              10954\n",
       "targetSdkVersion        10954\n",
       "dtype: int64"
      ]
     },
     "execution_count": 18,
     "metadata": {},
     "output_type": "execute_result"
    }
   ],
   "source": [
    "dt[list(NAcols)].isnull().sum()"
   ]
  },
  {
   "cell_type": "code",
   "execution_count": 42,
   "metadata": {},
   "outputs": [],
   "source": [
    "droplist1=list(NAcols)[1:]"
   ]
  },
  {
   "cell_type": "markdown",
   "metadata": {},
   "source": [
    "**Empty columns include:  \n",
    "Family_Name, Malware_Category, sdkVersion, targetSdkVersion.  \n",
    "Application_Category might be useful, so keep it for now.**"
   ]
  },
  {
   "cell_type": "code",
   "execution_count": 21,
   "metadata": {},
   "outputs": [
    {
     "data": {
      "text/html": [
       "<div>\n",
       "<style scoped>\n",
       "    .dataframe tbody tr th:only-of-type {\n",
       "        vertical-align: middle;\n",
       "    }\n",
       "\n",
       "    .dataframe tbody tr th {\n",
       "        vertical-align: top;\n",
       "    }\n",
       "\n",
       "    .dataframe thead th {\n",
       "        text-align: right;\n",
       "    }\n",
       "</style>\n",
       "<table border=\"1\" class=\"dataframe\">\n",
       "  <thead>\n",
       "    <tr style=\"text-align: right;\">\n",
       "      <th></th>\n",
       "      <th>mean</th>\n",
       "      <th>count</th>\n",
       "    </tr>\n",
       "    <tr>\n",
       "      <th>Application_Category</th>\n",
       "      <th></th>\n",
       "      <th></th>\n",
       "    </tr>\n",
       "  </thead>\n",
       "  <tbody>\n",
       "    <tr>\n",
       "      <th>Action</th>\n",
       "      <td>5.410256</td>\n",
       "      <td>78</td>\n",
       "    </tr>\n",
       "    <tr>\n",
       "      <th>Adventure</th>\n",
       "      <td>7.565217</td>\n",
       "      <td>23</td>\n",
       "    </tr>\n",
       "    <tr>\n",
       "      <th>Arcade</th>\n",
       "      <td>6.190217</td>\n",
       "      <td>184</td>\n",
       "    </tr>\n",
       "    <tr>\n",
       "      <th>Art &amp; Design</th>\n",
       "      <td>13.000000</td>\n",
       "      <td>1</td>\n",
       "    </tr>\n",
       "    <tr>\n",
       "      <th>Beauty</th>\n",
       "      <td>10.000000</td>\n",
       "      <td>4</td>\n",
       "    </tr>\n",
       "    <tr>\n",
       "      <th>Board</th>\n",
       "      <td>10.341463</td>\n",
       "      <td>41</td>\n",
       "    </tr>\n",
       "    <tr>\n",
       "      <th>Books &amp; Reference</th>\n",
       "      <td>3.527778</td>\n",
       "      <td>72</td>\n",
       "    </tr>\n",
       "    <tr>\n",
       "      <th>Business</th>\n",
       "      <td>6.285714</td>\n",
       "      <td>35</td>\n",
       "    </tr>\n",
       "    <tr>\n",
       "      <th>Card</th>\n",
       "      <td>9.800000</td>\n",
       "      <td>25</td>\n",
       "    </tr>\n",
       "    <tr>\n",
       "      <th>Casino</th>\n",
       "      <td>5.166667</td>\n",
       "      <td>6</td>\n",
       "    </tr>\n",
       "    <tr>\n",
       "      <th>Casual</th>\n",
       "      <td>5.889706</td>\n",
       "      <td>136</td>\n",
       "    </tr>\n",
       "    <tr>\n",
       "      <th>Comics</th>\n",
       "      <td>5.000000</td>\n",
       "      <td>4</td>\n",
       "    </tr>\n",
       "    <tr>\n",
       "      <th>Communication</th>\n",
       "      <td>11.458333</td>\n",
       "      <td>24</td>\n",
       "    </tr>\n",
       "    <tr>\n",
       "      <th>Dating</th>\n",
       "      <td>14.500000</td>\n",
       "      <td>2</td>\n",
       "    </tr>\n",
       "    <tr>\n",
       "      <th>Education</th>\n",
       "      <td>8.134615</td>\n",
       "      <td>104</td>\n",
       "    </tr>\n",
       "    <tr>\n",
       "      <th>Educational</th>\n",
       "      <td>6.296296</td>\n",
       "      <td>27</td>\n",
       "    </tr>\n",
       "    <tr>\n",
       "      <th>Entertainment</th>\n",
       "      <td>5.347826</td>\n",
       "      <td>69</td>\n",
       "    </tr>\n",
       "    <tr>\n",
       "      <th>Finance</th>\n",
       "      <td>0.000000</td>\n",
       "      <td>6</td>\n",
       "    </tr>\n",
       "    <tr>\n",
       "      <th>Food &amp; Drink</th>\n",
       "      <td>0.000000</td>\n",
       "      <td>1</td>\n",
       "    </tr>\n",
       "    <tr>\n",
       "      <th>Health &amp; Fitness</th>\n",
       "      <td>8.000000</td>\n",
       "      <td>13</td>\n",
       "    </tr>\n",
       "    <tr>\n",
       "      <th>House &amp; Home</th>\n",
       "      <td>0.000000</td>\n",
       "      <td>1</td>\n",
       "    </tr>\n",
       "    <tr>\n",
       "      <th>Libraries &amp; Demo</th>\n",
       "      <td>5.333333</td>\n",
       "      <td>3</td>\n",
       "    </tr>\n",
       "    <tr>\n",
       "      <th>Lifestyle</th>\n",
       "      <td>6.523810</td>\n",
       "      <td>42</td>\n",
       "    </tr>\n",
       "    <tr>\n",
       "      <th>Maps &amp; Navigation</th>\n",
       "      <td>2.555556</td>\n",
       "      <td>9</td>\n",
       "    </tr>\n",
       "    <tr>\n",
       "      <th>Medical</th>\n",
       "      <td>9.142857</td>\n",
       "      <td>7</td>\n",
       "    </tr>\n",
       "    <tr>\n",
       "      <th>Music</th>\n",
       "      <td>6.333333</td>\n",
       "      <td>6</td>\n",
       "    </tr>\n",
       "    <tr>\n",
       "      <th>Music &amp; Audio</th>\n",
       "      <td>9.126050</td>\n",
       "      <td>238</td>\n",
       "    </tr>\n",
       "    <tr>\n",
       "      <th>News &amp; Magazines</th>\n",
       "      <td>6.000000</td>\n",
       "      <td>31</td>\n",
       "    </tr>\n",
       "    <tr>\n",
       "      <th>Personalization</th>\n",
       "      <td>7.307692</td>\n",
       "      <td>13</td>\n",
       "    </tr>\n",
       "    <tr>\n",
       "      <th>Photography</th>\n",
       "      <td>8.375000</td>\n",
       "      <td>8</td>\n",
       "    </tr>\n",
       "    <tr>\n",
       "      <th>...</th>\n",
       "      <td>...</td>\n",
       "      <td>...</td>\n",
       "    </tr>\n",
       "    <tr>\n",
       "      <th>Strategy</th>\n",
       "      <td>4.250000</td>\n",
       "      <td>8</td>\n",
       "    </tr>\n",
       "    <tr>\n",
       "      <th>Tools</th>\n",
       "      <td>7.650000</td>\n",
       "      <td>40</td>\n",
       "    </tr>\n",
       "    <tr>\n",
       "      <th>Travel &amp; Local</th>\n",
       "      <td>2.125000</td>\n",
       "      <td>16</td>\n",
       "    </tr>\n",
       "    <tr>\n",
       "      <th>Trivia</th>\n",
       "      <td>7.363636</td>\n",
       "      <td>11</td>\n",
       "    </tr>\n",
       "    <tr>\n",
       "      <th>Video Players &amp; Editors</th>\n",
       "      <td>0.888889</td>\n",
       "      <td>9</td>\n",
       "    </tr>\n",
       "    <tr>\n",
       "      <th>Weather</th>\n",
       "      <td>8.750000</td>\n",
       "      <td>4</td>\n",
       "    </tr>\n",
       "    <tr>\n",
       "      <th>Word</th>\n",
       "      <td>9.111111</td>\n",
       "      <td>9</td>\n",
       "    </tr>\n",
       "    <tr>\n",
       "      <th>主题插件</th>\n",
       "      <td>8.300000</td>\n",
       "      <td>40</td>\n",
       "    </tr>\n",
       "    <tr>\n",
       "      <th>便捷生活</th>\n",
       "      <td>11.264706</td>\n",
       "      <td>68</td>\n",
       "    </tr>\n",
       "    <tr>\n",
       "      <th>其他</th>\n",
       "      <td>5.987952</td>\n",
       "      <td>166</td>\n",
       "    </tr>\n",
       "    <tr>\n",
       "      <th>动作冒险</th>\n",
       "      <td>7.181818</td>\n",
       "      <td>66</td>\n",
       "    </tr>\n",
       "    <tr>\n",
       "      <th>动态壁纸</th>\n",
       "      <td>16.346154</td>\n",
       "      <td>26</td>\n",
       "    </tr>\n",
       "    <tr>\n",
       "      <th>学习办公</th>\n",
       "      <td>7.700000</td>\n",
       "      <td>20</td>\n",
       "    </tr>\n",
       "    <tr>\n",
       "      <th>对战格斗</th>\n",
       "      <td>5.833333</td>\n",
       "      <td>6</td>\n",
       "    </tr>\n",
       "    <tr>\n",
       "      <th>射击游戏</th>\n",
       "      <td>6.069767</td>\n",
       "      <td>43</td>\n",
       "    </tr>\n",
       "    <tr>\n",
       "      <th>影音播放</th>\n",
       "      <td>6.520000</td>\n",
       "      <td>25</td>\n",
       "    </tr>\n",
       "    <tr>\n",
       "      <th>手机网游</th>\n",
       "      <td>7.333333</td>\n",
       "      <td>6</td>\n",
       "    </tr>\n",
       "    <tr>\n",
       "      <th>拍摄美化</th>\n",
       "      <td>12.466667</td>\n",
       "      <td>15</td>\n",
       "    </tr>\n",
       "    <tr>\n",
       "      <th>益智游戏</th>\n",
       "      <td>7.400000</td>\n",
       "      <td>110</td>\n",
       "    </tr>\n",
       "    <tr>\n",
       "      <th>社交网络</th>\n",
       "      <td>7.133333</td>\n",
       "      <td>15</td>\n",
       "    </tr>\n",
       "    <tr>\n",
       "      <th>策略游戏</th>\n",
       "      <td>4.600000</td>\n",
       "      <td>30</td>\n",
       "    </tr>\n",
       "    <tr>\n",
       "      <th>系统工具</th>\n",
       "      <td>5.878788</td>\n",
       "      <td>66</td>\n",
       "    </tr>\n",
       "    <tr>\n",
       "      <th>网购支付</th>\n",
       "      <td>2.916667</td>\n",
       "      <td>12</td>\n",
       "    </tr>\n",
       "    <tr>\n",
       "      <th>虚拟养成</th>\n",
       "      <td>8.000000</td>\n",
       "      <td>3</td>\n",
       "    </tr>\n",
       "    <tr>\n",
       "      <th>角色扮演</th>\n",
       "      <td>9.818182</td>\n",
       "      <td>11</td>\n",
       "    </tr>\n",
       "    <tr>\n",
       "      <th>赛车竞速</th>\n",
       "      <td>3.956522</td>\n",
       "      <td>23</td>\n",
       "    </tr>\n",
       "    <tr>\n",
       "      <th>辅助工具</th>\n",
       "      <td>1.000000</td>\n",
       "      <td>2</td>\n",
       "    </tr>\n",
       "    <tr>\n",
       "      <th>通话通讯</th>\n",
       "      <td>7.800000</td>\n",
       "      <td>5</td>\n",
       "    </tr>\n",
       "    <tr>\n",
       "      <th>金融理财</th>\n",
       "      <td>0.428571</td>\n",
       "      <td>7</td>\n",
       "    </tr>\n",
       "    <tr>\n",
       "      <th>音乐游戏</th>\n",
       "      <td>10.250000</td>\n",
       "      <td>4</td>\n",
       "    </tr>\n",
       "  </tbody>\n",
       "</table>\n",
       "<p>68 rows × 2 columns</p>\n",
       "</div>"
      ],
      "text/plain": [
       "                              mean  count\n",
       "Application_Category                     \n",
       "Action                    5.410256     78\n",
       "Adventure                 7.565217     23\n",
       "Arcade                    6.190217    184\n",
       "Art & Design             13.000000      1\n",
       "Beauty                   10.000000      4\n",
       "Board                    10.341463     41\n",
       "Books & Reference         3.527778     72\n",
       "Business                  6.285714     35\n",
       "Card                      9.800000     25\n",
       "Casino                    5.166667      6\n",
       "Casual                    5.889706    136\n",
       "Comics                    5.000000      4\n",
       "Communication            11.458333     24\n",
       "Dating                   14.500000      2\n",
       "Education                 8.134615    104\n",
       "Educational               6.296296     27\n",
       "Entertainment             5.347826     69\n",
       "Finance                   0.000000      6\n",
       "Food & Drink              0.000000      1\n",
       "Health & Fitness          8.000000     13\n",
       "House & Home              0.000000      1\n",
       "Libraries & Demo          5.333333      3\n",
       "Lifestyle                 6.523810     42\n",
       "Maps & Navigation         2.555556      9\n",
       "Medical                   9.142857      7\n",
       "Music                     6.333333      6\n",
       "Music & Audio             9.126050    238\n",
       "News & Magazines          6.000000     31\n",
       "Personalization           7.307692     13\n",
       "Photography               8.375000      8\n",
       "...                            ...    ...\n",
       "Strategy                  4.250000      8\n",
       "Tools                     7.650000     40\n",
       "Travel & Local            2.125000     16\n",
       "Trivia                    7.363636     11\n",
       "Video Players & Editors   0.888889      9\n",
       "Weather                   8.750000      4\n",
       "Word                      9.111111      9\n",
       "主题插件                      8.300000     40\n",
       "便捷生活                     11.264706     68\n",
       "其他                        5.987952    166\n",
       "动作冒险                      7.181818     66\n",
       "动态壁纸                     16.346154     26\n",
       "学习办公                      7.700000     20\n",
       "对战格斗                      5.833333      6\n",
       "射击游戏                      6.069767     43\n",
       "影音播放                      6.520000     25\n",
       "手机网游                      7.333333      6\n",
       "拍摄美化                     12.466667     15\n",
       "益智游戏                      7.400000    110\n",
       "社交网络                      7.133333     15\n",
       "策略游戏                      4.600000     30\n",
       "系统工具                      5.878788     66\n",
       "网购支付                      2.916667     12\n",
       "虚拟养成                      8.000000      3\n",
       "角色扮演                      9.818182     11\n",
       "赛车竞速                      3.956522     23\n",
       "辅助工具                      1.000000      2\n",
       "通话通讯                      7.800000      5\n",
       "金融理财                      0.428571      7\n",
       "音乐游戏                     10.250000      4\n",
       "\n",
       "[68 rows x 2 columns]"
      ]
     },
     "execution_count": 21,
     "metadata": {},
     "output_type": "execute_result"
    }
   ],
   "source": [
    "dt.groupby('Application_Category')['Malware/Benign'].agg(['mean', 'count'])"
   ]
  },
  {
   "cell_type": "markdown",
   "metadata": {},
   "source": [
    "#### 2.2 Check column types and remove columns whose variance is 1"
   ]
  },
  {
   "cell_type": "code",
   "execution_count": 33,
   "metadata": {},
   "outputs": [
    {
     "data": {
      "text/plain": [
       "Index(['Package_Name', 'SHA256', 'ThumbPrint', 'Application_Category'], dtype='object')"
      ]
     },
     "execution_count": 33,
     "metadata": {},
     "output_type": "execute_result"
    }
   ],
   "source": [
    "dt.columns[dt.dtypes=='object']"
   ]
  },
  {
   "cell_type": "code",
   "execution_count": 34,
   "metadata": {},
   "outputs": [
    {
     "data": {
      "text/plain": [
       "Index(['Family_Name', 'Malware_Category', 'Malware/Benign', 'sdkVersion',\n",
       "       'targetSdkVersion'],\n",
       "      dtype='object')"
      ]
     },
     "execution_count": 34,
     "metadata": {},
     "output_type": "execute_result"
    }
   ],
   "source": [
    "dt.columns[dt.dtypes=='float64']"
   ]
  },
  {
   "cell_type": "code",
   "execution_count": 51,
   "metadata": {},
   "outputs": [],
   "source": [
    "droplist2=list(dt.iloc[:,7:].columns[dt.iloc[:,7:].var()==0])"
   ]
  },
  {
   "cell_type": "markdown",
   "metadata": {},
   "source": [
    "#### 2.3 Drop high cardinality columns"
   ]
  },
  {
   "cell_type": "code",
   "execution_count": 24,
   "metadata": {},
   "outputs": [
    {
     "data": {
      "text/plain": [
       "3548"
      ]
     },
     "execution_count": 24,
     "metadata": {},
     "output_type": "execute_result"
    }
   ],
   "source": [
    "dt['ThumbPrint'].nunique()  # drop it"
   ]
  },
  {
   "cell_type": "code",
   "execution_count": 66,
   "metadata": {},
   "outputs": [
    {
     "data": {
      "text/plain": [
       "5116"
      ]
     },
     "execution_count": 66,
     "metadata": {},
     "output_type": "execute_result"
    }
   ],
   "source": [
    "dt['Package_Name'].apply(lambda x: '.'.join(x.split('.')[:2])).nunique() # drop it"
   ]
  },
  {
   "cell_type": "code",
   "execution_count": 67,
   "metadata": {},
   "outputs": [
    {
     "data": {
      "text/plain": [
       "401"
      ]
     },
     "execution_count": 67,
     "metadata": {},
     "output_type": "execute_result"
    }
   ],
   "source": [
    "dt['Package_Name'].apply(lambda x: '.'.join(x.split('.')[:1])).nunique() # drop it"
   ]
  },
  {
   "cell_type": "markdown",
   "metadata": {},
   "source": [
    "#### 2.4 Get the final dataset. Shirish said we can drop the first 6 columns."
   ]
  },
  {
   "cell_type": "code",
   "execution_count": 89,
   "metadata": {},
   "outputs": [],
   "source": [
    "dt2=dt.drop(columns=droplist1+droplist2+['Package_Name','ThumbPrint','Application_Category','SHA256','label'])\n",
    "dt2['Malware/Benign']=dt2['Malware/Benign'].apply(lambda x: 1 if x>0 else 0)"
   ]
  },
  {
   "cell_type": "code",
   "execution_count": 90,
   "metadata": {},
   "outputs": [
    {
     "data": {
      "text/html": [
       "<div>\n",
       "<style scoped>\n",
       "    .dataframe tbody tr th:only-of-type {\n",
       "        vertical-align: middle;\n",
       "    }\n",
       "\n",
       "    .dataframe tbody tr th {\n",
       "        vertical-align: top;\n",
       "    }\n",
       "\n",
       "    .dataframe thead th {\n",
       "        text-align: right;\n",
       "    }\n",
       "</style>\n",
       "<table border=\"1\" class=\"dataframe\">\n",
       "  <thead>\n",
       "    <tr style=\"text-align: right;\">\n",
       "      <th></th>\n",
       "      <th>Malware/Benign</th>\n",
       "      <th>Permission: FACTORY_TEST</th>\n",
       "      <th>Permission: DUMP</th>\n",
       "      <th>Permission: BATTERY_STATS</th>\n",
       "      <th>Permission: BIND_WALLPAPER</th>\n",
       "      <th>Permission: BIND_INPUT_METHOD</th>\n",
       "      <th>Permission: READ_LOGS</th>\n",
       "      <th>Permission: INSTALL_LOCATION_PROVIDER</th>\n",
       "      <th>Permission: READ_FRAME_BUFFER</th>\n",
       "      <th>Permission: SET_PROCESS_LIMIT</th>\n",
       "      <th>...</th>\n",
       "      <th>pose_6dof</th>\n",
       "      <th>pressure</th>\n",
       "      <th>proximity</th>\n",
       "      <th>relative_humidity</th>\n",
       "      <th>rotation_vector</th>\n",
       "      <th>significant_motion</th>\n",
       "      <th>stationary_detect</th>\n",
       "      <th>step_counter</th>\n",
       "      <th>step_detector</th>\n",
       "      <th>temperature</th>\n",
       "    </tr>\n",
       "  </thead>\n",
       "  <tbody>\n",
       "    <tr>\n",
       "      <th>0</th>\n",
       "      <td>0</td>\n",
       "      <td>0</td>\n",
       "      <td>0</td>\n",
       "      <td>0</td>\n",
       "      <td>0</td>\n",
       "      <td>0</td>\n",
       "      <td>0</td>\n",
       "      <td>0</td>\n",
       "      <td>0</td>\n",
       "      <td>0</td>\n",
       "      <td>...</td>\n",
       "      <td>0</td>\n",
       "      <td>0</td>\n",
       "      <td>0</td>\n",
       "      <td>0</td>\n",
       "      <td>0</td>\n",
       "      <td>0</td>\n",
       "      <td>0</td>\n",
       "      <td>0</td>\n",
       "      <td>0</td>\n",
       "      <td>0</td>\n",
       "    </tr>\n",
       "    <tr>\n",
       "      <th>1</th>\n",
       "      <td>0</td>\n",
       "      <td>0</td>\n",
       "      <td>0</td>\n",
       "      <td>0</td>\n",
       "      <td>0</td>\n",
       "      <td>0</td>\n",
       "      <td>0</td>\n",
       "      <td>0</td>\n",
       "      <td>0</td>\n",
       "      <td>0</td>\n",
       "      <td>...</td>\n",
       "      <td>0</td>\n",
       "      <td>0</td>\n",
       "      <td>0</td>\n",
       "      <td>0</td>\n",
       "      <td>0</td>\n",
       "      <td>0</td>\n",
       "      <td>0</td>\n",
       "      <td>0</td>\n",
       "      <td>0</td>\n",
       "      <td>0</td>\n",
       "    </tr>\n",
       "    <tr>\n",
       "      <th>2</th>\n",
       "      <td>0</td>\n",
       "      <td>0</td>\n",
       "      <td>0</td>\n",
       "      <td>0</td>\n",
       "      <td>0</td>\n",
       "      <td>0</td>\n",
       "      <td>0</td>\n",
       "      <td>0</td>\n",
       "      <td>0</td>\n",
       "      <td>0</td>\n",
       "      <td>...</td>\n",
       "      <td>0</td>\n",
       "      <td>0</td>\n",
       "      <td>0</td>\n",
       "      <td>0</td>\n",
       "      <td>0</td>\n",
       "      <td>0</td>\n",
       "      <td>0</td>\n",
       "      <td>0</td>\n",
       "      <td>0</td>\n",
       "      <td>0</td>\n",
       "    </tr>\n",
       "    <tr>\n",
       "      <th>3</th>\n",
       "      <td>0</td>\n",
       "      <td>0</td>\n",
       "      <td>0</td>\n",
       "      <td>0</td>\n",
       "      <td>0</td>\n",
       "      <td>0</td>\n",
       "      <td>0</td>\n",
       "      <td>0</td>\n",
       "      <td>0</td>\n",
       "      <td>0</td>\n",
       "      <td>...</td>\n",
       "      <td>0</td>\n",
       "      <td>0</td>\n",
       "      <td>0</td>\n",
       "      <td>0</td>\n",
       "      <td>0</td>\n",
       "      <td>0</td>\n",
       "      <td>0</td>\n",
       "      <td>0</td>\n",
       "      <td>0</td>\n",
       "      <td>0</td>\n",
       "    </tr>\n",
       "    <tr>\n",
       "      <th>4</th>\n",
       "      <td>0</td>\n",
       "      <td>0</td>\n",
       "      <td>0</td>\n",
       "      <td>0</td>\n",
       "      <td>0</td>\n",
       "      <td>0</td>\n",
       "      <td>0</td>\n",
       "      <td>0</td>\n",
       "      <td>0</td>\n",
       "      <td>0</td>\n",
       "      <td>...</td>\n",
       "      <td>0</td>\n",
       "      <td>0</td>\n",
       "      <td>0</td>\n",
       "      <td>0</td>\n",
       "      <td>0</td>\n",
       "      <td>0</td>\n",
       "      <td>0</td>\n",
       "      <td>0</td>\n",
       "      <td>0</td>\n",
       "      <td>0</td>\n",
       "    </tr>\n",
       "  </tbody>\n",
       "</table>\n",
       "<p>5 rows × 353 columns</p>\n",
       "</div>"
      ],
      "text/plain": [
       "   Malware/Benign  Permission: FACTORY_TEST  Permission: DUMP  \\\n",
       "0               0                         0                 0   \n",
       "1               0                         0                 0   \n",
       "2               0                         0                 0   \n",
       "3               0                         0                 0   \n",
       "4               0                         0                 0   \n",
       "\n",
       "   Permission: BATTERY_STATS  Permission: BIND_WALLPAPER  \\\n",
       "0                          0                           0   \n",
       "1                          0                           0   \n",
       "2                          0                           0   \n",
       "3                          0                           0   \n",
       "4                          0                           0   \n",
       "\n",
       "   Permission: BIND_INPUT_METHOD  Permission: READ_LOGS  \\\n",
       "0                              0                      0   \n",
       "1                              0                      0   \n",
       "2                              0                      0   \n",
       "3                              0                      0   \n",
       "4                              0                      0   \n",
       "\n",
       "   Permission: INSTALL_LOCATION_PROVIDER  Permission: READ_FRAME_BUFFER  \\\n",
       "0                                      0                              0   \n",
       "1                                      0                              0   \n",
       "2                                      0                              0   \n",
       "3                                      0                              0   \n",
       "4                                      0                              0   \n",
       "\n",
       "   Permission: SET_PROCESS_LIMIT  ...  pose_6dof  pressure  proximity  \\\n",
       "0                              0  ...          0         0          0   \n",
       "1                              0  ...          0         0          0   \n",
       "2                              0  ...          0         0          0   \n",
       "3                              0  ...          0         0          0   \n",
       "4                              0  ...          0         0          0   \n",
       "\n",
       "   relative_humidity  rotation_vector  significant_motion  stationary_detect  \\\n",
       "0                  0                0                   0                  0   \n",
       "1                  0                0                   0                  0   \n",
       "2                  0                0                   0                  0   \n",
       "3                  0                0                   0                  0   \n",
       "4                  0                0                   0                  0   \n",
       "\n",
       "   step_counter  step_detector  temperature  \n",
       "0             0              0            0  \n",
       "1             0              0            0  \n",
       "2             0              0            0  \n",
       "3             0              0            0  \n",
       "4             0              0            0  \n",
       "\n",
       "[5 rows x 353 columns]"
      ]
     },
     "execution_count": 90,
     "metadata": {},
     "output_type": "execute_result"
    }
   ],
   "source": [
    "dt2.head()"
   ]
  },
  {
   "cell_type": "markdown",
   "metadata": {},
   "source": [
    "### 3. Modeling"
   ]
  },
  {
   "cell_type": "code",
   "execution_count": 138,
   "metadata": {},
   "outputs": [],
   "source": [
    "from sklearn.model_selection import train_test_split\n",
    "from sklearn.model_selection import cross_val_score, cross_validate\n",
    "from sklearn.linear_model import LogisticRegression\n",
    "from sklearn.svm import SVC\n",
    "from sklearn.neighbors import KNeighborsClassifier\n",
    "from xgboost import XGBClassifier\n",
    "\n",
    "from sklearn.metrics import confusion_matrix, accuracy_score, roc_auc_score, roc_curve, plot_roc_curve, auc\n",
    "from sklearn.metrics import precision_recall_fscore_support"
   ]
  },
  {
   "cell_type": "markdown",
   "metadata": {},
   "source": [
    "#### 3.1 Train test split"
   ]
  },
  {
   "cell_type": "code",
   "execution_count": 91,
   "metadata": {},
   "outputs": [],
   "source": [
    "X,y=dt2.drop(columns=['Malware/Benign']), dt2['Malware/Benign']\n",
    "X_train, X_test, y_train, y_test = train_test_split(X, y, \n",
    "                                                    test_size = 0.2, \n",
    "                                                    random_state = 123, \n",
    "                                                    stratify = y)"
   ]
  },
  {
   "cell_type": "markdown",
   "metadata": {},
   "source": [
    "#### 3.2 Train different models"
   ]
  },
  {
   "cell_type": "code",
   "execution_count": 117,
   "metadata": {},
   "outputs": [
    {
     "name": "stdout",
     "output_type": "stream",
     "text": [
      "Cross-Validation Accuracy Score 0.8888495130331044\n",
      "Cross-Validation AUC Score 0.8966494477841283\n"
     ]
    }
   ],
   "source": [
    "### logistic\n",
    "scores = cross_validate(LogisticRegression(max_iter = 1000), X_train, y_train, scoring=('roc_auc','accuracy'),cv=5)\n",
    "print('Cross-Validation Accuracy Score', scores['test_accuracy'].mean())\n",
    "print('Cross-Validation AUC Score', scores['test_roc_auc'].mean())"
   ]
  },
  {
   "cell_type": "code",
   "execution_count": 118,
   "metadata": {},
   "outputs": [
    {
     "name": "stdout",
     "output_type": "stream",
     "text": [
      "Cross-Validation Accuracy Score 0.8984358842115409\n",
      "Cross-Validation AUC Score 0.8971902922452207\n"
     ]
    }
   ],
   "source": [
    "### svm\n",
    "scores = cross_validate(SVC(), X_train, y_train, scoring=('roc_auc','accuracy'),cv=5)\n",
    "print('Cross-Validation Accuracy Score', scores['test_accuracy'].mean())\n",
    "print('Cross-Validation AUC Score', scores['test_roc_auc'].mean())"
   ]
  },
  {
   "cell_type": "code",
   "execution_count": 119,
   "metadata": {},
   "outputs": [
    {
     "name": "stdout",
     "output_type": "stream",
     "text": [
      "Cross-Validation Accuracy Score 0.8885072426394934\n",
      "Cross-Validation AUC Score 0.8997169858208374\n"
     ]
    }
   ],
   "source": [
    "### knn\n",
    "scores = cross_validate(KNeighborsClassifier(), X_train, y_train, scoring=('roc_auc','accuracy'),cv=5)\n",
    "print('Cross-Validation Accuracy Score', scores['test_accuracy'].mean())\n",
    "print('Cross-Validation AUC Score', scores['test_roc_auc'].mean())"
   ]
  },
  {
   "cell_type": "code",
   "execution_count": 120,
   "metadata": {},
   "outputs": [
    {
     "name": "stdout",
     "output_type": "stream",
     "text": [
      "Cross-Validation Accuracy Score 0.9002610658310475\n",
      "Cross-Validation AUC Score 0.9379047107023799\n"
     ]
    }
   ],
   "source": [
    "### xgboost\n",
    "scores = cross_validate(XGBClassifier(), X_train, y_train, scoring=('roc_auc','accuracy'),cv=5)\n",
    "print('Cross-Validation Accuracy Score', scores['test_accuracy'].mean())\n",
    "print('Cross-Validation AUC Score', scores['test_roc_auc'].mean())"
   ]
  },
  {
   "cell_type": "markdown",
   "metadata": {},
   "source": [
    "**train and test using xgboost**"
   ]
  },
  {
   "cell_type": "code",
   "execution_count": 130,
   "metadata": {},
   "outputs": [],
   "source": [
    "model=XGBClassifier()\n",
    "model.fit(X_train,y_train)\n",
    "y_pred_prob=model.predict_proba(X_test)\n",
    "y_pred=model.predict(X_test)"
   ]
  },
  {
   "cell_type": "code",
   "execution_count": 147,
   "metadata": {},
   "outputs": [
    {
     "name": "stdout",
     "output_type": "stream",
     "text": [
      "Test Accuracy: 0.8895481515289821\n",
      "Test AUC: 0.9379519079396481\n"
     ]
    }
   ],
   "source": [
    "print('Test Accuracy:', accuracy_score(y_test,y_pred))\n",
    "print('Test AUC:', roc_auc_score(y_test, y_pred_prob[:,1]))"
   ]
  },
  {
   "cell_type": "code",
   "execution_count": 101,
   "metadata": {},
   "outputs": [
    {
     "data": {
      "text/plain": [
       "array([[ 237,  164],\n",
       "       [  78, 1712]])"
      ]
     },
     "execution_count": 101,
     "metadata": {},
     "output_type": "execute_result"
    }
   ],
   "source": [
    "confusion_matrix(y_test,y_pred)"
   ]
  },
  {
   "cell_type": "code",
   "execution_count": 103,
   "metadata": {},
   "outputs": [
    {
     "data": {
      "text/plain": [
       "(array([0.75238095, 0.91257996]),\n",
       " array([0.59102244, 0.95642458]),\n",
       " array([0.66201117, 0.933988  ]),\n",
       " array([ 401, 1790]))"
      ]
     },
     "execution_count": 103,
     "metadata": {},
     "output_type": "execute_result"
    }
   ],
   "source": [
    "# Compute precision, recall, F-measure and support for each class\n",
    "precision_recall_fscore_support(y_test,y_pred)"
   ]
  },
  {
   "cell_type": "code",
   "execution_count": 157,
   "metadata": {},
   "outputs": [
    {
     "data": {
      "image/png": "[encoded data removed]",
      "text/plain": [
       "<Figure size 504x360 with 1 Axes>"
      ]
     },
     "metadata": {
      "needs_background": "light"
     },
     "output_type": "display_data"
    }
   ],
   "source": [
    "plt.figure(figsize=(7,5))\n",
    "ax=plt.gca()\n",
    "plot_roc_curve(model, X_test, y_test, ax=ax,alpha=0.8)\n",
    "plt.show()"
   ]
  }
 ],
 "metadata": {
  "kernelspec": {
   "display_name": "Python 3",
   "language": "python",
   "name": "python3"
  },
  "language_info": {
   "codemirror_mode": {
    "name": "ipython",
    "version": 3
   },
   "file_extension": ".py",
   "mimetype": "text/x-python",
   "name": "python",
   "nbconvert_exporter": "python",
   "pygments_lexer": "ipython3",
   "version": "3.7.3"
  }
 },
 "nbformat": 4,
 "nbformat_minor": 2
}
