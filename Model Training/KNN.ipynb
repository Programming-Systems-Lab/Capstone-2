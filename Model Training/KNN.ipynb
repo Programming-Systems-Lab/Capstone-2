{
 "cells": [
  {
   "cell_type": "code",
   "execution_count": 1,
   "metadata": {},
   "outputs": [
    {
     "name": "stderr",
     "output_type": "stream",
     "text": [
      "/Users/jessie/anaconda3/lib/python3.7/site-packages/statsmodels/tools/_testing.py:19: FutureWarning: pandas.util.testing is deprecated. Use the functions in the public API at pandas.testing instead.\n",
      "  import pandas.util.testing as tm\n"
     ]
    }
   ],
   "source": [
    "import pandas as pd\n",
    "import numpy as np\n",
    "import matplotlib.pyplot as plt\n",
    "import seaborn as sns"
   ]
  },
  {
   "cell_type": "markdown",
   "metadata": {},
   "source": [
    "### 1. Read data"
   ]
  },
  {
   "cell_type": "code",
   "execution_count": 2,
   "metadata": {},
   "outputs": [
    {
     "data": {
      "text/html": [
       "<div>\n",
       "<style scoped>\n",
       "    .dataframe tbody tr th:only-of-type {\n",
       "        vertical-align: middle;\n",
       "    }\n",
       "\n",
       "    .dataframe tbody tr th {\n",
       "        vertical-align: top;\n",
       "    }\n",
       "\n",
       "    .dataframe thead th {\n",
       "        text-align: right;\n",
       "    }\n",
       "</style>\n",
       "<table border=\"1\" class=\"dataframe\">\n",
       "  <thead>\n",
       "    <tr style=\"text-align: right;\">\n",
       "      <th></th>\n",
       "      <th>Package_Name</th>\n",
       "      <th>SHA256</th>\n",
       "      <th>ThumbPrint</th>\n",
       "      <th>Application_Category</th>\n",
       "      <th>Family_Name</th>\n",
       "      <th>Malware_Category</th>\n",
       "      <th>Malware/Benign</th>\n",
       "      <th>Permission: FACTORY_TEST</th>\n",
       "      <th>Permission: DUMP</th>\n",
       "      <th>Permission: BATTERY_STATS</th>\n",
       "      <th>...</th>\n",
       "      <th>pose_6dof</th>\n",
       "      <th>pressure</th>\n",
       "      <th>proximity</th>\n",
       "      <th>relative_humidity</th>\n",
       "      <th>rotation_vector</th>\n",
       "      <th>significant_motion</th>\n",
       "      <th>stationary_detect</th>\n",
       "      <th>step_counter</th>\n",
       "      <th>step_detector</th>\n",
       "      <th>temperature</th>\n",
       "    </tr>\n",
       "  </thead>\n",
       "  <tbody>\n",
       "    <tr>\n",
       "      <th>0</th>\n",
       "      <td>a.com.saichedazhanjiangshi.bianz</td>\n",
       "      <td>53DCE48C4E666132A413F1C0C9D105EF7C018D7D4400E9...</td>\n",
       "      <td>F0CA270347F8E2D6D21F4F249BB6FA82AB6F83E3</td>\n",
       "      <td>NaN</td>\n",
       "      <td>NaN</td>\n",
       "      <td>NaN</td>\n",
       "      <td>0.0</td>\n",
       "      <td>0</td>\n",
       "      <td>0</td>\n",
       "      <td>0</td>\n",
       "      <td>...</td>\n",
       "      <td>0</td>\n",
       "      <td>0</td>\n",
       "      <td>0</td>\n",
       "      <td>0</td>\n",
       "      <td>0</td>\n",
       "      <td>0</td>\n",
       "      <td>0</td>\n",
       "      <td>0</td>\n",
       "      <td>0</td>\n",
       "      <td>0</td>\n",
       "    </tr>\n",
       "    <tr>\n",
       "      <th>1</th>\n",
       "      <td>a.com.saichedazhanjiangshi.bm</td>\n",
       "      <td>D5B7A0B21A9F2893B29939FE703E5FCA6E2625B72B9435...</td>\n",
       "      <td>672C7E09D7971FEFF924CB9BB9DF501B068699D2</td>\n",
       "      <td>NaN</td>\n",
       "      <td>NaN</td>\n",
       "      <td>NaN</td>\n",
       "      <td>0.0</td>\n",
       "      <td>0</td>\n",
       "      <td>0</td>\n",
       "      <td>0</td>\n",
       "      <td>...</td>\n",
       "      <td>0</td>\n",
       "      <td>0</td>\n",
       "      <td>0</td>\n",
       "      <td>0</td>\n",
       "      <td>0</td>\n",
       "      <td>0</td>\n",
       "      <td>0</td>\n",
       "      <td>0</td>\n",
       "      <td>0</td>\n",
       "      <td>0</td>\n",
       "    </tr>\n",
       "    <tr>\n",
       "      <th>2</th>\n",
       "      <td>a.com.tiantianaipaoku.biafewg</td>\n",
       "      <td>9B865DB16D7052C101B075F3B3CBC923F709D101F14EA1...</td>\n",
       "      <td>2567A99F17B580AABE2846936E4CDE5D77D74115</td>\n",
       "      <td>NaN</td>\n",
       "      <td>NaN</td>\n",
       "      <td>NaN</td>\n",
       "      <td>0.0</td>\n",
       "      <td>0</td>\n",
       "      <td>0</td>\n",
       "      <td>0</td>\n",
       "      <td>...</td>\n",
       "      <td>0</td>\n",
       "      <td>0</td>\n",
       "      <td>0</td>\n",
       "      <td>0</td>\n",
       "      <td>0</td>\n",
       "      <td>0</td>\n",
       "      <td>0</td>\n",
       "      <td>0</td>\n",
       "      <td>0</td>\n",
       "      <td>0</td>\n",
       "    </tr>\n",
       "    <tr>\n",
       "      <th>3</th>\n",
       "      <td>a.com.tiantianaipaoku.bianzs</td>\n",
       "      <td>28388B523EB9A554F97AF745710B6A6F074F51AAEE41D2...</td>\n",
       "      <td>61ED377E85D386A8DFEE6B864BD85B0BFAA5AF81</td>\n",
       "      <td>NaN</td>\n",
       "      <td>NaN</td>\n",
       "      <td>NaN</td>\n",
       "      <td>0.0</td>\n",
       "      <td>0</td>\n",
       "      <td>0</td>\n",
       "      <td>0</td>\n",
       "      <td>...</td>\n",
       "      <td>0</td>\n",
       "      <td>0</td>\n",
       "      <td>0</td>\n",
       "      <td>0</td>\n",
       "      <td>0</td>\n",
       "      <td>0</td>\n",
       "      <td>0</td>\n",
       "      <td>0</td>\n",
       "      <td>0</td>\n",
       "      <td>0</td>\n",
       "    </tr>\n",
       "    <tr>\n",
       "      <th>4</th>\n",
       "      <td>advance.car.racing</td>\n",
       "      <td>DCCDDBD3268C0C922170F6C1035AFD670BA020C08012D6...</td>\n",
       "      <td>0C6F6BB008DE7BF449587AE869E463A14137944A</td>\n",
       "      <td>Racing</td>\n",
       "      <td>NaN</td>\n",
       "      <td>NaN</td>\n",
       "      <td>0.0</td>\n",
       "      <td>0</td>\n",
       "      <td>0</td>\n",
       "      <td>0</td>\n",
       "      <td>...</td>\n",
       "      <td>0</td>\n",
       "      <td>0</td>\n",
       "      <td>0</td>\n",
       "      <td>0</td>\n",
       "      <td>0</td>\n",
       "      <td>0</td>\n",
       "      <td>0</td>\n",
       "      <td>0</td>\n",
       "      <td>0</td>\n",
       "      <td>0</td>\n",
       "    </tr>\n",
       "  </tbody>\n",
       "</table>\n",
       "<p>5 rows × 872 columns</p>\n",
       "</div>"
      ],
      "text/plain": [
       "                       Package_Name  \\\n",
       "0  a.com.saichedazhanjiangshi.bianz   \n",
       "1     a.com.saichedazhanjiangshi.bm   \n",
       "2     a.com.tiantianaipaoku.biafewg   \n",
       "3      a.com.tiantianaipaoku.bianzs   \n",
       "4                advance.car.racing   \n",
       "\n",
       "                                              SHA256  \\\n",
       "0  53DCE48C4E666132A413F1C0C9D105EF7C018D7D4400E9...   \n",
       "1  D5B7A0B21A9F2893B29939FE703E5FCA6E2625B72B9435...   \n",
       "2  9B865DB16D7052C101B075F3B3CBC923F709D101F14EA1...   \n",
       "3  28388B523EB9A554F97AF745710B6A6F074F51AAEE41D2...   \n",
       "4  DCCDDBD3268C0C922170F6C1035AFD670BA020C08012D6...   \n",
       "\n",
       "                                 ThumbPrint Application_Category  Family_Name  \\\n",
       "0  F0CA270347F8E2D6D21F4F249BB6FA82AB6F83E3                  NaN          NaN   \n",
       "1  672C7E09D7971FEFF924CB9BB9DF501B068699D2                  NaN          NaN   \n",
       "2  2567A99F17B580AABE2846936E4CDE5D77D74115                  NaN          NaN   \n",
       "3  61ED377E85D386A8DFEE6B864BD85B0BFAA5AF81                  NaN          NaN   \n",
       "4  0C6F6BB008DE7BF449587AE869E463A14137944A               Racing          NaN   \n",
       "\n",
       "   Malware_Category  Malware/Benign  Permission: FACTORY_TEST  \\\n",
       "0               NaN             0.0                         0   \n",
       "1               NaN             0.0                         0   \n",
       "2               NaN             0.0                         0   \n",
       "3               NaN             0.0                         0   \n",
       "4               NaN             0.0                         0   \n",
       "\n",
       "   Permission: DUMP  Permission: BATTERY_STATS  ...  pose_6dof  pressure  \\\n",
       "0                 0                          0  ...          0         0   \n",
       "1                 0                          0  ...          0         0   \n",
       "2                 0                          0  ...          0         0   \n",
       "3                 0                          0  ...          0         0   \n",
       "4                 0                          0  ...          0         0   \n",
       "\n",
       "   proximity  relative_humidity  rotation_vector  significant_motion  \\\n",
       "0          0                  0                0                   0   \n",
       "1          0                  0                0                   0   \n",
       "2          0                  0                0                   0   \n",
       "3          0                  0                0                   0   \n",
       "4          0                  0                0                   0   \n",
       "\n",
       "   stationary_detect  step_counter  step_detector  temperature  \n",
       "0                  0             0              0            0  \n",
       "1                  0             0              0            0  \n",
       "2                  0             0              0            0  \n",
       "3                  0             0              0            0  \n",
       "4                  0             0              0            0  \n",
       "\n",
       "[5 rows x 872 columns]"
      ]
     },
     "execution_count": 2,
     "metadata": {},
     "output_type": "execute_result"
    }
   ],
   "source": [
    "dt=pd.read_csv('https://raw.githubusercontent.com/Programming-Systems-Lab/Capstone-2/master/data/Training_Data/Training_Dataset.csv')\n",
    "dt.drop_duplicates(inplace=True)\n",
    "dt.head()"
   ]
  },
  {
   "cell_type": "code",
   "execution_count": 3,
   "metadata": {},
   "outputs": [],
   "source": [
    "### get the ground truth labels\n",
    "dt['Malware/Benign']=dt['Malware/Benign'].apply(lambda x: 1 if x>0 else 0)"
   ]
  },
  {
   "cell_type": "markdown",
   "metadata": {},
   "source": [
    "### 2. Drop unuseful columns"
   ]
  },
  {
   "cell_type": "markdown",
   "metadata": {},
   "source": [
    "#### 2.1 Drop empty columns"
   ]
  },
  {
   "cell_type": "code",
   "execution_count": 4,
   "metadata": {},
   "outputs": [
    {
     "data": {
      "text/plain": [
       "['Application_Category',\n",
       " 'Family_Name',\n",
       " 'Malware_Category',\n",
       " 'sdkVersion',\n",
       " 'targetSdkVersion']"
      ]
     },
     "execution_count": 4,
     "metadata": {},
     "output_type": "execute_result"
    }
   ],
   "source": [
    "NAcols=dt.columns[dt.isnull().any()]\n",
    "list(NAcols)"
   ]
  },
  {
   "cell_type": "code",
   "execution_count": 5,
   "metadata": {},
   "outputs": [
    {
     "data": {
      "text/plain": [
       "Application_Category     8591\n",
       "Family_Name             10951\n",
       "Malware_Category        10951\n",
       "sdkVersion              10951\n",
       "targetSdkVersion        10951\n",
       "dtype: int64"
      ]
     },
     "execution_count": 5,
     "metadata": {},
     "output_type": "execute_result"
    }
   ],
   "source": [
    "dt[list(NAcols)].isnull().sum()"
   ]
  },
  {
   "cell_type": "code",
   "execution_count": 6,
   "metadata": {},
   "outputs": [],
   "source": [
    "droplist1=list(NAcols)[1:]"
   ]
  },
  {
   "cell_type": "markdown",
   "metadata": {},
   "source": [
    "**Empty columns include:  \n",
    "Family_Name, Malware_Category, sdkVersion, targetSdkVersion.  \n",
    "Application_Category might be useful, so keep it for now.**"
   ]
  },
  {
   "cell_type": "code",
   "execution_count": 7,
   "metadata": {},
   "outputs": [
    {
     "data": {
      "text/html": [
       "<div>\n",
       "<style scoped>\n",
       "    .dataframe tbody tr th:only-of-type {\n",
       "        vertical-align: middle;\n",
       "    }\n",
       "\n",
       "    .dataframe tbody tr th {\n",
       "        vertical-align: top;\n",
       "    }\n",
       "\n",
       "    .dataframe thead th {\n",
       "        text-align: right;\n",
       "    }\n",
       "</style>\n",
       "<table border=\"1\" class=\"dataframe\">\n",
       "  <thead>\n",
       "    <tr style=\"text-align: right;\">\n",
       "      <th></th>\n",
       "      <th>mean</th>\n",
       "      <th>count</th>\n",
       "    </tr>\n",
       "    <tr>\n",
       "      <th>Application_Category</th>\n",
       "      <th></th>\n",
       "      <th></th>\n",
       "    </tr>\n",
       "  </thead>\n",
       "  <tbody>\n",
       "    <tr>\n",
       "      <th>Action</th>\n",
       "      <td>0.602564</td>\n",
       "      <td>78</td>\n",
       "    </tr>\n",
       "    <tr>\n",
       "      <th>Adventure</th>\n",
       "      <td>0.652174</td>\n",
       "      <td>23</td>\n",
       "    </tr>\n",
       "    <tr>\n",
       "      <th>Arcade</th>\n",
       "      <td>0.614130</td>\n",
       "      <td>184</td>\n",
       "    </tr>\n",
       "    <tr>\n",
       "      <th>Art &amp; Design</th>\n",
       "      <td>1.000000</td>\n",
       "      <td>1</td>\n",
       "    </tr>\n",
       "    <tr>\n",
       "      <th>Beauty</th>\n",
       "      <td>0.750000</td>\n",
       "      <td>4</td>\n",
       "    </tr>\n",
       "    <tr>\n",
       "      <th>...</th>\n",
       "      <td>...</td>\n",
       "      <td>...</td>\n",
       "    </tr>\n",
       "    <tr>\n",
       "      <th>赛车竞速</th>\n",
       "      <td>0.521739</td>\n",
       "      <td>23</td>\n",
       "    </tr>\n",
       "    <tr>\n",
       "      <th>辅助工具</th>\n",
       "      <td>0.500000</td>\n",
       "      <td>2</td>\n",
       "    </tr>\n",
       "    <tr>\n",
       "      <th>通话通讯</th>\n",
       "      <td>0.600000</td>\n",
       "      <td>5</td>\n",
       "    </tr>\n",
       "    <tr>\n",
       "      <th>金融理财</th>\n",
       "      <td>0.142857</td>\n",
       "      <td>7</td>\n",
       "    </tr>\n",
       "    <tr>\n",
       "      <th>音乐游戏</th>\n",
       "      <td>0.500000</td>\n",
       "      <td>4</td>\n",
       "    </tr>\n",
       "  </tbody>\n",
       "</table>\n",
       "<p>68 rows × 2 columns</p>\n",
       "</div>"
      ],
      "text/plain": [
       "                          mean  count\n",
       "Application_Category                 \n",
       "Action                0.602564     78\n",
       "Adventure             0.652174     23\n",
       "Arcade                0.614130    184\n",
       "Art & Design          1.000000      1\n",
       "Beauty                0.750000      4\n",
       "...                        ...    ...\n",
       "赛车竞速                  0.521739     23\n",
       "辅助工具                  0.500000      2\n",
       "通话通讯                  0.600000      5\n",
       "金融理财                  0.142857      7\n",
       "音乐游戏                  0.500000      4\n",
       "\n",
       "[68 rows x 2 columns]"
      ]
     },
     "execution_count": 7,
     "metadata": {},
     "output_type": "execute_result"
    }
   ],
   "source": [
    "dt.groupby('Application_Category')['Malware/Benign'].agg(['mean', 'count'])"
   ]
  },
  {
   "cell_type": "markdown",
   "metadata": {},
   "source": [
    "#### 2.2 Check column types and remove columns whose variance is 1"
   ]
  },
  {
   "cell_type": "code",
   "execution_count": 8,
   "metadata": {},
   "outputs": [
    {
     "data": {
      "text/plain": [
       "Index(['Package_Name', 'SHA256', 'ThumbPrint', 'Application_Category'], dtype='object')"
      ]
     },
     "execution_count": 8,
     "metadata": {},
     "output_type": "execute_result"
    }
   ],
   "source": [
    "dt.columns[dt.dtypes=='object']"
   ]
  },
  {
   "cell_type": "code",
   "execution_count": 9,
   "metadata": {},
   "outputs": [
    {
     "data": {
      "text/plain": [
       "Index(['Family_Name', 'Malware_Category', 'sdkVersion', 'targetSdkVersion'], dtype='object')"
      ]
     },
     "execution_count": 9,
     "metadata": {},
     "output_type": "execute_result"
    }
   ],
   "source": [
    "dt.columns[dt.dtypes=='float64']"
   ]
  },
  {
   "cell_type": "code",
   "execution_count": 10,
   "metadata": {},
   "outputs": [],
   "source": [
    "droplist2=list(dt.iloc[:,7:].columns[dt.iloc[:,7:].var()==0])"
   ]
  },
  {
   "cell_type": "markdown",
   "metadata": {},
   "source": [
    "#### 2.3 Drop high cardinality columns"
   ]
  },
  {
   "cell_type": "code",
   "execution_count": 11,
   "metadata": {},
   "outputs": [
    {
     "data": {
      "text/plain": [
       "3548"
      ]
     },
     "execution_count": 11,
     "metadata": {},
     "output_type": "execute_result"
    }
   ],
   "source": [
    "dt['ThumbPrint'].nunique()  # drop it"
   ]
  },
  {
   "cell_type": "code",
   "execution_count": 12,
   "metadata": {},
   "outputs": [
    {
     "data": {
      "text/plain": [
       "5116"
      ]
     },
     "execution_count": 12,
     "metadata": {},
     "output_type": "execute_result"
    }
   ],
   "source": [
    "dt['Package_Name'].apply(lambda x: '.'.join(x.split('.')[:2])).nunique() # drop it"
   ]
  },
  {
   "cell_type": "code",
   "execution_count": 13,
   "metadata": {},
   "outputs": [
    {
     "data": {
      "text/plain": [
       "401"
      ]
     },
     "execution_count": 13,
     "metadata": {},
     "output_type": "execute_result"
    }
   ],
   "source": [
    "dt['Package_Name'].apply(lambda x: '.'.join(x.split('.')[:1])).nunique() # drop it"
   ]
  },
  {
   "cell_type": "markdown",
   "metadata": {},
   "source": [
    "#### 2.4 Get the final dataset. Shirish said we can drop the first 6 columns."
   ]
  },
  {
   "cell_type": "code",
   "execution_count": 14,
   "metadata": {},
   "outputs": [
    {
     "data": {
      "text/html": [
       "<div>\n",
       "<style scoped>\n",
       "    .dataframe tbody tr th:only-of-type {\n",
       "        vertical-align: middle;\n",
       "    }\n",
       "\n",
       "    .dataframe tbody tr th {\n",
       "        vertical-align: top;\n",
       "    }\n",
       "\n",
       "    .dataframe thead th {\n",
       "        text-align: right;\n",
       "    }\n",
       "</style>\n",
       "<table border=\"1\" class=\"dataframe\">\n",
       "  <thead>\n",
       "    <tr style=\"text-align: right;\">\n",
       "      <th></th>\n",
       "      <th>Malware/Benign</th>\n",
       "      <th>Permission: FACTORY_TEST</th>\n",
       "      <th>Permission: DUMP</th>\n",
       "      <th>Permission: BATTERY_STATS</th>\n",
       "      <th>Permission: BIND_WALLPAPER</th>\n",
       "      <th>Permission: BIND_INPUT_METHOD</th>\n",
       "      <th>Permission: READ_LOGS</th>\n",
       "      <th>Permission: INSTALL_LOCATION_PROVIDER</th>\n",
       "      <th>Permission: READ_FRAME_BUFFER</th>\n",
       "      <th>Permission: SET_PROCESS_LIMIT</th>\n",
       "      <th>...</th>\n",
       "      <th>pose_6dof</th>\n",
       "      <th>pressure</th>\n",
       "      <th>proximity</th>\n",
       "      <th>relative_humidity</th>\n",
       "      <th>rotation_vector</th>\n",
       "      <th>significant_motion</th>\n",
       "      <th>stationary_detect</th>\n",
       "      <th>step_counter</th>\n",
       "      <th>step_detector</th>\n",
       "      <th>temperature</th>\n",
       "    </tr>\n",
       "  </thead>\n",
       "  <tbody>\n",
       "    <tr>\n",
       "      <th>0</th>\n",
       "      <td>0</td>\n",
       "      <td>0</td>\n",
       "      <td>0</td>\n",
       "      <td>0</td>\n",
       "      <td>0</td>\n",
       "      <td>0</td>\n",
       "      <td>0</td>\n",
       "      <td>0</td>\n",
       "      <td>0</td>\n",
       "      <td>0</td>\n",
       "      <td>...</td>\n",
       "      <td>0</td>\n",
       "      <td>0</td>\n",
       "      <td>0</td>\n",
       "      <td>0</td>\n",
       "      <td>0</td>\n",
       "      <td>0</td>\n",
       "      <td>0</td>\n",
       "      <td>0</td>\n",
       "      <td>0</td>\n",
       "      <td>0</td>\n",
       "    </tr>\n",
       "    <tr>\n",
       "      <th>1</th>\n",
       "      <td>0</td>\n",
       "      <td>0</td>\n",
       "      <td>0</td>\n",
       "      <td>0</td>\n",
       "      <td>0</td>\n",
       "      <td>0</td>\n",
       "      <td>0</td>\n",
       "      <td>0</td>\n",
       "      <td>0</td>\n",
       "      <td>0</td>\n",
       "      <td>...</td>\n",
       "      <td>0</td>\n",
       "      <td>0</td>\n",
       "      <td>0</td>\n",
       "      <td>0</td>\n",
       "      <td>0</td>\n",
       "      <td>0</td>\n",
       "      <td>0</td>\n",
       "      <td>0</td>\n",
       "      <td>0</td>\n",
       "      <td>0</td>\n",
       "    </tr>\n",
       "    <tr>\n",
       "      <th>2</th>\n",
       "      <td>0</td>\n",
       "      <td>0</td>\n",
       "      <td>0</td>\n",
       "      <td>0</td>\n",
       "      <td>0</td>\n",
       "      <td>0</td>\n",
       "      <td>0</td>\n",
       "      <td>0</td>\n",
       "      <td>0</td>\n",
       "      <td>0</td>\n",
       "      <td>...</td>\n",
       "      <td>0</td>\n",
       "      <td>0</td>\n",
       "      <td>0</td>\n",
       "      <td>0</td>\n",
       "      <td>0</td>\n",
       "      <td>0</td>\n",
       "      <td>0</td>\n",
       "      <td>0</td>\n",
       "      <td>0</td>\n",
       "      <td>0</td>\n",
       "    </tr>\n",
       "    <tr>\n",
       "      <th>3</th>\n",
       "      <td>0</td>\n",
       "      <td>0</td>\n",
       "      <td>0</td>\n",
       "      <td>0</td>\n",
       "      <td>0</td>\n",
       "      <td>0</td>\n",
       "      <td>0</td>\n",
       "      <td>0</td>\n",
       "      <td>0</td>\n",
       "      <td>0</td>\n",
       "      <td>...</td>\n",
       "      <td>0</td>\n",
       "      <td>0</td>\n",
       "      <td>0</td>\n",
       "      <td>0</td>\n",
       "      <td>0</td>\n",
       "      <td>0</td>\n",
       "      <td>0</td>\n",
       "      <td>0</td>\n",
       "      <td>0</td>\n",
       "      <td>0</td>\n",
       "    </tr>\n",
       "    <tr>\n",
       "      <th>4</th>\n",
       "      <td>0</td>\n",
       "      <td>0</td>\n",
       "      <td>0</td>\n",
       "      <td>0</td>\n",
       "      <td>0</td>\n",
       "      <td>0</td>\n",
       "      <td>0</td>\n",
       "      <td>0</td>\n",
       "      <td>0</td>\n",
       "      <td>0</td>\n",
       "      <td>...</td>\n",
       "      <td>0</td>\n",
       "      <td>0</td>\n",
       "      <td>0</td>\n",
       "      <td>0</td>\n",
       "      <td>0</td>\n",
       "      <td>0</td>\n",
       "      <td>0</td>\n",
       "      <td>0</td>\n",
       "      <td>0</td>\n",
       "      <td>0</td>\n",
       "    </tr>\n",
       "  </tbody>\n",
       "</table>\n",
       "<p>5 rows × 353 columns</p>\n",
       "</div>"
      ],
      "text/plain": [
       "   Malware/Benign  Permission: FACTORY_TEST  Permission: DUMP  \\\n",
       "0               0                         0                 0   \n",
       "1               0                         0                 0   \n",
       "2               0                         0                 0   \n",
       "3               0                         0                 0   \n",
       "4               0                         0                 0   \n",
       "\n",
       "   Permission: BATTERY_STATS  Permission: BIND_WALLPAPER  \\\n",
       "0                          0                           0   \n",
       "1                          0                           0   \n",
       "2                          0                           0   \n",
       "3                          0                           0   \n",
       "4                          0                           0   \n",
       "\n",
       "   Permission: BIND_INPUT_METHOD  Permission: READ_LOGS  \\\n",
       "0                              0                      0   \n",
       "1                              0                      0   \n",
       "2                              0                      0   \n",
       "3                              0                      0   \n",
       "4                              0                      0   \n",
       "\n",
       "   Permission: INSTALL_LOCATION_PROVIDER  Permission: READ_FRAME_BUFFER  \\\n",
       "0                                      0                              0   \n",
       "1                                      0                              0   \n",
       "2                                      0                              0   \n",
       "3                                      0                              0   \n",
       "4                                      0                              0   \n",
       "\n",
       "   Permission: SET_PROCESS_LIMIT  ...  pose_6dof  pressure  proximity  \\\n",
       "0                              0  ...          0         0          0   \n",
       "1                              0  ...          0         0          0   \n",
       "2                              0  ...          0         0          0   \n",
       "3                              0  ...          0         0          0   \n",
       "4                              0  ...          0         0          0   \n",
       "\n",
       "   relative_humidity  rotation_vector  significant_motion  stationary_detect  \\\n",
       "0                  0                0                   0                  0   \n",
       "1                  0                0                   0                  0   \n",
       "2                  0                0                   0                  0   \n",
       "3                  0                0                   0                  0   \n",
       "4                  0                0                   0                  0   \n",
       "\n",
       "   step_counter  step_detector  temperature  \n",
       "0             0              0            0  \n",
       "1             0              0            0  \n",
       "2             0              0            0  \n",
       "3             0              0            0  \n",
       "4             0              0            0  \n",
       "\n",
       "[5 rows x 353 columns]"
      ]
     },
     "execution_count": 14,
     "metadata": {},
     "output_type": "execute_result"
    }
   ],
   "source": [
    "dt2=dt.drop(columns=droplist1+droplist2+['Package_Name','ThumbPrint','Application_Category','SHA256'])\n",
    "dt2.head()"
   ]
  },
  {
   "cell_type": "markdown",
   "metadata": {},
   "source": [
    "### 3. Modeling"
   ]
  },
  {
   "cell_type": "code",
   "execution_count": 15,
   "metadata": {},
   "outputs": [],
   "source": [
    "from sklearn.model_selection import train_test_split\n",
    "from sklearn.model_selection import cross_val_score, cross_validate, GridSearchCV\n",
    "from sklearn.linear_model import LogisticRegression\n",
    "from sklearn.svm import SVC\n",
    "from sklearn.neighbors import KNeighborsClassifier\n",
    "from xgboost import XGBClassifier\n",
    "\n",
    "from sklearn.metrics import confusion_matrix, accuracy_score, roc_auc_score, roc_curve, plot_roc_curve, auc, recall_score, precision_score\n",
    "from sklearn.metrics import precision_recall_fscore_support, balanced_accuracy_score # average of recall obtained on each class\n",
    "from sklearn.utils import class_weight"
   ]
  },
  {
   "cell_type": "markdown",
   "metadata": {},
   "source": [
    "#### Distribution of target"
   ]
  },
  {
   "cell_type": "code",
   "execution_count": 16,
   "metadata": {},
   "outputs": [],
   "source": [
    "X,y=dt2.drop(columns=['Malware/Benign']), dt2['Malware/Benign']"
   ]
  },
  {
   "cell_type": "code",
   "execution_count": 17,
   "metadata": {},
   "outputs": [
    {
     "data": {
      "image/png": "[encoded data removed]",
      "text/plain": [
       "<Figure size 720x432 with 1 Axes>"
      ]
     },
     "metadata": {
      "needs_background": "light"
     },
     "output_type": "display_data"
    }
   ],
   "source": [
    "plt.figure(figsize = (10, 6))\n",
    "plt.bar(['0', '1'], y.value_counts().values)\n",
    "plt.xlabel('Label', fontsize = 13)\n",
    "plt.ylabel('Count', fontsize = 13)\n",
    "plt.title('Distribution of Target', fontsize = 15)\n",
    "plt.show()"
   ]
  },
  {
   "cell_type": "markdown",
   "metadata": {},
   "source": [
    "#### 3.1 Train test split"
   ]
  },
  {
   "cell_type": "code",
   "execution_count": 51,
   "metadata": {},
   "outputs": [],
   "source": [
    "X_train, X_test, y_train, y_test = train_test_split(X, y, \n",
    "                                                    test_size = 0.2, \n",
    "                                                    random_state = 123, \n",
    "                                                    stratify = y)\n",
    "\n",
    "X_train_no_sensor, X_test_no_sensor=X_train.iloc[:,:-29], X_test.iloc[:,:-29]"
   ]
  },
  {
   "cell_type": "markdown",
   "metadata": {},
   "source": [
    "#### 3.2 Train different models"
   ]
  },
  {
   "cell_type": "code",
   "execution_count": 19,
   "metadata": {},
   "outputs": [
    {
     "name": "stdout",
     "output_type": "stream",
     "text": [
      "Cross-Validation Accuracy Score 0.8939497716894976\n",
      "Cross-Validation AUC Score 0.9014804652134929\n"
     ]
    }
   ],
   "source": [
    "### logistic\n",
    "scores = cross_validate(LogisticRegression(max_iter = 1000), X_train, y_train, scoring=('roc_auc','accuracy'),cv=5)\n",
    "print('Cross-Validation Accuracy Score', scores['test_accuracy'].mean())\n",
    "print('Cross-Validation AUC Score', scores['test_roc_auc'].mean())"
   ]
  },
  {
   "cell_type": "code",
   "execution_count": 20,
   "metadata": {},
   "outputs": [
    {
     "name": "stdout",
     "output_type": "stream",
     "text": [
      "Cross-Validation Accuracy Score 0.9033105022831049\n",
      "Cross-Validation AUC Score 0.9016784024758087\n"
     ]
    }
   ],
   "source": [
    "### svm\n",
    "scores = cross_validate(SVC(), X_train, y_train, scoring=('roc_auc','accuracy'),cv=5)\n",
    "print('Cross-Validation Accuracy Score', scores['test_accuracy'].mean())\n",
    "print('Cross-Validation AUC Score', scores['test_roc_auc'].mean())"
   ]
  },
  {
   "cell_type": "code",
   "execution_count": 21,
   "metadata": {},
   "outputs": [
    {
     "name": "stdout",
     "output_type": "stream",
     "text": [
      "Cross-Validation Accuracy Score 0.8915525114155252\n",
      "Cross-Validation AUC Score 0.8927550078426778\n"
     ]
    }
   ],
   "source": [
    "### knn\n",
    "scores = cross_validate(KNeighborsClassifier(), X_train, y_train, scoring=('roc_auc','accuracy'),cv=5)\n",
    "print('Cross-Validation Accuracy Score', scores['test_accuracy'].mean())\n",
    "print('Cross-Validation AUC Score', scores['test_roc_auc'].mean())"
   ]
  },
  {
   "cell_type": "code",
   "execution_count": 22,
   "metadata": {},
   "outputs": [
    {
     "name": "stdout",
     "output_type": "stream",
     "text": [
      "Cross-Validation Accuracy Score 0.9067351598173516\n",
      "Cross-Validation AUC Score 0.9423470279878317\n"
     ]
    }
   ],
   "source": [
    "### xgboost\n",
    "scores = cross_validate(XGBClassifier(), X_train, y_train, scoring=('roc_auc','accuracy'),cv=5)\n",
    "print('Cross-Validation Accuracy Score', scores['test_accuracy'].mean())\n",
    "print('Cross-Validation AUC Score', scores['test_roc_auc'].mean())"
   ]
  },
  {
   "cell_type": "markdown",
   "metadata": {},
   "source": [
    "**3.3 Tune KNN**"
   ]
  },
  {
   "cell_type": "markdown",
   "metadata": {},
   "source": [
    "##### ----- with sensors, all apks, no smote"
   ]
  },
  {
   "cell_type": "code",
   "execution_count": 23,
   "metadata": {},
   "outputs": [],
   "source": [
    "param_grid = {'n_neighbors': [1,3,5,7,9,11,13],\n",
    "              'weights': ['uniform','distance']\n",
    "             }"
   ]
  },
  {
   "cell_type": "code",
   "execution_count": 24,
   "metadata": {},
   "outputs": [
    {
     "data": {
      "text/plain": [
       "GridSearchCV(cv=5, estimator=KNeighborsClassifier(), n_jobs=-1,\n",
       "             param_grid={'n_neighbors': [1, 3, 5, 7, 9, 11, 13],\n",
       "                         'weights': ['uniform', 'distance']},\n",
       "             scoring='balanced_accuracy')"
      ]
     },
     "execution_count": 24,
     "metadata": {},
     "output_type": "execute_result"
    }
   ],
   "source": [
    "#fit model to data\n",
    "knn_gscv1 = GridSearchCV(KNeighborsClassifier(), param_grid, cv=5,n_jobs=-1,\n",
    "                        scoring='balanced_accuracy')\n",
    "knn_gscv1.fit(X_train, y_train)"
   ]
  },
  {
   "cell_type": "code",
   "execution_count": 25,
   "metadata": {},
   "outputs": [
    {
     "data": {
      "image/png": "[encoded data removed]",
      "text/plain": [
       "<Figure size 576x432 with 2 Axes>"
      ]
     },
     "metadata": {
      "needs_background": "light"
     },
     "output_type": "display_data"
    }
   ],
   "source": [
    "# visualization\n",
    "result1=pd.DataFrame(knn_gscv1.cv_results_)\n",
    "fig, ax = plt.subplots(figsize=(8,6))\n",
    "sns.heatmap(result1.pivot('param_weights','param_n_neighbors','mean_test_score'),\\\n",
    "            annot=True,linewidths=.5,ax=ax,cmap=\"YlGnBu\")\n",
    "ax.set_title(\"mean test balanced_accuracy\", size=15)\n",
    "ax.invert_yaxis()\n",
    "plt.show()"
   ]
  },
  {
   "cell_type": "code",
   "execution_count": 26,
   "metadata": {},
   "outputs": [
    {
     "name": "stdout",
     "output_type": "stream",
     "text": [
      "Test balanced accuracy is: 0.7440860140152412\n"
     ]
    }
   ],
   "source": [
    "y_pred=knn_gscv1.predict(X_test)\n",
    "print('Test balanced accuracy is:', balanced_accuracy_score(y_test,y_pred))"
   ]
  },
  {
   "cell_type": "markdown",
   "metadata": {},
   "source": [
    "##### ----- with sensors, all apks, smote  \n",
    "SMOTE: Synthetic Minority Oversampling Technique  \n",
    "Adds synthetic interpolated data to smaller class  \n",
    "For each sample in minority class:  \n",
    "– Pick random neighbor from k neighbors (default=5)  \n",
    "– Pick point on line connecting the two uniformly (or within rectangle)  \n",
    "– Repeat.  "
   ]
  },
  {
   "cell_type": "code",
   "execution_count": 27,
   "metadata": {},
   "outputs": [
    {
     "name": "stdout",
     "output_type": "stream",
     "text": [
      "0.7.0\n"
     ]
    }
   ],
   "source": [
    "import imblearn\n",
    "print(imblearn.__version__)\n",
    "from imblearn.over_sampling import SMOTE\n",
    "from collections import Counter"
   ]
  },
  {
   "cell_type": "code",
   "execution_count": 28,
   "metadata": {},
   "outputs": [
    {
     "name": "stdout",
     "output_type": "stream",
     "text": [
      "Originally:  Counter({1: 7157, 0: 1603})\n",
      "Now:  Counter({1: 7157, 0: 7157})\n"
     ]
    }
   ],
   "source": [
    "oversample = SMOTE(random_state=222)\n",
    "print('Originally: ',Counter(y_train))\n",
    "X_train_os, y_train_os = oversample.fit_resample(X_train, y_train)\n",
    "print('Now: ',Counter(y_train_os))"
   ]
  },
  {
   "cell_type": "code",
   "execution_count": 29,
   "metadata": {},
   "outputs": [
    {
     "data": {
      "text/plain": [
       "GridSearchCV(cv=5, estimator=KNeighborsClassifier(), n_jobs=-1,\n",
       "             param_grid={'n_neighbors': [1, 3, 5, 7, 9, 11, 13],\n",
       "                         'weights': ['uniform', 'distance']},\n",
       "             scoring='balanced_accuracy')"
      ]
     },
     "execution_count": 29,
     "metadata": {},
     "output_type": "execute_result"
    }
   ],
   "source": [
    "#fit model to data\n",
    "knn_gscv2 = GridSearchCV(KNeighborsClassifier(), param_grid, cv=5,n_jobs=-1,\n",
    "                        scoring='balanced_accuracy')\n",
    "knn_gscv2.fit(X_train_os, y_train_os)"
   ]
  },
  {
   "cell_type": "code",
   "execution_count": 30,
   "metadata": {},
   "outputs": [
    {
     "data": {
      "image/png": "[encoded data removed]",
      "text/plain": [
       "<Figure size 576x432 with 2 Axes>"
      ]
     },
     "metadata": {
      "needs_background": "light"
     },
     "output_type": "display_data"
    }
   ],
   "source": [
    "# visualization\n",
    "result2=pd.DataFrame(knn_gscv2.cv_results_)\n",
    "fig, ax = plt.subplots(figsize=(8,6))\n",
    "sns.heatmap(result2.pivot('param_weights','param_n_neighbors','mean_test_score'),\\\n",
    "            annot=True,linewidths=.5,ax=ax,cmap=\"YlGnBu\")\n",
    "ax.set_title(\"mean test balanced_accuracy (w/ sensors, SMOTE)\", size=15)\n",
    "ax.invert_yaxis()\n",
    "plt.show()"
   ]
  },
  {
   "cell_type": "code",
   "execution_count": 31,
   "metadata": {
    "scrolled": true
   },
   "outputs": [
    {
     "name": "stdout",
     "output_type": "stream",
     "text": [
      "Test balanced accuracy is: 0.8024101756781231\n"
     ]
    }
   ],
   "source": [
    "y_pred_s=knn_gscv2.predict(X_test)\n",
    "print('Test balanced accuracy is:', balanced_accuracy_score(y_test,y_pred_s))"
   ]
  },
  {
   "cell_type": "markdown",
   "metadata": {},
   "source": [
    "**SMOTE improves test balanced accuracy from 0.74 to 0.80, we should use SMOTE for modeling.**"
   ]
  },
  {
   "cell_type": "code",
   "execution_count": 32,
   "metadata": {
    "scrolled": true
   },
   "outputs": [
    {
     "name": "stdout",
     "output_type": "stream",
     "text": [
      "Test Accuracy is: 0.8795070743952533\n",
      "Test Precision is: 0.9281705948372615\n",
      "Test Recall is: 0.924022346368715\n"
     ]
    }
   ],
   "source": [
    "print('Test Accuracy is:', accuracy_score(y_test,y_pred_s))\n",
    "print('Test Precision is:', precision_score(y_test,y_pred_s))\n",
    "print('Test Recall is:', recall_score(y_test,y_pred_s))"
   ]
  },
  {
   "cell_type": "markdown",
   "metadata": {},
   "source": [
    "##### ----- without sensors, all apks, smote  "
   ]
  },
  {
   "cell_type": "code",
   "execution_count": 33,
   "metadata": {},
   "outputs": [],
   "source": [
    "X_train_os, y_train_os = oversample.fit_resample(X_train_no_sensor, y_train)"
   ]
  },
  {
   "cell_type": "code",
   "execution_count": 34,
   "metadata": {},
   "outputs": [
    {
     "data": {
      "text/plain": [
       "GridSearchCV(cv=5, estimator=KNeighborsClassifier(), n_jobs=-1,\n",
       "             param_grid={'n_neighbors': [1, 3, 5, 7, 9, 11, 13],\n",
       "                         'weights': ['uniform', 'distance']},\n",
       "             scoring='balanced_accuracy')"
      ]
     },
     "execution_count": 34,
     "metadata": {},
     "output_type": "execute_result"
    }
   ],
   "source": [
    "#fit model to data\n",
    "knn_gscv3 = GridSearchCV(KNeighborsClassifier(), param_grid, cv=5,n_jobs=-1,\n",
    "                        scoring='balanced_accuracy')\n",
    "knn_gscv3.fit(X_train_os, y_train_os)"
   ]
  },
  {
   "cell_type": "code",
   "execution_count": 35,
   "metadata": {},
   "outputs": [
    {
     "data": {
      "image/png": "[encoded data removed]",
      "text/plain": [
       "<Figure size 576x432 with 2 Axes>"
      ]
     },
     "metadata": {
      "needs_background": "light"
     },
     "output_type": "display_data"
    }
   ],
   "source": [
    "# visualization\n",
    "result3=pd.DataFrame(knn_gscv3.cv_results_)\n",
    "fig, ax = plt.subplots(figsize=(8,6))\n",
    "sns.heatmap(result3.pivot('param_weights','param_n_neighbors','mean_test_score'),\\\n",
    "            annot=True,linewidths=.5,ax=ax,cmap=\"YlGnBu\")\n",
    "ax.set_title(\"mean test balanced_accuracy (w/o sensors, SMOTE)\", size=15)\n",
    "ax.invert_yaxis()\n",
    "plt.show()"
   ]
  },
  {
   "cell_type": "code",
   "execution_count": 36,
   "metadata": {},
   "outputs": [
    {
     "name": "stdout",
     "output_type": "stream",
     "text": [
      "Test balanced accuracy is: 0.804345282046281\n",
      "Test Accuracy is: 0.8795070743952533\n",
      "Test Precision is: 0.9291338582677166\n",
      "Test Recall is: 0.9229050279329609\n"
     ]
    }
   ],
   "source": [
    "y_pred_ns=knn_gscv3.predict(X_test_no_sensor)\n",
    "print('Test balanced accuracy is:', balanced_accuracy_score(y_test,y_pred_ns))\n",
    "print('Test Accuracy is:', accuracy_score(y_test,y_pred_ns))\n",
    "print('Test Precision is:', precision_score(y_test,y_pred_ns))\n",
    "print('Test Recall is:', recall_score(y_test,y_pred_ns))"
   ]
  },
  {
   "cell_type": "markdown",
   "metadata": {},
   "source": [
    "**Compare the confusion matrix**"
   ]
  },
  {
   "cell_type": "code",
   "execution_count": 37,
   "metadata": {},
   "outputs": [
    {
     "data": {
      "text/plain": [
       "array([[ 273,  128],\n",
       "       [ 136, 1654]])"
      ]
     },
     "execution_count": 37,
     "metadata": {},
     "output_type": "execute_result"
    }
   ],
   "source": [
    "# with sensor\n",
    "confusion_matrix(y_test,y_pred_s)"
   ]
  },
  {
   "cell_type": "code",
   "execution_count": 38,
   "metadata": {},
   "outputs": [
    {
     "data": {
      "text/plain": [
       "array([[ 275,  126],\n",
       "       [ 138, 1652]])"
      ]
     },
     "execution_count": 38,
     "metadata": {},
     "output_type": "execute_result"
    }
   ],
   "source": [
    "# w/o sensors\n",
    "confusion_matrix(y_test,y_pred_ns)"
   ]
  },
  {
   "cell_type": "markdown",
   "metadata": {},
   "source": [
    "### 4. Analysis"
   ]
  },
  {
   "cell_type": "code",
   "execution_count": 56,
   "metadata": {},
   "outputs": [],
   "source": [
    "# add back SHA256, thumbprint and ground truth to the X_test\n",
    "X_test = X_test.merge(dt[['Malware/Benign','SHA256', 'ThumbPrint']], left_index=True, right_index=True)\n",
    "X_test['y_pred_with_sensor'] = y_pred_s\n",
    "X_test['y_pred_wo_sensor'] = y_pred_ns"
   ]
  },
  {
   "cell_type": "markdown",
   "metadata": {},
   "source": [
    "#### 4.1 Paired apps v.s. non-paired apps"
   ]
  },
  {
   "cell_type": "code",
   "execution_count": 40,
   "metadata": {},
   "outputs": [],
   "source": [
    "# find the apk counterpart for all apks appear in X_train\n",
    "X_train = X_train.merge(dt[['Malware/Benign','SHA256', 'ThumbPrint']], left_index=True, right_index=True)\n",
    "f= open(\"repackaging_pairs.txt\").readlines()\n",
    "counterparts=set()\n",
    "for line in f:\n",
    "    o,r=line.strip().split(',')\n",
    "    if o in X_train['SHA256'].values:\n",
    "        counterparts.add(r)\n",
    "    if r in X_train['SHA256'].values:\n",
    "        counterparts.add(o)\n"
   ]
  },
  {
   "cell_type": "code",
   "execution_count": 41,
   "metadata": {},
   "outputs": [
    {
     "name": "stdout",
     "output_type": "stream",
     "text": [
      "# of test apps whose counterpart is in training set: 704\n",
      "# of test apps whose counterpart is NOT in training set: 1487\n"
     ]
    }
   ],
   "source": [
    "# iterate X_test, mark the apk whose counterpart is in X_train as 1 and others as 0\n",
    "X_test['counterpart in training?']=0\n",
    "for ind, row in X_test.iterrows():\n",
    "    if row['SHA256'] in counterparts:\n",
    "        X_test.loc[ind,'counterpart in training?']=1\n",
    "\n",
    "print('# of test apps whose counterpart is in training set:', sum(X_test['counterpart in training?']))\n",
    "print('# of test apps whose counterpart is NOT in training set:', len(X_test)-sum(X_test['counterpart in training?']))"
   ]
  },
  {
   "cell_type": "code",
   "execution_count": 42,
   "metadata": {},
   "outputs": [
    {
     "name": "stdout",
     "output_type": "stream",
     "text": [
      "With sensors:\n",
      "Overall accuracy: 0.8795070743952533\n",
      "Accuracy for apps whose original/repackaged counterpart is in training: 0.7514204545454546\n",
      "Accuracy for apps whose original/repackaged counterpart is NOT in training: 0.9401479488903833\n",
      "Without sensors\n",
      "Overall accuracy: 0.8795070743952533\n",
      "Accuracy for apps whose original/repackaged counterpart is in training: 0.7485795454545454\n",
      "Accuracy for apps whose original/repackaged counterpart is NOT in training: 0.9414929388029589\n"
     ]
    }
   ],
   "source": [
    "print('With sensors:')\n",
    "print('Overall accuracy:',accuracy_score(X_test['Malware/Benign'],X_test['y_pred_with_sensor']))\n",
    "print('Accuracy for apps whose original/repackaged counterpart is in training:', \n",
    "      accuracy_score(X_test[X_test['counterpart in training?']==1]['Malware/Benign'],X_test[X_test['counterpart in training?']==1]['y_pred_with_sensor']))\n",
    "print('Accuracy for apps whose original/repackaged counterpart is NOT in training:', \n",
    "      accuracy_score(X_test[X_test['counterpart in training?']==0]['Malware/Benign'],X_test[X_test['counterpart in training?']==0]['y_pred_with_sensor']))\n",
    "\n",
    "print('Without sensors')\n",
    "print('Overall accuracy:',accuracy_score(X_test['Malware/Benign'],X_test['y_pred_wo_sensor']))\n",
    "print('Accuracy for apps whose original/repackaged counterpart is in training:', \n",
    "      accuracy_score(X_test[X_test['counterpart in training?']==1]['Malware/Benign'],X_test[X_test['counterpart in training?']==1]['y_pred_wo_sensor']))\n",
    "print('Accuracy for apps whose original/repackaged counterpart is NOT in training:', \n",
    "      accuracy_score(X_test[X_test['counterpart in training?']==0]['Malware/Benign'],X_test[X_test['counterpart in training?']==0]['y_pred_wo_sensor']))"
   ]
  },
  {
   "cell_type": "markdown",
   "metadata": {},
   "source": [
    "#### 4.2 Paired apps v.s. non-paired apps"
   ]
  },
  {
   "cell_type": "code",
   "execution_count": 63,
   "metadata": {},
   "outputs": [
    {
     "name": "stdout",
     "output_type": "stream",
     "text": [
      "with sensors:\n"
     ]
    },
    {
     "data": {
      "text/html": [
       "<div>\n",
       "<style scoped>\n",
       "    .dataframe tbody tr th:only-of-type {\n",
       "        vertical-align: middle;\n",
       "    }\n",
       "\n",
       "    .dataframe tbody tr th {\n",
       "        vertical-align: top;\n",
       "    }\n",
       "\n",
       "    .dataframe thead th {\n",
       "        text-align: right;\n",
       "    }\n",
       "</style>\n",
       "<table border=\"1\" class=\"dataframe\">\n",
       "  <thead>\n",
       "    <tr style=\"text-align: right;\">\n",
       "      <th></th>\n",
       "      <th>N</th>\n",
       "      <th>correct</th>\n",
       "      <th>score</th>\n",
       "    </tr>\n",
       "    <tr>\n",
       "      <th>ThumbPrint</th>\n",
       "      <th></th>\n",
       "      <th></th>\n",
       "      <th></th>\n",
       "    </tr>\n",
       "  </thead>\n",
       "  <tbody>\n",
       "    <tr>\n",
       "      <th>61ED377E85D386A8DFEE6B864BD85B0BFAA5AF81</th>\n",
       "      <td>160</td>\n",
       "      <td>132</td>\n",
       "      <td>0.825000</td>\n",
       "    </tr>\n",
       "    <tr>\n",
       "      <th>28EAC321D548B4247D9C84810C0656EC9426716B</th>\n",
       "      <td>76</td>\n",
       "      <td>69</td>\n",
       "      <td>0.907895</td>\n",
       "    </tr>\n",
       "    <tr>\n",
       "      <th>F3FA0BE3FEB31AC2920E399AF0F0CFB37D729284</th>\n",
       "      <td>72</td>\n",
       "      <td>72</td>\n",
       "      <td>1.000000</td>\n",
       "    </tr>\n",
       "    <tr>\n",
       "      <th>95653B2BD67722B6EF4021CB812FF2B4DC5DCF03</th>\n",
       "      <td>62</td>\n",
       "      <td>62</td>\n",
       "      <td>1.000000</td>\n",
       "    </tr>\n",
       "    <tr>\n",
       "      <th>F243B92AD5EABA98BD43084864C4D5483F191CD9</th>\n",
       "      <td>52</td>\n",
       "      <td>51</td>\n",
       "      <td>0.980769</td>\n",
       "    </tr>\n",
       "    <tr>\n",
       "      <th>00F7DCC41988D8642C51D4F8BA5A42C413275885</th>\n",
       "      <td>48</td>\n",
       "      <td>48</td>\n",
       "      <td>1.000000</td>\n",
       "    </tr>\n",
       "    <tr>\n",
       "      <th>45A195BE1E17B3AFA086623DCC4661DEE2043B70</th>\n",
       "      <td>43</td>\n",
       "      <td>43</td>\n",
       "      <td>1.000000</td>\n",
       "    </tr>\n",
       "    <tr>\n",
       "      <th>6C699C8D1F7157366994ACDA5495051F2C58D7AB</th>\n",
       "      <td>42</td>\n",
       "      <td>42</td>\n",
       "      <td>1.000000</td>\n",
       "    </tr>\n",
       "    <tr>\n",
       "      <th>699512C8B49E7A01A622BD250544E09A80A42D55</th>\n",
       "      <td>38</td>\n",
       "      <td>33</td>\n",
       "      <td>0.868421</td>\n",
       "    </tr>\n",
       "    <tr>\n",
       "      <th>5BFC55F389F4B5427341E4320A501711140AE444</th>\n",
       "      <td>33</td>\n",
       "      <td>29</td>\n",
       "      <td>0.878788</td>\n",
       "    </tr>\n",
       "  </tbody>\n",
       "</table>\n",
       "</div>"
      ],
      "text/plain": [
       "                                            N  correct     score\n",
       "ThumbPrint                                                      \n",
       "61ED377E85D386A8DFEE6B864BD85B0BFAA5AF81  160      132  0.825000\n",
       "28EAC321D548B4247D9C84810C0656EC9426716B   76       69  0.907895\n",
       "F3FA0BE3FEB31AC2920E399AF0F0CFB37D729284   72       72  1.000000\n",
       "95653B2BD67722B6EF4021CB812FF2B4DC5DCF03   62       62  1.000000\n",
       "F243B92AD5EABA98BD43084864C4D5483F191CD9   52       51  0.980769\n",
       "00F7DCC41988D8642C51D4F8BA5A42C413275885   48       48  1.000000\n",
       "45A195BE1E17B3AFA086623DCC4661DEE2043B70   43       43  1.000000\n",
       "6C699C8D1F7157366994ACDA5495051F2C58D7AB   42       42  1.000000\n",
       "699512C8B49E7A01A622BD250544E09A80A42D55   38       33  0.868421\n",
       "5BFC55F389F4B5427341E4320A501711140AE444   33       29  0.878788"
      ]
     },
     "execution_count": 63,
     "metadata": {},
     "output_type": "execute_result"
    }
   ],
   "source": [
    "# scores of top 10 authors\n",
    "X_test['correct'] = X_test['Malware/Benign'] == X_test['y_pred_with_sensor']\n",
    "summ = X_test[X_test['Malware/Benign']==1].groupby('ThumbPrint')['correct'].agg([('N','count'),('correct','sum')])\\\n",
    ".sort_values('N', ascending=False).iloc[:10,:]\n",
    "summ['score'] = summ['correct']/summ['N']\n",
    "print('with sensors:')\n",
    "summ"
   ]
  },
  {
   "cell_type": "code",
   "execution_count": 44,
   "metadata": {},
   "outputs": [
    {
     "name": "stdout",
     "output_type": "stream",
     "text": [
      "without sensors:\n"
     ]
    },
    {
     "data": {
      "text/html": [
       "<div>\n",
       "<style scoped>\n",
       "    .dataframe tbody tr th:only-of-type {\n",
       "        vertical-align: middle;\n",
       "    }\n",
       "\n",
       "    .dataframe tbody tr th {\n",
       "        vertical-align: top;\n",
       "    }\n",
       "\n",
       "    .dataframe thead th {\n",
       "        text-align: right;\n",
       "    }\n",
       "</style>\n",
       "<table border=\"1\" class=\"dataframe\">\n",
       "  <thead>\n",
       "    <tr style=\"text-align: right;\">\n",
       "      <th></th>\n",
       "      <th>N</th>\n",
       "      <th>correct</th>\n",
       "      <th>score</th>\n",
       "    </tr>\n",
       "    <tr>\n",
       "      <th>ThumbPrint</th>\n",
       "      <th></th>\n",
       "      <th></th>\n",
       "      <th></th>\n",
       "    </tr>\n",
       "  </thead>\n",
       "  <tbody>\n",
       "    <tr>\n",
       "      <th>61ED377E85D386A8DFEE6B864BD85B0BFAA5AF81</th>\n",
       "      <td>160</td>\n",
       "      <td>132</td>\n",
       "      <td>0.825000</td>\n",
       "    </tr>\n",
       "    <tr>\n",
       "      <th>28EAC321D548B4247D9C84810C0656EC9426716B</th>\n",
       "      <td>76</td>\n",
       "      <td>69</td>\n",
       "      <td>0.907895</td>\n",
       "    </tr>\n",
       "    <tr>\n",
       "      <th>F3FA0BE3FEB31AC2920E399AF0F0CFB37D729284</th>\n",
       "      <td>72</td>\n",
       "      <td>72</td>\n",
       "      <td>1.000000</td>\n",
       "    </tr>\n",
       "    <tr>\n",
       "      <th>95653B2BD67722B6EF4021CB812FF2B4DC5DCF03</th>\n",
       "      <td>62</td>\n",
       "      <td>62</td>\n",
       "      <td>1.000000</td>\n",
       "    </tr>\n",
       "    <tr>\n",
       "      <th>F243B92AD5EABA98BD43084864C4D5483F191CD9</th>\n",
       "      <td>52</td>\n",
       "      <td>51</td>\n",
       "      <td>0.980769</td>\n",
       "    </tr>\n",
       "    <tr>\n",
       "      <th>00F7DCC41988D8642C51D4F8BA5A42C413275885</th>\n",
       "      <td>48</td>\n",
       "      <td>48</td>\n",
       "      <td>1.000000</td>\n",
       "    </tr>\n",
       "    <tr>\n",
       "      <th>45A195BE1E17B3AFA086623DCC4661DEE2043B70</th>\n",
       "      <td>43</td>\n",
       "      <td>43</td>\n",
       "      <td>1.000000</td>\n",
       "    </tr>\n",
       "    <tr>\n",
       "      <th>6C699C8D1F7157366994ACDA5495051F2C58D7AB</th>\n",
       "      <td>42</td>\n",
       "      <td>42</td>\n",
       "      <td>1.000000</td>\n",
       "    </tr>\n",
       "    <tr>\n",
       "      <th>699512C8B49E7A01A622BD250544E09A80A42D55</th>\n",
       "      <td>38</td>\n",
       "      <td>33</td>\n",
       "      <td>0.868421</td>\n",
       "    </tr>\n",
       "    <tr>\n",
       "      <th>5BFC55F389F4B5427341E4320A501711140AE444</th>\n",
       "      <td>33</td>\n",
       "      <td>29</td>\n",
       "      <td>0.878788</td>\n",
       "    </tr>\n",
       "  </tbody>\n",
       "</table>\n",
       "</div>"
      ],
      "text/plain": [
       "                                            N  correct     score\n",
       "ThumbPrint                                                      \n",
       "61ED377E85D386A8DFEE6B864BD85B0BFAA5AF81  160      132  0.825000\n",
       "28EAC321D548B4247D9C84810C0656EC9426716B   76       69  0.907895\n",
       "F3FA0BE3FEB31AC2920E399AF0F0CFB37D729284   72       72  1.000000\n",
       "95653B2BD67722B6EF4021CB812FF2B4DC5DCF03   62       62  1.000000\n",
       "F243B92AD5EABA98BD43084864C4D5483F191CD9   52       51  0.980769\n",
       "00F7DCC41988D8642C51D4F8BA5A42C413275885   48       48  1.000000\n",
       "45A195BE1E17B3AFA086623DCC4661DEE2043B70   43       43  1.000000\n",
       "6C699C8D1F7157366994ACDA5495051F2C58D7AB   42       42  1.000000\n",
       "699512C8B49E7A01A622BD250544E09A80A42D55   38       33  0.868421\n",
       "5BFC55F389F4B5427341E4320A501711140AE444   33       29  0.878788"
      ]
     },
     "execution_count": 44,
     "metadata": {},
     "output_type": "execute_result"
    }
   ],
   "source": [
    "# scores of top 10 authors\n",
    "X_test['correct'] = X_test['Malware/Benign'] == X_test['y_pred_with_sensor']\n",
    "summ = X_test[X_test['Malware/Benign']==1].groupby('ThumbPrint')['correct'].agg([('N','count'),('correct','sum')])\\\n",
    ".sort_values('N', ascending=False).iloc[:10,:]\n",
    "summ['score'] = summ['correct']/summ['N']\n",
    "print('without sensors:')\n",
    "summ"
   ]
  },
  {
   "cell_type": "markdown",
   "metadata": {},
   "source": [
    "#### 4.3 Test on repackaged benign dataset"
   ]
  },
  {
   "cell_type": "code",
   "execution_count": 45,
   "metadata": {},
   "outputs": [],
   "source": [
    "benign_repack = pd.read_csv(\"https://raw.githubusercontent.com/Programming-Systems-Lab/Capstone-2/master/data/Test_Data/Test_Dataset.csv\")\n",
    "benign_repack_y = pd.read_csv(\"https://raw.githubusercontent.com/Programming-Systems-Lab/Capstone-2/master/data/Test_Data/Labels_Test.csv\")"
   ]
  },
  {
   "cell_type": "code",
   "execution_count": 46,
   "metadata": {},
   "outputs": [],
   "source": [
    "cols=dt2.columns\n",
    "X_train_sensors=benign_repack[cols].drop(columns='Malware/Benign')\n",
    "X_train_wo_sensors=X_train_sensors.iloc[:,:-29]"
   ]
  },
  {
   "cell_type": "code",
   "execution_count": 47,
   "metadata": {},
   "outputs": [],
   "source": [
    "# make prediction\n",
    "y_pred_sensor = knn_gscv2.predict(X_train_sensors)\n",
    "y_pred_wo_sensor = knn_gscv3.predict(X_train_wo_sensors)"
   ]
  },
  {
   "cell_type": "code",
   "execution_count": 49,
   "metadata": {},
   "outputs": [
    {
     "name": "stdout",
     "output_type": "stream",
     "text": [
      "Test score with sensors: 0.937\n",
      "Test score without sensors: 0.935\n"
     ]
    },
    {
     "name": "stderr",
     "output_type": "stream",
     "text": [
      "/Users/jessie/anaconda3/lib/python3.7/site-packages/sklearn/metrics/_classification.py:1814: UserWarning: y_pred contains classes not in y_true\n",
      "  warnings.warn('y_pred contains classes not in y_true')\n"
     ]
    }
   ],
   "source": [
    "print(\"Test score with sensors:\",  round(balanced_accuracy_score(benign_repack_y, y_pred_sensor),3))\n",
    "print(\"Test score without sensors:\", round(balanced_accuracy_score(benign_repack_y, y_pred_wo_sensor),3))"
   ]
  },
  {
   "cell_type": "code",
   "execution_count": null,
   "metadata": {},
   "outputs": [],
   "source": []
  }
 ],
 "metadata": {
  "kernelspec": {
   "display_name": "Python 3",
   "language": "python",
   "name": "python3"
  },
  "language_info": {
   "codemirror_mode": {
    "name": "ipython",
    "version": 3
   },
   "file_extension": ".py",
   "mimetype": "text/x-python",
   "name": "python",
   "nbconvert_exporter": "python",
   "pygments_lexer": "ipython3",
   "version": "3.7.3"
  }
 },
 "nbformat": 4,
 "nbformat_minor": 2
}
