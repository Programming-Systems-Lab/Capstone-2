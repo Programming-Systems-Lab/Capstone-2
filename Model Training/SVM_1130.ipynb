{
 "cells": [
  {
   "cell_type": "code",
   "execution_count": 1,
   "metadata": {},
   "outputs": [],
   "source": [
    "import pandas as pd\n",
    "import numpy as np\n",
    "import matplotlib.pyplot as plt\n",
    "pd.set_option('mode.chained_assignment', None)\n",
    "import umap\n",
    "from sklearn.svm import SVC\n",
    "from sklearn.metrics import precision_score\n",
    "from sklearn.metrics import recall_score\n",
    "from sklearn.metrics import roc_auc_score\n",
    "from joblib import dump, load"
   ]
  },
  {
   "cell_type": "code",
   "execution_count": 2,
   "metadata": {},
   "outputs": [],
   "source": [
    "from sklearn.pipeline import Pipeline, make_pipeline\n",
    "from sklearn.model_selection import train_test_split, cross_val_score, GridSearchCV\n",
    "from sklearn.metrics import balanced_accuracy_score\n",
    "from sklearn.metrics import accuracy_score\n",
    "from sklearn.metrics import confusion_matrix\n",
    "from sklearn.metrics import plot_roc_curve"
   ]
  },
  {
   "cell_type": "code",
   "execution_count": 5,
   "metadata": {},
   "outputs": [],
   "source": [
    "# data import\n",
    "train_set = \"https://raw.githubusercontent.com/Programming-Systems-Lab/Capstone-2/master/data/Training_Data/Training_Dataset.csv\"\n",
    "X = pd.read_csv(train_set)\n",
    "train_label = \"https://raw.githubusercontent.com/Programming-Systems-Lab/Capstone-2/master/data/Training_Data/Labels_trainingset.csv\"\n",
    "train_labels = pd.read_csv(train_label)\n",
    "pairs = pd.read_csv(\"/Users/duanyueyun/Desktop/Capstone/notebooks (final)/Download apk/repackaging_pairs.txt\")"
   ]
  },
  {
   "cell_type": "code",
   "execution_count": 6,
   "metadata": {},
   "outputs": [
    {
     "name": "stdout",
     "output_type": "stream",
     "text": [
      "Distribution of target:\n"
     ]
    },
    {
     "data": {
      "text/plain": [
       "1    0.789893\n",
       "0    0.210107\n",
       "Name: label, dtype: float64"
      ]
     },
     "execution_count": 6,
     "metadata": {},
     "output_type": "execute_result"
    }
   ],
   "source": [
    "print(\"Distribution of target:\")\n",
    "train_labels['label'].value_counts()/train_labels.shape[0]"
   ]
  },
  {
   "cell_type": "code",
   "execution_count": 5,
   "metadata": {},
   "outputs": [
    {
     "data": {
      "text/plain": [
       "(9538, 873)"
      ]
     },
     "execution_count": 5,
     "metadata": {},
     "output_type": "execute_result"
    }
   ],
   "source": [
    "X.shape"
   ]
  },
  {
   "cell_type": "code",
   "execution_count": 7,
   "metadata": {},
   "outputs": [
    {
     "name": "stdout",
     "output_type": "stream",
     "text": [
      "['Permission: REQUEST_DELETE_PACKAGES', 'Permission: BIND_MIDI_DEVICE_SERVICE', 'Permission: BIND_TV_INPUT', 'Permission: com.android.voicemail.permission.ADD_VOICEMAIL', 'Permission: com.android.launcher.permission.UNINSTALL_SHORTCUT', 'Permission: READ_PHONE_NUMBERS', 'Permission: GET_ACCOUNTS_PRIVILEGED', 'Permission: REQUEST_COMPANION_RUN_IN_BACKGROUND', 'Permission: ANSWER_PHONE_CALLS', 'Permission: BIND_CARRIER_SERVICES', 'Permission: REQUEST_IGNORE_BATTERY_OPTIMIZATIONS', 'Permission: ACCESS_NOTIFICATION_POLICY', 'Permission: com.android.voicemail.permission.READ_VOICEMAIL', 'Permission: BODY_SENSORS', 'Permission: BIND_SCREENING_SERVICE', 'Permission: REQUEST_COMPANION_USE_DATA_IN_BACKGROUND', 'Permission: BIND_TELECOM_CONNECTION_SERVICE', 'Permission: BIND_VOICE_INTERACTION', 'Permission: BIND_CHOOSER_TARGET_SERVICE', 'Permission: com.android.launcher.permission.INSTALL_SHORTCUT', 'Permission: BIND_AUTOFILL_SERVICE', 'Permission: USE_FINGERPRINT', 'Permission: com.android.voicemail.permission.WRITE_VOICEMAIL', 'Permission: BIND_VISUAL_VOICEMAIL_SERVICE', 'Permission: com.android.alarm.permission.SET_ALARM', 'Permission: BIND_CONDITION_PROVIDER_SERVICE', 'Permission: REQUEST_INSTALL_PACKAGES', 'Permission: BIND_CARRIER_MESSAGING_SERVICE', 'Permission: MANAGE_OWN_CALLS', 'Permission: BIND_INCALL_SERVICE', 'Permission: BIND_DREAM_SERVICE', 'Permission: INSTANT_APP_FOREGROUND_SERVICE', 'Permission: PACKAGE_USAGE_STATS', 'Permission: BIND_VR_LISTENER_SERVICE', 'Permission: BIND_QUICK_SETTINGS_TILE', 'Hardware/Software: hardware.camera2.autofocus', 'Hardware/Software: hardware.camera.level.full', 'Hardware/Software: hardware.type.automotive', 'Hardware/Software: hardware.nfc.hce', 'Hardware/Software: software.print', 'Hardware/Software: software.verified_boot', 'Hardware/Software: hardware.sensor.light', 'Hardware/Software: software.leanback', 'Hardware/Software: hardware.gamepad', 'Hardware/Software: hardware.opengles.aep', 'Hardware/Software: software.sip', 'Hardware/Software: hardware.sensor.barometer', 'Hardware/Software: software.live_tv', 'Hardware/Software: hardware.type.television', 'Hardware/Software: software.device_admin', 'Hardware/Software: software.sip.voip', 'Hardware/Software: hardware.sensor.stepdetector', 'Hardware/Software: software.app_widgets', 'Hardware/Software: hardware.camera2.full', 'Hardware/Software: hardware.consumerir', 'Hardware/Software: hardware.type.watch', 'Hardware/Software: hardware.audio.low_latency', 'Hardware/Software: software.midi', 'Hardware/Software: hardware.camera.external', 'Hardware/Software: hardware.camera.capability.raw', 'Hardware/Software: hardware.sensor.stepcounter', 'Hardware/Software: hardware.sensor.heartrate.ecg', 'Hardware/Software: hardware.camera.capability.manual_sensor', 'Hardware/Software: hardware.sensor.heartrate', 'Hardware/Software: hardware.audio.output', 'Hardware/Software: hardware.camera.capability.manual_post_processing', 'Hardware/Software: hardware.wifi.direct', 'Hardware/Software: software.managed_users', 'Hardware/Software: hardware.sensor.hifi_sensors', 'Hardware/Software: software.home_screen', 'Hardware/Software: software.securely_removes_users', 'Hardware/Software: hardware.audio.pro', 'Hardware/Software: hardware.sensor.ambient_temperature', 'Hardware/Software: software.backup', 'Hardware/Software: hardware.fingerprint', 'Hardware/Software: software.webview', 'Hardware/Software: hardware.sensor.relative_humidity', 'Hardware/Software: hardware.camera2.flash', 'Hardware/Software: hardware.camera2', 'Hardware/Software: software.input_methods', 'Intent: extra.changed_component_name', 'Intent: action.UMS_CONNECTED', 'Intent: extra.PACKAGE_NAME', 'Intent: extra.CC', 'Intent: action.PACKAGE_FIRST_LAUNCH', 'Intent: category.CAR_MODE', 'Intent: action.MEDIA_CHECKING', 'Intent: action.UMS_DISCONNECTED', 'Intent: extra.ORIGINATING_URI', 'Intent: action.MANAGE_PACKAGE_STORAGE', 'Intent: extra.PROCESS_TEXT_READONLY', 'Intent: action.REBOOT', 'Intent: category.APP_CALCULATOR', 'Intent: action.GTALK_DISCONNECTED', 'Intent: action.MEDIA_REMOVED', 'Intent: category.OPENABLE', 'Intent: action.OPEN_DOCUMENT', 'Intent: action.APPLICATION_RESTRICTIONS_CHANGED', 'Intent: extra.COMPONENT_NAME', 'Intent: extra.changed_uid_list', 'Intent: extra.STREAM', 'Intent: extra.changed_package_list', 'Intent: category.MONKEY', 'Intent: action.MEDIA_UNMOUNTABLE', 'Intent: category.CAR_DOCK', 'Intent: action.ASSIST', 'Intent: action.USER_UNLOCKED', 'Intent: extra.KEY_EVENT', 'Intent: action.USER_INITIALIZE', 'Intent: extra.USER', 'Intent: extra.SUBJECT', 'Intent: category.FRAMEWORK_INSTRUMENTATION_TEST', 'Intent: category.DESK_DOCK', 'Intent: action.PACKAGE_DATA_CLEARED', 'Intent: extra.SHUTDOWN_USERSPACE_ONLY', 'Intent: extra.CHOSEN_COMPONENT', 'Intent: category.TYPED_OPENABLE', 'Intent: extra.ALTERNATE_INTENTS', 'Intent: category.APP_MARKET', 'Intent: category.UNIT_TEST', 'Intent: extra.DOCK_STATE', 'Intent: extra.REFERRER', 'Intent: action.CAMERA_BUTTON', 'Intent: category.BROWSABLE', 'Intent: extra.ASSIST_PACKAGE', 'Intent: extra.ALARM_COUNT', 'Intent: action.PACKAGE_RESTARTED', 'Intent: action.SEARCH_LONG_PRESS', 'Intent: extra.REFERRER_NAME', 'Intent: action.MEDIA_EJECT', 'Intent: extra.restrictions_bundle', 'Intent: extra.shortcut.ICON', 'Intent: action.VOICE_COMMAND', 'Intent: action.MANAGED_PROFILE_ADDED', 'Intent: action.PACKAGES_SUSPENDED', 'Intent: extra.INSTALLER_PACKAGE_NAME', 'Intent: action.EXTERNAL_APPLICATIONS_UNAVAILABLE', 'Intent: extra.CHOOSER_REFINEMENT_INTENT_SENDER', 'Intent: extra.PHONE_NUMBER', 'Intent: extra.ASSIST_INPUT_HINT_KEYBOARD', 'Intent: action.LOCKED_BOOT_COMPLETED', 'Intent: action.USER_FOREGROUND', 'Intent: action.BUG_REPORT', 'Intent: action.MANAGED_PROFILE_AVAILABLE', 'Intent: extra.DONT_KILL_APP', 'Intent: extra.CONTENT_ANNOTATIONS', 'Intent: action.APPLICATION_PREFERENCES', 'Intent: action.QUICK_VIEW', 'Intent: action.INSTALL_FAILURE', 'Intent: action.PACKAGE_FULLY_REMOVED', 'Intent: category.ALTERNATIVE', 'Intent: extra.INDEX', 'Intent: extra.CHOOSER_TARGETS', 'Intent: extra.ASSIST_INPUT_DEVICE_ID', 'Intent: category.DEFAULT', 'Intent: extra.RETURN_RESULT', 'Intent: extra.BUG_REPORT', 'Intent: action.SYSTEM_TUTORIAL', 'Intent: category.LE_DESK_DOCK', 'Intent: action.ANSWER', 'Intent: action.GTALK_CONNECTED', 'Intent: extra.ASSIST_CONTEXT', 'Intent: action.MANAGED_PROFILE_UNAVAILABLE', 'Intent: extra.REPLACEMENT_EXTRAS', 'Intent: extra.INTENT', 'Intent: category.EMBED', 'Intent: action.PROCESS_TEXT', 'Intent: extra.shortcut.INTENT', 'Intent: extra.NOT_UNKNOWN_SOURCE', 'Intent: extra.CHOSEN_COMPONENT_INTENT_SENDER', 'Intent: category.HOME', 'Intent: extra.changed_component_name_list', 'Intent: category.PREFERENCE', 'Intent: category.LAUNCHER', 'Intent: action.SHOW_APP_INFO', 'Intent: action.MANAGE_NETWORK_USAGE', 'Intent: category.APP_CALENDAR', 'Intent: extra.RESULT_RECEIVER', 'Intent: action.MY_PACKAGE_REPLACED', 'Intent: extra.shortcut.NAME', 'Intent: category.APP_EMAIL', 'Intent: extra.TITLE', 'Intent: action.FACTORY_TEST', 'Intent: category.APP_MAPS', 'Intent: extra.MIME_TYPES', 'Intent: extra.FROM_STORAGE', 'Intent: action.GET_RESTRICTION_ENTRIES', 'Intent: extra.remote_intent_token', 'Intent: category.APP_BROWSER', 'Intent: extra.DATA_REMOVED', 'Intent: category.TAB', 'Intent: action.MEDIA_NOFS', 'Intent: action.MANAGED_PROFILE_UNLOCKED', 'Intent: extra.restrictions_intent', 'Intent: category.APP_CONTACTS', 'Intent: action.MEDIA_BAD_REMOVAL', 'Intent: action.ALL_APPS', 'Intent: action.EXTERNAL_APPLICATIONS_AVAILABLE', 'Intent: category.LEANBACK_LAUNCHER', 'Intent: action.PACKAGES_UNSUSPENDED', 'Intent: action.CARRIER_SETUP', 'Intent: action.PACKAGE_CHANGED', 'Intent: category.SELECTED_ALTERNATIVE', 'Intent: category.TEST', 'Intent: extra.PROCESS_TEXT', 'Intent: action.PACKAGE_VERIFIED', 'Intent: extra.REPLACING', 'Intent: action.QUICK_CLOCK', 'Intent: extra.TEMPLATE', 'Intent: action.ACTION_SHUTDOWN', 'Intent: category.APP_GALLERY', 'Intent: action.NEW_OUTGOING_CALL', 'Intent: action.MEDIA_UNMOUNTED', 'Intent: action.INSTALL_PACKAGE', 'Intent: action.CREATE_DOCUMENT', 'Intent: category.VOICE', 'Intent: extra.ALLOW_MULTIPLE', 'Intent: extra.EXCLUDE_COMPONENTS', 'Intent: extra.ASSIST_UID', 'Intent: action.SYNC', 'Intent: category.DEVELOPMENT_PREFERENCE', 'Intent: action.USER_BACKGROUND', 'Intent: category.INFO', 'Intent: extra.shortcut.ICON_RESOURCE', 'Intent: extra.QUIET_MODE', 'Intent: extra.SPLIT_NAME', 'Intent: extra.LOCAL_ONLY', 'Intent: action.PROVIDER_CHANGED', 'Intent: extra.restrictions_list', 'Intent: category.VR_HOME', 'Intent: extra.QUICK_VIEW_FEATURES', 'Intent: category.SAMPLE_CODE', 'Intent: action.UID_REMOVED', 'Intent: extra.UID', 'Intent: action.DREAMING_STOPPED', 'Intent: category.HE_DESK_DOCK', 'Intent: extra.ALLOW_REPLACE', 'Intent: action.PASTE', 'Intent: action.BATTERY_OKAY', 'Intent: action.PACKAGE_NEEDS_VERIFICATION', 'Intent: action.OPEN_DOCUMENT_TREE', 'Intent: category.APP_MUSIC', 'Intent: category.APP_MESSAGING', 'Intent: action.MANAGED_PROFILE_REMOVED', 'Package: com.google.firebase.perf', 'Package: android.content.res', 'Package: android.accessibilityservice', 'Package: javax.microedition.khronos.opengles', 'Package: android.view.textservice', 'Package: org.xml.sax', 'Package: android.hardware.usb', 'Package: com.google.android.gms.awareness.state', 'Package: android.app.usage', 'Package: android.speech', 'Package: com.google.android.gms.fitness.result', 'Package: java.util.concurrent.locks', 'Package: java.nio', 'Package: com.google.firebase.ml.vision.cloud.label', 'Package: com.google.android.gms.iid', 'Package: javax.crypto.spec', 'Package: java.nio.file', 'Package: android.accounts', 'Package: android.graphics', 'Package: android.service.dreams', 'Package: java.io', 'Package: java.lang.reflect', 'Package: com.google.android.gms.measurement', 'Package: android.service.vr', 'Package: android.app.job', 'Package: java.time.temporal', 'Package: android.graphics.fonts', 'Package: javax.security.auth.callback', 'Package: com.google.android.gms.fido', 'Package: com.google.android.gms.auth.api', 'Package: javax.crypto.interfaces', 'Package: org.xml.sax.ext', 'Package: android.speech.tts', 'Package: android.net.wifi.p2p.nsd', 'Package: android.hardware.camera2.params', 'Package: android.gesture', 'Package: android.telecom', 'Package: android.net.wifi.aware', 'Package: com.google.android.gms.nearby.connection', 'Package: android.preference', 'Package: android.media.midi', 'Package: android.media.audiofx', 'Package: java.lang.annotation', 'Package: android.security.keystore', 'Package: com.android.test.runner', 'Package: com.google.android.gms.instantapps', 'Package: javax.xml.transform.dom', 'Package: javax.security.auth', 'Package: java.net', 'Package: com.google.firebase.ml.vision.label', 'Package: com.google.firebase.ml.vision.cloud.landmark', 'Package: android.text.util', 'Package: org.w3c.dom', 'Package: android.hardware.fingerprint', 'Package: android.media.projection', 'Package: dalvik.bytecode', 'Package: com.google.firebase.appinvite', 'Package: android.net.wifi.hotspot2.pps', 'Package: com.google.firebase.ml.vision.text', 'Package: java.util.concurrent', 'Package: android.os.storage', 'Package: javax.xml.transform', 'Package: com.google.android.vending.verifier', 'Package: com.google.android.gms.fido.u2f', 'Package: android.print.pdf', 'Package: com.google.android.gms.fido.fido2.api.common', 'Package: com.google.firebase.remoteconfig', 'Package: java.beans', 'Package: com.google.android.gms.auth.api.accounttransfer', 'Package: android.graphics.drawable.shapes', 'Package: android.view.inputmethod', 'Package: android.content', 'Package: android.media.session', 'Package: com.google.android.gms.auth.account', 'Package: java.nio.file.spi', 'Package: android.service.textservice', 'Package: com.google.firebase.crash', 'Package: com.google.android.gms.fido.u2f.api.messagebased', 'Package: com.google.firebase.ml.vision.common', 'Package: com.google.android.gms.oss.licenses', 'Package: com.google.android.gms.auth.api.credentials', 'Package: com.google.firebase.ml.custom', 'Package: java.util.stream', 'Package: android.service.carrier', 'Package: com.google.android.gms.nearby.messages.audio', 'Package: java.time.zone', 'Package: com.google.android.gms.cast.framework.media.uicontroller', 'Package: java.nio.channels.spi', 'Package: com.google.firebase.firestore', 'Package: dalvik.annotation', 'Package: com.google.firebase.iid', 'Package: com.google.android.gms.tasks', 'Package: com.google.android.gms.awareness', 'Package: java.util', 'Package: android.location', 'Package: android.net.rtp', 'Package: java.text', 'Package: android.net.wifi.p2p', 'Package: javax.xml.validation', 'Package: javax.security.auth.x500', 'Package: android.view.accessibility', 'Package: java.util.concurrent.atomic', 'Package: javax.net.ssl', 'Package: com.google.firebase', 'Package: com.google.android.gms.vision.barcode', 'Package: com.google.android.gms.nearby.messages', 'Package: java.nio.channels', 'Package: android.database.sqlite', 'Package: java.nio.file.attribute', 'Package: android.hardware', 'Package: java.util.logging', 'Package: android.net.nsd', 'Package: com.google.android.gms.vision.face', 'Package: java.math', 'Package: com.google.firebase.auth', 'Package: android.service.wallpaper', 'Package: android.print', 'Package: java.sql', 'Package: android.mtp', 'Package: java.util.prefs', 'Package: javax.xml.datatype', 'Package: android.service.autofill', 'Package: android.test.suitebuilder.annotation', 'Package: com.google.firebase.database', 'Package: com.google.android.gms.ads.reward', 'Package: com.google.firebase.ml.vision.cloud.text', 'Package: android.view.autofill', 'Package: java.security.cert', 'Package: com.google.android.gms.ads.formats', 'Package: com.google.android.gms.fido.fido2', 'Package: android.inputmethodservice', 'Package: java.time.chrono', 'Package: com.google.android.gms.safetynet', 'Package: java.util.zip', 'Package: com.google.android.gms.fitness.service', 'Package: android.icu.util', 'Package: com.google.firebase.ml.vision.barcode', 'Package: android.database', 'Package: com.google.firebase.ml.vision', 'Package: android.text', 'Package: com.google.android.gms.nearby', 'Package: android.service.notification', 'Package: javax.security.auth.login', 'Package: android.service.chooser', 'Package: android.net.wifi.hotspot2.omadm', 'Package: java.lang', 'Package: java.util.function', 'Package: android.icu.text', 'Package: javax.xml.xpath', 'Package: com.google.android.gms.fido.common', 'Package: android.app.backup', 'Package: com.google.firebase.ml.common', 'Package: android.nfc.tech', 'Package: com.google.android.gms.fitness', 'Package: android.net.sip', 'Package: android.media.tv', 'Package: android.app.assist', 'Package: android.companion', 'Package: com.google.android.gms.cast.framework.media.widget', 'Package: com.google.android.gms.cast.framework', 'Package: android.media.browse', 'Package: com.google.android.gms.auth.api.phone', 'Package: com.google.android.gms.auth.api.signin', 'Package: org.w3c.dom.ls', 'Package: android.support', 'Package: android.text.method', 'Package: android.bluetooth.le', 'Package: android.view', 'Package: com.google.android.gms.location.places.ui', 'Package: com.google.android.gms.location.places', 'Package: com.google.firebase.provider', 'Package: android.icu.math', 'Package: javax.crypto', 'Package: java.time.format', 'Package: javax.net', 'Package: android.nfc.cardemulation', 'Package: com.google.firebase.appindexing.builders', 'Package: javax.security.cert', 'Package: com.google.android.gms.stats', 'Package: android.graphics.drawable', 'Package: com.google.android.gms.games.video', 'Package: android.hardware.input', 'Package: com.google.firebase.ml.vision.cloud', 'Package: java.security.acl', 'Package: android.service.quicksettings', 'Package: android.renderscript', 'Package: com.google.android.gms.fitness.data', 'Package: java.nio.charset', 'Package: android.hardware.camera2', 'Package: android.annotation', 'Package: android.service.restrictions', 'Package: android.sax', 'Package: java.security.interfaces', 'Package: android.icu.lang', 'Package: javax.microedition.khronos.egl', 'Package: com.google.android.gms.cast.framework.media', 'Package: android.databinding', 'Package: com.google.firebase.dynamiclinks', 'Package: android.media.effect', 'Package: android.transition', 'Package: android.test', 'Package: com.google.android.gms.games.stats', 'Package: com.google.android.gms.vision', 'Package: android.graphics.pdf', 'Package: android.system', 'Package: com.google.android.gms.appinvite', 'Package: javax.xml.parsers', 'Package: java.awt.font', 'Package: android.printservice', 'Package: com.google.android.gms.awareness.snapshot', 'Package: javax.xml', 'Package: java.util.regex', 'Package: android.nfc', 'Package: javax.xml.transform.stream', 'Package: com.google.android.gms.vision.text', 'Package: android.test.suitebuilder', 'Package: com.google.android.gms.search', 'Package: java.security.spec', 'Package: android.net', 'Package: android.telephony.gsm', 'Package: javax.xml.namespace', 'Package: android.service.voice', 'Package: android.drm', 'Package: com.google.android.gms.ads.reward.mediation', 'Package: com.google.firebase.ml.custom.model', 'Package: com.google.android.gms.fido.u2f.api.common', 'Package: java.time', 'Package: android.text.style', 'Package: android.text.format', 'Package: org.xml.sax.helpers', 'Package: android.test.mock', 'Package: com.google.firebase.ml.vision.face', 'Package: com.google.firebase.perf.metrics', 'Package: android.service.media', 'Package: java.util.jar', 'Package: com.google.android.gms.fitness.request', 'Package: javax.sql', 'Package: android.net.wifi', 'Package: android.app.admin', 'Package: android.hardware.display', 'Package: android.os.health', 'Package: com.google.firebase.messaging', 'Package: android.net.wifi.hotspot2', 'Package: com.google.firebase.analytics', 'Package: java.lang.invoke', 'Package: com.google.android.gms.awareness.fence', 'Package: com.google.firebase.storage', 'Package: com.google.android.gms.cast.games', 'Package: android.telephony.cdma', 'Package: java.nio.charset.spi', 'Package: java.security', 'Package: com.qihoo.util', 'Package: android.appwidget', 'Package: javax.xml.transform.sax', 'Package: com.google.android.gms.ads.mediation', 'Package: android.view.textclassifier', 'Package: com.google.firebase.appindexing', 'Package: java.lang.ref', 'Class: java.lang.Runtime ', 'Class: dalvik.system.BaseDexClassLoader', 'Class: android.telecom.PhoneAccount', 'Class: android.content.pm.PackageInstaller', 'Class: android.app.admin.NetworkEvent', 'Class: android.hardware.fingerprint.FingerprintManager', 'Class: android.telecom.TelecomManager', 'Class: android.app.AlarmManager ', 'Class: android.net.VpnService', 'Leak: PIM_Data_Leakage', 'accelerometer_uncalibrated', 'ambient_temperature', 'device_private_base', 'game_rotation_vector', 'geomagnetic_rotation_vector', 'gyroscope_uncalibrated', 'heart_beat', 'heart_rate', 'hinge_angle', 'low_latency_offbody_detect', 'magnetic_field_uncalibrated', 'motion_detect', 'pose_6dof', 'pressure', 'relative_humidity', 'significant_motion', 'stationary_detect', 'step_counter', 'step_detector']\n"
     ]
    }
   ],
   "source": [
    "zero_var_cols = X.columns[X.nunique()==1].to_list()\n",
    "# Drop features with 0 variance\n",
    "X.drop(zero_var_cols, axis = 1, inplace = True)\n",
    "print(zero_var_cols)"
   ]
  },
  {
   "cell_type": "code",
   "execution_count": 8,
   "metadata": {},
   "outputs": [],
   "source": [
    "# drop duplicate rows\n",
    "X = X[~X.duplicated(keep='first')]\n",
    "y = train_labels['label']"
   ]
  },
  {
   "cell_type": "code",
   "execution_count": 9,
   "metadata": {},
   "outputs": [
    {
     "name": "stdout",
     "output_type": "stream",
     "text": [
      "(9538, 342)\n",
      "(9538,)\n"
     ]
    }
   ],
   "source": [
    "print(X.shape)\n",
    "print(y.shape)"
   ]
  },
  {
   "cell_type": "markdown",
   "metadata": {},
   "source": [
    "# Training SVM Model"
   ]
  },
  {
   "cell_type": "markdown",
   "metadata": {},
   "source": [
    "## Splitting Training and Test set"
   ]
  },
  {
   "cell_type": "code",
   "execution_count": 15,
   "metadata": {},
   "outputs": [],
   "source": [
    "useless_cols = ['SHA256', 'Package_Name', 'ThumbPrint', 'Application_Category', \n",
    "                'Family_Name', 'Malware_Category', 'Malware/Benign',\n",
    "                'sdkVersion', 'targetSdkVersion']"
   ]
  },
  {
   "cell_type": "code",
   "execution_count": 16,
   "metadata": {},
   "outputs": [
    {
     "name": "stdout",
     "output_type": "stream",
     "text": [
      "['accelerometer', 'gravity', 'gyroscope', 'light', 'linear_acceleration', 'magnetic_field', 'orientation', 'proximity', 'rotation_vector', 'temperature']\n"
     ]
    }
   ],
   "source": [
    "sensor_cols = X.loc[:, 'accelerometer':'temperature'].columns.to_list()\n",
    "print(sensor_cols)"
   ]
  },
  {
   "cell_type": "code",
   "execution_count": 17,
   "metadata": {},
   "outputs": [],
   "source": [
    "features = X.drop(columns=useless_cols).columns.to_list()\n",
    "features_wo_sensors = X.drop(columns=useless_cols+sensor_cols).columns.to_list()"
   ]
  },
  {
   "cell_type": "code",
   "execution_count": 18,
   "metadata": {},
   "outputs": [
    {
     "name": "stdout",
     "output_type": "stream",
     "text": [
      "333\n",
      "323\n"
     ]
    }
   ],
   "source": [
    "print(len(features))\n",
    "print(len(features_wo_sensors))"
   ]
  },
  {
   "cell_type": "code",
   "execution_count": 19,
   "metadata": {},
   "outputs": [
    {
     "data": {
      "text/plain": [
       "accelerometer           606\n",
       "gravity                 227\n",
       "gyroscope               227\n",
       "light                     2\n",
       "linear_acceleration     227\n",
       "magnetic_field          367\n",
       "orientation            1053\n",
       "proximity                 6\n",
       "rotation_vector         227\n",
       "temperature               1\n",
       "dtype: int64"
      ]
     },
     "execution_count": 19,
     "metadata": {},
     "output_type": "execute_result"
    }
   ],
   "source": [
    "X[sensor_cols].sum(axis=0)"
   ]
  },
  {
   "cell_type": "code",
   "execution_count": 20,
   "metadata": {},
   "outputs": [],
   "source": [
    "# Train test split\n",
    "X_train, X_test, y_train, y_test = train_test_split(X, y, \n",
    "                                                    test_size = 0.2, \n",
    "                                                    random_state = 123, \n",
    "                                                    stratify = y)\n",
    "\n",
    "X_train_wo_sensor, X_test_wo_sensor, y_train_wo_sensor, y_test_wo_sensor = \\\n",
    "train_test_split(X.drop(columns=sensor_cols), y, test_size = 0.2, random_state = 123, stratify = y)"
   ]
  },
  {
   "cell_type": "code",
   "execution_count": 21,
   "metadata": {},
   "outputs": [
    {
     "name": "stdout",
     "output_type": "stream",
     "text": [
      "(7630, 333)\n",
      "(1908, 333)\n"
     ]
    }
   ],
   "source": [
    "print(X_train[features].shape)\n",
    "print(X_test[features].shape)"
   ]
  },
  {
   "cell_type": "code",
   "execution_count": 22,
   "metadata": {},
   "outputs": [
    {
     "name": "stdout",
     "output_type": "stream",
     "text": [
      "(7630, 323)\n",
      "(1908, 323)\n"
     ]
    }
   ],
   "source": [
    "print(X_train_wo_sensor[features_wo_sensors].shape)\n",
    "print(X_test_wo_sensor[features_wo_sensors].shape)"
   ]
  },
  {
   "cell_type": "markdown",
   "metadata": {},
   "source": [
    "# Training SVM Model"
   ]
  },
  {
   "cell_type": "code",
   "execution_count": 18,
   "metadata": {},
   "outputs": [],
   "source": [
    "model = SVC(class_weight='balanced')"
   ]
  },
  {
   "cell_type": "code",
   "execution_count": 19,
   "metadata": {
    "scrolled": false
   },
   "outputs": [
    {
     "name": "stdout",
     "output_type": "stream",
     "text": [
      "The mean test score of SVM model with sensor features is: 0.902225683855319\n"
     ]
    }
   ],
   "source": [
    "avg_val_score = np.mean(cross_val_score(model, X_train[features], y_train, cv = 5,\n",
    "                                       scoring = \"balanced_accuracy\"))\n",
    "print('The mean test score of SVM model with sensor features is:', avg_val_score)"
   ]
  },
  {
   "cell_type": "code",
   "execution_count": 20,
   "metadata": {},
   "outputs": [
    {
     "name": "stdout",
     "output_type": "stream",
     "text": [
      "The mean test score of SVM model without sensor features is: 0.8998857091930119\n"
     ]
    }
   ],
   "source": [
    "avg_val_score = np.mean(cross_val_score(model, X_train_wo_sensor[features_wo_sensors], \n",
    "                                        y_train_wo_sensor, cv = 5,\n",
    "                                       scoring = \"balanced_accuracy\"))\n",
    "print('The mean test score of SVM model without sensor features is:', avg_val_score)"
   ]
  },
  {
   "cell_type": "markdown",
   "metadata": {},
   "source": [
    "## Tuning Hyperparameters"
   ]
  },
  {
   "cell_type": "markdown",
   "metadata": {},
   "source": [
    "**1. Training on Dataset Including Sensor Features**"
   ]
  },
  {
   "cell_type": "code",
   "execution_count": 21,
   "metadata": {},
   "outputs": [
    {
     "data": {
      "text/plain": [
       "GridSearchCV(estimator=Pipeline(steps=[('svc', SVC(class_weight='balanced'))]),\n",
       "             param_grid={'svc__C': [0.2, 0.5, 1, 10, 100],\n",
       "                         'svc__kernel': ['poly', 'rbf']},\n",
       "             scoring='balanced_accuracy')"
      ]
     },
     "execution_count": 21,
     "metadata": {},
     "output_type": "execute_result"
    }
   ],
   "source": [
    "# Tune C of Logistic Regression\n",
    "pipe_with_sensor = make_pipeline(SVC(class_weight='balanced'))\n",
    "\n",
    "params = {'svc__kernel': ['poly', 'rbf'],\n",
    "          'svc__C': [0.2, 0.5, 1, 10, 100]}\n",
    "\n",
    "grid_with_sensor = GridSearchCV(pipe_with_sensor, param_grid = params,\n",
    "                               scoring = \"balanced_accuracy\")\n",
    "grid_with_sensor.fit(X_train[features], y_train)"
   ]
  },
  {
   "cell_type": "code",
   "execution_count": 22,
   "metadata": {},
   "outputs": [],
   "source": [
    "result_with_sensor = pd.DataFrame(grid_with_sensor.cv_results_)"
   ]
  },
  {
   "cell_type": "code",
   "execution_count": 73,
   "metadata": {},
   "outputs": [],
   "source": [
    "result_with_sensor = pd.read_csv(\"result_with_sensor.csv\")"
   ]
  },
  {
   "cell_type": "code",
   "execution_count": 23,
   "metadata": {},
   "outputs": [
    {
     "data": {
      "text/plain": [
       "Text(0.5, 1.0, 'Mean Test Score of SVM with Different C (Including Sensor Features)')"
      ]
     },
     "execution_count": 23,
     "metadata": {},
     "output_type": "execute_result"
    },
    {
     "data": {
      "image/png": "[encoded data removed]",
      "text/plain": [
       "<Figure size 720x432 with 1 Axes>"
      ]
     },
     "metadata": {
      "needs_background": "light"
     },
     "output_type": "display_data"
    }
   ],
   "source": [
    "poly_scores = result_with_sensor[result_with_sensor['param_svc__kernel']=='poly']['mean_test_score']\n",
    "rbf_scores = result_with_sensor[result_with_sensor['param_svc__kernel']=='rbf']['mean_test_score']\n",
    "plt.figure(figsize = (10, 6))\n",
    "plt.plot(np.log([0.2, 0.5, 1, 10, 100]), poly_scores, marker = 'o', markersize = 5,\n",
    "        label='poly')\n",
    "plt.plot(np.log([0.2, 0.5, 1, 10, 100]), rbf_scores, marker = 'o', markersize = 5, c='orange',\n",
    "        label='rbf')\n",
    "plt.legend()\n",
    "plt.xlabel('log(C)', fontsize = 13)\n",
    "plt.ylabel('Mean Test Score', fontsize = 13)\n",
    "plt.title('Mean Test Score of SVM with Different C (Including Sensor Features)', fontsize = 15)"
   ]
  },
  {
   "cell_type": "code",
   "execution_count": 24,
   "metadata": {},
   "outputs": [
    {
     "data": {
      "text/plain": [
       "['grid_with_sensor_1130.joblib']"
      ]
     },
     "execution_count": 24,
     "metadata": {},
     "output_type": "execute_result"
    }
   ],
   "source": [
    "result_with_sensor.to_csv(\"result_with_sensor_1130.csv\",index=False)\n",
    "dump(grid_with_sensor, 'grid_with_sensor_1130.joblib') "
   ]
  },
  {
   "cell_type": "markdown",
   "metadata": {},
   "source": [
    "**2. Training on Dataset Not Including Sensor Features**"
   ]
  },
  {
   "cell_type": "code",
   "execution_count": 25,
   "metadata": {},
   "outputs": [
    {
     "data": {
      "text/plain": [
       "GridSearchCV(estimator=Pipeline(steps=[('svc', SVC(class_weight='balanced'))]),\n",
       "             param_grid={'svc__C': [0.2, 0.5, 1, 10, 100],\n",
       "                         'svc__kernel': ['poly', 'rbf']})"
      ]
     },
     "execution_count": 25,
     "metadata": {},
     "output_type": "execute_result"
    }
   ],
   "source": [
    "pipe_wo_sensor = make_pipeline(SVC(class_weight='balanced'))\n",
    "\n",
    "params = {'svc__kernel': ['poly', 'rbf'],\n",
    "          'svc__C': [0.2, 0.5, 1, 10, 100]}\n",
    "\n",
    "grid_wo_sensor = GridSearchCV(pipe_wo_sensor, param_grid = params)\n",
    "grid_wo_sensor.fit(X_train_wo_sensor[features_wo_sensors], y_train_wo_sensor)"
   ]
  },
  {
   "cell_type": "code",
   "execution_count": 26,
   "metadata": {},
   "outputs": [],
   "source": [
    "result_wo_sensor = pd.DataFrame(grid_wo_sensor.cv_results_)"
   ]
  },
  {
   "cell_type": "code",
   "execution_count": 76,
   "metadata": {},
   "outputs": [],
   "source": [
    "result_wo_sensor = pd.read_csv(\"result_wo_sensor.csv\")"
   ]
  },
  {
   "cell_type": "code",
   "execution_count": 27,
   "metadata": {},
   "outputs": [
    {
     "data": {
      "text/plain": [
       "Text(0.5, 1.0, 'Mean Test Score of SVM with Different C (Without Sensor Features)')"
      ]
     },
     "execution_count": 27,
     "metadata": {},
     "output_type": "execute_result"
    },
    {
     "data": {
      "image/png": "[encoded data removed]",
      "text/plain": [
       "<Figure size 720x432 with 1 Axes>"
      ]
     },
     "metadata": {
      "needs_background": "light"
     },
     "output_type": "display_data"
    }
   ],
   "source": [
    "poly_scores2 = result_wo_sensor[result_wo_sensor['param_svc__kernel']=='poly']['mean_test_score']\n",
    "rbf_scores2 = result_wo_sensor[result_wo_sensor['param_svc__kernel']=='rbf']['mean_test_score']\n",
    "plt.figure(figsize = (10, 6))\n",
    "plt.plot(np.log([0.2, 0.5, 1, 10, 100]), poly_scores2, marker = 'o', markersize = 5,\n",
    "        label='poly')\n",
    "plt.plot(np.log([0.2, 0.5, 1, 10, 100]), rbf_scores2, marker = 'o', markersize = 5, c='orange',\n",
    "        label='rbf')\n",
    "plt.legend()\n",
    "plt.xlabel('log(C)', fontsize = 13)\n",
    "plt.ylabel('Mean Test Score', fontsize = 13)\n",
    "plt.title('Mean Test Score of SVM with Different C (Without Sensor Features)', fontsize = 15)"
   ]
  },
  {
   "cell_type": "code",
   "execution_count": 28,
   "metadata": {},
   "outputs": [
    {
     "data": {
      "text/plain": [
       "['grid_wo_sensor_1130.joblib']"
      ]
     },
     "execution_count": 28,
     "metadata": {},
     "output_type": "execute_result"
    }
   ],
   "source": [
    "# export models\n",
    "result_wo_sensor.to_csv(\"result_wo_sensor_1130.csv\",index=False)\n",
    "dump(grid_wo_sensor, 'grid_wo_sensor_1130.joblib') "
   ]
  },
  {
   "cell_type": "markdown",
   "metadata": {},
   "source": [
    "## Evaluation on Test Data"
   ]
  },
  {
   "cell_type": "markdown",
   "metadata": {},
   "source": [
    "Adding sensor features improves balanced accuracy slightly."
   ]
  },
  {
   "cell_type": "code",
   "execution_count": 23,
   "metadata": {},
   "outputs": [],
   "source": [
    "# Load models\n",
    "grid_with_sensor = load('grid_with_sensor_1130.joblib') \n",
    "grid_wo_sensor = load('grid_wo_sensor_1130.joblib') "
   ]
  },
  {
   "cell_type": "code",
   "execution_count": 24,
   "metadata": {},
   "outputs": [],
   "source": [
    "# make prediction\n",
    "y_pred_with_sensor = grid_with_sensor.predict(X_test[features])\n",
    "y_pred_wo_sensor = grid_wo_sensor.predict(X_test_wo_sensor[features_wo_sensors])"
   ]
  },
  {
   "cell_type": "code",
   "execution_count": 25,
   "metadata": {},
   "outputs": [
    {
     "data": {
      "text/plain": [
       "<matplotlib.legend.Legend at 0x7fe971012610>"
      ]
     },
     "execution_count": 25,
     "metadata": {},
     "output_type": "execute_result"
    },
    {
     "data": {
      "image/png": "[encoded data removed]",
      "text/plain": [
       "<Figure size 432x288 with 1 Axes>"
      ]
     },
     "metadata": {
      "needs_background": "light"
     },
     "output_type": "display_data"
    }
   ],
   "source": [
    "from sklearn.metrics import plot_roc_curve\n",
    "fig, ax = plt.subplots(1, 1)\n",
    "plot_roc_curve(grid_with_sensor, X_test[features], y_test, label='with sensor',\n",
    "              ax=ax) \n",
    "plot_roc_curve(grid_wo_sensor, X_test_wo_sensor[features_wo_sensors], y_test_wo_sensor, label='without sensor',\n",
    "              ax=ax)\n",
    "plt.legend()"
   ]
  },
  {
   "cell_type": "markdown",
   "metadata": {},
   "source": [
    "### Balanced accuracy"
   ]
  },
  {
   "cell_type": "code",
   "execution_count": 50,
   "metadata": {},
   "outputs": [
    {
     "name": "stdout",
     "output_type": "stream",
     "text": [
      "Test score with sensors: 0.866\n",
      "Test score without sensors: 0.879\n"
     ]
    }
   ],
   "source": [
    "print(\"Test score with sensors:\",  round(balanced_accuracy_score(y_test, y_pred_with_sensor),3))\n",
    "print(\"Test score without sensors:\", round(balanced_accuracy_score(y_test_wo_sensor, y_pred_wo_sensor),3))"
   ]
  },
  {
   "cell_type": "markdown",
   "metadata": {},
   "source": [
    "### AUC, precision and recall"
   ]
  },
  {
   "cell_type": "code",
   "execution_count": 52,
   "metadata": {},
   "outputs": [
    {
     "data": {
      "text/plain": [
       "<sklearn.metrics._plot.roc_curve.RocCurveDisplay at 0x7fa07a1fc5d0>"
      ]
     },
     "execution_count": 52,
     "metadata": {},
     "output_type": "execute_result"
    },
    {
     "data": {
      "image/png": "[encoded data removed]",
      "text/plain": [
       "<Figure size 432x288 with 1 Axes>"
      ]
     },
     "metadata": {
      "needs_background": "light"
     },
     "output_type": "display_data"
    }
   ],
   "source": [
    "plot_roc_curve(grid_with_sensor, X_test[features], y_test) "
   ]
  },
  {
   "cell_type": "code",
   "execution_count": 54,
   "metadata": {},
   "outputs": [
    {
     "data": {
      "text/plain": [
       "<sklearn.metrics._plot.roc_curve.RocCurveDisplay at 0x7fa078d17790>"
      ]
     },
     "execution_count": 54,
     "metadata": {},
     "output_type": "execute_result"
    },
    {
     "data": {
      "image/png": "[encoded data removed]",
      "text/plain": [
       "<Figure size 432x288 with 1 Axes>"
      ]
     },
     "metadata": {
      "needs_background": "light"
     },
     "output_type": "display_data"
    }
   ],
   "source": [
    "plot_roc_curve(grid_wo_sensor, X_test_wo_sensor[features_wo_sensors], y_test_wo_sensor) "
   ]
  },
  {
   "cell_type": "code",
   "execution_count": 56,
   "metadata": {},
   "outputs": [
    {
     "name": "stdout",
     "output_type": "stream",
     "text": [
      "Precision with sensors:\n",
      "[0.705 0.951]\n",
      "Precision without sensors:\n",
      "[0.718 0.957]\n",
      "Recall with sensors:\n",
      "[0.823 0.908]\n",
      "Recall without sensors:\n",
      "[0.845 0.912]\n"
     ]
    }
   ],
   "source": [
    "print(\"Precision with sensors:\")\n",
    "print(np.round(precision_score(y_test, y_pred_with_sensor, average=None),3))\n",
    "print(\"Precision without sensors:\")\n",
    "print(np.round(precision_score(y_test, y_pred_wo_sensor, average=None),3))\n",
    "print(\"Recall with sensors:\")\n",
    "print(np.round(recall_score(y_test, y_pred_with_sensor, average=None),3))\n",
    "print(\"Recall without sensors:\")\n",
    "print(np.round(recall_score(y_test, y_pred_wo_sensor, average=None),3))"
   ]
  },
  {
   "cell_type": "code",
   "execution_count": 26,
   "metadata": {},
   "outputs": [
    {
     "data": {
      "text/plain": [
       "array([[ 330,   71],\n",
       "       [ 138, 1369]])"
      ]
     },
     "execution_count": 26,
     "metadata": {},
     "output_type": "execute_result"
    }
   ],
   "source": [
    "confusion_matrix(y_test, y_pred_with_sensor)"
   ]
  },
  {
   "cell_type": "code",
   "execution_count": 27,
   "metadata": {},
   "outputs": [
    {
     "data": {
      "text/plain": [
       "array([[ 339,   62],\n",
       "       [ 133, 1374]])"
      ]
     },
     "execution_count": 27,
     "metadata": {},
     "output_type": "execute_result"
    }
   ],
   "source": [
    "confusion_matrix(y_test, y_pred_wo_sensor)"
   ]
  },
  {
   "cell_type": "markdown",
   "metadata": {},
   "source": [
    "### ThumbPrint score"
   ]
  },
  {
   "cell_type": "code",
   "execution_count": 57,
   "metadata": {},
   "outputs": [],
   "source": [
    "data = pd.read_csv(train_set)"
   ]
  },
  {
   "cell_type": "code",
   "execution_count": 28,
   "metadata": {},
   "outputs": [],
   "source": [
    "#X_test = X_test.merge(data[['SHA256', 'ThumbPrint']], \n",
    "#                      left_index=True, right_index=True)\n",
    "X_test['y_pred_with_sensor'] = y_pred_with_sensor\n",
    "X_test['y_pred_wo_sensor'] = y_pred_wo_sensor\n",
    "X_test['label'] = y_test"
   ]
  },
  {
   "cell_type": "code",
   "execution_count": 29,
   "metadata": {},
   "outputs": [
    {
     "data": {
      "text/html": [
       "<div>\n",
       "<style scoped>\n",
       "    .dataframe tbody tr th:only-of-type {\n",
       "        vertical-align: middle;\n",
       "    }\n",
       "\n",
       "    .dataframe tbody tr th {\n",
       "        vertical-align: top;\n",
       "    }\n",
       "\n",
       "    .dataframe thead th {\n",
       "        text-align: right;\n",
       "    }\n",
       "</style>\n",
       "<table border=\"1\" class=\"dataframe\">\n",
       "  <thead>\n",
       "    <tr style=\"text-align: right;\">\n",
       "      <th></th>\n",
       "      <th>N</th>\n",
       "      <th>correct</th>\n",
       "      <th>score</th>\n",
       "    </tr>\n",
       "    <tr>\n",
       "      <th>ThumbPrint</th>\n",
       "      <th></th>\n",
       "      <th></th>\n",
       "      <th></th>\n",
       "    </tr>\n",
       "  </thead>\n",
       "  <tbody>\n",
       "    <tr>\n",
       "      <th>61ED377E85D386A8DFEE6B864BD85B0BFAA5AF81</th>\n",
       "      <td>111</td>\n",
       "      <td>77.0</td>\n",
       "      <td>0.693694</td>\n",
       "    </tr>\n",
       "    <tr>\n",
       "      <th>F3FA0BE3FEB31AC2920E399AF0F0CFB37D729284</th>\n",
       "      <td>71</td>\n",
       "      <td>71.0</td>\n",
       "      <td>1.000000</td>\n",
       "    </tr>\n",
       "    <tr>\n",
       "      <th>95653B2BD67722B6EF4021CB812FF2B4DC5DCF03</th>\n",
       "      <td>55</td>\n",
       "      <td>55.0</td>\n",
       "      <td>1.000000</td>\n",
       "    </tr>\n",
       "    <tr>\n",
       "      <th>28EAC321D548B4247D9C84810C0656EC9426716B</th>\n",
       "      <td>54</td>\n",
       "      <td>34.0</td>\n",
       "      <td>0.629630</td>\n",
       "    </tr>\n",
       "    <tr>\n",
       "      <th>45A195BE1E17B3AFA086623DCC4661DEE2043B70</th>\n",
       "      <td>51</td>\n",
       "      <td>51.0</td>\n",
       "      <td>1.000000</td>\n",
       "    </tr>\n",
       "    <tr>\n",
       "      <th>F243B92AD5EABA98BD43084864C4D5483F191CD9</th>\n",
       "      <td>42</td>\n",
       "      <td>30.0</td>\n",
       "      <td>0.714286</td>\n",
       "    </tr>\n",
       "    <tr>\n",
       "      <th>00F7DCC41988D8642C51D4F8BA5A42C413275885</th>\n",
       "      <td>40</td>\n",
       "      <td>40.0</td>\n",
       "      <td>1.000000</td>\n",
       "    </tr>\n",
       "    <tr>\n",
       "      <th>6C699C8D1F7157366994ACDA5495051F2C58D7AB</th>\n",
       "      <td>38</td>\n",
       "      <td>38.0</td>\n",
       "      <td>1.000000</td>\n",
       "    </tr>\n",
       "    <tr>\n",
       "      <th>5BFC55F389F4B5427341E4320A501711140AE444</th>\n",
       "      <td>36</td>\n",
       "      <td>21.0</td>\n",
       "      <td>0.583333</td>\n",
       "    </tr>\n",
       "    <tr>\n",
       "      <th>699512C8B49E7A01A622BD250544E09A80A42D55</th>\n",
       "      <td>33</td>\n",
       "      <td>26.0</td>\n",
       "      <td>0.787879</td>\n",
       "    </tr>\n",
       "  </tbody>\n",
       "</table>\n",
       "</div>"
      ],
      "text/plain": [
       "                                            N  correct     score\n",
       "ThumbPrint                                                      \n",
       "61ED377E85D386A8DFEE6B864BD85B0BFAA5AF81  111     77.0  0.693694\n",
       "F3FA0BE3FEB31AC2920E399AF0F0CFB37D729284   71     71.0  1.000000\n",
       "95653B2BD67722B6EF4021CB812FF2B4DC5DCF03   55     55.0  1.000000\n",
       "28EAC321D548B4247D9C84810C0656EC9426716B   54     34.0  0.629630\n",
       "45A195BE1E17B3AFA086623DCC4661DEE2043B70   51     51.0  1.000000\n",
       "F243B92AD5EABA98BD43084864C4D5483F191CD9   42     30.0  0.714286\n",
       "00F7DCC41988D8642C51D4F8BA5A42C413275885   40     40.0  1.000000\n",
       "6C699C8D1F7157366994ACDA5495051F2C58D7AB   38     38.0  1.000000\n",
       "5BFC55F389F4B5427341E4320A501711140AE444   36     21.0  0.583333\n",
       "699512C8B49E7A01A622BD250544E09A80A42D55   33     26.0  0.787879"
      ]
     },
     "execution_count": 29,
     "metadata": {},
     "output_type": "execute_result"
    }
   ],
   "source": [
    "# scores of top 10 authors\n",
    "X_test['correct'] = X_test['label'] == X_test['y_pred_with_sensor']\n",
    "summ = X_test[X_test['label']==1].groupby('ThumbPrint').agg(N=('SHA256','count'),\n",
    "                                                      correct=('correct','sum'))\\\n",
    ".sort_values(['N','correct'], ascending=False).iloc[:10,:]\n",
    "summ['score'] = summ['correct']/summ['N']\n",
    "summ"
   ]
  },
  {
   "cell_type": "code",
   "execution_count": 30,
   "metadata": {},
   "outputs": [
    {
     "data": {
      "text/html": [
       "<div>\n",
       "<style scoped>\n",
       "    .dataframe tbody tr th:only-of-type {\n",
       "        vertical-align: middle;\n",
       "    }\n",
       "\n",
       "    .dataframe tbody tr th {\n",
       "        vertical-align: top;\n",
       "    }\n",
       "\n",
       "    .dataframe thead th {\n",
       "        text-align: right;\n",
       "    }\n",
       "</style>\n",
       "<table border=\"1\" class=\"dataframe\">\n",
       "  <thead>\n",
       "    <tr style=\"text-align: right;\">\n",
       "      <th></th>\n",
       "      <th>N</th>\n",
       "      <th>correct2</th>\n",
       "      <th>score</th>\n",
       "    </tr>\n",
       "    <tr>\n",
       "      <th>ThumbPrint</th>\n",
       "      <th></th>\n",
       "      <th></th>\n",
       "      <th></th>\n",
       "    </tr>\n",
       "  </thead>\n",
       "  <tbody>\n",
       "    <tr>\n",
       "      <th>61ED377E85D386A8DFEE6B864BD85B0BFAA5AF81</th>\n",
       "      <td>111</td>\n",
       "      <td>79.0</td>\n",
       "      <td>0.711712</td>\n",
       "    </tr>\n",
       "    <tr>\n",
       "      <th>F3FA0BE3FEB31AC2920E399AF0F0CFB37D729284</th>\n",
       "      <td>71</td>\n",
       "      <td>71.0</td>\n",
       "      <td>1.000000</td>\n",
       "    </tr>\n",
       "    <tr>\n",
       "      <th>95653B2BD67722B6EF4021CB812FF2B4DC5DCF03</th>\n",
       "      <td>55</td>\n",
       "      <td>55.0</td>\n",
       "      <td>1.000000</td>\n",
       "    </tr>\n",
       "    <tr>\n",
       "      <th>28EAC321D548B4247D9C84810C0656EC9426716B</th>\n",
       "      <td>54</td>\n",
       "      <td>34.0</td>\n",
       "      <td>0.629630</td>\n",
       "    </tr>\n",
       "    <tr>\n",
       "      <th>45A195BE1E17B3AFA086623DCC4661DEE2043B70</th>\n",
       "      <td>51</td>\n",
       "      <td>51.0</td>\n",
       "      <td>1.000000</td>\n",
       "    </tr>\n",
       "    <tr>\n",
       "      <th>F243B92AD5EABA98BD43084864C4D5483F191CD9</th>\n",
       "      <td>42</td>\n",
       "      <td>30.0</td>\n",
       "      <td>0.714286</td>\n",
       "    </tr>\n",
       "    <tr>\n",
       "      <th>00F7DCC41988D8642C51D4F8BA5A42C413275885</th>\n",
       "      <td>40</td>\n",
       "      <td>40.0</td>\n",
       "      <td>1.000000</td>\n",
       "    </tr>\n",
       "    <tr>\n",
       "      <th>6C699C8D1F7157366994ACDA5495051F2C58D7AB</th>\n",
       "      <td>38</td>\n",
       "      <td>38.0</td>\n",
       "      <td>1.000000</td>\n",
       "    </tr>\n",
       "    <tr>\n",
       "      <th>5BFC55F389F4B5427341E4320A501711140AE444</th>\n",
       "      <td>36</td>\n",
       "      <td>21.0</td>\n",
       "      <td>0.583333</td>\n",
       "    </tr>\n",
       "    <tr>\n",
       "      <th>699512C8B49E7A01A622BD250544E09A80A42D55</th>\n",
       "      <td>33</td>\n",
       "      <td>26.0</td>\n",
       "      <td>0.787879</td>\n",
       "    </tr>\n",
       "  </tbody>\n",
       "</table>\n",
       "</div>"
      ],
      "text/plain": [
       "                                            N  correct2     score\n",
       "ThumbPrint                                                       \n",
       "61ED377E85D386A8DFEE6B864BD85B0BFAA5AF81  111      79.0  0.711712\n",
       "F3FA0BE3FEB31AC2920E399AF0F0CFB37D729284   71      71.0  1.000000\n",
       "95653B2BD67722B6EF4021CB812FF2B4DC5DCF03   55      55.0  1.000000\n",
       "28EAC321D548B4247D9C84810C0656EC9426716B   54      34.0  0.629630\n",
       "45A195BE1E17B3AFA086623DCC4661DEE2043B70   51      51.0  1.000000\n",
       "F243B92AD5EABA98BD43084864C4D5483F191CD9   42      30.0  0.714286\n",
       "00F7DCC41988D8642C51D4F8BA5A42C413275885   40      40.0  1.000000\n",
       "6C699C8D1F7157366994ACDA5495051F2C58D7AB   38      38.0  1.000000\n",
       "5BFC55F389F4B5427341E4320A501711140AE444   36      21.0  0.583333\n",
       "699512C8B49E7A01A622BD250544E09A80A42D55   33      26.0  0.787879"
      ]
     },
     "execution_count": 30,
     "metadata": {},
     "output_type": "execute_result"
    }
   ],
   "source": [
    "# scores of top 10 authors\n",
    "X_test['correct2'] = X_test['label'] == X_test['y_pred_wo_sensor']\n",
    "summ = X_test[X_test['label']==1].groupby('ThumbPrint').agg(N=('SHA256','count'),\n",
    "                                                      correct2=('correct2','sum'))\\\n",
    ".sort_values(['N','correct2'], ascending=False).iloc[:10,:]\n",
    "summ['score'] = summ['correct2']/summ['N']\n",
    "summ"
   ]
  },
  {
   "cell_type": "markdown",
   "metadata": {},
   "source": [
    "### Paired apps v.s. non-paired apps"
   ]
  },
  {
   "cell_type": "code",
   "execution_count": 33,
   "metadata": {},
   "outputs": [
    {
     "data": {
      "text/plain": [
       "(2230, 358)"
      ]
     },
     "execution_count": 33,
     "metadata": {},
     "output_type": "execute_result"
    }
   ],
   "source": [
    "X_test.shape"
   ]
  },
  {
   "cell_type": "code",
   "execution_count": 34,
   "metadata": {},
   "outputs": [
    {
     "data": {
      "text/html": [
       "<div>\n",
       "<style scoped>\n",
       "    .dataframe tbody tr th:only-of-type {\n",
       "        vertical-align: middle;\n",
       "    }\n",
       "\n",
       "    .dataframe tbody tr th {\n",
       "        vertical-align: top;\n",
       "    }\n",
       "\n",
       "    .dataframe thead th {\n",
       "        text-align: right;\n",
       "    }\n",
       "</style>\n",
       "<table border=\"1\" class=\"dataframe\">\n",
       "  <thead>\n",
       "    <tr style=\"text-align: right;\">\n",
       "      <th></th>\n",
       "      <th>SHA256</th>\n",
       "      <th>label</th>\n",
       "    </tr>\n",
       "  </thead>\n",
       "  <tbody>\n",
       "    <tr>\n",
       "      <th>10216</th>\n",
       "      <td>C3749F164B5ED2B057354A4E3BDAF276A25439F054802C...</td>\n",
       "      <td>1</td>\n",
       "    </tr>\n",
       "    <tr>\n",
       "      <th>3300</th>\n",
       "      <td>B177607E760F9F0FCE4F871D8305A8D4750F735A7EE284...</td>\n",
       "      <td>1</td>\n",
       "    </tr>\n",
       "    <tr>\n",
       "      <th>8293</th>\n",
       "      <td>9310B15BD3EA2ACF651EE7AB1ED64FD15034D9A26F57F1...</td>\n",
       "      <td>1</td>\n",
       "    </tr>\n",
       "    <tr>\n",
       "      <th>2329</th>\n",
       "      <td>21E8E620CF551C0E95B47F03059DC76B09E736A44DAFBA...</td>\n",
       "      <td>1</td>\n",
       "    </tr>\n",
       "    <tr>\n",
       "      <th>6357</th>\n",
       "      <td>706E75BA4F06BB5EE06FDFD6ECE57635F136AAFA70AD64...</td>\n",
       "      <td>1</td>\n",
       "    </tr>\n",
       "  </tbody>\n",
       "</table>\n",
       "</div>"
      ],
      "text/plain": [
       "                                                  SHA256  label\n",
       "10216  C3749F164B5ED2B057354A4E3BDAF276A25439F054802C...      1\n",
       "3300   B177607E760F9F0FCE4F871D8305A8D4750F735A7EE284...      1\n",
       "8293   9310B15BD3EA2ACF651EE7AB1ED64FD15034D9A26F57F1...      1\n",
       "2329   21E8E620CF551C0E95B47F03059DC76B09E736A44DAFBA...      1\n",
       "6357   706E75BA4F06BB5EE06FDFD6ECE57635F136AAFA70AD64...      1"
      ]
     },
     "execution_count": 34,
     "metadata": {},
     "output_type": "execute_result"
    }
   ],
   "source": [
    "X_train[['SHA256', 'label']].head()"
   ]
  },
  {
   "cell_type": "code",
   "execution_count": 31,
   "metadata": {},
   "outputs": [
    {
     "data": {
      "text/plain": [
       "(2918, 2)"
      ]
     },
     "execution_count": 31,
     "metadata": {},
     "output_type": "execute_result"
    }
   ],
   "source": [
    "# obtain pairs where both the original and repackaged apps are in the benign/malware dataset\n",
    "sample_pairs = pairs[(pairs['SHA256_ORIGINAL'].isin(X['SHA256']))&\n",
    "                     (pairs['SHA256_REPACKAGE'].isin(X['SHA256']))]\n",
    "sample_pairs.shape"
   ]
  },
  {
   "cell_type": "code",
   "execution_count": 32,
   "metadata": {},
   "outputs": [
    {
     "data": {
      "text/plain": [
       "(721, 347)"
      ]
     },
     "execution_count": 32,
     "metadata": {},
     "output_type": "execute_result"
    }
   ],
   "source": [
    "# apps whose original/repackaged counterpart is in the data\n",
    "s1 = X_test[(X_test['SHA256'].isin(sample_pairs['SHA256_ORIGINAL']))|\n",
    "           (X_test['SHA256'].isin(sample_pairs['SHA256_REPACKAGE']))]\n",
    "s1.shape"
   ]
  },
  {
   "cell_type": "code",
   "execution_count": 33,
   "metadata": {},
   "outputs": [
    {
     "data": {
      "text/plain": [
       "(1187, 347)"
      ]
     },
     "execution_count": 33,
     "metadata": {},
     "output_type": "execute_result"
    }
   ],
   "source": [
    "# apps whose original/repackaged counterpart is not in the data:\n",
    "s2 = X_test[(~X_test['SHA256'].isin(sample_pairs['SHA256_ORIGINAL']))&\n",
    "           (~X_test['SHA256'].isin(sample_pairs['SHA256_REPACKAGE']))]\n",
    "s2.shape"
   ]
  },
  {
   "cell_type": "code",
   "execution_count": 34,
   "metadata": {},
   "outputs": [
    {
     "name": "stdout",
     "output_type": "stream",
     "text": [
      "Including sensor features:\n",
      "Overall accuracy: 0.890461215932914\n",
      "Accuracy for apps whose original/repackaged counterpart is in the data: 0.7739251040221914\n",
      "Accuracy for apps whose original/repackaged counterpart is not in the data: 0.9612468407750632\n"
     ]
    }
   ],
   "source": [
    "print(\"Including sensor features:\")\n",
    "print(\"Overall accuracy:\", X_test['correct'].mean())\n",
    "print(\"Accuracy for apps whose original/repackaged counterpart is in the data:\",\n",
    "     s1['correct'].mean())\n",
    "print(\"Accuracy for apps whose original/repackaged counterpart is not in the data:\",\n",
    "     s2['correct'].mean())"
   ]
  },
  {
   "cell_type": "code",
   "execution_count": 35,
   "metadata": {},
   "outputs": [
    {
     "name": "stdout",
     "output_type": "stream",
     "text": [
      "Excluding sensor features:\n",
      "Overall accuracy: 0.8977987421383647\n",
      "Accuracy for apps whose original/repackaged counterpart is in the data: 0.7808599167822469\n",
      "Accuracy for apps whose original/repackaged counterpart is not in the data: 0.9688289806234204\n"
     ]
    }
   ],
   "source": [
    "print(\"Excluding sensor features:\")\n",
    "print(\"Overall accuracy:\", X_test['correct2'].mean())\n",
    "print(\"Accuracy for apps whose original/repackaged counterpart is in the data:\",\n",
    "     s1['correct2'].mean())\n",
    "print(\"Accuracy for apps whose original/repackaged counterpart is not in the data:\",\n",
    "     s2['correct2'].mean())"
   ]
  },
  {
   "cell_type": "markdown",
   "metadata": {},
   "source": [
    "#### Test on repackaged benign dataset"
   ]
  },
  {
   "cell_type": "code",
   "execution_count": 36,
   "metadata": {},
   "outputs": [],
   "source": [
    "benign_repack = \"https://raw.githubusercontent.com/Programming-Systems-Lab/Capstone-2/master/data/Test_Data/Repackaged_Benign_Testset.csv\"\n",
    "benign_repack = pd.read_csv(benign_repack)\n",
    "benign_repack_y = \"https://raw.githubusercontent.com/Programming-Systems-Lab/Capstone-2/master/data/Test_Data/Labels_testset.csv\"\n",
    "benign_repack_y = pd.read_csv(benign_repack_y)\n",
    "benign_repack['label'] = benign_repack_y['label']"
   ]
  },
  {
   "cell_type": "code",
   "execution_count": 37,
   "metadata": {},
   "outputs": [
    {
     "data": {
      "text/plain": [
       "0    2858\n",
       "Name: label, dtype: int64"
      ]
     },
     "execution_count": 37,
     "metadata": {},
     "output_type": "execute_result"
    }
   ],
   "source": [
    "benign_repack['label'].value_counts()"
   ]
  },
  {
   "cell_type": "code",
   "execution_count": 38,
   "metadata": {},
   "outputs": [],
   "source": [
    "# make prediction\n",
    "y_pred_with_sensor = grid_with_sensor.predict(benign_repack[features])\n",
    "y_pred_wo_sensor = grid_wo_sensor.predict(benign_repack[features_wo_sensors])"
   ]
  },
  {
   "cell_type": "code",
   "execution_count": 39,
   "metadata": {},
   "outputs": [
    {
     "name": "stdout",
     "output_type": "stream",
     "text": [
      "Test score with sensors on repackaged benign apps: 0.894\n",
      "Test score without sensors on repackaged benign apps: 0.901\n"
     ]
    }
   ],
   "source": [
    "print(\"Test score with sensors on repackaged benign apps:\",  \n",
    "      round(accuracy_score(benign_repack_y, y_pred_with_sensor),3))\n",
    "print(\"Test score without sensors on repackaged benign apps:\", \n",
    "      round(accuracy_score(benign_repack_y, y_pred_wo_sensor),3))"
   ]
  },
  {
   "cell_type": "markdown",
   "metadata": {},
   "source": [
    "#### Test on covid repackaged malware dataset"
   ]
  },
  {
   "cell_type": "code",
   "execution_count": 40,
   "metadata": {},
   "outputs": [
    {
     "name": "stdout",
     "output_type": "stream",
     "text": [
      "157\n"
     ]
    }
   ],
   "source": [
    "covid_test = \"https://raw.githubusercontent.com/Programming-Systems-Lab/Capstone-2/master/data/Test_Data/COVID_Testset.csv\"\n",
    "covid_test = pd.read_csv(covid_test)\n",
    "covid_label = \"https://raw.githubusercontent.com/Programming-Systems-Lab/Capstone-2/master/data/Test_Data/Labels_COVID_testset.csv\"\n",
    "covid_label = pd.read_csv(covid_label)\n",
    "print(covid_test.shape[0])"
   ]
  },
  {
   "cell_type": "code",
   "execution_count": 41,
   "metadata": {},
   "outputs": [
    {
     "data": {
      "text/plain": [
       "0    157\n",
       "Name: label, dtype: int64"
      ]
     },
     "execution_count": 41,
     "metadata": {},
     "output_type": "execute_result"
    }
   ],
   "source": [
    "covid_label['label'].value_counts()"
   ]
  },
  {
   "cell_type": "code",
   "execution_count": 42,
   "metadata": {},
   "outputs": [],
   "source": [
    "y_pred_covid_w_sensor = grid_with_sensor.predict(covid_test[features])\n",
    "y_pred_covid_wo_sensor = grid_wo_sensor.predict(covid_test[features_wo_sensors])"
   ]
  },
  {
   "cell_type": "code",
   "execution_count": 43,
   "metadata": {},
   "outputs": [
    {
     "name": "stdout",
     "output_type": "stream",
     "text": [
      "Accuracy on covid test set (with sensors): 0.885\n",
      "Accuracy on covid test set (without sensors): 0.93\n"
     ]
    }
   ],
   "source": [
    "print(\"Accuracy on covid test set (with sensors):\", \n",
    "      round(accuracy_score(covid_label['label'], y_pred_covid_w_sensor),3))\n",
    "print(\"Accuracy on covid test set (without sensors):\", \n",
    "      round(accuracy_score(covid_label['label'], y_pred_covid_wo_sensor),3))"
   ]
  },
  {
   "cell_type": "code",
   "execution_count": 45,
   "metadata": {},
   "outputs": [],
   "source": [
    "covid_test['label'] = covid_label\n",
    "covid_test['y_pred'] = y_pred_covid_wo_sensor \n",
    "covid_test['correct'] = covid_test['label']==covid_test['y_pred']"
   ]
  },
  {
   "cell_type": "code",
   "execution_count": 47,
   "metadata": {},
   "outputs": [
    {
     "data": {
      "text/html": [
       "<div>\n",
       "<style scoped>\n",
       "    .dataframe tbody tr th:only-of-type {\n",
       "        vertical-align: middle;\n",
       "    }\n",
       "\n",
       "    .dataframe tbody tr th {\n",
       "        vertical-align: top;\n",
       "    }\n",
       "\n",
       "    .dataframe thead th {\n",
       "        text-align: right;\n",
       "    }\n",
       "</style>\n",
       "<table border=\"1\" class=\"dataframe\">\n",
       "  <thead>\n",
       "    <tr style=\"text-align: right;\">\n",
       "      <th></th>\n",
       "      <th>acc</th>\n",
       "      <th>count</th>\n",
       "    </tr>\n",
       "    <tr>\n",
       "      <th>ThumbPrint</th>\n",
       "      <th></th>\n",
       "      <th></th>\n",
       "    </tr>\n",
       "  </thead>\n",
       "  <tbody>\n",
       "    <tr>\n",
       "      <th>C4B73247F90289388E78031733BE2F165BC75934</th>\n",
       "      <td>1.0</td>\n",
       "      <td>23</td>\n",
       "    </tr>\n",
       "    <tr>\n",
       "      <th>DB65E329974BDB5A745CBB9ACE7532B72EE7B900</th>\n",
       "      <td>1.0</td>\n",
       "      <td>18</td>\n",
       "    </tr>\n",
       "    <tr>\n",
       "      <th>7C92A25D4CE53A729BA11D89E70A59BAE74AE40D</th>\n",
       "      <td>1.0</td>\n",
       "      <td>9</td>\n",
       "    </tr>\n",
       "    <tr>\n",
       "      <th>722BEB450FEBF6FFD796ED75A789961E45039870</th>\n",
       "      <td>1.0</td>\n",
       "      <td>6</td>\n",
       "    </tr>\n",
       "    <tr>\n",
       "      <th>44E5103E3FAEE7FC70A01542328229F19EB4667E</th>\n",
       "      <td>0.6</td>\n",
       "      <td>5</td>\n",
       "    </tr>\n",
       "  </tbody>\n",
       "</table>\n",
       "</div>"
      ],
      "text/plain": [
       "                                          acc  count\n",
       "ThumbPrint                                          \n",
       "C4B73247F90289388E78031733BE2F165BC75934  1.0     23\n",
       "DB65E329974BDB5A745CBB9ACE7532B72EE7B900  1.0     18\n",
       "7C92A25D4CE53A729BA11D89E70A59BAE74AE40D  1.0      9\n",
       "722BEB450FEBF6FFD796ED75A789961E45039870  1.0      6\n",
       "44E5103E3FAEE7FC70A01542328229F19EB4667E  0.6      5"
      ]
     },
     "execution_count": 47,
     "metadata": {},
     "output_type": "execute_result"
    }
   ],
   "source": [
    "covid_summ = covid_test.groupby('ThumbPrint').agg(acc=('correct', 'mean'),\n",
    "                                    count=('correct', 'count'))\\\n",
    ".sort_values(by='count', ascending=False)\n",
    "covid_summ.head(5)"
   ]
  },
  {
   "cell_type": "code",
   "execution_count": 49,
   "metadata": {},
   "outputs": [
    {
     "data": {
      "text/plain": [
       "(64, 2)"
      ]
     },
     "execution_count": 49,
     "metadata": {},
     "output_type": "execute_result"
    }
   ],
   "source": [
    "covid_summ.shape"
   ]
  },
  {
   "cell_type": "code",
   "execution_count": 50,
   "metadata": {},
   "outputs": [
    {
     "data": {
      "text/html": [
       "<div>\n",
       "<style scoped>\n",
       "    .dataframe tbody tr th:only-of-type {\n",
       "        vertical-align: middle;\n",
       "    }\n",
       "\n",
       "    .dataframe tbody tr th {\n",
       "        vertical-align: top;\n",
       "    }\n",
       "\n",
       "    .dataframe thead th {\n",
       "        text-align: right;\n",
       "    }\n",
       "</style>\n",
       "<table border=\"1\" class=\"dataframe\">\n",
       "  <thead>\n",
       "    <tr style=\"text-align: right;\">\n",
       "      <th></th>\n",
       "      <th>acc</th>\n",
       "      <th>count</th>\n",
       "    </tr>\n",
       "    <tr>\n",
       "      <th>ThumbPrint</th>\n",
       "      <th></th>\n",
       "      <th></th>\n",
       "    </tr>\n",
       "  </thead>\n",
       "  <tbody>\n",
       "    <tr>\n",
       "      <th>44E5103E3FAEE7FC70A01542328229F19EB4667E</th>\n",
       "      <td>0.6</td>\n",
       "      <td>5</td>\n",
       "    </tr>\n",
       "    <tr>\n",
       "      <th>9FBAAEAEE1BDF175AE9F0598F41E3A70E94C0257</th>\n",
       "      <td>0.0</td>\n",
       "      <td>3</td>\n",
       "    </tr>\n",
       "    <tr>\n",
       "      <th>B4BC12B9C74BF154FBF033864F3B825F7FBA7239</th>\n",
       "      <td>0.0</td>\n",
       "      <td>1</td>\n",
       "    </tr>\n",
       "    <tr>\n",
       "      <th>A0F251BA5D23FAB43F7680B197DC5EDCD833BB2F</th>\n",
       "      <td>0.0</td>\n",
       "      <td>1</td>\n",
       "    </tr>\n",
       "    <tr>\n",
       "      <th>7B28702CBEA0E0E033E183DBE564CD82A2792D2B</th>\n",
       "      <td>0.0</td>\n",
       "      <td>1</td>\n",
       "    </tr>\n",
       "    <tr>\n",
       "      <th>693C0A10500ECF8D1E2A56C54694B24BAC9A4AAF</th>\n",
       "      <td>0.0</td>\n",
       "      <td>1</td>\n",
       "    </tr>\n",
       "    <tr>\n",
       "      <th>239CBEC7E31895BCA59F91FE49F8B613FA2D8510</th>\n",
       "      <td>0.0</td>\n",
       "      <td>1</td>\n",
       "    </tr>\n",
       "    <tr>\n",
       "      <th>FDA551773B6530D6D00A6B7230172C29E0318407</th>\n",
       "      <td>0.0</td>\n",
       "      <td>1</td>\n",
       "    </tr>\n",
       "  </tbody>\n",
       "</table>\n",
       "</div>"
      ],
      "text/plain": [
       "                                          acc  count\n",
       "ThumbPrint                                          \n",
       "44E5103E3FAEE7FC70A01542328229F19EB4667E  0.6      5\n",
       "9FBAAEAEE1BDF175AE9F0598F41E3A70E94C0257  0.0      3\n",
       "B4BC12B9C74BF154FBF033864F3B825F7FBA7239  0.0      1\n",
       "A0F251BA5D23FAB43F7680B197DC5EDCD833BB2F  0.0      1\n",
       "7B28702CBEA0E0E033E183DBE564CD82A2792D2B  0.0      1\n",
       "693C0A10500ECF8D1E2A56C54694B24BAC9A4AAF  0.0      1\n",
       "239CBEC7E31895BCA59F91FE49F8B613FA2D8510  0.0      1\n",
       "FDA551773B6530D6D00A6B7230172C29E0318407  0.0      1"
      ]
     },
     "execution_count": 50,
     "metadata": {},
     "output_type": "execute_result"
    }
   ],
   "source": [
    "covid_summ[covid_summ['acc']<1]"
   ]
  },
  {
   "cell_type": "code",
   "execution_count": 48,
   "metadata": {},
   "outputs": [
    {
     "data": {
      "text/plain": [
       "array([[146,  11],\n",
       "       [  0,   0]])"
      ]
     },
     "execution_count": 48,
     "metadata": {},
     "output_type": "execute_result"
    }
   ],
   "source": [
    "confusion_matrix(covid_label, y_pred_covid_wo_sensor)"
   ]
  },
  {
   "cell_type": "code",
   "execution_count": null,
   "metadata": {},
   "outputs": [],
   "source": []
  },
  {
   "cell_type": "code",
   "execution_count": null,
   "metadata": {},
   "outputs": [],
   "source": []
  }
 ],
 "metadata": {
  "kernelspec": {
   "display_name": "Python 3",
   "language": "python",
   "name": "python3"
  },
  "language_info": {
   "codemirror_mode": {
    "name": "ipython",
    "version": 3
   },
   "file_extension": ".py",
   "mimetype": "text/x-python",
   "name": "python",
   "nbconvert_exporter": "python",
   "pygments_lexer": "ipython3",
   "version": "3.7.6"
  }
 },
 "nbformat": 4,
 "nbformat_minor": 4
}
