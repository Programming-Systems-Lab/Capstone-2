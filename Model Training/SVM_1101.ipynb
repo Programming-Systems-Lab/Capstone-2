{
 "cells": [
  {
   "cell_type": "code",
   "execution_count": 21,
   "metadata": {},
   "outputs": [],
   "source": [
    "import pandas as pd\n",
    "import numpy as np\n",
    "import matplotlib.pyplot as plt\n",
    "pd.set_option('mode.chained_assignment', None)\n",
    "import umap\n",
    "from sklearn.svm import SVC\n",
    "from sklearn.metrics import precision_score\n",
    "from sklearn.metrics import recall_score\n",
    "from sklearn.metrics import roc_auc_score\n",
    "from joblib import dump, load"
   ]
  },
  {
   "cell_type": "code",
   "execution_count": 2,
   "metadata": {},
   "outputs": [],
   "source": [
    "from sklearn.pipeline import Pipeline, make_pipeline\n",
    "from sklearn.model_selection import train_test_split, cross_val_score, GridSearchCV\n",
    "from sklearn.metrics import balanced_accuracy_score"
   ]
  },
  {
   "cell_type": "code",
   "execution_count": 3,
   "metadata": {},
   "outputs": [],
   "source": [
    "# data import\n",
    "data = pd.read_csv('Training_Dataset.csv')\n",
    "pairs = pd.read_csv(\"/Users/duanyueyun/Desktop/Capstone/notebooks (final)/Download apk/repackaging_pairs.txt\")"
   ]
  },
  {
   "cell_type": "code",
   "execution_count": 4,
   "metadata": {},
   "outputs": [
    {
     "name": "stdout",
     "output_type": "stream",
     "text": [
      "Distribution of target:\n"
     ]
    },
    {
     "data": {
      "text/plain": [
       "1    0.816779\n",
       "0    0.183221\n",
       "Name: label, dtype: float64"
      ]
     },
     "execution_count": 4,
     "metadata": {},
     "output_type": "execute_result"
    }
   ],
   "source": [
    "print(\"Distribution of target:\")\n",
    "data['label'].value_counts()/data.shape[0]"
   ]
  },
  {
   "cell_type": "code",
   "execution_count": 5,
   "metadata": {},
   "outputs": [],
   "source": [
    "# Delete useless features told by Shirish\n",
    "data.drop(['Package_Name', 'ThumbPrint', 'Application_Category', \n",
    "        'Family_Name', 'Malware_Category', 'Malware/Benign',\n",
    "       'sdkVersion', 'targetSdkVersion'], axis = 1, inplace = True)\n",
    "# Drop features with 0 variance\n",
    "data.drop(data.columns[data.nunique()==1].to_list(), axis = 1, inplace = True)"
   ]
  },
  {
   "cell_type": "code",
   "execution_count": 6,
   "metadata": {},
   "outputs": [],
   "source": []
  },
  {
   "cell_type": "code",
   "execution_count": 7,
   "metadata": {},
   "outputs": [],
   "source": [
    "# drop duplicate rows\n",
    "data = data[~data.duplicated(keep='first')]\n",
    "y = data['label']"
   ]
  },
  {
   "cell_type": "code",
   "execution_count": 8,
   "metadata": {},
   "outputs": [
    {
     "data": {
      "text/plain": [
       "(10951, 354)"
      ]
     },
     "execution_count": 8,
     "metadata": {},
     "output_type": "execute_result"
    }
   ],
   "source": [
    "data.shape"
   ]
  },
  {
   "cell_type": "markdown",
   "metadata": {},
   "source": [
    "# Training SVM Model"
   ]
  },
  {
   "cell_type": "markdown",
   "metadata": {},
   "source": [
    "## Splitting Training and Test set"
   ]
  },
  {
   "cell_type": "code",
   "execution_count": 9,
   "metadata": {},
   "outputs": [
    {
     "name": "stdout",
     "output_type": "stream",
     "text": [
      "(10951, 352)\n",
      "(10951, 323)\n"
     ]
    }
   ],
   "source": [
    "X=data.drop(columns=['label','SHA256'])\n",
    "# Create dataset without sensor features in order to see if there's some improvement by adding sensor features\n",
    "X_wo_sensors = X.drop(X.iloc[:, -29:].columns, axis = 1)\n",
    "print(X.shape)\n",
    "print(X_wo_sensors.shape)"
   ]
  },
  {
   "cell_type": "code",
   "execution_count": 84,
   "metadata": {},
   "outputs": [],
   "source": [
    "# Train test split\n",
    "X_train, X_test, y_train, y_test = train_test_split(X, y, \n",
    "                                                    test_size = 0.2, \n",
    "                                                    random_state = 42, \n",
    "                                                    stratify = y)\n",
    "\n",
    "X_train_wo_sensor, X_test_wo_sensor, y_train_wo_sensor, y_test_wo_sensor = \\\n",
    "train_test_split(X_wo_sensors, y, test_size = 0.2, random_state = 42, stratify = y)"
   ]
  },
  {
   "cell_type": "markdown",
   "metadata": {},
   "source": [
    "# Training SVM Model"
   ]
  },
  {
   "cell_type": "code",
   "execution_count": 11,
   "metadata": {},
   "outputs": [],
   "source": [
    "model = SVC(class_weight='balanced')"
   ]
  },
  {
   "cell_type": "code",
   "execution_count": 12,
   "metadata": {
    "scrolled": false
   },
   "outputs": [
    {
     "name": "stdout",
     "output_type": "stream",
     "text": [
      "The mean test score of Logistic Regression model with sensor features is: 0.8577054376741261\n"
     ]
    }
   ],
   "source": [
    "avg_val_score = np.mean(cross_val_score(model, X_train, y_train, cv = 5,\n",
    "                                       scoring = \"balanced_accuracy\"))\n",
    "print('The mean test score of Logistic Regression model with sensor features is:', avg_val_score)"
   ]
  },
  {
   "cell_type": "code",
   "execution_count": 13,
   "metadata": {},
   "outputs": [
    {
     "name": "stdout",
     "output_type": "stream",
     "text": [
      "The mean test score of Logistic Regression model without sensor features is: 0.8561517848927043\n"
     ]
    }
   ],
   "source": [
    "avg_val_score = np.mean(cross_val_score(model, X_train_wo_sensor, y_train_wo_sensor, cv = 5,\n",
    "                                       scoring = \"balanced_accuracy\"))\n",
    "print('The mean test score of Logistic Regression model without sensor features is:', avg_val_score)"
   ]
  },
  {
   "cell_type": "markdown",
   "metadata": {},
   "source": [
    "## Tuning Hyperparameters"
   ]
  },
  {
   "cell_type": "markdown",
   "metadata": {},
   "source": [
    "**1. Training on Dataset Including Sensor Features**"
   ]
  },
  {
   "cell_type": "code",
   "execution_count": 14,
   "metadata": {},
   "outputs": [
    {
     "data": {
      "text/plain": [
       "GridSearchCV(estimator=Pipeline(steps=[('svc', SVC(class_weight='balanced'))]),\n",
       "             param_grid={'svc__C': [0.2, 0.5, 1, 10, 100],\n",
       "                         'svc__kernel': ['poly', 'rbf']},\n",
       "             scoring='balanced_accuracy')"
      ]
     },
     "execution_count": 14,
     "metadata": {},
     "output_type": "execute_result"
    }
   ],
   "source": [
    "# Tune C of Logistic Regression\n",
    "pipe_with_sensor = make_pipeline(SVC(class_weight='balanced'))\n",
    "\n",
    "params = {'svc__kernel': ['poly', 'rbf'],\n",
    "          'svc__C': [0.2, 0.5, 1, 10, 100]}\n",
    "\n",
    "grid_with_sensor = GridSearchCV(pipe_with_sensor, param_grid = params,\n",
    "                               scoring = \"balanced_accuracy\")\n",
    "grid_with_sensor.fit(X_train, y_train)"
   ]
  },
  {
   "cell_type": "code",
   "execution_count": 15,
   "metadata": {},
   "outputs": [],
   "source": [
    "result_with_sensor = pd.DataFrame(grid_with_sensor.cv_results_)"
   ]
  },
  {
   "cell_type": "code",
   "execution_count": 16,
   "metadata": {},
   "outputs": [
    {
     "data": {
      "text/plain": [
       "Text(0.5, 1.0, 'Mean Test Score of SVM with Different C (Including Sensor Features)')"
      ]
     },
     "execution_count": 16,
     "metadata": {},
     "output_type": "execute_result"
    },
    {
     "data": {
      "image/png": "[encoded data removed]",
      "text/plain": [
       "<Figure size 720x432 with 1 Axes>"
      ]
     },
     "metadata": {
      "needs_background": "light"
     },
     "output_type": "display_data"
    }
   ],
   "source": [
    "poly_scores = result_with_sensor[result_with_sensor['param_svc__kernel']=='poly']['mean_test_score']\n",
    "rbf_scores = result_with_sensor[result_with_sensor['param_svc__kernel']=='rbf']['mean_test_score']\n",
    "plt.figure(figsize = (10, 6))\n",
    "plt.plot(np.log([0.2, 0.5, 1, 10, 100]), poly_scores, marker = 'o', markersize = 5,\n",
    "        label='poly')\n",
    "plt.plot(np.log([0.2, 0.5, 1, 10, 100]), rbf_scores, marker = 'o', markersize = 5, c='orange',\n",
    "        label='rbf')\n",
    "plt.legend()\n",
    "plt.xlabel('log(C)', fontsize = 13)\n",
    "plt.ylabel('Mean Test Score', fontsize = 13)\n",
    "plt.title('Mean Test Score of SVM with Different C (Including Sensor Features)', fontsize = 15)"
   ]
  },
  {
   "cell_type": "markdown",
   "metadata": {},
   "source": [
    "**2. Training on Dataset Not Including Sensor Features**"
   ]
  },
  {
   "cell_type": "code",
   "execution_count": 18,
   "metadata": {},
   "outputs": [
    {
     "data": {
      "text/plain": [
       "GridSearchCV(estimator=Pipeline(steps=[('svc', SVC(class_weight='balanced'))]),\n",
       "             param_grid={'svc__C': [0.2, 0.5, 1, 10, 100],\n",
       "                         'svc__kernel': ['poly', 'rbf']})"
      ]
     },
     "execution_count": 18,
     "metadata": {},
     "output_type": "execute_result"
    }
   ],
   "source": [
    "pipe_wo_sensor = make_pipeline(SVC(class_weight='balanced'))\n",
    "\n",
    "params = {'svc__kernel': ['poly', 'rbf'],\n",
    "          'svc__C': [0.2, 0.5, 1, 10, 100]}\n",
    "\n",
    "grid_wo_sensor = GridSearchCV(pipe_wo_sensor, param_grid = params)\n",
    "grid_wo_sensor.fit(X_train_wo_sensor, y_train_wo_sensor)"
   ]
  },
  {
   "cell_type": "code",
   "execution_count": 19,
   "metadata": {},
   "outputs": [],
   "source": [
    "result_wo_sensor = pd.DataFrame(grid_wo_sensor.cv_results_)"
   ]
  },
  {
   "cell_type": "code",
   "execution_count": 20,
   "metadata": {},
   "outputs": [
    {
     "data": {
      "text/plain": [
       "Text(0.5, 1.0, 'Mean Test Score of SVM with Different C (Without Sensor Features)')"
      ]
     },
     "execution_count": 20,
     "metadata": {},
     "output_type": "execute_result"
    },
    {
     "data": {
      "image/png": "[encoded data removed]",
      "text/plain": [
       "<Figure size 720x432 with 1 Axes>"
      ]
     },
     "metadata": {
      "needs_background": "light"
     },
     "output_type": "display_data"
    }
   ],
   "source": [
    "poly_scores2 = result_wo_sensor[result_wo_sensor['param_svc__kernel']=='poly']['mean_test_score']\n",
    "rbf_scores2 = result_wo_sensor[result_wo_sensor['param_svc__kernel']=='rbf']['mean_test_score']\n",
    "plt.figure(figsize = (10, 6))\n",
    "plt.plot(np.log([0.2, 0.5, 1, 10, 100]), poly_scores2, marker = 'o', markersize = 5,\n",
    "        label='poly')\n",
    "plt.plot(np.log([0.2, 0.5, 1, 10, 100]), rbf_scores2, marker = 'o', markersize = 5, c='orange',\n",
    "        label='rbf')\n",
    "plt.legend()\n",
    "plt.xlabel('log(C)', fontsize = 13)\n",
    "plt.ylabel('Mean Test Score', fontsize = 13)\n",
    "plt.title('Mean Test Score of SVM with Different C (Without Sensor Features)', fontsize = 15)"
   ]
  },
  {
   "cell_type": "code",
   "execution_count": 22,
   "metadata": {},
   "outputs": [
    {
     "data": {
      "text/plain": [
       "['grid_wo_sensor.joblib']"
      ]
     },
     "execution_count": 22,
     "metadata": {},
     "output_type": "execute_result"
    }
   ],
   "source": [
    "# export models\n",
    "dump(grid_with_sensor, 'grid_with_sensor.joblib') \n",
    "dump(grid_wo_sensor, 'grid_wo_sensor.joblib') "
   ]
  },
  {
   "cell_type": "code",
   "execution_count": null,
   "metadata": {},
   "outputs": [],
   "source": [
    "grid_with_sensor = load('grid_with_sensor.joblib') \n",
    "grid_wo_sensor = load('grid_wo_sensor.joblib') "
   ]
  },
  {
   "cell_type": "markdown",
   "metadata": {},
   "source": [
    "## Evaluation on Test Data"
   ]
  },
  {
   "cell_type": "markdown",
   "metadata": {},
   "source": [
    "Adding sensor features improves balanced accuracy slightly."
   ]
  },
  {
   "cell_type": "code",
   "execution_count": 85,
   "metadata": {},
   "outputs": [],
   "source": [
    "# make prediction\n",
    "y_pred_with_sensor = grid_with_sensor.predict(X_test)\n",
    "y_pred_wo_sensor = grid_wo_sensor.predict(X_test_wo_sensor)"
   ]
  },
  {
   "cell_type": "markdown",
   "metadata": {},
   "source": [
    "### Balanced accuracy"
   ]
  },
  {
   "cell_type": "code",
   "execution_count": 86,
   "metadata": {},
   "outputs": [
    {
     "name": "stdout",
     "output_type": "stream",
     "text": [
      "Test score with sensors: 0.854\n",
      "Test score without sensors: 0.84\n"
     ]
    }
   ],
   "source": [
    "print(\"Test score with sensors:\",  round(balanced_accuracy_score(y_test, y_pred_with_sensor),3))\n",
    "print(\"Test score without sensors:\", round(balanced_accuracy_score(y_test_wo_sensor, y_pred_wo_sensor),3))"
   ]
  },
  {
   "cell_type": "markdown",
   "metadata": {},
   "source": [
    "### AUC, precision and recall"
   ]
  },
  {
   "cell_type": "code",
   "execution_count": 81,
   "metadata": {},
   "outputs": [],
   "source": [
    "#round(roc_auc_score(y_test, y_pred_with_sensor),3)"
   ]
  },
  {
   "cell_type": "code",
   "execution_count": 82,
   "metadata": {},
   "outputs": [],
   "source": [
    "#round(roc_auc_score(y_test, y_pred_wo_sensor),3)"
   ]
  },
  {
   "cell_type": "code",
   "execution_count": 89,
   "metadata": {},
   "outputs": [
    {
     "name": "stdout",
     "output_type": "stream",
     "text": [
      "Precision with sensors:\n",
      "[0.551 0.965]\n",
      "Precision without sensors:\n",
      "[0.593 0.952]\n",
      "Recall with sensors:\n",
      "[0.865 0.842]\n",
      "Recall without sensors:\n",
      "[0.803 0.877]\n"
     ]
    }
   ],
   "source": [
    "print(\"Precision with sensors:\")\n",
    "print(np.round(precision_score(y_test, y_pred_with_sensor, average=None),3))\n",
    "print(\"Precision without sensors:\")\n",
    "print(np.round(precision_score(y_test, y_pred_wo_sensor, average=None),3))\n",
    "print(\"Recall with sensors:\")\n",
    "print(np.round(recall_score(y_test, y_pred_with_sensor, average=None),3))\n",
    "print(\"Recall without sensors:\")\n",
    "print(np.round(recall_score(y_test, y_pred_wo_sensor, average=None),3))"
   ]
  },
  {
   "cell_type": "markdown",
   "metadata": {},
   "source": [
    "### ThumbPrint score"
   ]
  },
  {
   "cell_type": "code",
   "execution_count": 39,
   "metadata": {},
   "outputs": [
    {
     "data": {
      "text/plain": [
       "(10951, 873)"
      ]
     },
     "execution_count": 39,
     "metadata": {},
     "output_type": "execute_result"
    }
   ],
   "source": [
    "data = pd.read_csv('Training_Dataset.csv')\n",
    "data.drop_duplicates(inplace=True)\n",
    "data.shape"
   ]
  },
  {
   "cell_type": "code",
   "execution_count": 40,
   "metadata": {},
   "outputs": [],
   "source": [
    "X_test = X_test.merge(data[['label','SHA256', 'ThumbPrint']], left_index=True, right_index=True)\n",
    "X_test['y_pred_with_sensor'] = y_pred_with_sensor\n",
    "X_test['y_pred_wo_sensor'] = y_pred_wo_sensor"
   ]
  },
  {
   "cell_type": "code",
   "execution_count": 41,
   "metadata": {},
   "outputs": [
    {
     "data": {
      "text/html": [
       "<div>\n",
       "<style scoped>\n",
       "    .dataframe tbody tr th:only-of-type {\n",
       "        vertical-align: middle;\n",
       "    }\n",
       "\n",
       "    .dataframe tbody tr th {\n",
       "        vertical-align: top;\n",
       "    }\n",
       "\n",
       "    .dataframe thead th {\n",
       "        text-align: right;\n",
       "    }\n",
       "</style>\n",
       "<table border=\"1\" class=\"dataframe\">\n",
       "  <thead>\n",
       "    <tr style=\"text-align: right;\">\n",
       "      <th></th>\n",
       "      <th>N</th>\n",
       "      <th>correct</th>\n",
       "      <th>score</th>\n",
       "    </tr>\n",
       "    <tr>\n",
       "      <th>ThumbPrint</th>\n",
       "      <th></th>\n",
       "      <th></th>\n",
       "      <th></th>\n",
       "    </tr>\n",
       "  </thead>\n",
       "  <tbody>\n",
       "    <tr>\n",
       "      <th>672C7E09D7971FEFF924CB9BB9DF501B068699D2</th>\n",
       "      <td>26</td>\n",
       "      <td>19.0</td>\n",
       "      <td>0.730769</td>\n",
       "    </tr>\n",
       "    <tr>\n",
       "      <th>61ED377E85D386A8DFEE6B864BD85B0BFAA5AF81</th>\n",
       "      <td>23</td>\n",
       "      <td>15.0</td>\n",
       "      <td>0.652174</td>\n",
       "    </tr>\n",
       "    <tr>\n",
       "      <th>F0CA270347F8E2D6D21F4F249BB6FA82AB6F83E3</th>\n",
       "      <td>11</td>\n",
       "      <td>6.0</td>\n",
       "      <td>0.545455</td>\n",
       "    </tr>\n",
       "    <tr>\n",
       "      <th>EF6437B4BA486551FBCC4FCB2FB126BB4B911BAB</th>\n",
       "      <td>4</td>\n",
       "      <td>1.0</td>\n",
       "      <td>0.250000</td>\n",
       "    </tr>\n",
       "    <tr>\n",
       "      <th>12B91A5CD3D72CC321BD51931937D318555A182D</th>\n",
       "      <td>3</td>\n",
       "      <td>3.0</td>\n",
       "      <td>1.000000</td>\n",
       "    </tr>\n",
       "    <tr>\n",
       "      <th>94C9774BC9DA86A75FADDCCF026714CA11352DA5</th>\n",
       "      <td>3</td>\n",
       "      <td>3.0</td>\n",
       "      <td>1.000000</td>\n",
       "    </tr>\n",
       "    <tr>\n",
       "      <th>030261EE682280189ADE9A056051855C5537480B</th>\n",
       "      <td>2</td>\n",
       "      <td>2.0</td>\n",
       "      <td>1.000000</td>\n",
       "    </tr>\n",
       "    <tr>\n",
       "      <th>958EF8E3A0DA342408E3E088B0476D4FB2AD20F1</th>\n",
       "      <td>2</td>\n",
       "      <td>2.0</td>\n",
       "      <td>1.000000</td>\n",
       "    </tr>\n",
       "    <tr>\n",
       "      <th>89B7E5B47DB065541B4B743EDCD5A78FD5E57B0D</th>\n",
       "      <td>2</td>\n",
       "      <td>1.0</td>\n",
       "      <td>0.500000</td>\n",
       "    </tr>\n",
       "    <tr>\n",
       "      <th>01CBB7EE38BAA2DD311BE5731F6E048E3CE4010E</th>\n",
       "      <td>1</td>\n",
       "      <td>1.0</td>\n",
       "      <td>1.000000</td>\n",
       "    </tr>\n",
       "  </tbody>\n",
       "</table>\n",
       "</div>"
      ],
      "text/plain": [
       "                                           N  correct     score\n",
       "ThumbPrint                                                     \n",
       "672C7E09D7971FEFF924CB9BB9DF501B068699D2  26     19.0  0.730769\n",
       "61ED377E85D386A8DFEE6B864BD85B0BFAA5AF81  23     15.0  0.652174\n",
       "F0CA270347F8E2D6D21F4F249BB6FA82AB6F83E3  11      6.0  0.545455\n",
       "EF6437B4BA486551FBCC4FCB2FB126BB4B911BAB   4      1.0  0.250000\n",
       "12B91A5CD3D72CC321BD51931937D318555A182D   3      3.0  1.000000\n",
       "94C9774BC9DA86A75FADDCCF026714CA11352DA5   3      3.0  1.000000\n",
       "030261EE682280189ADE9A056051855C5537480B   2      2.0  1.000000\n",
       "958EF8E3A0DA342408E3E088B0476D4FB2AD20F1   2      2.0  1.000000\n",
       "89B7E5B47DB065541B4B743EDCD5A78FD5E57B0D   2      1.0  0.500000\n",
       "01CBB7EE38BAA2DD311BE5731F6E048E3CE4010E   1      1.0  1.000000"
      ]
     },
     "execution_count": 41,
     "metadata": {},
     "output_type": "execute_result"
    }
   ],
   "source": [
    "# scores of top 10 authors\n",
    "X_test['correct'] = X_test['label'] == X_test['y_pred_with_sensor']\n",
    "summ = X_test[X_test['label']==0].groupby('ThumbPrint').agg(N=('SHA256','count'),\n",
    "                                                      correct=('correct','sum'))\\\n",
    ".sort_values(['N','correct'], ascending=False).iloc[:10,:]\n",
    "summ['score'] = summ['correct']/summ['N']\n",
    "summ"
   ]
  },
  {
   "cell_type": "code",
   "execution_count": 43,
   "metadata": {},
   "outputs": [
    {
     "data": {
      "text/html": [
       "<div>\n",
       "<style scoped>\n",
       "    .dataframe tbody tr th:only-of-type {\n",
       "        vertical-align: middle;\n",
       "    }\n",
       "\n",
       "    .dataframe tbody tr th {\n",
       "        vertical-align: top;\n",
       "    }\n",
       "\n",
       "    .dataframe thead th {\n",
       "        text-align: right;\n",
       "    }\n",
       "</style>\n",
       "<table border=\"1\" class=\"dataframe\">\n",
       "  <thead>\n",
       "    <tr style=\"text-align: right;\">\n",
       "      <th></th>\n",
       "      <th>N</th>\n",
       "      <th>correct2</th>\n",
       "      <th>score</th>\n",
       "    </tr>\n",
       "    <tr>\n",
       "      <th>ThumbPrint</th>\n",
       "      <th></th>\n",
       "      <th></th>\n",
       "      <th></th>\n",
       "    </tr>\n",
       "  </thead>\n",
       "  <tbody>\n",
       "    <tr>\n",
       "      <th>672C7E09D7971FEFF924CB9BB9DF501B068699D2</th>\n",
       "      <td>26</td>\n",
       "      <td>18.0</td>\n",
       "      <td>0.692308</td>\n",
       "    </tr>\n",
       "    <tr>\n",
       "      <th>61ED377E85D386A8DFEE6B864BD85B0BFAA5AF81</th>\n",
       "      <td>23</td>\n",
       "      <td>11.0</td>\n",
       "      <td>0.478261</td>\n",
       "    </tr>\n",
       "    <tr>\n",
       "      <th>F0CA270347F8E2D6D21F4F249BB6FA82AB6F83E3</th>\n",
       "      <td>11</td>\n",
       "      <td>7.0</td>\n",
       "      <td>0.636364</td>\n",
       "    </tr>\n",
       "    <tr>\n",
       "      <th>EF6437B4BA486551FBCC4FCB2FB126BB4B911BAB</th>\n",
       "      <td>4</td>\n",
       "      <td>1.0</td>\n",
       "      <td>0.250000</td>\n",
       "    </tr>\n",
       "    <tr>\n",
       "      <th>12B91A5CD3D72CC321BD51931937D318555A182D</th>\n",
       "      <td>3</td>\n",
       "      <td>3.0</td>\n",
       "      <td>1.000000</td>\n",
       "    </tr>\n",
       "    <tr>\n",
       "      <th>94C9774BC9DA86A75FADDCCF026714CA11352DA5</th>\n",
       "      <td>3</td>\n",
       "      <td>3.0</td>\n",
       "      <td>1.000000</td>\n",
       "    </tr>\n",
       "    <tr>\n",
       "      <th>030261EE682280189ADE9A056051855C5537480B</th>\n",
       "      <td>2</td>\n",
       "      <td>2.0</td>\n",
       "      <td>1.000000</td>\n",
       "    </tr>\n",
       "    <tr>\n",
       "      <th>958EF8E3A0DA342408E3E088B0476D4FB2AD20F1</th>\n",
       "      <td>2</td>\n",
       "      <td>2.0</td>\n",
       "      <td>1.000000</td>\n",
       "    </tr>\n",
       "    <tr>\n",
       "      <th>89B7E5B47DB065541B4B743EDCD5A78FD5E57B0D</th>\n",
       "      <td>2</td>\n",
       "      <td>0.0</td>\n",
       "      <td>0.000000</td>\n",
       "    </tr>\n",
       "    <tr>\n",
       "      <th>01CBB7EE38BAA2DD311BE5731F6E048E3CE4010E</th>\n",
       "      <td>1</td>\n",
       "      <td>1.0</td>\n",
       "      <td>1.000000</td>\n",
       "    </tr>\n",
       "  </tbody>\n",
       "</table>\n",
       "</div>"
      ],
      "text/plain": [
       "                                           N  correct2     score\n",
       "ThumbPrint                                                      \n",
       "672C7E09D7971FEFF924CB9BB9DF501B068699D2  26      18.0  0.692308\n",
       "61ED377E85D386A8DFEE6B864BD85B0BFAA5AF81  23      11.0  0.478261\n",
       "F0CA270347F8E2D6D21F4F249BB6FA82AB6F83E3  11       7.0  0.636364\n",
       "EF6437B4BA486551FBCC4FCB2FB126BB4B911BAB   4       1.0  0.250000\n",
       "12B91A5CD3D72CC321BD51931937D318555A182D   3       3.0  1.000000\n",
       "94C9774BC9DA86A75FADDCCF026714CA11352DA5   3       3.0  1.000000\n",
       "030261EE682280189ADE9A056051855C5537480B   2       2.0  1.000000\n",
       "958EF8E3A0DA342408E3E088B0476D4FB2AD20F1   2       2.0  1.000000\n",
       "89B7E5B47DB065541B4B743EDCD5A78FD5E57B0D   2       0.0  0.000000\n",
       "01CBB7EE38BAA2DD311BE5731F6E048E3CE4010E   1       1.0  1.000000"
      ]
     },
     "execution_count": 43,
     "metadata": {},
     "output_type": "execute_result"
    }
   ],
   "source": [
    "# scores of top 10 authors\n",
    "X_test['correct2'] = X_test['label'] == X_test['y_pred_wo_sensor']\n",
    "summ = X_test[X_test['label']==0].groupby('ThumbPrint').agg(N=('SHA256','count'),\n",
    "                                                      correct2=('correct2','sum'))\\\n",
    ".sort_values(['N','correct2'], ascending=False).iloc[:10,:]\n",
    "summ['score'] = summ['correct2']/summ['N']\n",
    "summ"
   ]
  },
  {
   "cell_type": "markdown",
   "metadata": {},
   "source": [
    "### Paired apps v.s. non-paired apps"
   ]
  },
  {
   "cell_type": "code",
   "execution_count": 44,
   "metadata": {},
   "outputs": [
    {
     "data": {
      "text/plain": [
       "(3797, 2)"
      ]
     },
     "execution_count": 44,
     "metadata": {},
     "output_type": "execute_result"
    }
   ],
   "source": [
    "# obtain pairs where both the original and repackaged apps are in the benign/malware dataset\n",
    "sample_pairs = pairs[(pairs['SHA256_ORIGINAL'].isin(data['SHA256']))&\n",
    "                     (pairs['SHA256_REPACKAGE'].isin(data['SHA256']))]\n",
    "sample_pairs.shape"
   ]
  },
  {
   "cell_type": "code",
   "execution_count": 45,
   "metadata": {},
   "outputs": [
    {
     "data": {
      "text/plain": [
       "(916, 359)"
      ]
     },
     "execution_count": 45,
     "metadata": {},
     "output_type": "execute_result"
    }
   ],
   "source": [
    "# apps whose original/repackaged counterpart is in the data\n",
    "s1 = X_test[(X_test['SHA256'].isin(sample_pairs['SHA256_ORIGINAL']))|\n",
    "           (X_test['SHA256'].isin(sample_pairs['SHA256_REPACKAGE']))]\n",
    "s1.shape"
   ]
  },
  {
   "cell_type": "code",
   "execution_count": 46,
   "metadata": {},
   "outputs": [
    {
     "data": {
      "text/plain": [
       "(1275, 359)"
      ]
     },
     "execution_count": 46,
     "metadata": {},
     "output_type": "execute_result"
    }
   ],
   "source": [
    "# apps whose original/repackaged counterpart is not in the data:\n",
    "s2 = X_test[(~X_test['SHA256'].isin(sample_pairs['SHA256_ORIGINAL']))&\n",
    "           (~X_test['SHA256'].isin(sample_pairs['SHA256_REPACKAGE']))]\n",
    "s2.shape"
   ]
  },
  {
   "cell_type": "code",
   "execution_count": 47,
   "metadata": {},
   "outputs": [
    {
     "name": "stdout",
     "output_type": "stream",
     "text": [
      "Including sensor features:\n",
      "Overall accuracy: 0.8461889548151529\n",
      "Accuracy for apps whose original/repackaged counterpart is in the data: 0.7085152838427947\n",
      "Accuracy for apps whose original/repackaged counterpart is not in the data: 0.9450980392156862\n"
     ]
    }
   ],
   "source": [
    "print(\"Including sensor features:\")\n",
    "print(\"Overall accuracy:\", X_test['correct'].mean())\n",
    "print(\"Accuracy for apps whose original/repackaged counterpart is in the data:\",\n",
    "     s1['correct'].mean())\n",
    "print(\"Accuracy for apps whose original/repackaged counterpart is not in the data:\",\n",
    "     s2['correct'].mean())"
   ]
  },
  {
   "cell_type": "code",
   "execution_count": 48,
   "metadata": {},
   "outputs": [
    {
     "name": "stdout",
     "output_type": "stream",
     "text": [
      "Excluding sensor features:\n",
      "Overall accuracy: 0.863076220903697\n",
      "Accuracy for apps whose original/repackaged counterpart is in the data: 0.7358078602620087\n",
      "Accuracy for apps whose original/repackaged counterpart is not in the data: 0.9545098039215686\n"
     ]
    }
   ],
   "source": [
    "print(\"Excluding sensor features:\")\n",
    "print(\"Overall accuracy:\", X_test['correct2'].mean())\n",
    "print(\"Accuracy for apps whose original/repackaged counterpart is in the data:\",\n",
    "     s1['correct2'].mean())\n",
    "print(\"Accuracy for apps whose original/repackaged counterpart is not in the data:\",\n",
    "     s2['correct2'].mean())"
   ]
  },
  {
   "cell_type": "markdown",
   "metadata": {},
   "source": [
    "#### Test on repackaged benign dataset"
   ]
  },
  {
   "cell_type": "code",
   "execution_count": 58,
   "metadata": {},
   "outputs": [],
   "source": [
    "benign_repack = pd.read_csv(\"Test_Dataset.csv\")\n",
    "benign_repack_y = pd.read_csv(\"Labels_Test.csv\")"
   ]
  },
  {
   "cell_type": "code",
   "execution_count": 64,
   "metadata": {},
   "outputs": [],
   "source": [
    "features = X_train.columns.to_list()\n",
    "benign_repack = benign_repack[features]\n",
    "\n",
    "features2 = X_train_wo_sensor.columns.to_list()\n",
    "benign_repack2 = benign_repack[features2]"
   ]
  },
  {
   "cell_type": "code",
   "execution_count": 66,
   "metadata": {},
   "outputs": [],
   "source": [
    "# make prediction\n",
    "y_pred_with_sensor = grid_with_sensor.predict(benign_repack)\n",
    "y_pred_wo_sensor = grid_wo_sensor.predict(benign_repack2)"
   ]
  },
  {
   "cell_type": "code",
   "execution_count": 67,
   "metadata": {},
   "outputs": [
    {
     "name": "stdout",
     "output_type": "stream",
     "text": [
      "Test score with sensors: 0.971\n",
      "Test score without sensors: 0.967\n"
     ]
    },
    {
     "name": "stderr",
     "output_type": "stream",
     "text": [
      "/Users/duanyueyun/miniconda3/lib/python3.7/site-packages/sklearn/metrics/_classification.py:1814: UserWarning: y_pred contains classes not in y_true\n",
      "  warnings.warn('y_pred contains classes not in y_true')\n"
     ]
    }
   ],
   "source": [
    "print(\"Test score with sensors:\",  round(balanced_accuracy_score(benign_repack_y, y_pred_with_sensor),3))\n",
    "print(\"Test score without sensors:\", round(balanced_accuracy_score(benign_repack_y, y_pred_wo_sensor),3))"
   ]
  },
  {
   "cell_type": "markdown",
   "metadata": {},
   "source": [
    "#### Test on covid repackaged malware dataset"
   ]
  },
  {
   "cell_type": "code",
   "execution_count": 69,
   "metadata": {},
   "outputs": [
    {
     "data": {
      "text/plain": [
       "(14, 843)"
      ]
     },
     "execution_count": 69,
     "metadata": {},
     "output_type": "execute_result"
    }
   ],
   "source": [
    "covid = pd.read_csv(\"DataSet_COVID_Repackaged_Malware.csv\")\n",
    "covid.shape"
   ]
  },
  {
   "cell_type": "code",
   "execution_count": 73,
   "metadata": {},
   "outputs": [],
   "source": [
    "covid_test = covid[features2]"
   ]
  },
  {
   "cell_type": "code",
   "execution_count": 75,
   "metadata": {},
   "outputs": [],
   "source": [
    "y_pred_wo_sensor = grid_wo_sensor.predict(covid_test)"
   ]
  },
  {
   "cell_type": "code",
   "execution_count": 77,
   "metadata": {},
   "outputs": [],
   "source": [
    "covid_label = np.array([1]*14)"
   ]
  },
  {
   "cell_type": "code",
   "execution_count": 80,
   "metadata": {},
   "outputs": [
    {
     "name": "stdout",
     "output_type": "stream",
     "text": [
      "Number of malware in the dataset: 14\n",
      "Number of malware identified: 3\n"
     ]
    }
   ],
   "source": [
    "print(\"Number of malware in the dataset:\", covid.shape[0])\n",
    "print(\"Number of malware identified:\", sum(y_pred_wo_sensor))"
   ]
  }
 ],
 "metadata": {
  "kernelspec": {
   "display_name": "Python 3",
   "language": "python",
   "name": "python3"
  },
  "language_info": {
   "codemirror_mode": {
    "name": "ipython",
    "version": 3
   },
   "file_extension": ".py",
   "mimetype": "text/x-python",
   "name": "python",
   "nbconvert_exporter": "python",
   "pygments_lexer": "ipython3",
   "version": "3.7.6"
  }
 },
 "nbformat": 4,
 "nbformat_minor": 4
}
