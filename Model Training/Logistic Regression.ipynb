{
 "cells": [
  {
   "cell_type": "code",
   "execution_count": 1,
   "metadata": {},
   "outputs": [],
   "source": [
    "import pandas as pd\n",
    "import numpy as np\n",
    "import matplotlib.pyplot as plt\n",
    "\n",
    "from sklearn.compose import ColumnTransformer, TransformedTargetRegressor\n",
    "from sklearn.compose import make_column_transformer, make_column_selector\n",
    "from sklearn.preprocessing import OneHotEncoder, StandardScaler, PolynomialFeatures\n",
    "from sklearn.pipeline import Pipeline, make_pipeline\n",
    "from sklearn.impute import SimpleImputer\n",
    "from sklearn.linear_model import LogisticRegression\n",
    "from sklearn.model_selection import train_test_split, cross_val_score, GridSearchCV\n",
    "from sklearn.ensemble import RandomForestRegressor\n",
    "from sklearn.feature_selection import SelectFromModel, SelectKBest, f_classif, chi2\n",
    "from category_encoders.target_encoder import TargetEncoder, OrdinalEncoder\n",
    "from sklearn import tree\n",
    "from sklearn.metrics import precision_recall_curve, roc_curve, roc_auc_score, \n",
    "from sklearn.metrics import balanced_accuracy_score, confusion_matrix\n",
    "\n",
    "from sklearn.utils import class_weight"
   ]
  },
  {
   "cell_type": "code",
   "execution_count": 2,
   "metadata": {},
   "outputs": [],
   "source": [
    "X = pd.read_csv('Training_Dataset.csv')"
   ]
  },
  {
   "cell_type": "code",
   "execution_count": 3,
   "metadata": {},
   "outputs": [],
   "source": [
    "y = pd.read_csv('Labels.csv')"
   ]
  },
  {
   "cell_type": "code",
   "execution_count": 4,
   "metadata": {},
   "outputs": [],
   "source": [
    "# Delete useless features told by Shirish\n",
    "X.drop(['Package_Name', 'SHA256', 'ThumbPrint', 'Application_Category', \n",
    "        'Family_Name', 'Malware_Category', 'Malware/Benign', 'label'], axis = 1, inplace = True)"
   ]
  },
  {
   "cell_type": "markdown",
   "metadata": {},
   "source": [
    "## Feature Exploration"
   ]
  },
  {
   "cell_type": "markdown",
   "metadata": {},
   "source": [
    "#### Find the one-hot features having missing values"
   ]
  },
  {
   "cell_type": "code",
   "execution_count": 5,
   "metadata": {},
   "outputs": [
    {
     "data": {
      "text/plain": [
       "sdkVersion          0.0\n",
       "targetSdkVersion    0.0\n",
       "Name: count, dtype: float64"
      ]
     },
     "execution_count": 5,
     "metadata": {},
     "output_type": "execute_result"
    }
   ],
   "source": [
    "X.describe().loc['count'][X.describe().loc['count'] < 10954]"
   ]
  },
  {
   "cell_type": "code",
   "execution_count": 6,
   "metadata": {},
   "outputs": [],
   "source": [
    "# Delete these useless features (100% missing values)\n",
    "X = X.drop(['sdkVersion', 'targetSdkVersion'], axis = 1)"
   ]
  },
  {
   "cell_type": "code",
   "execution_count": 7,
   "metadata": {},
   "outputs": [
    {
     "data": {
      "text/plain": [
       "Series([], Name: count, dtype: float64)"
      ]
     },
     "execution_count": 7,
     "metadata": {},
     "output_type": "execute_result"
    }
   ],
   "source": [
    "# Check if there's no onehot feature has missing values\n",
    "X.describe().loc['count'][X.describe().loc['count'] < 10954]"
   ]
  },
  {
   "cell_type": "markdown",
   "metadata": {},
   "source": [
    "**There's no one-hot features having missing values**"
   ]
  },
  {
   "cell_type": "markdown",
   "metadata": {},
   "source": [
    "#### Remove features with 0 variance"
   ]
  },
  {
   "cell_type": "code",
   "execution_count": 8,
   "metadata": {
    "scrolled": true
   },
   "outputs": [
    {
     "data": {
      "text/plain": [
       "['Permission: REQUEST_DELETE_PACKAGES',\n",
       " 'Permission: BIND_MIDI_DEVICE_SERVICE',\n",
       " 'Permission: BIND_TV_INPUT',\n",
       " 'Permission: com.android.voicemail.permission.ADD_VOICEMAIL',\n",
       " 'Permission: com.android.launcher.permission.UNINSTALL_SHORTCUT',\n",
       " 'Permission: READ_PHONE_NUMBERS',\n",
       " 'Permission: GET_ACCOUNTS_PRIVILEGED',\n",
       " 'Permission: REQUEST_COMPANION_RUN_IN_BACKGROUND',\n",
       " 'Permission: ANSWER_PHONE_CALLS',\n",
       " 'Permission: BIND_CARRIER_SERVICES',\n",
       " 'Permission: REQUEST_IGNORE_BATTERY_OPTIMIZATIONS',\n",
       " 'Permission: ACCESS_NOTIFICATION_POLICY',\n",
       " 'Permission: com.android.voicemail.permission.READ_VOICEMAIL',\n",
       " 'Permission: BODY_SENSORS',\n",
       " 'Permission: BIND_SCREENING_SERVICE',\n",
       " 'Permission: REQUEST_COMPANION_USE_DATA_IN_BACKGROUND',\n",
       " 'Permission: BIND_TELECOM_CONNECTION_SERVICE',\n",
       " 'Permission: BIND_VOICE_INTERACTION',\n",
       " 'Permission: BIND_CHOOSER_TARGET_SERVICE',\n",
       " 'Permission: com.android.launcher.permission.INSTALL_SHORTCUT',\n",
       " 'Permission: BIND_AUTOFILL_SERVICE',\n",
       " 'Permission: USE_FINGERPRINT',\n",
       " 'Permission: com.android.voicemail.permission.WRITE_VOICEMAIL',\n",
       " 'Permission: BIND_VISUAL_VOICEMAIL_SERVICE',\n",
       " 'Permission: com.android.alarm.permission.SET_ALARM',\n",
       " 'Permission: BIND_CONDITION_PROVIDER_SERVICE',\n",
       " 'Permission: REQUEST_INSTALL_PACKAGES',\n",
       " 'Permission: BIND_CARRIER_MESSAGING_SERVICE',\n",
       " 'Permission: MANAGE_OWN_CALLS',\n",
       " 'Permission: BIND_INCALL_SERVICE',\n",
       " 'Permission: BIND_DREAM_SERVICE',\n",
       " 'Permission: INSTANT_APP_FOREGROUND_SERVICE',\n",
       " 'Permission: PACKAGE_USAGE_STATS',\n",
       " 'Permission: BIND_VR_LISTENER_SERVICE',\n",
       " 'Permission: BIND_QUICK_SETTINGS_TILE',\n",
       " 'Hardware/Software: hardware.camera2.autofocus',\n",
       " 'Hardware/Software: hardware.camera.level.full',\n",
       " 'Hardware/Software: hardware.type.automotive',\n",
       " 'Hardware/Software: hardware.nfc.hce',\n",
       " 'Hardware/Software: software.print',\n",
       " 'Hardware/Software: software.verified_boot',\n",
       " 'Hardware/Software: hardware.sensor.light',\n",
       " 'Hardware/Software: software.leanback',\n",
       " 'Hardware/Software: hardware.gamepad',\n",
       " 'Hardware/Software: hardware.opengles.aep',\n",
       " 'Hardware/Software: software.sip',\n",
       " 'Hardware/Software: hardware.sensor.barometer',\n",
       " 'Hardware/Software: software.live_tv',\n",
       " 'Hardware/Software: hardware.type.television',\n",
       " 'Hardware/Software: software.device_admin',\n",
       " 'Hardware/Software: software.sip.voip',\n",
       " 'Hardware/Software: hardware.sensor.stepdetector',\n",
       " 'Hardware/Software: software.app_widgets',\n",
       " 'Hardware/Software: hardware.camera2.full',\n",
       " 'Hardware/Software: hardware.consumerir',\n",
       " 'Hardware/Software: hardware.type.watch',\n",
       " 'Hardware/Software: hardware.audio.low_latency',\n",
       " 'Hardware/Software: software.midi',\n",
       " 'Hardware/Software: hardware.camera.external',\n",
       " 'Hardware/Software: hardware.camera.capability.raw',\n",
       " 'Hardware/Software: hardware.sensor.stepcounter',\n",
       " 'Hardware/Software: hardware.sensor.heartrate.ecg',\n",
       " 'Hardware/Software: hardware.camera.capability.manual_sensor',\n",
       " 'Hardware/Software: hardware.sensor.heartrate',\n",
       " 'Hardware/Software: hardware.audio.output',\n",
       " 'Hardware/Software: hardware.camera.capability.manual_post_processing',\n",
       " 'Hardware/Software: hardware.wifi.direct',\n",
       " 'Hardware/Software: software.managed_users',\n",
       " 'Hardware/Software: hardware.sensor.hifi_sensors',\n",
       " 'Hardware/Software: software.home_screen',\n",
       " 'Hardware/Software: software.securely_removes_users',\n",
       " 'Hardware/Software: hardware.audio.pro',\n",
       " 'Hardware/Software: hardware.sensor.ambient_temperature',\n",
       " 'Hardware/Software: software.backup',\n",
       " 'Hardware/Software: hardware.fingerprint',\n",
       " 'Hardware/Software: software.webview',\n",
       " 'Hardware/Software: hardware.sensor.relative_humidity',\n",
       " 'Hardware/Software: hardware.camera2.flash',\n",
       " 'Hardware/Software: hardware.camera2',\n",
       " 'Hardware/Software: software.input_methods',\n",
       " 'Intent: extra.changed_component_name',\n",
       " 'Intent: action.UMS_CONNECTED',\n",
       " 'Intent: extra.PACKAGE_NAME',\n",
       " 'Intent: extra.CC',\n",
       " 'Intent: action.PACKAGE_FIRST_LAUNCH',\n",
       " 'Intent: category.CAR_MODE',\n",
       " 'Intent: action.MEDIA_CHECKING',\n",
       " 'Intent: action.UMS_DISCONNECTED',\n",
       " 'Intent: extra.ORIGINATING_URI',\n",
       " 'Intent: action.MANAGE_PACKAGE_STORAGE',\n",
       " 'Intent: extra.PROCESS_TEXT_READONLY',\n",
       " 'Intent: action.REBOOT',\n",
       " 'Intent: category.APP_CALCULATOR',\n",
       " 'Intent: action.GTALK_DISCONNECTED',\n",
       " 'Intent: action.MEDIA_REMOVED',\n",
       " 'Intent: category.OPENABLE',\n",
       " 'Intent: action.OPEN_DOCUMENT',\n",
       " 'Intent: action.APPLICATION_RESTRICTIONS_CHANGED',\n",
       " 'Intent: extra.COMPONENT_NAME',\n",
       " 'Intent: extra.changed_uid_list',\n",
       " 'Intent: extra.STREAM',\n",
       " 'Intent: extra.changed_package_list',\n",
       " 'Intent: category.MONKEY',\n",
       " 'Intent: action.MEDIA_UNMOUNTABLE',\n",
       " 'Intent: category.CAR_DOCK',\n",
       " 'Intent: action.ASSIST',\n",
       " 'Intent: action.USER_UNLOCKED',\n",
       " 'Intent: extra.KEY_EVENT',\n",
       " 'Intent: action.USER_INITIALIZE',\n",
       " 'Intent: extra.USER',\n",
       " 'Intent: extra.SUBJECT',\n",
       " 'Intent: category.FRAMEWORK_INSTRUMENTATION_TEST',\n",
       " 'Intent: category.DESK_DOCK',\n",
       " 'Intent: action.PACKAGE_DATA_CLEARED',\n",
       " 'Intent: extra.SHUTDOWN_USERSPACE_ONLY',\n",
       " 'Intent: extra.CHOSEN_COMPONENT',\n",
       " 'Intent: category.TYPED_OPENABLE',\n",
       " 'Intent: extra.ALTERNATE_INTENTS',\n",
       " 'Intent: category.APP_MARKET',\n",
       " 'Intent: category.UNIT_TEST',\n",
       " 'Intent: extra.DOCK_STATE',\n",
       " 'Intent: extra.REFERRER',\n",
       " 'Intent: action.CAMERA_BUTTON',\n",
       " 'Intent: category.BROWSABLE',\n",
       " 'Intent: extra.ASSIST_PACKAGE',\n",
       " 'Intent: extra.ALARM_COUNT',\n",
       " 'Intent: action.PACKAGE_RESTARTED',\n",
       " 'Intent: action.SEARCH_LONG_PRESS',\n",
       " 'Intent: extra.REFERRER_NAME',\n",
       " 'Intent: action.MEDIA_EJECT',\n",
       " 'Intent: extra.restrictions_bundle',\n",
       " 'Intent: extra.shortcut.ICON',\n",
       " 'Intent: action.VOICE_COMMAND',\n",
       " 'Intent: action.MANAGED_PROFILE_ADDED',\n",
       " 'Intent: action.PACKAGES_SUSPENDED',\n",
       " 'Intent: extra.INSTALLER_PACKAGE_NAME',\n",
       " 'Intent: action.EXTERNAL_APPLICATIONS_UNAVAILABLE',\n",
       " 'Intent: extra.CHOOSER_REFINEMENT_INTENT_SENDER',\n",
       " 'Intent: extra.PHONE_NUMBER',\n",
       " 'Intent: extra.ASSIST_INPUT_HINT_KEYBOARD',\n",
       " 'Intent: action.LOCKED_BOOT_COMPLETED',\n",
       " 'Intent: action.USER_FOREGROUND',\n",
       " 'Intent: action.BUG_REPORT',\n",
       " 'Intent: action.MANAGED_PROFILE_AVAILABLE',\n",
       " 'Intent: extra.DONT_KILL_APP',\n",
       " 'Intent: extra.CONTENT_ANNOTATIONS',\n",
       " 'Intent: action.APPLICATION_PREFERENCES',\n",
       " 'Intent: action.QUICK_VIEW',\n",
       " 'Intent: action.INSTALL_FAILURE',\n",
       " 'Intent: action.PACKAGE_FULLY_REMOVED',\n",
       " 'Intent: category.ALTERNATIVE',\n",
       " 'Intent: extra.INDEX',\n",
       " 'Intent: extra.CHOOSER_TARGETS',\n",
       " 'Intent: extra.ASSIST_INPUT_DEVICE_ID',\n",
       " 'Intent: category.DEFAULT',\n",
       " 'Intent: extra.RETURN_RESULT',\n",
       " 'Intent: extra.BUG_REPORT',\n",
       " 'Intent: action.SYSTEM_TUTORIAL',\n",
       " 'Intent: category.LE_DESK_DOCK',\n",
       " 'Intent: action.ANSWER',\n",
       " 'Intent: action.GTALK_CONNECTED',\n",
       " 'Intent: extra.ASSIST_CONTEXT',\n",
       " 'Intent: action.MANAGED_PROFILE_UNAVAILABLE',\n",
       " 'Intent: extra.REPLACEMENT_EXTRAS',\n",
       " 'Intent: extra.INTENT',\n",
       " 'Intent: category.EMBED',\n",
       " 'Intent: action.PROCESS_TEXT',\n",
       " 'Intent: extra.shortcut.INTENT',\n",
       " 'Intent: extra.NOT_UNKNOWN_SOURCE',\n",
       " 'Intent: extra.CHOSEN_COMPONENT_INTENT_SENDER',\n",
       " 'Intent: category.HOME',\n",
       " 'Intent: extra.changed_component_name_list',\n",
       " 'Intent: category.PREFERENCE',\n",
       " 'Intent: category.LAUNCHER',\n",
       " 'Intent: action.SHOW_APP_INFO',\n",
       " 'Intent: action.MANAGE_NETWORK_USAGE',\n",
       " 'Intent: category.APP_CALENDAR',\n",
       " 'Intent: extra.RESULT_RECEIVER',\n",
       " 'Intent: action.MY_PACKAGE_REPLACED',\n",
       " 'Intent: extra.shortcut.NAME',\n",
       " 'Intent: category.APP_EMAIL',\n",
       " 'Intent: extra.TITLE',\n",
       " 'Intent: action.FACTORY_TEST',\n",
       " 'Intent: category.APP_MAPS',\n",
       " 'Intent: extra.MIME_TYPES',\n",
       " 'Intent: extra.FROM_STORAGE',\n",
       " 'Intent: action.GET_RESTRICTION_ENTRIES',\n",
       " 'Intent: extra.remote_intent_token',\n",
       " 'Intent: category.APP_BROWSER',\n",
       " 'Intent: extra.DATA_REMOVED',\n",
       " 'Intent: category.TAB',\n",
       " 'Intent: action.MEDIA_NOFS',\n",
       " 'Intent: action.MANAGED_PROFILE_UNLOCKED',\n",
       " 'Intent: extra.restrictions_intent',\n",
       " 'Intent: category.APP_CONTACTS',\n",
       " 'Intent: action.MEDIA_BAD_REMOVAL',\n",
       " 'Intent: action.ALL_APPS',\n",
       " 'Intent: action.EXTERNAL_APPLICATIONS_AVAILABLE',\n",
       " 'Intent: category.LEANBACK_LAUNCHER',\n",
       " 'Intent: action.PACKAGES_UNSUSPENDED',\n",
       " 'Intent: action.CARRIER_SETUP',\n",
       " 'Intent: action.PACKAGE_CHANGED',\n",
       " 'Intent: category.SELECTED_ALTERNATIVE',\n",
       " 'Intent: category.TEST',\n",
       " 'Intent: extra.PROCESS_TEXT',\n",
       " 'Intent: action.PACKAGE_VERIFIED',\n",
       " 'Intent: extra.REPLACING',\n",
       " 'Intent: action.QUICK_CLOCK',\n",
       " 'Intent: extra.TEMPLATE',\n",
       " 'Intent: category.APP_GALLERY',\n",
       " 'Intent: action.NEW_OUTGOING_CALL',\n",
       " 'Intent: action.MEDIA_UNMOUNTED',\n",
       " 'Intent: action.INSTALL_PACKAGE',\n",
       " 'Intent: action.CREATE_DOCUMENT',\n",
       " 'Intent: category.VOICE',\n",
       " 'Intent: extra.ALLOW_MULTIPLE',\n",
       " 'Intent: extra.EXCLUDE_COMPONENTS',\n",
       " 'Intent: extra.ASSIST_UID',\n",
       " 'Intent: action.SYNC',\n",
       " 'Intent: category.DEVELOPMENT_PREFERENCE',\n",
       " 'Intent: action.USER_BACKGROUND',\n",
       " 'Intent: category.INFO',\n",
       " 'Intent: extra.shortcut.ICON_RESOURCE',\n",
       " 'Intent: extra.QUIET_MODE',\n",
       " 'Intent: extra.SPLIT_NAME',\n",
       " 'Intent: extra.LOCAL_ONLY',\n",
       " 'Intent: action.PROVIDER_CHANGED',\n",
       " 'Intent: extra.restrictions_list',\n",
       " 'Intent: category.VR_HOME',\n",
       " 'Intent: extra.QUICK_VIEW_FEATURES',\n",
       " 'Intent: category.SAMPLE_CODE',\n",
       " 'Intent: action.UID_REMOVED',\n",
       " 'Intent: extra.UID',\n",
       " 'Intent: action.DREAMING_STOPPED',\n",
       " 'Intent: category.HE_DESK_DOCK',\n",
       " 'Intent: extra.ALLOW_REPLACE',\n",
       " 'Intent: action.PASTE',\n",
       " 'Intent: action.BATTERY_OKAY',\n",
       " 'Intent: action.PACKAGE_NEEDS_VERIFICATION',\n",
       " 'Intent: action.OPEN_DOCUMENT_TREE',\n",
       " 'Intent: category.APP_MUSIC',\n",
       " 'Intent: category.APP_MESSAGING',\n",
       " 'Intent: action.MANAGED_PROFILE_REMOVED',\n",
       " 'Package: com.google.firebase.perf',\n",
       " 'Package: android.content.res',\n",
       " 'Package: android.accessibilityservice',\n",
       " 'Package: javax.microedition.khronos.opengles',\n",
       " 'Package: android.view.textservice',\n",
       " 'Package: org.xml.sax',\n",
       " 'Package: android.hardware.usb',\n",
       " 'Package: com.google.android.gms.awareness.state',\n",
       " 'Package: android.app.usage',\n",
       " 'Package: android.speech',\n",
       " 'Package: com.google.android.gms.fitness.result',\n",
       " 'Package: java.util.concurrent.locks',\n",
       " 'Package: java.nio',\n",
       " 'Package: com.google.firebase.ml.vision.cloud.label',\n",
       " 'Package: com.google.android.gms.iid',\n",
       " 'Package: javax.crypto.spec',\n",
       " 'Package: java.nio.file',\n",
       " 'Package: android.accounts',\n",
       " 'Package: android.graphics',\n",
       " 'Package: android.service.dreams',\n",
       " 'Package: java.io',\n",
       " 'Package: java.lang.reflect',\n",
       " 'Package: com.google.android.gms.measurement',\n",
       " 'Package: android.service.vr',\n",
       " 'Package: android.app.job',\n",
       " 'Package: java.time.temporal',\n",
       " 'Package: android.graphics.fonts',\n",
       " 'Package: javax.security.auth.callback',\n",
       " 'Package: com.google.android.gms.fido',\n",
       " 'Package: com.google.android.gms.auth.api',\n",
       " 'Package: javax.crypto.interfaces',\n",
       " 'Package: org.xml.sax.ext',\n",
       " 'Package: android.speech.tts',\n",
       " 'Package: android.net.wifi.p2p.nsd',\n",
       " 'Package: android.hardware.camera2.params',\n",
       " 'Package: android.gesture',\n",
       " 'Package: android.telecom',\n",
       " 'Package: android.net.wifi.aware',\n",
       " 'Package: com.google.android.gms.nearby.connection',\n",
       " 'Package: android.preference',\n",
       " 'Package: android.media.midi',\n",
       " 'Package: android.media.audiofx',\n",
       " 'Package: java.lang.annotation',\n",
       " 'Package: android.security.keystore',\n",
       " 'Package: com.android.test.runner',\n",
       " 'Package: com.google.android.gms.instantapps',\n",
       " 'Package: javax.xml.transform.dom',\n",
       " 'Package: javax.security.auth',\n",
       " 'Package: java.net',\n",
       " 'Package: com.google.firebase.ml.vision.label',\n",
       " 'Package: com.google.firebase.ml.vision.cloud.landmark',\n",
       " 'Package: android.text.util',\n",
       " 'Package: org.w3c.dom',\n",
       " 'Package: android.hardware.fingerprint',\n",
       " 'Package: android.media.projection',\n",
       " 'Package: dalvik.bytecode',\n",
       " 'Package: com.google.firebase.appinvite',\n",
       " 'Package: android.net.wifi.hotspot2.pps',\n",
       " 'Package: com.google.firebase.ml.vision.text',\n",
       " 'Package: java.util.concurrent',\n",
       " 'Package: android.os.storage',\n",
       " 'Package: javax.xml.transform',\n",
       " 'Package: com.google.android.vending.verifier',\n",
       " 'Package: com.google.android.gms.fido.u2f',\n",
       " 'Package: android.print.pdf',\n",
       " 'Package: com.google.android.gms.fido.fido2.api.common',\n",
       " 'Package: com.google.firebase.remoteconfig',\n",
       " 'Package: java.beans',\n",
       " 'Package: com.google.android.gms.auth.api.accounttransfer',\n",
       " 'Package: android.graphics.drawable.shapes',\n",
       " 'Package: android.view.inputmethod',\n",
       " 'Package: android.content',\n",
       " 'Package: android.media.session',\n",
       " 'Package: com.google.android.gms.auth.account',\n",
       " 'Package: java.nio.file.spi',\n",
       " 'Package: android.service.textservice',\n",
       " 'Package: com.google.firebase.crash',\n",
       " 'Package: com.google.android.gms.fido.u2f.api.messagebased',\n",
       " 'Package: com.google.firebase.ml.vision.common',\n",
       " 'Package: com.google.android.gms.oss.licenses',\n",
       " 'Package: com.google.android.gms.auth.api.credentials',\n",
       " 'Package: com.google.firebase.ml.custom',\n",
       " 'Package: java.util.stream',\n",
       " 'Package: android.service.carrier',\n",
       " 'Package: com.google.android.gms.nearby.messages.audio',\n",
       " 'Package: java.time.zone',\n",
       " 'Package: com.google.android.gms.cast.framework.media.uicontroller',\n",
       " 'Package: java.nio.channels.spi',\n",
       " 'Package: com.google.firebase.firestore',\n",
       " 'Package: dalvik.annotation',\n",
       " 'Package: com.google.firebase.iid',\n",
       " 'Package: com.google.android.gms.tasks',\n",
       " 'Package: com.google.android.gms.awareness',\n",
       " 'Package: java.util',\n",
       " 'Package: android.location',\n",
       " 'Package: android.net.rtp',\n",
       " 'Package: java.text',\n",
       " 'Package: android.net.wifi.p2p',\n",
       " 'Package: javax.xml.validation',\n",
       " 'Package: javax.security.auth.x500',\n",
       " 'Package: android.view.accessibility',\n",
       " 'Package: java.util.concurrent.atomic',\n",
       " 'Package: javax.net.ssl',\n",
       " 'Package: com.google.firebase',\n",
       " 'Package: com.google.android.gms.vision.barcode',\n",
       " 'Package: com.google.android.gms.nearby.messages',\n",
       " 'Package: java.nio.channels',\n",
       " 'Package: android.database.sqlite',\n",
       " 'Package: java.nio.file.attribute',\n",
       " 'Package: android.hardware',\n",
       " 'Package: java.util.logging',\n",
       " 'Package: android.net.nsd',\n",
       " 'Package: com.google.android.gms.vision.face',\n",
       " 'Package: java.math',\n",
       " 'Package: com.google.firebase.auth',\n",
       " 'Package: android.service.wallpaper',\n",
       " 'Package: android.print',\n",
       " 'Package: java.sql',\n",
       " 'Package: android.mtp',\n",
       " 'Package: java.util.prefs',\n",
       " 'Package: javax.xml.datatype',\n",
       " 'Package: android.service.autofill',\n",
       " 'Package: android.test.suitebuilder.annotation',\n",
       " 'Package: com.google.firebase.database',\n",
       " 'Package: com.google.android.gms.ads.reward',\n",
       " 'Package: com.google.firebase.ml.vision.cloud.text',\n",
       " 'Package: android.view.autofill',\n",
       " 'Package: java.security.cert',\n",
       " 'Package: com.google.android.gms.ads.formats',\n",
       " 'Package: com.google.android.gms.fido.fido2',\n",
       " 'Package: android.inputmethodservice',\n",
       " 'Package: java.time.chrono',\n",
       " 'Package: com.google.android.gms.safetynet',\n",
       " 'Package: java.util.zip',\n",
       " 'Package: com.google.android.gms.fitness.service',\n",
       " 'Package: android.icu.util',\n",
       " 'Package: com.google.firebase.ml.vision.barcode',\n",
       " 'Package: android.database',\n",
       " 'Package: com.google.firebase.ml.vision',\n",
       " 'Package: android.text',\n",
       " 'Package: com.google.android.gms.nearby',\n",
       " 'Package: android.service.notification',\n",
       " 'Package: javax.security.auth.login',\n",
       " 'Package: android.service.chooser',\n",
       " 'Package: android.net.wifi.hotspot2.omadm',\n",
       " 'Package: java.lang',\n",
       " 'Package: java.util.function',\n",
       " 'Package: android.icu.text',\n",
       " 'Package: javax.xml.xpath',\n",
       " 'Package: com.google.android.gms.fido.common',\n",
       " 'Package: android.app.backup',\n",
       " 'Package: com.google.firebase.ml.common',\n",
       " 'Package: android.nfc.tech',\n",
       " 'Package: com.google.android.gms.fitness',\n",
       " 'Package: android.net.sip',\n",
       " 'Package: android.media.tv',\n",
       " 'Package: android.app.assist',\n",
       " 'Package: android.companion',\n",
       " 'Package: com.google.android.gms.cast.framework.media.widget',\n",
       " 'Package: com.google.android.gms.cast.framework',\n",
       " 'Package: android.media.browse',\n",
       " 'Package: com.google.android.gms.auth.api.phone',\n",
       " 'Package: com.google.android.gms.auth.api.signin',\n",
       " 'Package: org.w3c.dom.ls',\n",
       " 'Package: android.support',\n",
       " 'Package: android.text.method',\n",
       " 'Package: android.bluetooth.le',\n",
       " 'Package: android.view',\n",
       " 'Package: com.google.android.gms.location.places.ui',\n",
       " 'Package: com.google.android.gms.location.places',\n",
       " 'Package: com.google.firebase.provider',\n",
       " 'Package: android.icu.math',\n",
       " 'Package: javax.crypto',\n",
       " 'Package: java.time.format',\n",
       " 'Package: javax.net',\n",
       " 'Package: android.nfc.cardemulation',\n",
       " 'Package: com.google.firebase.appindexing.builders',\n",
       " 'Package: javax.security.cert',\n",
       " 'Package: com.google.android.gms.stats',\n",
       " 'Package: android.graphics.drawable',\n",
       " 'Package: com.google.android.gms.games.video',\n",
       " 'Package: android.hardware.input',\n",
       " 'Package: com.google.firebase.ml.vision.cloud',\n",
       " 'Package: java.security.acl',\n",
       " 'Package: android.service.quicksettings',\n",
       " 'Package: android.renderscript',\n",
       " 'Package: com.google.android.gms.fitness.data',\n",
       " 'Package: java.nio.charset',\n",
       " 'Package: android.hardware.camera2',\n",
       " 'Package: android.annotation',\n",
       " 'Package: android.service.restrictions',\n",
       " 'Package: android.sax',\n",
       " 'Package: java.security.interfaces',\n",
       " 'Package: android.icu.lang',\n",
       " 'Package: javax.microedition.khronos.egl',\n",
       " 'Package: com.google.android.gms.cast.framework.media',\n",
       " 'Package: android.databinding',\n",
       " 'Package: com.google.firebase.dynamiclinks',\n",
       " 'Package: android.media.effect',\n",
       " 'Package: android.transition',\n",
       " 'Package: android.test',\n",
       " 'Package: com.google.android.gms.games.stats',\n",
       " 'Package: com.google.android.gms.vision',\n",
       " 'Package: android.graphics.pdf',\n",
       " 'Package: android.system',\n",
       " 'Package: com.google.android.gms.appinvite',\n",
       " 'Package: javax.xml.parsers',\n",
       " 'Package: java.awt.font',\n",
       " 'Package: android.printservice',\n",
       " 'Package: com.google.android.gms.awareness.snapshot',\n",
       " 'Package: javax.xml',\n",
       " 'Package: java.util.regex',\n",
       " 'Package: android.nfc',\n",
       " 'Package: javax.xml.transform.stream',\n",
       " 'Package: com.google.android.gms.vision.text',\n",
       " 'Package: android.test.suitebuilder',\n",
       " 'Package: com.google.android.gms.search',\n",
       " 'Package: java.security.spec',\n",
       " 'Package: android.net',\n",
       " 'Package: android.telephony.gsm',\n",
       " 'Package: javax.xml.namespace',\n",
       " 'Package: android.service.voice',\n",
       " 'Package: android.drm',\n",
       " 'Package: com.google.android.gms.ads.reward.mediation',\n",
       " 'Package: com.google.firebase.ml.custom.model',\n",
       " 'Package: com.google.android.gms.fido.u2f.api.common',\n",
       " 'Package: java.time',\n",
       " 'Package: android.text.style',\n",
       " 'Package: android.text.format',\n",
       " 'Package: org.xml.sax.helpers',\n",
       " 'Package: android.test.mock',\n",
       " 'Package: com.google.firebase.ml.vision.face',\n",
       " 'Package: com.google.firebase.perf.metrics',\n",
       " 'Package: android.service.media',\n",
       " 'Package: java.util.jar',\n",
       " 'Package: com.google.android.gms.fitness.request',\n",
       " 'Package: javax.sql',\n",
       " 'Package: android.net.wifi',\n",
       " 'Package: android.app.admin',\n",
       " 'Package: android.hardware.display',\n",
       " 'Package: android.os.health',\n",
       " 'Package: com.google.firebase.messaging',\n",
       " 'Package: android.net.wifi.hotspot2',\n",
       " 'Package: com.google.firebase.analytics',\n",
       " 'Package: java.lang.invoke',\n",
       " 'Package: com.google.android.gms.awareness.fence',\n",
       " 'Package: com.google.firebase.storage',\n",
       " 'Package: com.google.android.gms.cast.games',\n",
       " 'Package: android.telephony.cdma',\n",
       " 'Package: java.nio.charset.spi',\n",
       " 'Package: java.security',\n",
       " 'Package: com.qihoo.util',\n",
       " 'Package: android.appwidget',\n",
       " 'Package: javax.xml.transform.sax',\n",
       " 'Package: com.google.android.gms.ads.mediation',\n",
       " 'Package: android.view.textclassifier',\n",
       " 'Package: com.google.firebase.appindexing',\n",
       " 'Package: java.lang.ref',\n",
       " 'Class: java.lang.Runtime ',\n",
       " 'Class: dalvik.system.BaseDexClassLoader',\n",
       " 'Class: android.telecom.PhoneAccount',\n",
       " 'Class: android.content.pm.PackageInstaller',\n",
       " 'Class: android.app.admin.NetworkEvent',\n",
       " 'Class: android.hardware.fingerprint.FingerprintManager',\n",
       " 'Class: android.telecom.TelecomManager',\n",
       " 'Class: android.app.AlarmManager ',\n",
       " 'Class: android.net.VpnService',\n",
       " 'Leak: PIM_Data_Leakage']"
      ]
     },
     "execution_count": 8,
     "metadata": {},
     "output_type": "execute_result"
    }
   ],
   "source": [
    "X.max()[X.max() == 0].index.to_list()"
   ]
  },
  {
   "cell_type": "code",
   "execution_count": 9,
   "metadata": {},
   "outputs": [],
   "source": [
    "X.drop(X.max()[X.max() == 0].index.to_list(), axis = 1, inplace = True)"
   ]
  },
  {
   "cell_type": "markdown",
   "metadata": {},
   "source": [
    "## Feature Summary:\n",
    "\n",
    "\n",
    "### Original Dataset:\n",
    "\n",
    "#### (1) Missing Values:\n",
    "   + Features with 100% missing values: 'sdkVersion', 'targetSdkVersion' (deleted)\n",
    "\n",
    "\n",
    "#### (2) Features with 0 Variance:\n",
    "  + Number of Features with 0 Variance: 511 (deleted)\n",
    "\n",
    "\n",
    "### Preprocessed Dataset:\n",
    "\n",
    "#### (1) Categories of Features:\n",
    "  + Number of one-hot features: 352\n",
    " \n",
    " \n",
    "#### (2) Features Extracted by Us\n",
    "  + Number of featuers extracted by us (sensors): 29"
   ]
  },
  {
   "cell_type": "markdown",
   "metadata": {},
   "source": [
    "## Correlation Between Features and Target"
   ]
  },
  {
   "cell_type": "code",
   "execution_count": 10,
   "metadata": {},
   "outputs": [],
   "source": [
    "chi_2, p = chi2(X, y)"
   ]
  },
  {
   "cell_type": "code",
   "execution_count": 11,
   "metadata": {},
   "outputs": [
    {
     "data": {
      "text/plain": [
       "<matplotlib.legend.Legend at 0x7fa212da3290>"
      ]
     },
     "execution_count": 11,
     "metadata": {},
     "output_type": "execute_result"
    },
    {
     "data": {
      "image/png": "[encoded data removed]",
      "text/plain": [
       "<Figure size 720x432 with 1 Axes>"
      ]
     },
     "metadata": {
      "needs_background": "light"
     },
     "output_type": "display_data"
    }
   ],
   "source": [
    "plt.figure(figsize = (10, 6))\n",
    "plt.scatter(np.arange(1, 353), p)\n",
    "plt.axhline(y=0.05, color='r', linestyle='-', label = 'p = 0.05')\n",
    "plt.xlabel('Features', fontsize = 13)\n",
    "plt.ylabel('p-value', fontsize = 13)\n",
    "plt.legend()"
   ]
  },
  {
   "cell_type": "code",
   "execution_count": 33,
   "metadata": {},
   "outputs": [
    {
     "name": "stdout",
     "output_type": "stream",
     "text": [
      "The number of features that are correlated with the target (p-value < 0.05) is: 273\n"
     ]
    }
   ],
   "source": [
    "print('The number of features that are correlated with the target (p-value < 0.05) is:', np.sum(p < 0.05))"
   ]
  },
  {
   "cell_type": "markdown",
   "metadata": {},
   "source": [
    "## Distribution of Target"
   ]
  },
  {
   "cell_type": "code",
   "execution_count": 13,
   "metadata": {},
   "outputs": [
    {
     "data": {
      "text/plain": [
       "Text(0.5, 1.0, 'Distribution of Target')"
      ]
     },
     "execution_count": 13,
     "metadata": {},
     "output_type": "execute_result"
    },
    {
     "data": {
      "image/png": "[encoded data removed]",
      "text/plain": [
       "<Figure size 720x432 with 1 Axes>"
      ]
     },
     "metadata": {
      "needs_background": "light"
     },
     "output_type": "display_data"
    }
   ],
   "source": [
    "plt.figure(figsize = (10, 6))\n",
    "plt.bar(['0', '1'], y['label'].value_counts().values)\n",
    "plt.xlabel('Label', fontsize = 13)\n",
    "plt.ylabel('Count', fontsize = 13)\n",
    "plt.title('Distribution of Target', fontsize = 15)"
   ]
  },
  {
   "cell_type": "markdown",
   "metadata": {},
   "source": [
    "  + **Need to deal with imbalanced dataset.**"
   ]
  },
  {
   "cell_type": "code",
   "execution_count": 34,
   "metadata": {},
   "outputs": [
    {
     "name": "stdout",
     "output_type": "stream",
     "text": [
      "Class weights should be: 2.728949 for 0 and 0.612161 for 1\n"
     ]
    }
   ],
   "source": [
    "# Calculate class weights\n",
    "classweights = class_weight.compute_class_weight('balanced',\n",
    "                                                  np.unique(y),\n",
    "                                                  y['label'].values)\n",
    "print(\"Class weights should be: %f for 0 and %f for 1\" % (class_weights[0], class_weights[1]))"
   ]
  },
  {
   "cell_type": "code",
   "execution_count": 35,
   "metadata": {},
   "outputs": [],
   "source": [
    "class_weights = {0: classweights[0], 1: classweights[1]}"
   ]
  },
  {
   "cell_type": "markdown",
   "metadata": {},
   "source": [
    "## Splitting Training and Test set"
   ]
  },
  {
   "cell_type": "code",
   "execution_count": 16,
   "metadata": {},
   "outputs": [],
   "source": [
    "# Create dataset without sensor features in order to see if there's some improvement by adding sensor features\n",
    "X_wo_sensors = X.drop(X.iloc[:, -29:].columns, axis = 1)"
   ]
  },
  {
   "cell_type": "code",
   "execution_count": 17,
   "metadata": {},
   "outputs": [],
   "source": [
    "# Train test split\n",
    "X_train, X_test, y_train, y_test = train_test_split(X, y, \n",
    "                                                    test_size = 0.2, \n",
    "                                                    random_state = 123, \n",
    "                                                    stratify = y)\n",
    "\n",
    "X_train_wo_sensor, X_test_wo_sensor, y_train_wo_sensor, y_test_wo_sensor = train_test_split(X_wo_sensors, y, \n",
    "                                                                                            test_size = 0.2, \n",
    "                                                                                            random_state = 123, \n",
    "                                                                                            stratify = y)"
   ]
  },
  {
   "cell_type": "markdown",
   "metadata": {},
   "source": [
    "## Building Pipelines and Training Logistic Regression Model"
   ]
  },
  {
   "cell_type": "code",
   "execution_count": 19,
   "metadata": {},
   "outputs": [],
   "source": [
    "continuous = make_column_selector(dtype_exclude = 'object')\n",
    "\n",
    "pipe = make_pipeline(SelectKBest(k = 273, score_func=chi2), \n",
    "                     LogisticRegression(class_weight = class_weights, max_iter = 1000))"
   ]
  },
  {
   "cell_type": "code",
   "execution_count": 20,
   "metadata": {
    "scrolled": false
   },
   "outputs": [
    {
     "name": "stdout",
     "output_type": "stream",
     "text": [
      "The mean test score of Logistic Regression model with sensor features is: 0.8169549526317571\n"
     ]
    }
   ],
   "source": [
    "avg_val_score = np.mean(cross_val_score(pipe, X_train, np.squeeze(y_train.to_numpy().reshape(1, -1)), cv = 5))\n",
    "print('The mean test score of Logistic Regression model with sensor features is:', avg_val_score)"
   ]
  },
  {
   "cell_type": "code",
   "execution_count": 21,
   "metadata": {},
   "outputs": [
    {
     "name": "stdout",
     "output_type": "stream",
     "text": [
      "The mean test score of Logistic Regression model without sensor features is: 0.8179813730929626\n"
     ]
    }
   ],
   "source": [
    "avg_val_score = np.mean(cross_val_score(pipe, X_train_wo_sensor, np.squeeze(y_train.to_numpy().reshape(1, -1)), cv = 5))\n",
    "print('The mean test score of Logistic Regression model without sensor features is:', avg_val_score)"
   ]
  },
  {
   "cell_type": "markdown",
   "metadata": {},
   "source": [
    "## Tuning Hyperparameters"
   ]
  },
  {
   "cell_type": "markdown",
   "metadata": {},
   "source": [
    "**1. Training on Dataset Including Sensor Features**"
   ]
  },
  {
   "cell_type": "code",
   "execution_count": 22,
   "metadata": {},
   "outputs": [
    {
     "data": {
      "text/plain": [
       "GridSearchCV(cv=None, error_score=nan,\n",
       "             estimator=Pipeline(memory=None,\n",
       "                                steps=[('selectkbest',\n",
       "                                        SelectKBest(k=200,\n",
       "                                                    score_func=<function chi2 at 0x7fa22df1c3b0>)),\n",
       "                                       ('logisticregression',\n",
       "                                        LogisticRegression(C=1.0,\n",
       "                                                           class_weight={0: 2.7289486796213254,\n",
       "                                                                         1: 0.6121605007265005},\n",
       "                                                           dual=False,\n",
       "                                                           fit_intercept=True,\n",
       "                                                           intercept_scaling=1,\n",
       "                                                           l1_ratio=None,\n",
       "                                                           max_iter=1000,\n",
       "                                                           multi_class='auto',\n",
       "                                                           n_jobs=None,\n",
       "                                                           penalty='l2',\n",
       "                                                           random_state=None,\n",
       "                                                           solver='lbfgs',\n",
       "                                                           tol=0.0001,\n",
       "                                                           verbose=0,\n",
       "                                                           warm_start=False))],\n",
       "                                verbose=False),\n",
       "             iid='deprecated', n_jobs=None,\n",
       "             param_grid={'logisticregression__C': [0.03, 0.05, 0.07, 0.1, 0.3,\n",
       "                                                   0.5, 0.7, 1]},\n",
       "             pre_dispatch='2*n_jobs', refit=True, return_train_score=False,\n",
       "             scoring=None, verbose=0)"
      ]
     },
     "execution_count": 22,
     "metadata": {},
     "output_type": "execute_result"
    }
   ],
   "source": [
    "# Tune C of Logistic Regression\n",
    "pipe_with_sensor = make_pipeline(SelectKBest(k = 200, score_func = chi2), \n",
    "                                 LogisticRegression(class_weight = class_weights, max_iter = 1000))\n",
    "\n",
    "params = {'logisticregression__C': [0.03, 0.05, 0.07, 0.1, 0.3, 0.5, 0.7, 1]}\n",
    "\n",
    "grid_with_sensor = GridSearchCV(pipe_with_sensor, param_grid = params)\n",
    "grid_with_sensor.fit(X_train, y_train['label'].values)"
   ]
  },
  {
   "cell_type": "code",
   "execution_count": 23,
   "metadata": {},
   "outputs": [],
   "source": [
    "result_with_sensor = pd.DataFrame(grid_with_sensor.cv_results_)"
   ]
  },
  {
   "cell_type": "code",
   "execution_count": 24,
   "metadata": {},
   "outputs": [
    {
     "data": {
      "text/plain": [
       "Text(0.5, 1.0, 'Mean Test Score of Logistic Regression with Different C (Including Sensor Features)')"
      ]
     },
     "execution_count": 24,
     "metadata": {},
     "output_type": "execute_result"
    },
    {
     "data": {
      "image/png": "[encoded data removed]",
      "text/plain": [
       "<Figure size 720x432 with 1 Axes>"
      ]
     },
     "metadata": {
      "needs_background": "light"
     },
     "output_type": "display_data"
    }
   ],
   "source": [
    "scores = result_with_sensor['mean_test_score']\n",
    "scores_std = result_with_sensor['std_test_score']\n",
    "std_error = scores_std / np.sqrt(5)\n",
    "plt.figure(figsize = (10, 6))\n",
    "plt.plot([0.03, 0.05, 0.07, 0.1, 0.3, 0.5, 0.7, 1], scores, marker = 'o', markersize = 5)\n",
    "plt.plot([0.03, 0.05, 0.07, 0.1, 0.3, 0.5, 0.7, 1], scores + std_error, 'b--')\n",
    "plt.plot([0.03, 0.05, 0.07, 0.1, 0.3, 0.5, 0.7, 1], scores - std_error, 'b--')\n",
    "plt.fill_between([0.03, 0.05, 0.07, 0.1, 0.3, 0.5, 0.7, 1], scores + std_error, scores - std_error, alpha = 0.2)\n",
    "plt.xlabel('C', fontsize = 13)\n",
    "plt.ylabel('Mean Test Score', fontsize = 13)\n",
    "plt.title('Mean Test Score of Logistic Regression with Different C (Including Sensor Features)', fontsize = 15)"
   ]
  },
  {
   "cell_type": "markdown",
   "metadata": {},
   "source": [
    "**2. Training on Dataset Not Including Sensor Features**"
   ]
  },
  {
   "cell_type": "code",
   "execution_count": 25,
   "metadata": {},
   "outputs": [
    {
     "data": {
      "text/plain": [
       "GridSearchCV(cv=None, error_score=nan,\n",
       "             estimator=Pipeline(memory=None,\n",
       "                                steps=[('selectkbest',\n",
       "                                        SelectKBest(k=200,\n",
       "                                                    score_func=<function chi2 at 0x7fa22df1c3b0>)),\n",
       "                                       ('logisticregression',\n",
       "                                        LogisticRegression(C=1.0,\n",
       "                                                           class_weight={0: 2.7289486796213254,\n",
       "                                                                         1: 0.6121605007265005},\n",
       "                                                           dual=False,\n",
       "                                                           fit_intercept=True,\n",
       "                                                           intercept_scaling=1,\n",
       "                                                           l1_ratio=None,\n",
       "                                                           max_iter=1000,\n",
       "                                                           multi_class='auto',\n",
       "                                                           n_jobs=None,\n",
       "                                                           penalty='l2',\n",
       "                                                           random_state=None,\n",
       "                                                           solver='lbfgs',\n",
       "                                                           tol=0.0001,\n",
       "                                                           verbose=0,\n",
       "                                                           warm_start=False))],\n",
       "                                verbose=False),\n",
       "             iid='deprecated', n_jobs=None,\n",
       "             param_grid={'logisticregression__C': [0.03, 0.05, 0.07, 0.1, 0.3,\n",
       "                                                   0.5, 0.7, 1]},\n",
       "             pre_dispatch='2*n_jobs', refit=True, return_train_score=False,\n",
       "             scoring=None, verbose=0)"
      ]
     },
     "execution_count": 25,
     "metadata": {},
     "output_type": "execute_result"
    }
   ],
   "source": [
    "pipe_wo_sensor = make_pipeline(SelectKBest(k = 200, score_func = chi2), \n",
    "                               LogisticRegression(class_weight = class_weights, max_iter = 1000))\n",
    "\n",
    "params = {'logisticregression__C': [0.03, 0.05, 0.07, 0.1, 0.3, 0.5, 0.7, 1]}\n",
    "\n",
    "grid_wo_sensor = GridSearchCV(pipe_wo_sensor, param_grid = params)\n",
    "grid_wo_sensor.fit(X_train_wo_sensor, y_train['label'].values)"
   ]
  },
  {
   "cell_type": "code",
   "execution_count": 26,
   "metadata": {},
   "outputs": [],
   "source": [
    "result_wo_sensor = pd.DataFrame(grid_wo_sensor.cv_results_)"
   ]
  },
  {
   "cell_type": "code",
   "execution_count": 27,
   "metadata": {},
   "outputs": [
    {
     "data": {
      "text/plain": [
       "Text(0.5, 1.0, 'Mean Test Score of Logistic Regression with Different C (Not Including Sensor Features)')"
      ]
     },
     "execution_count": 27,
     "metadata": {},
     "output_type": "execute_result"
    },
    {
     "data": {
      "image/png": "[encoded data removed]",
      "text/plain": [
       "<Figure size 720x432 with 1 Axes>"
      ]
     },
     "metadata": {
      "needs_background": "light"
     },
     "output_type": "display_data"
    }
   ],
   "source": [
    "scores = result_wo_sensor['mean_test_score']\n",
    "scores_std = result_wo_sensor['std_test_score']\n",
    "std_error = scores_std / np.sqrt(5)\n",
    "plt.figure(figsize = (10, 6))\n",
    "plt.plot([0.03, 0.05, 0.07, 0.1, 0.3, 0.5, 0.7, 1], scores, marker = 'o', markersize = 5)\n",
    "plt.plot([0.03, 0.05, 0.07, 0.1, 0.3, 0.5, 0.7, 1], scores + std_error, 'b--')\n",
    "plt.plot([0.03, 0.05, 0.07, 0.1, 0.3, 0.5, 0.7, 1], scores - std_error, 'b--')\n",
    "plt.fill_between([0.03, 0.05, 0.07, 0.1, 0.3, 0.5, 0.7, 1], scores + std_error, scores - std_error, alpha = 0.2)\n",
    "plt.xlabel('C', fontsize = 13)\n",
    "plt.ylabel('Mean Test Score', fontsize = 13)\n",
    "plt.title('Mean Test Score of Logistic Regression with Different C (Not Including Sensor Features)', fontsize = 15)"
   ]
  },
  {
   "cell_type": "markdown",
   "metadata": {},
   "source": [
    "## Testing"
   ]
  },
  {
   "cell_type": "code",
   "execution_count": 28,
   "metadata": {},
   "outputs": [
    {
     "data": {
      "text/plain": [
       "Pipeline(memory=None,\n",
       "         steps=[('selectkbest',\n",
       "                 SelectKBest(k=200,\n",
       "                             score_func=<function chi2 at 0x7fa22df1c3b0>)),\n",
       "                ('logisticregression',\n",
       "                 LogisticRegression(C=1,\n",
       "                                    class_weight={0: 2.7289486796213254,\n",
       "                                                  1: 0.6121605007265005},\n",
       "                                    dual=False, fit_intercept=True,\n",
       "                                    intercept_scaling=1, l1_ratio=None,\n",
       "                                    max_iter=1000, multi_class='auto',\n",
       "                                    n_jobs=None, penalty='l2',\n",
       "                                    random_state=None, solver='lbfgs',\n",
       "                                    tol=0.0001, verbose=0, warm_start=False))],\n",
       "         verbose=False)"
      ]
     },
     "execution_count": 28,
     "metadata": {},
     "output_type": "execute_result"
    }
   ],
   "source": [
    "pipe_with_sensor = make_pipeline(SelectKBest(k = 200, score_func=chi2), \n",
    "                                 LogisticRegression(C = grid_with_sensor.best_params_['logisticregression__C'], \n",
    "                                                    class_weight = class_weights, max_iter = 1000))\n",
    "pipe_with_sensor.fit(X_train, np.squeeze(y_train.to_numpy().reshape(1, -1)))\n",
    "\n",
    "pipe_wo_sensor = make_pipeline(SelectKBest(k = 200, score_func=chi2), \n",
    "                               LogisticRegression(C = grid_wo_sensor.best_params_['logisticregression__C'],\n",
    "                                                  class_weight = class_weights, max_iter = 1000))\n",
    "pipe_wo_sensor.fit(X_train_wo_sensor, np.squeeze(y_train.to_numpy().reshape(1, -1)))"
   ]
  },
  {
   "cell_type": "code",
   "execution_count": 29,
   "metadata": {},
   "outputs": [],
   "source": [
    "y_pred_with_sensor = pipe_with_sensor.predict_proba(X_test)\n",
    "y_pred_wo_sensor = pipe_wo_sensor.predict_proba(X_test_wo_sensor)"
   ]
  },
  {
   "cell_type": "code",
   "execution_count": 30,
   "metadata": {
    "scrolled": false
   },
   "outputs": [
    {
     "name": "stdout",
     "output_type": "stream",
     "text": [
      "AUC (including sensor features) 0.8941960740606585\n",
      "AUC (not including sensor features) 0.8923968012928573\n"
     ]
    },
    {
     "data": {
      "text/plain": [
       "<matplotlib.legend.Legend at 0x7fa2158a2e50>"
      ]
     },
     "execution_count": 30,
     "metadata": {},
     "output_type": "execute_result"
    },
    {
     "data": {
      "image/png": "[encoded data removed]",
      "text/plain": [
       "<Figure size 720x432 with 1 Axes>"
      ]
     },
     "metadata": {
      "needs_background": "light"
     },
     "output_type": "display_data"
    }
   ],
   "source": [
    "plt.figure(figsize = (10, 6))\n",
    "fpr, tpr, _ = roc_curve(y_test['label'].values, y_pred_with_sensor[:, 1])\n",
    "fpr2, tpr2, _2 = roc_curve(y_test['label'].values, y_pred_wo_sensor[:, 1])\n",
    "plt.plot(fpr, tpr, lw=2, label='With sensor features')\n",
    "plt.plot(fpr2, tpr2, lw=2, label='Without sensor features')\n",
    "print('AUC (including sensor features)', roc_auc_score(y_test, y_pred_with_sensor[:, 1]))\n",
    "print('AUC (not including sensor features)', roc_auc_score(y_test, y_pred_wo_sensor[:, 1]))\n",
    "\n",
    "plt.xlabel('False Positive Rate', fontsize = 13)\n",
    "plt.ylabel('True Positive Rate', fontsize = 13)\n",
    "plt.title('ROC Curve', fontsize = 15)\n",
    "plt.legend(fontsize = 13)"
   ]
  },
  {
   "cell_type": "markdown",
   "metadata": {},
   "source": [
    "**Adding sensor features slightly improves the Logistic Regression model's performance.**"
   ]
  },
  {
   "cell_type": "markdown",
   "metadata": {},
   "source": [
    "## Other Metrics"
   ]
  },
  {
   "cell_type": "code",
   "execution_count": 31,
   "metadata": {},
   "outputs": [],
   "source": [
    "y_pred_with_sensor = pipe_with_sensor.predict(X_test)\n",
    "y_pred_wo_sensor = pipe_wo_sensor.predict(X_test_wo_sensor)"
   ]
  },
  {
   "cell_type": "code",
   "execution_count": 32,
   "metadata": {},
   "outputs": [
    {
     "name": "stdout",
     "output_type": "stream",
     "text": [
      "Balanced Average Accuracy (including sensor features): 0.7886185374552446\n",
      "Balanced Average Accuracy (not including sensor features): 0.7879505147745163\n"
     ]
    }
   ],
   "source": [
    "print('Balanced Average Accuracy (including sensor features):', balanced_accuracy_score(y_test['label'].values, y_pred_with_sensor))\n",
    "print('Balanced Average Accuracy (not including sensor features):', balanced_accuracy_score(y_test['label'].values, y_pred_wo_sensor))"
   ]
  }
 ],
 "metadata": {
  "kernelspec": {
   "display_name": "Python 3",
   "language": "python",
   "name": "python3"
  },
  "language_info": {
   "codemirror_mode": {
    "name": "ipython",
    "version": 3
   },
   "file_extension": ".py",
   "mimetype": "text/x-python",
   "name": "python",
   "nbconvert_exporter": "python",
   "pygments_lexer": "ipython3",
   "version": "3.7.6"
  }
 },
 "nbformat": 4,
 "nbformat_minor": 4
}
