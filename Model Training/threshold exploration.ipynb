{
 "cells": [
  {
   "cell_type": "code",
   "execution_count": 1,
   "metadata": {},
   "outputs": [],
   "source": [
    "import pandas as pd\n",
    "import numpy as np\n",
    "import matplotlib.pyplot as plt\n",
    "pd.set_option('mode.chained_assignment', None)\n",
    "import umap\n",
    "from sklearn.svm import SVC\n",
    "from sklearn.metrics import precision_score\n",
    "from sklearn.metrics import recall_score\n",
    "from sklearn.metrics import roc_auc_score\n",
    "from joblib import dump, load\n",
    "from sklearn.pipeline import Pipeline, make_pipeline\n",
    "from sklearn.model_selection import train_test_split, cross_val_score, GridSearchCV\n",
    "from sklearn.metrics import balanced_accuracy_score\n",
    "from sklearn.metrics import accuracy_score\n",
    "from sklearn.metrics import confusion_matrix\n",
    "from sklearn.metrics import plot_roc_curve"
   ]
  },
  {
   "cell_type": "code",
   "execution_count": 2,
   "metadata": {},
   "outputs": [],
   "source": [
    "# data import\n",
    "\n",
    "# training dataset\n",
    "train_set = \"https://raw.githubusercontent.com/Programming-Systems-Lab/Capstone-2/master/data/Training_Data/Dataset_for_threshold.csv\"\n",
    "X = pd.read_csv(train_set)\n",
    "# training labels\n",
    "train_label = \"https://raw.githubusercontent.com/Programming-Systems-Lab/Capstone-2/master/data/Training_Data/Labels_for_threshold.csv\"\n",
    "train_labels = pd.read_csv(train_label)"
   ]
  },
  {
   "cell_type": "code",
   "execution_count": 3,
   "metadata": {},
   "outputs": [],
   "source": [
    "# obtain zero variance columns\n",
    "zero_var_cols = X.columns[X.nunique()==1].to_list()\n",
    "# Drop features with 0 variance\n",
    "X.drop(zero_var_cols, axis = 1, inplace = True)"
   ]
  },
  {
   "cell_type": "code",
   "execution_count": 4,
   "metadata": {},
   "outputs": [],
   "source": [
    "# drop duplicate rows\n",
    "X = X[~X.duplicated(keep='first')]\n",
    "y = train_labels['label']"
   ]
  },
  {
   "cell_type": "code",
   "execution_count": 5,
   "metadata": {},
   "outputs": [
    {
     "name": "stdout",
     "output_type": "stream",
     "text": [
      "(14084, 346)\n",
      "(14084,)\n"
     ]
    }
   ],
   "source": [
    "print(X.shape)\n",
    "print(y.shape)"
   ]
  },
  {
   "cell_type": "code",
   "execution_count": 6,
   "metadata": {},
   "outputs": [],
   "source": [
    "# irrelevant columns\n",
    "useless_cols = ['SHA256', 'Package_Name', 'ThumbPrint', 'Application_Category', \n",
    "                'Family_Name', 'Malware_Category', 'Malware/Benign',\n",
    "                'sdkVersion', 'targetSdkVersion']"
   ]
  },
  {
   "cell_type": "code",
   "execution_count": 7,
   "metadata": {},
   "outputs": [
    {
     "name": "stdout",
     "output_type": "stream",
     "text": [
      "['accelerometer', 'gravity', 'gyroscope', 'light', 'linear_acceleration', 'magnetic_field', 'orientation', 'proximity', 'rotation_vector', 'temperature']\n"
     ]
    }
   ],
   "source": [
    "# sensor related columns\n",
    "sensor_cols = X.loc[:, 'accelerometer':'temperature'].columns.to_list()\n",
    "print(sensor_cols)"
   ]
  },
  {
   "cell_type": "code",
   "execution_count": 8,
   "metadata": {},
   "outputs": [
    {
     "name": "stdout",
     "output_type": "stream",
     "text": [
      "Number of features (with sensors): 337\n"
     ]
    }
   ],
   "source": [
    "# obtain list of features\n",
    "features = X.drop(columns=useless_cols).columns.to_list()\n",
    "print(\"Number of features (with sensors):\", len(features))"
   ]
  },
  {
   "cell_type": "code",
   "execution_count": 9,
   "metadata": {},
   "outputs": [],
   "source": [
    "# Train test split\n",
    "X_train, X_test, y_train, y_test = train_test_split(X, y, \n",
    "                                                    test_size = 0.2, \n",
    "                                                    random_state = 123, \n",
    "                                                    stratify = y)"
   ]
  },
  {
   "cell_type": "code",
   "execution_count": 10,
   "metadata": {},
   "outputs": [
    {
     "name": "stdout",
     "output_type": "stream",
     "text": [
      "(11267, 337)\n",
      "(2817, 337)\n"
     ]
    }
   ],
   "source": [
    "print(X_train[features].shape)\n",
    "print(X_test[features].shape)"
   ]
  },
  {
   "cell_type": "code",
   "execution_count": 11,
   "metadata": {},
   "outputs": [
    {
     "data": {
      "text/plain": [
       "count    14084.000000\n",
       "mean         8.590954\n",
       "std          8.364226\n",
       "min          0.000000\n",
       "25%          1.000000\n",
       "50%          7.000000\n",
       "75%         15.000000\n",
       "max         46.000000\n",
       "Name: Malware/Benign, dtype: float64"
      ]
     },
     "execution_count": 11,
     "metadata": {},
     "output_type": "execute_result"
    }
   ],
   "source": [
    "# summary statistics of threshold\n",
    "X['Malware/Benign'].describe()"
   ]
  },
  {
   "cell_type": "code",
   "execution_count": 20,
   "metadata": {},
   "outputs": [
    {
     "name": "stdout",
     "output_type": "stream",
     "text": [
      "[0 1 2 3 4]\n",
      "[ 5 10 15 20 25]\n"
     ]
    }
   ],
   "source": [
    "lower_thresholds = np.arange(5)\n",
    "upper_thresholds = np.arange(5,26,5)\n",
    "\n",
    "print(lower_thresholds)\n",
    "print(upper_thresholds)"
   ]
  },
  {
   "cell_type": "code",
   "execution_count": 21,
   "metadata": {},
   "outputs": [
    {
     "name": "stdout",
     "output_type": "stream",
     "text": [
      "Upper: 5 Lower 0\n",
      "Upper: 10 Lower 0\n",
      "Upper: 15 Lower 0\n",
      "Upper: 20 Lower 0\n",
      "Upper: 25 Lower 0\n",
      "Upper: 5 Lower 1\n",
      "Upper: 10 Lower 1\n",
      "Upper: 15 Lower 1\n",
      "Upper: 20 Lower 1\n",
      "Upper: 25 Lower 1\n",
      "Upper: 5 Lower 2\n",
      "Upper: 10 Lower 2\n",
      "Upper: 15 Lower 2\n",
      "Upper: 20 Lower 2\n",
      "Upper: 25 Lower 2\n",
      "Upper: 5 Lower 3\n",
      "Upper: 10 Lower 3\n",
      "Upper: 15 Lower 3\n",
      "Upper: 20 Lower 3\n",
      "Upper: 25 Lower 3\n",
      "Upper: 5 Lower 4\n",
      "Upper: 10 Lower 4\n",
      "Upper: 15 Lower 4\n",
      "Upper: 20 Lower 4\n",
      "Upper: 25 Lower 4\n"
     ]
    }
   ],
   "source": [
    "results = pd.DataFrame()\n",
    "# column names of final results\n",
    "columns = ['upper_threshold', 'lower_threshold', 'train_size', 'test_size', 'percentage_malware', 'balanced accuracy',\n",
    "          'benign_precision', 'malware_precision', 'benign_recall', 'malware_recall']\n",
    "\n",
    "# define thresholds\n",
    "lower_thresholds = np.arange(5)\n",
    "upper_thresholds = np.arange(5,26,5)\n",
    "\n",
    "for lower_threshold in lower_thresholds:\n",
    "    for upper_threshold in upper_thresholds:\n",
    "        # only keep apps that are benign or malicious\n",
    "        X_train_t = X_train[(X_train['Malware/Benign']<=lower_threshold)|(X_train['Malware/Benign']>=upper_threshold)]\n",
    "        # change labels accordingly\n",
    "        y_train_t = np.array([1 if p>=upper_threshold else 0 for p in X_train_t['Malware/Benign']])\n",
    "        # only keep apps that are benign or malicious\n",
    "        X_test_t = X_test[(X_test['Malware/Benign']<=lower_threshold)|(X_test['Malware/Benign']>=upper_threshold)]\n",
    "        # change labels accordingly\n",
    "        y_test_t = np.array([1 if p>=upper_threshold else 0 for p in X_test_t['Malware/Benign']])\n",
    "    \n",
    "    \n",
    "    \n",
    "        # NEED TO MODIFY\n",
    "        # define model\n",
    "        model_with_sensor = SVC(class_weight='balanced', C=1)\n",
    "    \n",
    "    \n",
    "    \n",
    "        # fit on new training data\n",
    "        model_with_sensor.fit(X_train_t[features], y_train_t)\n",
    "        # get predictions\n",
    "        y_pred = model_with_sensor.predict(X_test_t[features])\n",
    "        # calculate balanced accuracy\n",
    "        bal_acc=balanced_accuracy_score(y_test_t, y_pred)\n",
    "        # calculate precision\n",
    "        benign_prec, malware_prec = precision_score(y_test_t, y_pred,average=None)\n",
    "        # calculate recall\n",
    "        benign_rec, malware_rec =  recall_score(y_test_t, y_pred,average=None)\n",
    "        # obtain training data sample size\n",
    "        train_size = len(y_train_t)\n",
    "        # obtain test data sample size\n",
    "        test_size = len(y_test_t)\n",
    "        malware_percentage = (sum(y_train_t)+sum(y_test_t))/(len(y_train_t)+len(y_test_t))\n",
    "    \n",
    "        # add metrics to results\n",
    "        df_threshold = pd.DataFrame([[upper_threshold, lower_threshold, train_size, test_size, malware_percentage, \n",
    "                                      bal_acc, benign_prec, malware_prec, benign_rec, malware_rec]],columns=columns)\n",
    "        results = pd.concat([results, df_threshold])\n",
    "        print(\"Upper:\", upper_threshold, \"Lower:\", lower_threshold)\n",
    "# reset index\n",
    "results.reset_index(drop=True, inplace=True)"
   ]
  },
  {
   "cell_type": "code",
   "execution_count": 22,
   "metadata": {},
   "outputs": [
    {
     "data": {
      "text/html": [
       "<div>\n",
       "<style scoped>\n",
       "    .dataframe tbody tr th:only-of-type {\n",
       "        vertical-align: middle;\n",
       "    }\n",
       "\n",
       "    .dataframe tbody tr th {\n",
       "        vertical-align: top;\n",
       "    }\n",
       "\n",
       "    .dataframe thead th {\n",
       "        text-align: right;\n",
       "    }\n",
       "</style>\n",
       "<table border=\"1\" class=\"dataframe\">\n",
       "  <thead>\n",
       "    <tr style=\"text-align: right;\">\n",
       "      <th></th>\n",
       "      <th>upper_threshold</th>\n",
       "      <th>lower_threshold</th>\n",
       "      <th>train_size</th>\n",
       "      <th>test_size</th>\n",
       "      <th>percentage_malware</th>\n",
       "      <th>balanced accuracy</th>\n",
       "      <th>benign_precision</th>\n",
       "      <th>malware_precision</th>\n",
       "      <th>benign_recall</th>\n",
       "      <th>malware_recall</th>\n",
       "    </tr>\n",
       "  </thead>\n",
       "  <tbody>\n",
       "    <tr>\n",
       "      <th>0</th>\n",
       "      <td>5</td>\n",
       "      <td>0</td>\n",
       "      <td>7619</td>\n",
       "      <td>1919</td>\n",
       "      <td>0.789893</td>\n",
       "      <td>0.885990</td>\n",
       "      <td>0.673624</td>\n",
       "      <td>0.966954</td>\n",
       "      <td>0.885287</td>\n",
       "      <td>0.886693</td>\n",
       "    </tr>\n",
       "    <tr>\n",
       "      <th>1</th>\n",
       "      <td>10</td>\n",
       "      <td>0</td>\n",
       "      <td>6595</td>\n",
       "      <td>1670</td>\n",
       "      <td>0.757532</td>\n",
       "      <td>0.892993</td>\n",
       "      <td>0.713439</td>\n",
       "      <td>0.965636</td>\n",
       "      <td>0.900249</td>\n",
       "      <td>0.885737</td>\n",
       "    </tr>\n",
       "    <tr>\n",
       "      <th>2</th>\n",
       "      <td>15</td>\n",
       "      <td>0</td>\n",
       "      <td>4718</td>\n",
       "      <td>1174</td>\n",
       "      <td>0.659878</td>\n",
       "      <td>0.879036</td>\n",
       "      <td>0.860104</td>\n",
       "      <td>0.912437</td>\n",
       "      <td>0.827930</td>\n",
       "      <td>0.930142</td>\n",
       "    </tr>\n",
       "    <tr>\n",
       "      <th>3</th>\n",
       "      <td>20</td>\n",
       "      <td>0</td>\n",
       "      <td>2636</td>\n",
       "      <td>664</td>\n",
       "      <td>0.392727</td>\n",
       "      <td>0.854745</td>\n",
       "      <td>0.940299</td>\n",
       "      <td>0.738602</td>\n",
       "      <td>0.785536</td>\n",
       "      <td>0.923954</td>\n",
       "    </tr>\n",
       "    <tr>\n",
       "      <th>4</th>\n",
       "      <td>25</td>\n",
       "      <td>0</td>\n",
       "      <td>2050</td>\n",
       "      <td>519</td>\n",
       "      <td>0.219930</td>\n",
       "      <td>0.919724</td>\n",
       "      <td>0.971429</td>\n",
       "      <td>0.798507</td>\n",
       "      <td>0.932668</td>\n",
       "      <td>0.906780</td>\n",
       "    </tr>\n",
       "  </tbody>\n",
       "</table>\n",
       "</div>"
      ],
      "text/plain": [
       "   upper_threshold  lower_threshold  train_size  test_size  \\\n",
       "0                5                0        7619       1919   \n",
       "1               10                0        6595       1670   \n",
       "2               15                0        4718       1174   \n",
       "3               20                0        2636        664   \n",
       "4               25                0        2050        519   \n",
       "\n",
       "   percentage_malware  balanced accuracy  benign_precision  malware_precision  \\\n",
       "0            0.789893           0.885990          0.673624           0.966954   \n",
       "1            0.757532           0.892993          0.713439           0.965636   \n",
       "2            0.659878           0.879036          0.860104           0.912437   \n",
       "3            0.392727           0.854745          0.940299           0.738602   \n",
       "4            0.219930           0.919724          0.971429           0.798507   \n",
       "\n",
       "   benign_recall  malware_recall  \n",
       "0       0.885287        0.886693  \n",
       "1       0.900249        0.885737  \n",
       "2       0.827930        0.930142  \n",
       "3       0.785536        0.923954  \n",
       "4       0.932668        0.906780  "
      ]
     },
     "execution_count": 22,
     "metadata": {},
     "output_type": "execute_result"
    }
   ],
   "source": [
    "results.head()"
   ]
  },
  {
   "cell_type": "code",
   "execution_count": 23,
   "metadata": {},
   "outputs": [
    {
     "data": {
      "text/html": [
       "<div>\n",
       "<style scoped>\n",
       "    .dataframe tbody tr th:only-of-type {\n",
       "        vertical-align: middle;\n",
       "    }\n",
       "\n",
       "    .dataframe tbody tr th {\n",
       "        vertical-align: top;\n",
       "    }\n",
       "\n",
       "    .dataframe thead th {\n",
       "        text-align: right;\n",
       "    }\n",
       "</style>\n",
       "<table border=\"1\" class=\"dataframe\">\n",
       "  <thead>\n",
       "    <tr style=\"text-align: right;\">\n",
       "      <th></th>\n",
       "      <th>upper_threshold</th>\n",
       "      <th>lower_threshold</th>\n",
       "      <th>train_size</th>\n",
       "      <th>test_size</th>\n",
       "      <th>percentage_malware</th>\n",
       "      <th>balanced accuracy</th>\n",
       "      <th>benign_precision</th>\n",
       "      <th>malware_precision</th>\n",
       "      <th>benign_recall</th>\n",
       "      <th>malware_recall</th>\n",
       "    </tr>\n",
       "  </thead>\n",
       "  <tbody>\n",
       "    <tr>\n",
       "      <th>20</th>\n",
       "      <td>5</td>\n",
       "      <td>4</td>\n",
       "      <td>11267</td>\n",
       "      <td>2817</td>\n",
       "      <td>0.534933</td>\n",
       "      <td>0.869104</td>\n",
       "      <td>0.821478</td>\n",
       "      <td>0.912509</td>\n",
       "      <td>0.906851</td>\n",
       "      <td>0.831357</td>\n",
       "    </tr>\n",
       "    <tr>\n",
       "      <th>21</th>\n",
       "      <td>10</td>\n",
       "      <td>4</td>\n",
       "      <td>10243</td>\n",
       "      <td>2568</td>\n",
       "      <td>0.488721</td>\n",
       "      <td>0.880636</td>\n",
       "      <td>0.848527</td>\n",
       "      <td>0.922067</td>\n",
       "      <td>0.931486</td>\n",
       "      <td>0.829787</td>\n",
       "    </tr>\n",
       "    <tr>\n",
       "      <th>22</th>\n",
       "      <td>15</td>\n",
       "      <td>4</td>\n",
       "      <td>8366</td>\n",
       "      <td>2072</td>\n",
       "      <td>0.372485</td>\n",
       "      <td>0.875540</td>\n",
       "      <td>0.893197</td>\n",
       "      <td>0.889362</td>\n",
       "      <td>0.939954</td>\n",
       "      <td>0.811125</td>\n",
       "    </tr>\n",
       "    <tr>\n",
       "      <th>23</th>\n",
       "      <td>20</td>\n",
       "      <td>4</td>\n",
       "      <td>6284</td>\n",
       "      <td>1562</td>\n",
       "      <td>0.165180</td>\n",
       "      <td>0.854098</td>\n",
       "      <td>0.971171</td>\n",
       "      <td>0.511062</td>\n",
       "      <td>0.829869</td>\n",
       "      <td>0.878327</td>\n",
       "    </tr>\n",
       "    <tr>\n",
       "      <th>24</th>\n",
       "      <td>25</td>\n",
       "      <td>4</td>\n",
       "      <td>5698</td>\n",
       "      <td>1417</td>\n",
       "      <td>0.079410</td>\n",
       "      <td>0.926443</td>\n",
       "      <td>0.990415</td>\n",
       "      <td>0.642424</td>\n",
       "      <td>0.954580</td>\n",
       "      <td>0.898305</td>\n",
       "    </tr>\n",
       "  </tbody>\n",
       "</table>\n",
       "</div>"
      ],
      "text/plain": [
       "    upper_threshold  lower_threshold  train_size  test_size  \\\n",
       "20                5                4       11267       2817   \n",
       "21               10                4       10243       2568   \n",
       "22               15                4        8366       2072   \n",
       "23               20                4        6284       1562   \n",
       "24               25                4        5698       1417   \n",
       "\n",
       "    percentage_malware  balanced accuracy  benign_precision  \\\n",
       "20            0.534933           0.869104          0.821478   \n",
       "21            0.488721           0.880636          0.848527   \n",
       "22            0.372485           0.875540          0.893197   \n",
       "23            0.165180           0.854098          0.971171   \n",
       "24            0.079410           0.926443          0.990415   \n",
       "\n",
       "    malware_precision  benign_recall  malware_recall  \n",
       "20           0.912509       0.906851        0.831357  \n",
       "21           0.922067       0.931486        0.829787  \n",
       "22           0.889362       0.939954        0.811125  \n",
       "23           0.511062       0.829869        0.878327  \n",
       "24           0.642424       0.954580        0.898305  "
      ]
     },
     "execution_count": 23,
     "metadata": {},
     "output_type": "execute_result"
    }
   ],
   "source": [
    "results.tail()"
   ]
  },
  {
   "cell_type": "code",
   "execution_count": 24,
   "metadata": {},
   "outputs": [
    {
     "data": {
      "text/plain": [
       "array([[0.8859899 , 0.89299309, 0.87903624, 0.85474527, 0.919724  ],\n",
       "       [0.89065307, 0.89571244, 0.88555309, 0.85755193, 0.93479479],\n",
       "       [0.88392857, 0.88985984, 0.8856342 , 0.85605487, 0.93298167],\n",
       "       [0.87394787, 0.88621081, 0.88058252, 0.85675904, 0.9322911 ],\n",
       "       [0.86910424, 0.8806365 , 0.87553965, 0.85409806, 0.92644277]])"
      ]
     },
     "execution_count": 24,
     "metadata": {},
     "output_type": "execute_result"
    }
   ],
   "source": [
    "a = np.array(results['balanced accuracy']).reshape((5, 5))\n",
    "a"
   ]
  },
  {
   "cell_type": "code",
   "execution_count": 25,
   "metadata": {},
   "outputs": [
    {
     "data": {
      "image/png": "[encoded data removed]",
      "text/plain": [
       "<Figure size 432x288 with 2 Axes>"
      ]
     },
     "metadata": {
      "needs_background": "light"
     },
     "output_type": "display_data"
    }
   ],
   "source": [
    "\n",
    "plt.imshow(a, cmap='hot')\n",
    "plt.xlabel(\"Upper threshold\")\n",
    "plt.ylabel(\"Lower threshold\")\n",
    "plt.xticks(ticks = np.arange(5), labels=upper_thresholds)\n",
    "plt.yticks(ticks = np.arange(5), labels=lower_thresholds)\n",
    "plt.colorbar()\n",
    "plt.show()"
   ]
  },
  {
   "cell_type": "code",
   "execution_count": 26,
   "metadata": {},
   "outputs": [],
   "source": [
    "results.to_csv('thresholds_SVM_1205.csv', index=False)"
   ]
  },
  {
   "cell_type": "code",
   "execution_count": null,
   "metadata": {},
   "outputs": [],
   "source": []
  }
 ],
 "metadata": {
  "kernelspec": {
   "display_name": "Python 3",
   "language": "python",
   "name": "python3"
  },
  "language_info": {
   "codemirror_mode": {
    "name": "ipython",
    "version": 3
   },
   "file_extension": ".py",
   "mimetype": "text/x-python",
   "name": "python",
   "nbconvert_exporter": "python",
   "pygments_lexer": "ipython3",
   "version": "3.7.6"
  }
 },
 "nbformat": 4,
 "nbformat_minor": 4
}
