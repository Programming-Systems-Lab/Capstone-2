{
 "cells": [
  {
   "cell_type": "code",
   "execution_count": 1,
   "metadata": {},
   "outputs": [],
   "source": [
    "import os\n",
    "import io\n",
    "from os import listdir\n",
    "from os.path import isfile, join"
   ]
  },
  {
   "cell_type": "code",
   "execution_count": 2,
   "metadata": {},
   "outputs": [],
   "source": [
    "def java_file(f, apk, path):\n",
    "    '''Go into a directory and find all the java files in that folder until there's no directory any more.'''\n",
    "    if '.java' in f:  # If a file is a java file, then call search() method to get sensor information.\n",
    "        search(os.path.join(path, '%s' % (f)), apk)\n",
    "    elif '.' not in f:  # If it's a directory, then call java_file() for each file or directory inside it.\n",
    "        files = listdir(os.path.join(path, '%s' % (f)))\n",
    "        for file in files:\n",
    "            java_file(file, apk, os.path.join(path, '%s' % (f)))"
   ]
  },
  {
   "cell_type": "code",
   "execution_count": 3,
   "metadata": {},
   "outputs": [],
   "source": [
    "def search(code, apk):\n",
    "    '''Search sensor information in a java file. Only search getDefaultSensor() and getSensorList() methods.'''\n",
    "    global dic  # A dictionary used to record whether or not this app uses each sensor.\n",
    "    global cnt_var_file  # A dictionary used to record whether or not this app sends variable to getDefaultSensor() or getSensorList() method.\n",
    "    \n",
    "    # Open the file. Sometimes it pops out an \"UnicodeDecodeError\" error, so we need to use another method when this happens.\n",
    "    try: \n",
    "        with open(code, 'r') as filehandle:\n",
    "            for line in filehandle:\n",
    "                if 'getDefaultSensor(' in line:  # Search getDefaultSensor()\n",
    "                    sensor = line.split('getDefaultSensor(')[1].split(')')[0]  # Get the integer inside getDefaultSensor()\n",
    "                    if sensor.isnumeric() or sensor == '-1':  # If it's an integer, set value of the corresponding sensor to be 1 which means this app uses this sensor.\n",
    "                        if dic[apk].get(int(sensor)) == 0:\n",
    "                            dic[apk][int(sensor)] = 1\n",
    "                    else:  # If it's not an integer but a variable, then mark the app as 1 which means it uses variable.\n",
    "                        if cnt_var_file.get(apk) == None:\n",
    "                            cnt_var_file[apk] = 1\n",
    "                if 'getSensorList(' in line:    # Search getSensorList()\n",
    "                    sensor = line.split('getSensorList(')[1].split(')')[0]  # Get the integer inside getSensorList()\n",
    "                    if sensor.isnumeric() or sensor == '-1':  # If it's an integer, set value of the corresponding sensor to be 1 which means this app uses this sensor.\n",
    "                        if dic[apk].get(int(sensor)) == 0:\n",
    "                            dic[apk][int(sensor)] = 1\n",
    "                    else:  # If it's not an integer but a variable, then mark the app as 1 which means it uses variable.\n",
    "                        if cnt_var_file.get(apk) == None:\n",
    "                            cnt_var_file[apk] = 1\n",
    "    \n",
    "    except UnicodeDecodeError:\n",
    "        with io.open(code, 'r', encoding='windows-1252') as twitter_file:\n",
    "            for line in twitter_file:\n",
    "                if 'getDefaultSensor(' in line:  # The same as the above. \n",
    "                    sensor = line.split('getDefaultSensor(')[1].split(')')[0]\n",
    "                    if sensor.isnumeric() or sensor == '-1':\n",
    "                        if dic[apk].get(int(sensor)) == 0:\n",
    "                            dic[apk][int(sensor)] = 1\n",
    "                    else:\n",
    "                        if cnt_var_file.get(apk) == None:\n",
    "                            cnt_var_file[apk] = 1\n",
    "                if 'getSensorList(' in line:\n",
    "                    sensor = line.split('getSensorList(')[1].split(')')[0]\n",
    "                    if sensor.isnumeric() or sensor == '-1':\n",
    "                        if dic[apk].get(int(sensor)) == 0:\n",
    "                            dic[apk][int(sensor)] = 1\n",
    "                    else:\n",
    "                        if cnt_var_file.get(apk) == None:\n",
    "                            cnt_var_file[apk] = 1"
   ]
  },
  {
   "cell_type": "code",
   "execution_count": 4,
   "metadata": {},
   "outputs": [],
   "source": [
    "lst = listdir('Repack_APK/')  # Get all the apps (directory)\n",
    "lst = [f for f in lst if f != '.DS_Store']  # Remove '.DS_Store'"
   ]
  },
  {
   "cell_type": "code",
   "execution_count": 5,
   "metadata": {},
   "outputs": [],
   "source": [
    "# Integer and Sensor Pairs Listed in The Documentation\n",
    "int_sensor = {1: 'accelerometer', 35: 'accelerometer_uncalibrated', -1: 'all', \n",
    "              13: 'ambient_temperature', 65536: 'device_private_base', 15: 'game_rotation_vector', \n",
    "              20: 'geomagnetic_rotation_vector', 9: 'gravity', 4: 'gyroscope', 16: 'gyroscope_uncalibrated', \n",
    "              31: 'heart_beat', 21: 'heart_rate', 36: 'hinge_angle', 5: 'light', 10: 'linear_acceleration', \n",
    "              34: 'low_latency_offbody_detect', 2: 'magnetic_field', 14: 'magnetic_field_uncalibrated', \n",
    "              30: 'motion_detect', 3: 'orientation’, 28: ‘pose_6dof', 6: 'pressure', 8: 'proximity', \n",
    "              12: 'relative_humidity', 11: 'rotation_vector', 17: 'significant_motion', 29: 'stationary_detect', \n",
    "              19: 'step_counter', 18: 'step_detector', 7: 'temperature'}"
   ]
  },
  {
   "cell_type": "code",
   "execution_count": 6,
   "metadata": {},
   "outputs": [],
   "source": [
    "dic = {}  # A dictionary used to record whether or not this app uses each sensor.\n",
    "cnt_var_file = {}  # A dictionary used to record whether or not this app sends variable to getDefaultSensor() or getSensorList() method.\n",
    "\n",
    "cnt = 1\n",
    "for folder in lst:\n",
    "    # print('APK', cnt, folder)\n",
    "    dic[folder] = {}\n",
    "    for i in int_sensor.keys():  # Initialize dic, set the value of each sensor to be 0.\n",
    "        dic[folder][i] = 0\n",
    "    java_file('sources', folder, 'Repack_APK/%s' % (folder))\n",
    "    cnt += 1"
   ]
  },
  {
   "cell_type": "code",
   "execution_count": 30,
   "metadata": {},
   "outputs": [
    {
     "data": {
      "text/plain": [
       "160"
      ]
     },
     "execution_count": 30,
     "metadata": {},
     "output_type": "execute_result"
    }
   ],
   "source": [
    "# Number of apps using variable\n",
    "sum(cnt_var_file.values())"
   ]
  },
  {
   "cell_type": "code",
   "execution_count": null,
   "metadata": {},
   "outputs": [],
   "source": [
    "dic  # Summarization of sensor usage"
   ]
  }
 ],
 "metadata": {
  "kernelspec": {
   "display_name": "Python 3",
   "language": "python",
   "name": "python3"
  },
  "language_info": {
   "codemirror_mode": {
    "name": "ipython",
    "version": 3
   },
   "file_extension": ".py",
   "mimetype": "text/x-python",
   "name": "python",
   "nbconvert_exporter": "python",
   "pygments_lexer": "ipython3",
   "version": "3.7.6"
  }
 },
 "nbformat": 4,
 "nbformat_minor": 4
}
