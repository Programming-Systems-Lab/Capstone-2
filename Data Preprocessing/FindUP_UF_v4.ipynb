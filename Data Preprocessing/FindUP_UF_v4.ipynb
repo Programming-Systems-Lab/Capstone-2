{
 "cells": [
  {
   "cell_type": "code",
   "execution_count": 1,
   "metadata": {},
   "outputs": [],
   "source": [
    "import pandas as pd\n",
    "import numpy as np\n",
    "import os"
   ]
  },
  {
   "cell_type": "code",
   "execution_count": 2,
   "metadata": {},
   "outputs": [],
   "source": [
    "### all sensors in the Android sensor list\n",
    "All_sensors=['Accelerometer', 'Accelerometer_uncalibrated', 'Ambient_temperature', 'Game_rotation_vector',\n",
    "            'Geomagnetic_rotation_vector', 'Glance_gesture', 'Gravity', 'Gyroscope', 'Gyroscope_uncalibrated',\n",
    "            'Heart_rate', 'Hinge_angle', 'Light', 'Linear_acceleration', 'Magnetic_field_sensor', \n",
    "             'Magnetic_field_uncalibrated', 'Orientation', 'Relative_humidity', 'Pick_up_gesture', 'Proximity',\n",
    "             'Pressure', 'Rotation_vector', 'Significant_motion', 'Step_counter', 'Step_detector', 'Tilt_detector',\n",
    "             'Wake_up_gesture']\n",
    "\n",
    "# map Uses-permission to a particular sensor, the index corresponds to the index of All_sensors list, \n",
    "# i.e. 0 is Accelerometer, 1 is Accelerometer_uncalibrated, etc\n",
    "UP_UF_map = {\n",
    "            # UP\n",
    "          'ACCESS_BT_HEART_RATE_MONITOR': 9,  # Heart_rate\n",
    "          'accelerometer': 0,  # Accelerometer\n",
    "          'proximity': 18,  # Proximity'\n",
    "            # UF\n",
    "          'android.hardware.sensor.accelerometer': 0,  # Accelerometer\n",
    "          'android.hardware.sensor.compass': 13,  # Magnetic_field_sensor\n",
    "          'android.hardware.sensor.gyroscope': 7,  # Gyroscope\n",
    "          'android.hardware.sensor.proximity': 18  # Proximity\n",
    "         }\n"
   ]
  },
  {
   "cell_type": "code",
   "execution_count": 3,
   "metadata": {},
   "outputs": [],
   "source": [
    "def FindUP_UF(path):\n",
    "    UP=set()\n",
    "    UF_T=set()\n",
    "    UF_F=set()\n",
    "    with open(path,'r') as f:\n",
    "        for line in f:\n",
    "            # example of line: <uses-permission android:name=\"android.permission.GET_TASKS\"/>\n",
    "            if 'uses-permission' in line and 'android:name' in line:\n",
    "                name = line.strip().split('android:name=')[1].split('\"')[1].split('.')[-1]\n",
    "                UP.add(name)\n",
    "                allUP.add(name)     \n",
    "            elif 'uses-feature' in line and 'name' in line:\n",
    "                name = line.strip().split()[1].split('=')[1].split('\"')[1]\n",
    "                allUF.add(name)\n",
    "                if 'required' in line:\n",
    "                    required = line.strip().split()[2].split('=')[1].split('\"')[1]\n",
    "                else:\n",
    "                    required = 'true'\n",
    "                if required == 'true':\n",
    "                    UF_T.add(name)  \n",
    "                else:\n",
    "                    UF_F.add(name)\n",
    "                    \n",
    "    \n",
    "    return UP, UF_T, UF_F"
   ]
  },
  {
   "cell_type": "code",
   "execution_count": 4,
   "metadata": {},
   "outputs": [],
   "source": [
    "def dct_to_df(dic, repackaged=True):\n",
    "    ''' INPUT: dictionary of apk and the UP/UF usage, {SHA256:{UP/UF1, UP/UF2, ...}}'''\n",
    "    ''' OUTPUT: dataframe with columns SHA256, Repackaged, Sensor1, Sensor2, ... '''\n",
    "    global counter\n",
    "    cols=['SHA256','Repackaged']+All_sensors\n",
    "    \n",
    "    # create an empty list to store rows in df\n",
    "    mylist=[]\n",
    "    N=len(All_sensors)\n",
    "    for key, vals in dic.items():\n",
    "        \n",
    "        # set the default sensor usage to 0\n",
    "        row=[0]*N    \n",
    "        \n",
    "        # iterate the {apk:UP/UF set} dictionary, if a sensor-related UP/UF exists, set that column to 1\n",
    "        for val in vals:\n",
    "            if val in UP_UF_map:\n",
    "                row[UP_UF_map[val]]=1\n",
    "        if sum(row)>0:\n",
    "            counter+=1\n",
    "        mylist.append([key,repackaged]+row)\n",
    "    \n",
    "    df=pd.DataFrame(mylist, columns=cols)\n",
    "    return df"
   ]
  },
  {
   "cell_type": "code",
   "execution_count": 6,
   "metadata": {},
   "outputs": [
    {
     "name": "stdout",
     "output_type": "stream",
     "text": [
      "Dictionaries completed!\n",
      "UP completed!\n",
      "=> number of apks with sensor-related UP is 4\n",
      "UF required=T completed!\n",
      "=> number of apks with sensor-related UF(required=T) is 96\n",
      "UF required=F completed!\n",
      "=> number of apks with sensor-related UF(required=F) is 0\n",
      "CSVs completed!\n"
     ]
    }
   ],
   "source": [
    "allUP=set()\n",
    "allUF=set()\n",
    "UP_dct_o, UP_dct_r={},{}\n",
    "UF_T_dct_o, UF_T_dct_r={},{}\n",
    "UF_F_dct_o, UF_F_dct_r={},{}\n",
    "\n",
    "### Create dictionry of apk and its UP/UF, {apk:{up1,up2...}}\n",
    "allfiles= open('repackaging_pairs.txt','r').readlines()\n",
    "targetfiles = allfiles[9001:12001]\n",
    "for line in targetfiles:\n",
    "    o,r=line.strip().split(',')\n",
    "    path_o=os.path.join('APK_decompile',o,'resources/AndroidManifest.xml')\n",
    "    path_r=os.path.join('APK_decompile',r,'resources/AndroidManifest.xml')\n",
    "    UP_dct_o[o], UF_T_dct_o[o], UF_F_dct_o[o]=FindUP_UF(path_o)\n",
    "    UP_dct_r[r], UF_T_dct_r[r], UF_F_dct_r[r]=FindUP_UF(path_r)\n",
    "print('Dictionaries completed!')\n",
    "\n",
    "### Convert the dictionry to dataframe and to CSV\n",
    "counter=0\n",
    "UP_o=dct_to_df(UP_dct_o,False)\n",
    "UP_r=dct_to_df(UP_dct_r)\n",
    "print('UP completed!')\n",
    "print('=> number of apks with sensor-related UP is {}'.format(counter))\n",
    "\n",
    "counter=0\n",
    "UF_T_o=dct_to_df(UF_T_dct_o,False)\n",
    "UF_T_r=dct_to_df(UF_T_dct_r)\n",
    "print('UF required=T completed!')\n",
    "print('=> number of apks with sensor-related UF(required=T) is {}'.format(counter))\n",
    "\n",
    "counter=0\n",
    "UF_F_o=dct_to_df(UF_F_dct_o,False)\n",
    "UF_F_r=dct_to_df(UF_F_dct_r)\n",
    "print('UF required=F completed!')\n",
    "print('=> number of apks with sensor-related UF(required=F) is {}'.format(counter))\n",
    "\n",
    "### Combine repackaged and original into a single dataframe\n",
    "UP=pd.concat([UP_o,UP_r])\n",
    "UF_T=pd.concat([UF_T_o,UF_T_r])\n",
    "UF_F=pd.concat([UF_F_o,UF_F_r])\n",
    "\n",
    "UP.to_csv('[9001-12000]Uses-permission.csv',index=False)\n",
    "UF_T.to_csv('[9001-12000]Uses-feature_required-True.csv',index=False)\n",
    "UF_F.to_csv('[9001-12000]Uses-feature_require-False.csv',index=False)\n",
    "print('CSVs completed!')\n",
    "    "
   ]
  },
  {
   "cell_type": "code",
   "execution_count": null,
   "metadata": {},
   "outputs": [],
   "source": []
  }
 ],
 "metadata": {
  "kernelspec": {
   "display_name": "Python 3",
   "language": "python",
   "name": "python3"
  },
  "language_info": {
   "codemirror_mode": {
    "name": "ipython",
    "version": 3
   },
   "file_extension": ".py",
   "mimetype": "text/x-python",
   "name": "python",
   "nbconvert_exporter": "python",
   "pygments_lexer": "ipython3",
   "version": "3.7.3"
  }
 },
 "nbformat": 4,
 "nbformat_minor": 2
}
