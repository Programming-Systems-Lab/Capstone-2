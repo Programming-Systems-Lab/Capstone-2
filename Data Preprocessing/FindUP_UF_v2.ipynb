{
 "cells": [
  {
   "cell_type": "code",
   "execution_count": 49,
   "metadata": {},
   "outputs": [],
   "source": [
    "import pandas as pd\n",
    "import numpy as np\n",
    "import os\n",
    "import pickle"
   ]
  },
  {
   "cell_type": "code",
   "execution_count": 50,
   "metadata": {},
   "outputs": [],
   "source": [
    "def FindUP_UF(path):\n",
    "    UP=set()\n",
    "    UF=set()\n",
    "    with open(path,'r') as f:\n",
    "        for line in f:\n",
    "            # example of line: <uses-permission android:name=\"android.permission.GET_TASKS\"/>\n",
    "            if 'uses-permission' in line and 'android:name' in line:\n",
    "                name=line.strip().split('android:name=')[1].split('\"')[1].split('.')[-1]\n",
    "                UP.add(name)\n",
    "                allUP.add(name)     \n",
    "            elif 'uses-feature' in line and 'name' in line:\n",
    "                name = line.strip().split(' ')[1].split('=')[1].split('\"')[1].strip('android.')\n",
    "                if 'required' in line:\n",
    "                    required = line.strip().split(' ')[2].split('=')[1].split('\"')[1]\n",
    "                else:\n",
    "                    required = 'true'\n",
    "                if required == 'true':\n",
    "                    UF.add(name)  \n",
    "                    allUF.add(name)\n",
    "    \n",
    "    return UP, UF"
   ]
  },
  {
   "cell_type": "code",
   "execution_count": 51,
   "metadata": {},
   "outputs": [],
   "source": [
    "allUP=set()\n",
    "allUF=set()\n",
    "UP_dct_o={}\n",
    "UP_dct_r={}\n",
    "UF_dct_o={}\n",
    "UF_dct_r={}\n",
    "# {apk:{up1,up2...}}\n",
    "allfiles= open('repackaging_pairs.txt','r').readlines()\n",
    "targetfiles = allfiles[9001:12001]\n",
    "for line in targetfiles:\n",
    "    o,r=line.strip().split(',')\n",
    "    path_o=os.path.join('APK_decompile',o,'resources/AndroidManifest.xml')\n",
    "    path_r=os.path.join('APK_decompile',r,'resources/AndroidManifest.xml')\n",
    "    UP_dct_o[o], UF_dct_o[o]=FindUP_UF(path_o)\n",
    "    UP_dct_r[r], UF_dct_r[r]=FindUP_UF(path_r)\n",
    "\n",
    "with open('UP_dct_o.pkl', 'wb') as f: \n",
    "    pickle.dump(UP_dct_o, f)\n",
    "\n",
    "with open('UP_dct_r.pkl', 'wb') as f: \n",
    "    pickle.dump(UP_dct_r, f)\n",
    "\n",
    "with open('UF_dct_o.pkl', 'wb') as f: \n",
    "    pickle.dump(UF_dct_o, f)\n",
    "\n",
    "with open('UF_dct_r.pkl', 'wb') as f: \n",
    "    pickle.dump(UF_dct_r, f)\n",
    "    "
   ]
  },
  {
   "cell_type": "code",
   "execution_count": 52,
   "metadata": {},
   "outputs": [
    {
     "data": {
      "text/plain": [
       "{'ACCESS_COARSE_LOCATION',\n",
       " 'ACCESS_COARSE_UPDATES',\n",
       " 'ACCESS_COURSE_LOCATION',\n",
       " 'ACCESS_DOWNLOAD_MANAGER',\n",
       " 'ACCESS_FINE_LOCATION',\n",
       " 'ACCESS_GPS',\n",
       " 'ACCESS_LOCATION',\n",
       " 'ACCESS_LOCATION_EXTRA_COMMANDS',\n",
       " 'ACCESS_MOCK_LOCATION',\n",
       " 'ACCESS_NETWORK_STATE',\n",
       " 'ACCESS_WIFI_STATE',\n",
       " 'ACCOUNT_MANAGER',\n",
       " 'ACTION_PHONE_STATE_CHANGED',\n",
       " 'BACKUP',\n",
       " 'BILLING',\n",
       " 'BIND_ACCESSIBILITY_SERVICE',\n",
       " 'BLUETOOTH',\n",
       " 'BLUETOOTH_ADMIN',\n",
       " 'BROADCAST_PACKAGE_ADDED',\n",
       " 'BROADCAST_PACKAGE_CHANGED',\n",
       " 'BROADCAST_PACKAGE_REPLACED',\n",
       " 'BROADCAST_STICKY',\n",
       " 'C2D_MESSAGE',\n",
       " 'CALL_PHONE',\n",
       " 'CAMERA',\n",
       " 'CHANGE_CONFIGURATION',\n",
       " 'CHANGE_NETWORK_STATE',\n",
       " 'CHANGE_WIFI_MULTICAST_STATE',\n",
       " 'CHANGE_WIFI_STATE',\n",
       " 'CHECK_LICENSE',\n",
       " 'DISABLE_KEYGUARD',\n",
       " 'DOWNLOAD_WITHOUT_NOTIFICATION',\n",
       " 'EXPAND_STATUS_BAR',\n",
       " 'FLASHLIGHT',\n",
       " 'GET_ACCOUNTS',\n",
       " 'GET_TASKS',\n",
       " 'GOOGLE_AUTH',\n",
       " 'INSTALL_SHORTCUT',\n",
       " 'INTERNET',\n",
       " 'JPUSH_MESSAGE',\n",
       " 'KILL_BACKGROUND_PROCESSES',\n",
       " 'MANAGE_ACCOUNTS',\n",
       " 'MAPS_RECEIVE',\n",
       " 'MODIFY_AUDIO_SETTINGS',\n",
       " 'MOUNT_FORMAT_FILESYSTEMS',\n",
       " 'MOUNT_UNMOUNT_FILESYSTEMS',\n",
       " 'PROCESS_OUTGOING_CALLS',\n",
       " 'READ',\n",
       " 'READ_CALENDAR',\n",
       " 'READ_CONTACTS',\n",
       " 'READ_EXTERNAL_STORAGE',\n",
       " 'READ_GSERVICES',\n",
       " 'READ_HISTORY_BOOKMARKS',\n",
       " 'READ_LOGS',\n",
       " 'READ_PHONE_STATE',\n",
       " 'READ_PROFILE',\n",
       " 'READ_SETTINGS',\n",
       " 'READ_SMS',\n",
       " 'READ_TASKS',\n",
       " 'READ_USER_DICTIONARY',\n",
       " 'RECEIVE',\n",
       " 'RECEIVE_BOOT_COMPLETED',\n",
       " 'RECEIVE_MMS',\n",
       " 'RECEIVE_SMS',\n",
       " 'RECEIVE_USER_PRESENT',\n",
       " 'RECORD_AUDIO',\n",
       " 'RECORD_VIDEO',\n",
       " 'REORDER_TASKS',\n",
       " 'RESTART_PACKAGES',\n",
       " 'SEND_SMS',\n",
       " 'SET_PROCESS_LIMIT',\n",
       " 'SET_WALLPAPER',\n",
       " 'SYSTEM_ALERT_WINDOW',\n",
       " 'UNINSTALL_SHORTCUT',\n",
       " 'USE_CREDENTIALS',\n",
       " 'VIBRATE',\n",
       " 'WAKE_LOCK',\n",
       " 'WRITE',\n",
       " 'WRITE_APN_SETTINGS',\n",
       " 'WRITE_CALENDAR',\n",
       " 'WRITE_CONTACTS',\n",
       " 'WRITE_EXTERNAL_STORAGE',\n",
       " 'WRITE_HISTORY_BOOKMARKS',\n",
       " 'WRITE_INTERNAL_STORAGE',\n",
       " 'WRITE_MEDIA_STORAGE',\n",
       " 'WRITE_OWNER_DATA',\n",
       " 'WRITE_SECURE_SETTINGS',\n",
       " 'WRITE_SETTINGS',\n",
       " 'WRITE_SMS',\n",
       " 'WRITE_USER_DICTIONARY',\n",
       " 'accelerometer',\n",
       " 'proximity'}"
      ]
     },
     "execution_count": 52,
     "metadata": {},
     "output_type": "execute_result"
    }
   ],
   "source": [
    "allUP"
   ]
  },
  {
   "cell_type": "code",
   "execution_count": 53,
   "metadata": {},
   "outputs": [
    {
     "data": {
      "text/plain": [
       "{'hardware.came',\n",
       " 'hardware.camera.autofocus',\n",
       " 'hardware.screen.landscape',\n",
       " 'hardware.sensor.acceleromete',\n",
       " 'hardware.touchscree',\n",
       " 'hardware.touchscreen.multitouch',\n",
       " 'software.live_wallpape'}"
      ]
     },
     "execution_count": 53,
     "metadata": {},
     "output_type": "execute_result"
    }
   ],
   "source": [
    "allUF"
   ]
  },
  {
   "cell_type": "code",
   "execution_count": null,
   "metadata": {},
   "outputs": [],
   "source": []
  }
 ],
 "metadata": {
  "kernelspec": {
   "display_name": "Python 3",
   "language": "python",
   "name": "python3"
  },
  "language_info": {
   "codemirror_mode": {
    "name": "ipython",
    "version": 3
   },
   "file_extension": ".py",
   "mimetype": "text/x-python",
   "name": "python",
   "nbconvert_exporter": "python",
   "pygments_lexer": "ipython3",
   "version": "3.7.3"
  }
 },
 "nbformat": 4,
 "nbformat_minor": 2
}
