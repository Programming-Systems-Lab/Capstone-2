{
 "cells": [
  {
   "cell_type": "markdown",
   "metadata": {
    "jupyter": {
     "outputs_hidden": true
    }
   },
   "source": [
    "# IMPORT PARAMETERS AND LIBRARIES"
   ]
  },
  {
   "cell_type": "code",
   "execution_count": 120,
   "metadata": {},
   "outputs": [],
   "source": [
    "apk_path='Repack_APKs'\n",
    "decompile_path='./Decompiled_files'\n",
    "dex2jar='./dex2jar-2.0/d2j-dex2jar.sh'\n",
    "jd_cli='./jd-cli-1.1.0.Final-dist/jd-cli.jar'"
   ]
  },
  {
   "cell_type": "code",
   "execution_count": 121,
   "metadata": {},
   "outputs": [],
   "source": [
    "import pandas as pd\n",
    "import wget\n",
    "from os import listdir\n",
    "from os.path import isfile, join\n",
    "import timeit"
   ]
  },
  {
   "cell_type": "code",
   "execution_count": 122,
   "metadata": {},
   "outputs": [],
   "source": [
    "import subprocess"
   ]
  },
  {
   "cell_type": "markdown",
   "metadata": {},
   "source": [
    "# GET FILE LISTS"
   ]
  },
  {
   "cell_type": "code",
   "execution_count": 123,
   "metadata": {},
   "outputs": [
    {
     "name": "stdout",
     "output_type": "stream",
     "text": [
      "file count not downloading = 0\n"
     ]
    }
   ],
   "source": [
    "df=pd.read_csv('./repackaging_pairs.txt',sep=',')\n",
    "df_sub=df.iloc[3000:6000]\n",
    "file_lst=list(df_sub.iloc[:,0])+list(df_sub.iloc[:,1])\n",
    "file_lst=list(set(file_lst))\n",
    "file_lst.sort()\n",
    "mypath='Repack_APKs/'\n",
    "downlaod_lst=[f for f in listdir(mypath) if isfile(join(mypath, f))]\n",
    "downlaod_lst=[a for a in downlaod_lst if a.split('.')[1]=='apk']\n",
    "downlaod_lst=[a[0:a.index('.apk')] for a in downlaod_lst]\n",
    "\n",
    "print('file count not downloading =',len(set(file_lst)-set(downlaod_lst)))"
   ]
  },
  {
   "cell_type": "code",
   "execution_count": 124,
   "metadata": {},
   "outputs": [
    {
     "name": "stdout",
     "output_type": "stream",
     "text": [
      "file count not decompiling = 3713\n"
     ]
    }
   ],
   "source": [
    "xml_lst=listdir(os.path.join(decompile_path,'xml_files'))\n",
    "xml_lst=[a[0:a.index('.xml')] for a in xml_lst if '.xml' in a]\n",
    "\n",
    "print('file count not decompiling =',len(set(file_lst)-set(xml_lst)))"
   ]
  },
  {
   "cell_type": "code",
   "execution_count": 125,
   "metadata": {},
   "outputs": [],
   "source": [
    "file_lst=list(set(file_lst)-set(xml_lst))\n",
    "file_lst.sort()"
   ]
  },
  {
   "cell_type": "markdown",
   "metadata": {},
   "source": [
    "# DECOMPILE"
   ]
  },
  {
   "cell_type": "code",
   "execution_count": 130,
   "metadata": {},
   "outputs": [],
   "source": [
    "def command(line):\n",
    "#     f=os.popen(line)\n",
    "#     f.readlines()\n",
    "    proc=subprocess.Popen(line, shell=True) \n",
    "    try:\n",
    "        outs, errs = proc.communicate(timeout=20)\n",
    "    except subprocess.TimeoutExpired:\n",
    "        proc.kill()\n",
    "        print(line)\n",
    "        outs, errs = proc.communicate()"
   ]
  },
  {
   "cell_type": "code",
   "execution_count": null,
   "metadata": {},
   "outputs": [],
   "source": [
    "## f=os.popen(f'sudo chmod +x {dex2jar}/d2j_invoke.sh')\n",
    "f.readlines()\n",
    "start = timeit.default_timer()\n",
    "for i,file in enumerate(file_lst):\n",
    "    if i%10==0 and i!=0:\n",
    "        stop = timeit.default_timer()\n",
    "        print('Time: %s s'% str(stop - start))  \n",
    "        start = timeit.default_timer()\n",
    "    \n",
    "    apk_file=file+'.apk'\n",
    "    apk_file_path=os.path.join( apk_path,  apk_file)\n",
    "    \n",
    "    output_jar=os.path.join(decompile_path, apk_file+'.jar')\n",
    "    command(f'sh {dex2jar} -f -o {output_jar} {apk_file_path}')\n",
    "#     break\n",
    "    \n",
    "    java_code_folder1 = os.path.join(decompile_path, file)\n",
    "    os.mkdir(java_code_folder1)\n",
    "    command(f'java -jar {jd_cli} -od {java_code_folder1} {output_jar}')\n",
    "\n",
    "    java_code_folder2 = os.path.join(decompile_path, file+'_p2')\n",
    "    command(f'apktool d {apk_file_path} -o {java_code_folder2}')\n",
    "    \n",
    "    command(f'cp {java_code_folder2}/AndroidManifest.xml {decompile_path}/xml_files/{file}.xml')\n",
    "    \n",
    "    command(f'rm -rf {output_jar}')\n",
    "    command(f'rm -rf {java_code_folder2}')\n",
    "#     command(f'rm -rf {java_code_folder1}')\n"
   ]
  }
 ],
 "metadata": {
  "kernelspec": {
   "display_name": "Python 3",
   "language": "python",
   "name": "python3"
  },
  "language_info": {
   "codemirror_mode": {
    "name": "ipython",
    "version": 3
   },
   "file_extension": ".py",
   "mimetype": "text/x-python",
   "name": "python",
   "nbconvert_exporter": "python",
   "pygments_lexer": "ipython3",
   "version": "3.7.7"
  }
 },
 "nbformat": 4,
 "nbformat_minor": 4
}
