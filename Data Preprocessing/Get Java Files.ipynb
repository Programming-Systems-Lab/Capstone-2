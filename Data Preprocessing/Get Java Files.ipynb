{
 "cells": [
  {
   "cell_type": "code",
   "execution_count": null,
   "metadata": {},
   "outputs": [],
   "source": [
    "import os\n",
    "import io\n",
    "from os import listdir\n",
    "from os.path import isfile, join\n",
    "import pickle\n",
    "\n",
    "import pandas as pd"
   ]
  },
  {
   "cell_type": "code",
   "execution_count": null,
   "metadata": {},
   "outputs": [],
   "source": [
    "def get_java_files(path):\n",
    "    global int_sensor\n",
    "    global dic\n",
    "    \n",
    "    lst_Repack = listdir(path)  # Get all the apps (directory)\n",
    "    lst_Repack = [f for f in lst_Repack if f != '.DS_Store']  # Remove '.DS_Store'\n",
    "    \n",
    "    cnt = 0\n",
    "    for folder in lst_Repack:\n",
    "        print('APK', cnt, folder)\n",
    "        dic[folder] = []\n",
    "        java_file('sources', folder, '%s%s' % (path, folder))\n",
    "        cnt += 1"
   ]
  },
  {
   "cell_type": "code",
   "execution_count": null,
   "metadata": {},
   "outputs": [],
   "source": [
    "def java_file(f, apk, path):\n",
    "    '''Go into a directory and find all the java files in that folder until there's no directory any more.'''\n",
    "    if '.java' in f:  # If a file is a java file, then call search() method to get sensor information.\n",
    "        dic[apk].append(os.path.join(path, '%s' % (f)))\n",
    "        \n",
    "    elif '.' not in f:  # If it's a directory, then call java_file() for each file or directory inside it.\n",
    "        files = listdir(os.path.join(path, '%s' % (f)))\n",
    "        for file in files:\n",
    "            java_file(file, apk, os.path.join(path, '%s' % (f)))"
   ]
  },
  {
   "cell_type": "code",
   "execution_count": null,
   "metadata": {},
   "outputs": [],
   "source": [
    "path = 'Repack_APK/'\n",
    "dic = {}  \n",
    "get_java_files(path)  "
   ]
  },
  {
   "cell_type": "code",
   "execution_count": null,
   "metadata": {},
   "outputs": [],
   "source": []
  }
 ],
 "metadata": {
  "kernelspec": {
   "display_name": "Python 3",
   "language": "python",
   "name": "python3"
  },
  "language_info": {
   "codemirror_mode": {
    "name": "ipython",
    "version": 3
   },
   "file_extension": ".py",
   "mimetype": "text/x-python",
   "name": "python",
   "nbconvert_exporter": "python",
   "pygments_lexer": "ipython3",
   "version": "3.7.6"
  }
 },
 "nbformat": 4,
 "nbformat_minor": 4
}
