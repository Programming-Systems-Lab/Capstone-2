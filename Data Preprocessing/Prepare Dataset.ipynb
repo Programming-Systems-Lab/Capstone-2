{
 "cells": [
  {
   "cell_type": "code",
   "execution_count": 2,
   "metadata": {},
   "outputs": [],
   "source": [
    "import pandas as pd\n",
    "import numpy as np"
   ]
  },
  {
   "cell_type": "code",
   "execution_count": 38,
   "metadata": {},
   "outputs": [],
   "source": [
    "benign_original = pd.read_csv('VT Dataset/DataSet_Original_Repackaged.csv')  # Original benign apps (VirusTotal scan: 0 detected)\n",
    "malicious_repackaged = pd.read_csv('VT Dataset/Dataset_Repackaged_Malware.csv')  # Repackaged malware (VirusTotal scan: >=2 detected)\n",
    "benign_repackage = pd.read_csv('VT Dataset/DataSet_Benign_Repackaged.csv')  # Repackaged benign apps (VirusTotal scan: 0 detected)\n",
    "\n",
    "COVID_malware = pd.read_csv('VT Dataset/DataSet_COVID_Repackaged_Malware.csv')\n",
    "COVID_benign = pd.read_csv('VT Dataset/DataSet_COVID_Benign.csv')\n",
    "other_COVID = pd.read_csv('VT Dataset/Dataset_COVID_Other_Malware.csv')\n",
    "\n",
    "sensor_usage = pd.read_csv('Sensor Dataset/New_Sensor_Usage.csv').drop(['Unnamed: 0'], axis = 1)\n",
    "COVID_malware_sensor_usage = pd.read_csv('Sensor Dataset/COVID_Malware_Sensor_Usage.csv').drop(['Category'], axis = 1)\n",
    "COVID_benign_sensor_usage = pd.read_csv('Sensor Dataset/COVID_Benign_Sensor_Usage.csv').drop(['Category'], axis = 1)\n",
    "other_COVID_sensor_usage = pd.read_csv('Sensor Dataset/Other_COVID_Malware_Sensor_Usage.csv').drop(['Category'], axis = 1)"
   ]
  },
  {
   "cell_type": "code",
   "execution_count": 48,
   "metadata": {},
   "outputs": [],
   "source": [
    "original_libs_hash = pd.read_csv('Original_Benign_Libs_Hashes.txt', header = None)\n",
    "sha256_repack_libs_misuse = pd.read_csv('SHA256_Repackaged_Libs_Misuse.txt', header = None)\n",
    "\n",
    "sha256_repack_libs_misuse.columns = ['SHA256']\n",
    "sha256_repack_libs_misuse['if_the_app_using_suspicious_libs'] = 1"
   ]
  },
  {
   "cell_type": "code",
   "execution_count": 39,
   "metadata": {},
   "outputs": [],
   "source": [
    "COVID_malware_sensor_usage['SHA256'] = [apk.upper() for apk in COVID_malware_sensor_usage['SHA256'].to_list()]\n",
    "COVID_benign_sensor_usage['SHA256'] = [apk.upper() for apk in COVID_benign_sensor_usage['SHA256'].to_list()]\n",
    "other_COVID_sensor_usage['SHA256'] = [apk.upper() for apk in other_COVID_sensor_usage['SHA256'].to_list()]\n",
    "\n",
    "benign_original.rename(columns = {'MD5': 'SHA256'}, inplace = True)"
   ]
  },
  {
   "cell_type": "code",
   "execution_count": 40,
   "metadata": {},
   "outputs": [],
   "source": [
    "training_dataset = pd.concat([benign_original, malicious_repackaged])\n",
    "COVID_testset = pd.concat([COVID_malware, COVID_benign, other_COVID])\n",
    "COVID_sensor_usage = pd.concat([COVID_malware_sensor_usage, COVID_benign_sensor_usage, other_COVID_sensor_usage])"
   ]
  },
  {
   "cell_type": "code",
   "execution_count": 41,
   "metadata": {},
   "outputs": [],
   "source": [
    "training_dataset = training_dataset[(training_dataset['Malware/Benign'] == 0) | (training_dataset['Malware/Benign'] >= 5)]\n",
    "COVID_testset = COVID_testset[(COVID_testset['Malware/Benign'] == 0) | (COVID_testset['Malware/Benign'] >= 5)]\n"
   ]
  },
  {
   "cell_type": "code",
   "execution_count": 42,
   "metadata": {},
   "outputs": [],
   "source": [
    "training_dataset['label'] = training_dataset['Malware/Benign'].apply(lambda x: 0 if x == 0 else 1)\n",
    "COVID_testset['label'] = COVID_testset['Malware/Benign'].apply(lambda x: 0 if x == 0 else 1)\n",
    "benign_repackage['label'] = 0"
   ]
  },
  {
   "cell_type": "code",
   "execution_count": 43,
   "metadata": {},
   "outputs": [],
   "source": [
    "training_dataset = training_dataset.merge(sensor_usage, how = 'left', on = 'SHA256').drop_duplicates()\n",
    "test_dataset = benign_repackage.merge(sensor_usage, how = 'left', on = 'SHA256').drop_duplicates()\n",
    "COVID_testset = COVID_testset.merge(COVID_sensor_usage, how = 'left', on = 'SHA256').drop_duplicates()"
   ]
  },
  {
   "cell_type": "code",
   "execution_count": 44,
   "metadata": {},
   "outputs": [],
   "source": [
    "labels_training = training_dataset[['label']]\n",
    "labels_test = test_dataset[['label']]\n",
    "labels_COVID_test = COVID_testset[['label']]\n",
    "\n",
    "training_dataset.drop(['label'], axis = 1, inplace = True)\n",
    "test_dataset.drop(['label'], axis = 1, inplace = True)\n",
    "COVID_testset.drop(['label'], axis = 1, inplace = True)"
   ]
  },
  {
   "cell_type": "code",
   "execution_count": 49,
   "metadata": {},
   "outputs": [],
   "source": [
    "training_dataset = training_dataset.merge(sha256_repack_libs_misuse, on = 'SHA256', how = 'left')\n",
    "test_dataset = test_dataset.merge(sha256_repack_libs_misuse, on = 'SHA256', how = 'left')\n",
    "training_dataset['if_the_app_using_suspicious_libs'] = training_dataset['if_the_app_using_suspicious_libs'].fillna(0)\n",
    "test_dataset['if_the_app_using_suspicious_libs'] = test_dataset['if_the_app_using_suspicious_libs'].fillna(0)"
   ]
  },
  {
   "cell_type": "code",
   "execution_count": 50,
   "metadata": {},
   "outputs": [],
   "source": [
    "training_dataset.drop_duplicates(inplace = True)\n",
    "test_dataset.drop_duplicates(inplace = True)\n",
    "COVID_testset.drop_duplicates(inplace = True)"
   ]
  },
  {
   "cell_type": "code",
   "execution_count": 63,
   "metadata": {},
   "outputs": [],
   "source": [
    "training_dataset.to_csv('Training Dataset/Training_Dataset.csv', index = False)\n",
    "test_dataset.to_csv('Test Dataset/Repackaged_Benign_Testset.csv', index = False)\n",
    "COVID_testset.to_csv('Test Dataset/COVID_Testset.csv', index = False)"
   ]
  },
  {
   "cell_type": "code",
   "execution_count": 64,
   "metadata": {},
   "outputs": [],
   "source": [
    "labels_training.to_csv('Training Dataset/Labels_trainingset.csv', index = False)\n",
    "labels_test.to_csv('Test Dataset/Labels_testset.csv', index = False)\n",
    "labels_COVID_test.to_csv('Test Dataset/Labels_COVID_testset.csv', index = False)"
   ]
  },
  {
   "cell_type": "code",
   "execution_count": null,
   "metadata": {},
   "outputs": [],
   "source": []
  }
 ],
 "metadata": {
  "kernelspec": {
   "display_name": "Python 3",
   "language": "python",
   "name": "python3"
  },
  "language_info": {
   "codemirror_mode": {
    "name": "ipython",
    "version": 3
   },
   "file_extension": ".py",
   "mimetype": "text/x-python",
   "name": "python",
   "nbconvert_exporter": "python",
   "pygments_lexer": "ipython3",
   "version": "3.7.6"
  }
 },
 "nbformat": 4,
 "nbformat_minor": 4
}
