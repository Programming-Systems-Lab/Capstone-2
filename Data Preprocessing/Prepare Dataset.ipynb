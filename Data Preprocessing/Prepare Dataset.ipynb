{
 "cells": [
  {
   "cell_type": "code",
   "execution_count": 1,
   "metadata": {},
   "outputs": [],
   "source": [
    "import pandas as pd\n",
    "import numpy as np"
   ]
  },
  {
   "cell_type": "code",
   "execution_count": 2,
   "metadata": {},
   "outputs": [],
   "source": [
    "benign_original = pd.read_csv('VT Dataset/DataSet_Original_Repackaged.csv')  # Original benign apps (VirusTotal scan: 0 detected)\n",
    "malicious_repackaged = pd.read_csv('VT Dataset/Dataset_Repackaged_Malware.csv')  # Repackaged malware (VirusTotal scan: >=2 detected)\n",
    "benign_repackage = pd.read_csv('VT Dataset/DataSet_Benign_Repackaged.csv')  # Repackaged benign apps (VirusTotal scan: 0 detected)\n",
    "\n",
    "COVID_malware = pd.read_csv('VT Dataset/DataSet_COVID_Repackaged_Malware.csv')\n",
    "COVID_benign = pd.read_csv('VT Dataset/DataSet_COVID_Benign.csv')\n",
    "\n",
    "sensor_usage = pd.read_csv('Sensor Dataset/[All]Sensor_Usage_without_authors.csv') \n",
    "COVID_malware_sensor_usage = pd.read_csv('Sensor Dataset/COVID_Malware_Sensor_Usage.csv')\n",
    "COVID_benign_sensor_usage = pd.read_csv('Sensor Dataset/COVID_Benign_Sensor_Usage.csv')"
   ]
  },
  {
   "cell_type": "code",
   "execution_count": 3,
   "metadata": {},
   "outputs": [],
   "source": [
    "COVID_malware_sensor_usage['SHA256'] = [apk.upper() for apk in COVID_malware_sensor_usage['SHA256'].to_list()]\n",
    "COVID_benign_sensor_usage['SHA256'] = [apk.upper() for apk in COVID_benign_sensor_usage['SHA256'].to_list()]\n",
    "\n",
    "benign_original.rename(columns = {'MD5': 'SHA256'}, inplace = True)"
   ]
  },
  {
   "cell_type": "code",
   "execution_count": 4,
   "metadata": {},
   "outputs": [],
   "source": [
    "benign_original['label'] = 0\n",
    "benign_repackage['label'] = 0\n",
    "malicious_repackaged['label'] = 1\n",
    "\n",
    "COVID_malware['label'] = 1\n",
    "COVID_benign['label'] = 0"
   ]
  },
  {
   "cell_type": "code",
   "execution_count": 5,
   "metadata": {},
   "outputs": [],
   "source": [
    "training_dataset = pd.concat([benign_original, malicious_repackaged])\n",
    "COVID_testset = pd.concat([COVID_malware, COVID_benign])\n",
    "COVID_sensor_usage = pd.concat([COVID_malware_sensor_usage, COVID_benign_sensor_usage])"
   ]
  },
  {
   "cell_type": "code",
   "execution_count": 6,
   "metadata": {},
   "outputs": [],
   "source": [
    "training_dataset = training_dataset.merge(sensor_usage.drop(['Category'], axis = 1), how = 'left', on = 'SHA256').drop_duplicates()\n",
    "test_dataset = benign_repackage.merge(sensor_usage.drop(['Category'], axis = 1), how = 'left', on = 'SHA256').drop_duplicates()\n",
    "COVID_testset = COVID_testset.merge(COVID_sensor_usage.drop(['Category'], axis = 1), how = 'left', on = 'SHA256').drop_duplicates()"
   ]
  },
  {
   "cell_type": "code",
   "execution_count": 7,
   "metadata": {},
   "outputs": [],
   "source": [
    "labels_training = training_dataset[['label']]\n",
    "labels_test = test_dataset[['label']]\n",
    "labels_COVID_test = COVID_testset[['label']]\n",
    "\n",
    "training_dataset.drop(['label'], axis = 1, inplace = True)\n",
    "test_dataset.drop(['label'], axis = 1, inplace = True)\n",
    "COVID_testset.drop(['label'], axis = 1, inplace = True)"
   ]
  },
  {
   "cell_type": "code",
   "execution_count": 8,
   "metadata": {},
   "outputs": [],
   "source": [
    "training_dataset.drop_duplicates(inplace = True)\n",
    "test_dataset.drop_duplicates(inplace = True)\n",
    "COVID_testset.drop_duplicates(inplace = True)"
   ]
  },
  {
   "cell_type": "code",
   "execution_count": 12,
   "metadata": {},
   "outputs": [],
   "source": [
    "training_dataset.to_csv('Training_Dataset.csv', index = False)\n",
    "test_dataset.to_csv('Test_Dataset.csv', index = False)\n",
    "COVID_testset.to_csv('COVID_Testset.csv', index = False)"
   ]
  },
  {
   "cell_type": "code",
   "execution_count": 14,
   "metadata": {},
   "outputs": [],
   "source": [
    "labels_training.to_csv('Labels.csv', index = False)\n",
    "labels_test.to_csv('Labels_Test.csv', index = False)\n",
    "labels_COVID_test.to_csv('Labels_COVID_Test.csv', index = False)"
   ]
  },
  {
   "cell_type": "code",
   "execution_count": null,
   "metadata": {},
   "outputs": [],
   "source": []
  }
 ],
 "metadata": {
  "kernelspec": {
   "display_name": "Python 3",
   "language": "python",
   "name": "python3"
  },
  "language_info": {
   "codemirror_mode": {
    "name": "ipython",
    "version": 3
   },
   "file_extension": ".py",
   "mimetype": "text/x-python",
   "name": "python",
   "nbconvert_exporter": "python",
   "pygments_lexer": "ipython3",
   "version": "3.7.6"
  }
 },
 "nbformat": 4,
 "nbformat_minor": 4
}
