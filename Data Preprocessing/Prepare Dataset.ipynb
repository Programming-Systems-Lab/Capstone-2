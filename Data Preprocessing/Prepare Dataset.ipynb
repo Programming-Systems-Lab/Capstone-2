{
 "cells": [
  {
   "cell_type": "code",
   "execution_count": 93,
   "metadata": {},
   "outputs": [],
   "source": [
    "import pandas as pd\n",
    "import numpy as np"
   ]
  },
  {
   "cell_type": "code",
   "execution_count": 94,
   "metadata": {},
   "outputs": [],
   "source": [
    "benign_original = pd.read_csv('DataSet_Original_Repackaged.csv')\n",
    "malicious_repackaged = pd.read_csv('Repackaged_Malware_Dataset.csv')\n",
    "benign_repackage = pd.read_csv('DataSet_Benign_Repackaged.csv')\n",
    "\n",
    "sensor_usage = pd.read_csv('[All]Sensor_Usage_without_authors.csv')"
   ]
  },
  {
   "cell_type": "code",
   "execution_count": 95,
   "metadata": {},
   "outputs": [],
   "source": [
    "benign_original.rename(columns = {'MD5': 'SHA256'}, inplace = True)"
   ]
  },
  {
   "cell_type": "code",
   "execution_count": 96,
   "metadata": {},
   "outputs": [],
   "source": [
    "benign_original['label'] = 0\n",
    "benign_repackage['label'] = 0"
   ]
  },
  {
   "cell_type": "code",
   "execution_count": 97,
   "metadata": {},
   "outputs": [],
   "source": [
    "malicious_repackaged['label'] = 1"
   ]
  },
  {
   "cell_type": "code",
   "execution_count": 98,
   "metadata": {},
   "outputs": [],
   "source": [
    "training_dataset = pd.concat([benign_original, malicious_repackaged])"
   ]
  },
  {
   "cell_type": "code",
   "execution_count": 99,
   "metadata": {},
   "outputs": [],
   "source": [
    "training_dataset = training_dataset.merge(sensor_usage.drop(['Category'], axis = 1), how = 'left', on = 'SHA256').drop_duplicates()\n",
    "test_dataset = benign_repackage.merge(sensor_usage.drop(['Category'], axis = 1), how = 'left', on = 'SHA256').drop_duplicates()"
   ]
  },
  {
   "cell_type": "code",
   "execution_count": 100,
   "metadata": {},
   "outputs": [],
   "source": [
    "labels = training_dataset[['label']]\n",
    "labels_test = test_dataset['label']\n",
    "\n",
    "training_dataset.drop(['label'], axis = 1, inplace = True)\n",
    "test_dataset.drop(['label'], axis = 1, inplace = True)"
   ]
  },
  {
   "cell_type": "code",
   "execution_count": 101,
   "metadata": {},
   "outputs": [],
   "source": [
    "training_dataset.to_csv('Training_Dataset.csv', index = False)\n",
    "test_dataset.to_csv('Test_Dataset.csv', index = False)"
   ]
  },
  {
   "cell_type": "code",
   "execution_count": 102,
   "metadata": {},
   "outputs": [],
   "source": [
    "labels.to_csv('Labels.csv', index = False)\n",
    "labels_test.to_csv('Labels_Test.csv', index = False)"
   ]
  },
  {
   "cell_type": "code",
   "execution_count": null,
   "metadata": {},
   "outputs": [],
   "source": []
  }
 ],
 "metadata": {
  "kernelspec": {
   "display_name": "Python 3",
   "language": "python",
   "name": "python3"
  },
  "language_info": {
   "codemirror_mode": {
    "name": "ipython",
    "version": 3
   },
   "file_extension": ".py",
   "mimetype": "text/x-python",
   "name": "python",
   "nbconvert_exporter": "python",
   "pygments_lexer": "ipython3",
   "version": "3.7.6"
  }
 },
 "nbformat": 4,
 "nbformat_minor": 4
}
