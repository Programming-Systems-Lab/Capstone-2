{
 "cells": [
  {
   "cell_type": "code",
   "execution_count": 8,
   "metadata": {},
   "outputs": [],
   "source": [
    "import pandas as pd\n",
    "import numpy as np"
   ]
  },
  {
   "cell_type": "code",
   "execution_count": 9,
   "metadata": {},
   "outputs": [],
   "source": [
    "benign_original = pd.read_csv('DataSet_Original_Repackaged.csv')\n",
    "malicious_repackaged = pd.read_csv('Repackaged_Malware_Dataset.csv')\n",
    "benign_repackage = pd.read_csv('DataSet_Benign_Repackaged.csv')\n",
    "\n",
    "sensor_usage = pd.read_csv('[All]Sensor_Usage_without_authors.csv')\n",
    "\n",
    "COVID = pd.read_csv('DataSet_COVID_Repackaged_Malware.csv')\n",
    "COVID_sensor_usage = pd.read_csv('COVID_Sensor_Usage.csv')"
   ]
  },
  {
   "cell_type": "code",
   "execution_count": 10,
   "metadata": {},
   "outputs": [],
   "source": [
    "benign_original.rename(columns = {'MD5': 'SHA256'}, inplace = True)"
   ]
  },
  {
   "cell_type": "code",
   "execution_count": 11,
   "metadata": {},
   "outputs": [],
   "source": [
    "benign_original['label'] = 0\n",
    "benign_repackage['label'] = 0\n",
    "\n",
    "COVID['label'] = 0"
   ]
  },
  {
   "cell_type": "code",
   "execution_count": 12,
   "metadata": {},
   "outputs": [],
   "source": [
    "malicious_repackaged['label'] = 1"
   ]
  },
  {
   "cell_type": "code",
   "execution_count": 13,
   "metadata": {},
   "outputs": [],
   "source": [
    "training_dataset = pd.concat([benign_original, malicious_repackaged])"
   ]
  },
  {
   "cell_type": "code",
   "execution_count": 14,
   "metadata": {},
   "outputs": [],
   "source": [
    "training_dataset = training_dataset.merge(sensor_usage.drop(['Category'], axis = 1), how = 'left', on = 'SHA256').drop_duplicates()\n",
    "test_dataset = benign_repackage.merge(sensor_usage.drop(['Category'], axis = 1), how = 'left', on = 'SHA256').drop_duplicates()\n",
    "COVID_test_dataset = COVID.merge(COVID_sensor_usage.drop(['Category'], axis = 1), how = 'left', on = 'SHA256').drop_duplicates()"
   ]
  },
  {
   "cell_type": "code",
   "execution_count": 15,
   "metadata": {},
   "outputs": [],
   "source": [
    "labels = training_dataset[['label']]\n",
    "labels_test = test_dataset['label']\n",
    "labels_COVID_test = COVID_test_dataset[['label']]\n",
    "\n",
    "training_dataset.drop(['label'], axis = 1, inplace = True)\n",
    "test_dataset.drop(['label'], axis = 1, inplace = True)\n",
    "COVID_test_dataset.drop(['label'], axis = 1, inplace = True)"
   ]
  },
  {
   "cell_type": "code",
   "execution_count": 18,
   "metadata": {},
   "outputs": [],
   "source": [
    "training_dataset.to_csv('Training_Dataset.csv', index = False)\n",
    "test_dataset.to_csv('Test_Dataset.csv', index = False)\n",
    "COVID_test_dataset.to_csv('COVID_Test_Dataset.csv', index = False)"
   ]
  },
  {
   "cell_type": "code",
   "execution_count": 19,
   "metadata": {},
   "outputs": [],
   "source": [
    "labels.to_csv('Labels.csv', index = False)\n",
    "labels_test.to_csv('Labels_Test.csv', index = False)\n",
    "labels_COVID_test.to_csv('Labels_COVID_Test.csv', index = False)"
   ]
  },
  {
   "cell_type": "code",
   "execution_count": null,
   "metadata": {},
   "outputs": [],
   "source": []
  }
 ],
 "metadata": {
  "kernelspec": {
   "display_name": "Python 3",
   "language": "python",
   "name": "python3"
  },
  "language_info": {
   "codemirror_mode": {
    "name": "ipython",
    "version": 3
   },
   "file_extension": ".py",
   "mimetype": "text/x-python",
   "name": "python",
   "nbconvert_exporter": "python",
   "pygments_lexer": "ipython3",
   "version": "3.7.6"
  }
 },
 "nbformat": 4,
 "nbformat_minor": 4
}
