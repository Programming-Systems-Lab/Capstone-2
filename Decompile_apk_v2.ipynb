{
 "cells": [
  {
   "cell_type": "code",
   "execution_count": 6,
   "metadata": {},
   "outputs": [],
   "source": [
    "import os\n",
    "import shutil\n",
    "import zipfile\n",
    "import pandas as pd"
   ]
  },
  {
   "cell_type": "code",
   "execution_count": 7,
   "metadata": {},
   "outputs": [],
   "source": [
    "# output directory to store the results\n",
    "outDir = \"/Users/duanyueyun/Desktop/Capstone/Decompiled_files\"\n",
    "# input directory that contains the APK files\n",
    "inDir = \"/Users/duanyueyun/Desktop/Capstone/APK_files\"\n",
    "# directory to d2j-dex2jar.sh\n",
    "dex2jar = \"/Users/duanyueyun/Desktop/Capstone/dex2jar-2.0/d2j-dex2jar.sh\"\n",
    "# directory to jd-cli.jar\n",
    "jd_cli = \"/Users/duanyueyun/Desktop/Capstone/jd-cli-1.1.0.Final-dist/jd-cli.jar\""
   ]
  },
  {
   "cell_type": "code",
   "execution_count": 8,
   "metadata": {},
   "outputs": [],
   "source": [
    "# get all apk filenames\n",
    "apks=os.listdir(inDir)"
   ]
  },
  {
   "cell_type": "code",
   "execution_count": 9,
   "metadata": {},
   "outputs": [],
   "source": [
    "# just check all files have been downloaded, can skip\n",
    "repack_pairs = pd.read_csv(\"~/Desktop/Capstone/Download apk/repackaging_pairs.txt\", sep=',')\n",
    "mine = repack_pairs.iloc[12001:,:]\n",
    "sha256s = list(mine['SHA256_ORIGINAL'].unique())\n",
    "sha256s += list(mine['SHA256_REPACKAGE'].unique())\n",
    "downloaded = [apk.split('.')[0] for apk in apks]\n",
    "for i in sha256s:\n",
    "    if i not in downloaded:\n",
    "        print(i)"
   ]
  },
  {
   "cell_type": "code",
   "execution_count": 14,
   "metadata": {},
   "outputs": [],
   "source": [
    "for i in range(1):\n",
    "\n",
    "    apk = apks[i]\n",
    "    apk_name=apk.split('.')[0]\n",
    "    \n",
    "    # skip files with extension other than apk\n",
    "    if apk.split('.')[1]!='apk':\n",
    "        continue\n",
    "    \n",
    "    # create a path named by the app's SHA256\n",
    "    output_folder = os.path.join(outDir, apk_name)\n",
    "    \n",
    "    # skip if the app has already been processed\n",
    "    if os.path.exists(output_folder):\n",
    "        continue\n",
    "        \n",
    "    # create the folder\n",
    "    os.mkdir(output_folder)\n",
    "\n",
    "    # path of the .jar file\n",
    "    output_jar = os.path.join(output_folder, apk_name+'.jar')\n",
    "    # path of the apk file\n",
    "    in_apk = os.path.join(inDir, apk)\n",
    "    # obtain the .jar file\n",
    "    os.system(\"sh {} -f -o {} {}\".format(dex2jar, output_jar, in_apk))\n",
    "    \n",
    "    # create a folder named java_sources to store the java files\n",
    "    jar_folder = os.path.join(output_folder, \"java_sources\")\n",
    "    os.mkdir(jar_folder)\n",
    "    \n",
    "    # obtain the java files\n",
    "    os.system(\"java -jar {} -od {} {}\".format(jd_cli, jar_folder, output_jar))\n",
    "    \n",
    "    # remove the .jar file\n",
    "    os.remove(output_jar)\n",
    "    \n",
    "    # obtain xml and smali files\n",
    "    other_folder = os.path.join(output_folder, \"other\")\n",
    "    os.system('apktool d {} -o {}'.format(in_apk, other_folder))\n",
    "    \n",
    "    # delete files that we do not want\n",
    "    for file in os.listdir(other_folder):\n",
    "        if file == 'AndroidManifest.xml' or file == 'smali':\n",
    "            continue\n",
    "        path = os.path.join(other_folder, file)\n",
    "        \n",
    "        if os.path.isdir(path):\n",
    "            shutil.rmtree(path)\n",
    "        else:\n",
    "            os.remove(path)"
   ]
  },
  {
   "cell_type": "code",
   "execution_count": null,
   "metadata": {},
   "outputs": [],
   "source": []
  }
 ],
 "metadata": {
  "kernelspec": {
   "display_name": "Python 3",
   "language": "python",
   "name": "python3"
  },
  "language_info": {
   "codemirror_mode": {
    "name": "ipython",
    "version": 3
   },
   "file_extension": ".py",
   "mimetype": "text/x-python",
   "name": "python",
   "nbconvert_exporter": "python",
   "pygments_lexer": "ipython3",
   "version": "3.7.6"
  }
 },
 "nbformat": 4,
 "nbformat_minor": 2
}
