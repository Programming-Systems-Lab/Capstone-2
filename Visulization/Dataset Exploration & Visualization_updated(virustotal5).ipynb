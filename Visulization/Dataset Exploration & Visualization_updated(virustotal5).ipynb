{
 "cells": [
  {
   "cell_type": "code",
   "execution_count": 40,
   "metadata": {},
   "outputs": [],
   "source": [
    "import pandas as pd\n",
    "import numpy as np\n",
    "import matplotlib.pyplot as plt\n",
    "import seaborn as sns\n",
    "import json\n",
    "from statsmodels.stats.proportion import proportions_ztest\n",
    "from sklearn.feature_selection import chi2"
   ]
  },
  {
   "cell_type": "code",
   "execution_count": 109,
   "metadata": {},
   "outputs": [
    {
     "data": {
      "text/html": [
       "<div>\n",
       "<style scoped>\n",
       "    .dataframe tbody tr th:only-of-type {\n",
       "        vertical-align: middle;\n",
       "    }\n",
       "\n",
       "    .dataframe tbody tr th {\n",
       "        vertical-align: top;\n",
       "    }\n",
       "\n",
       "    .dataframe thead th {\n",
       "        text-align: right;\n",
       "    }\n",
       "</style>\n",
       "<table border=\"1\" class=\"dataframe\">\n",
       "  <thead>\n",
       "    <tr style=\"text-align: right;\">\n",
       "      <th></th>\n",
       "      <th>Package_Name</th>\n",
       "      <th>SHA256</th>\n",
       "      <th>ThumbPrint</th>\n",
       "      <th>Application_Category</th>\n",
       "      <th>Family_Name</th>\n",
       "      <th>Malware_Category</th>\n",
       "      <th>Malware/Benign</th>\n",
       "      <th>Permission: FACTORY_TEST</th>\n",
       "      <th>Permission: DUMP</th>\n",
       "      <th>Permission: BATTERY_STATS</th>\n",
       "      <th>...</th>\n",
       "      <th>pressure</th>\n",
       "      <th>proximity</th>\n",
       "      <th>relative_humidity</th>\n",
       "      <th>rotation_vector</th>\n",
       "      <th>significant_motion</th>\n",
       "      <th>stationary_detect</th>\n",
       "      <th>step_counter</th>\n",
       "      <th>step_detector</th>\n",
       "      <th>temperature</th>\n",
       "      <th>if_the_app_using_suspicious_libs</th>\n",
       "    </tr>\n",
       "  </thead>\n",
       "  <tbody>\n",
       "    <tr>\n",
       "      <th>0</th>\n",
       "      <td>a.com.saichedazhanjiangshi.bianz</td>\n",
       "      <td>53DCE48C4E666132A413F1C0C9D105EF7C018D7D4400E9...</td>\n",
       "      <td>F0CA270347F8E2D6D21F4F249BB6FA82AB6F83E3</td>\n",
       "      <td>NaN</td>\n",
       "      <td>NaN</td>\n",
       "      <td>NaN</td>\n",
       "      <td>0</td>\n",
       "      <td>0</td>\n",
       "      <td>0</td>\n",
       "      <td>0</td>\n",
       "      <td>...</td>\n",
       "      <td>0</td>\n",
       "      <td>0</td>\n",
       "      <td>0</td>\n",
       "      <td>0</td>\n",
       "      <td>0</td>\n",
       "      <td>0</td>\n",
       "      <td>0</td>\n",
       "      <td>0</td>\n",
       "      <td>0</td>\n",
       "      <td>0.0</td>\n",
       "    </tr>\n",
       "    <tr>\n",
       "      <th>1</th>\n",
       "      <td>a.com.saichedazhanjiangshi.bm</td>\n",
       "      <td>D5B7A0B21A9F2893B29939FE703E5FCA6E2625B72B9435...</td>\n",
       "      <td>672C7E09D7971FEFF924CB9BB9DF501B068699D2</td>\n",
       "      <td>NaN</td>\n",
       "      <td>NaN</td>\n",
       "      <td>NaN</td>\n",
       "      <td>0</td>\n",
       "      <td>0</td>\n",
       "      <td>0</td>\n",
       "      <td>0</td>\n",
       "      <td>...</td>\n",
       "      <td>0</td>\n",
       "      <td>0</td>\n",
       "      <td>0</td>\n",
       "      <td>0</td>\n",
       "      <td>0</td>\n",
       "      <td>0</td>\n",
       "      <td>0</td>\n",
       "      <td>0</td>\n",
       "      <td>0</td>\n",
       "      <td>0.0</td>\n",
       "    </tr>\n",
       "    <tr>\n",
       "      <th>2</th>\n",
       "      <td>a.com.tiantianaipaoku.biafewg</td>\n",
       "      <td>9B865DB16D7052C101B075F3B3CBC923F709D101F14EA1...</td>\n",
       "      <td>2567A99F17B580AABE2846936E4CDE5D77D74115</td>\n",
       "      <td>NaN</td>\n",
       "      <td>NaN</td>\n",
       "      <td>NaN</td>\n",
       "      <td>0</td>\n",
       "      <td>0</td>\n",
       "      <td>0</td>\n",
       "      <td>0</td>\n",
       "      <td>...</td>\n",
       "      <td>0</td>\n",
       "      <td>0</td>\n",
       "      <td>0</td>\n",
       "      <td>0</td>\n",
       "      <td>0</td>\n",
       "      <td>0</td>\n",
       "      <td>0</td>\n",
       "      <td>0</td>\n",
       "      <td>0</td>\n",
       "      <td>0.0</td>\n",
       "    </tr>\n",
       "    <tr>\n",
       "      <th>3</th>\n",
       "      <td>a.com.tiantianaipaoku.bianzs</td>\n",
       "      <td>28388B523EB9A554F97AF745710B6A6F074F51AAEE41D2...</td>\n",
       "      <td>61ED377E85D386A8DFEE6B864BD85B0BFAA5AF81</td>\n",
       "      <td>NaN</td>\n",
       "      <td>NaN</td>\n",
       "      <td>NaN</td>\n",
       "      <td>0</td>\n",
       "      <td>0</td>\n",
       "      <td>0</td>\n",
       "      <td>0</td>\n",
       "      <td>...</td>\n",
       "      <td>0</td>\n",
       "      <td>0</td>\n",
       "      <td>0</td>\n",
       "      <td>0</td>\n",
       "      <td>0</td>\n",
       "      <td>0</td>\n",
       "      <td>0</td>\n",
       "      <td>0</td>\n",
       "      <td>0</td>\n",
       "      <td>0.0</td>\n",
       "    </tr>\n",
       "    <tr>\n",
       "      <th>4</th>\n",
       "      <td>advance.car.racing</td>\n",
       "      <td>DCCDDBD3268C0C922170F6C1035AFD670BA020C08012D6...</td>\n",
       "      <td>0C6F6BB008DE7BF449587AE869E463A14137944A</td>\n",
       "      <td>Racing</td>\n",
       "      <td>NaN</td>\n",
       "      <td>NaN</td>\n",
       "      <td>0</td>\n",
       "      <td>0</td>\n",
       "      <td>0</td>\n",
       "      <td>0</td>\n",
       "      <td>...</td>\n",
       "      <td>0</td>\n",
       "      <td>0</td>\n",
       "      <td>0</td>\n",
       "      <td>0</td>\n",
       "      <td>0</td>\n",
       "      <td>0</td>\n",
       "      <td>0</td>\n",
       "      <td>0</td>\n",
       "      <td>0</td>\n",
       "      <td>0.0</td>\n",
       "    </tr>\n",
       "  </tbody>\n",
       "</table>\n",
       "<p>5 rows × 873 columns</p>\n",
       "</div>"
      ],
      "text/plain": [
       "                       Package_Name  \\\n",
       "0  a.com.saichedazhanjiangshi.bianz   \n",
       "1     a.com.saichedazhanjiangshi.bm   \n",
       "2     a.com.tiantianaipaoku.biafewg   \n",
       "3      a.com.tiantianaipaoku.bianzs   \n",
       "4                advance.car.racing   \n",
       "\n",
       "                                              SHA256  \\\n",
       "0  53DCE48C4E666132A413F1C0C9D105EF7C018D7D4400E9...   \n",
       "1  D5B7A0B21A9F2893B29939FE703E5FCA6E2625B72B9435...   \n",
       "2  9B865DB16D7052C101B075F3B3CBC923F709D101F14EA1...   \n",
       "3  28388B523EB9A554F97AF745710B6A6F074F51AAEE41D2...   \n",
       "4  DCCDDBD3268C0C922170F6C1035AFD670BA020C08012D6...   \n",
       "\n",
       "                                 ThumbPrint Application_Category  Family_Name  \\\n",
       "0  F0CA270347F8E2D6D21F4F249BB6FA82AB6F83E3                  NaN          NaN   \n",
       "1  672C7E09D7971FEFF924CB9BB9DF501B068699D2                  NaN          NaN   \n",
       "2  2567A99F17B580AABE2846936E4CDE5D77D74115                  NaN          NaN   \n",
       "3  61ED377E85D386A8DFEE6B864BD85B0BFAA5AF81                  NaN          NaN   \n",
       "4  0C6F6BB008DE7BF449587AE869E463A14137944A               Racing          NaN   \n",
       "\n",
       "   Malware_Category  Malware/Benign  Permission: FACTORY_TEST  \\\n",
       "0               NaN               0                         0   \n",
       "1               NaN               0                         0   \n",
       "2               NaN               0                         0   \n",
       "3               NaN               0                         0   \n",
       "4               NaN               0                         0   \n",
       "\n",
       "   Permission: DUMP  Permission: BATTERY_STATS  ...  pressure  proximity  \\\n",
       "0                 0                          0  ...         0          0   \n",
       "1                 0                          0  ...         0          0   \n",
       "2                 0                          0  ...         0          0   \n",
       "3                 0                          0  ...         0          0   \n",
       "4                 0                          0  ...         0          0   \n",
       "\n",
       "   relative_humidity  rotation_vector  significant_motion  stationary_detect  \\\n",
       "0                  0                0                   0                  0   \n",
       "1                  0                0                   0                  0   \n",
       "2                  0                0                   0                  0   \n",
       "3                  0                0                   0                  0   \n",
       "4                  0                0                   0                  0   \n",
       "\n",
       "   step_counter  step_detector  temperature  if_the_app_using_suspicious_libs  \n",
       "0             0              0            0                               0.0  \n",
       "1             0              0            0                               0.0  \n",
       "2             0              0            0                               0.0  \n",
       "3             0              0            0                               0.0  \n",
       "4             0              0            0                               0.0  \n",
       "\n",
       "[5 rows x 873 columns]"
      ]
     },
     "execution_count": 109,
     "metadata": {},
     "output_type": "execute_result"
    }
   ],
   "source": [
    "dt=pd.read_csv('https://raw.githubusercontent.com/Programming-Systems-Lab/Capstone-2/master/data/Training_Data/Training_Dataset.csv')\n",
    "dt.drop_duplicates(inplace=True)\n",
    "dt.head()"
   ]
  },
  {
   "cell_type": "code",
   "execution_count": 110,
   "metadata": {},
   "outputs": [
    {
     "data": {
      "text/html": [
       "<div>\n",
       "<style scoped>\n",
       "    .dataframe tbody tr th:only-of-type {\n",
       "        vertical-align: middle;\n",
       "    }\n",
       "\n",
       "    .dataframe tbody tr th {\n",
       "        vertical-align: top;\n",
       "    }\n",
       "\n",
       "    .dataframe thead th {\n",
       "        text-align: right;\n",
       "    }\n",
       "</style>\n",
       "<table border=\"1\" class=\"dataframe\">\n",
       "  <thead>\n",
       "    <tr style=\"text-align: right;\">\n",
       "      <th></th>\n",
       "      <th>accelerometer</th>\n",
       "      <th>accelerometer_uncalibrated</th>\n",
       "      <th>ambient_temperature</th>\n",
       "      <th>device_private_base</th>\n",
       "      <th>game_rotation_vector</th>\n",
       "      <th>geomagnetic_rotation_vector</th>\n",
       "      <th>gravity</th>\n",
       "      <th>gyroscope</th>\n",
       "      <th>gyroscope_uncalibrated</th>\n",
       "      <th>heart_beat</th>\n",
       "      <th>...</th>\n",
       "      <th>pressure</th>\n",
       "      <th>proximity</th>\n",
       "      <th>relative_humidity</th>\n",
       "      <th>rotation_vector</th>\n",
       "      <th>significant_motion</th>\n",
       "      <th>stationary_detect</th>\n",
       "      <th>step_counter</th>\n",
       "      <th>step_detector</th>\n",
       "      <th>temperature</th>\n",
       "      <th>Malware</th>\n",
       "    </tr>\n",
       "  </thead>\n",
       "  <tbody>\n",
       "    <tr>\n",
       "      <th>0</th>\n",
       "      <td>0</td>\n",
       "      <td>0</td>\n",
       "      <td>0</td>\n",
       "      <td>0</td>\n",
       "      <td>0</td>\n",
       "      <td>0</td>\n",
       "      <td>0</td>\n",
       "      <td>0</td>\n",
       "      <td>0</td>\n",
       "      <td>0</td>\n",
       "      <td>...</td>\n",
       "      <td>0</td>\n",
       "      <td>0</td>\n",
       "      <td>0</td>\n",
       "      <td>0</td>\n",
       "      <td>0</td>\n",
       "      <td>0</td>\n",
       "      <td>0</td>\n",
       "      <td>0</td>\n",
       "      <td>0</td>\n",
       "      <td>0</td>\n",
       "    </tr>\n",
       "    <tr>\n",
       "      <th>1</th>\n",
       "      <td>0</td>\n",
       "      <td>0</td>\n",
       "      <td>0</td>\n",
       "      <td>0</td>\n",
       "      <td>0</td>\n",
       "      <td>0</td>\n",
       "      <td>0</td>\n",
       "      <td>0</td>\n",
       "      <td>0</td>\n",
       "      <td>0</td>\n",
       "      <td>...</td>\n",
       "      <td>0</td>\n",
       "      <td>0</td>\n",
       "      <td>0</td>\n",
       "      <td>0</td>\n",
       "      <td>0</td>\n",
       "      <td>0</td>\n",
       "      <td>0</td>\n",
       "      <td>0</td>\n",
       "      <td>0</td>\n",
       "      <td>0</td>\n",
       "    </tr>\n",
       "    <tr>\n",
       "      <th>2</th>\n",
       "      <td>0</td>\n",
       "      <td>0</td>\n",
       "      <td>0</td>\n",
       "      <td>0</td>\n",
       "      <td>0</td>\n",
       "      <td>0</td>\n",
       "      <td>0</td>\n",
       "      <td>0</td>\n",
       "      <td>0</td>\n",
       "      <td>0</td>\n",
       "      <td>...</td>\n",
       "      <td>0</td>\n",
       "      <td>0</td>\n",
       "      <td>0</td>\n",
       "      <td>0</td>\n",
       "      <td>0</td>\n",
       "      <td>0</td>\n",
       "      <td>0</td>\n",
       "      <td>0</td>\n",
       "      <td>0</td>\n",
       "      <td>0</td>\n",
       "    </tr>\n",
       "    <tr>\n",
       "      <th>3</th>\n",
       "      <td>0</td>\n",
       "      <td>0</td>\n",
       "      <td>0</td>\n",
       "      <td>0</td>\n",
       "      <td>0</td>\n",
       "      <td>0</td>\n",
       "      <td>0</td>\n",
       "      <td>0</td>\n",
       "      <td>0</td>\n",
       "      <td>0</td>\n",
       "      <td>...</td>\n",
       "      <td>0</td>\n",
       "      <td>0</td>\n",
       "      <td>0</td>\n",
       "      <td>0</td>\n",
       "      <td>0</td>\n",
       "      <td>0</td>\n",
       "      <td>0</td>\n",
       "      <td>0</td>\n",
       "      <td>0</td>\n",
       "      <td>0</td>\n",
       "    </tr>\n",
       "    <tr>\n",
       "      <th>4</th>\n",
       "      <td>0</td>\n",
       "      <td>0</td>\n",
       "      <td>0</td>\n",
       "      <td>0</td>\n",
       "      <td>0</td>\n",
       "      <td>0</td>\n",
       "      <td>0</td>\n",
       "      <td>0</td>\n",
       "      <td>0</td>\n",
       "      <td>0</td>\n",
       "      <td>...</td>\n",
       "      <td>0</td>\n",
       "      <td>0</td>\n",
       "      <td>0</td>\n",
       "      <td>0</td>\n",
       "      <td>0</td>\n",
       "      <td>0</td>\n",
       "      <td>0</td>\n",
       "      <td>0</td>\n",
       "      <td>0</td>\n",
       "      <td>0</td>\n",
       "    </tr>\n",
       "  </tbody>\n",
       "</table>\n",
       "<p>5 rows × 30 columns</p>\n",
       "</div>"
      ],
      "text/plain": [
       "   accelerometer  accelerometer_uncalibrated  ambient_temperature  \\\n",
       "0              0                           0                    0   \n",
       "1              0                           0                    0   \n",
       "2              0                           0                    0   \n",
       "3              0                           0                    0   \n",
       "4              0                           0                    0   \n",
       "\n",
       "   device_private_base  game_rotation_vector  geomagnetic_rotation_vector  \\\n",
       "0                    0                     0                            0   \n",
       "1                    0                     0                            0   \n",
       "2                    0                     0                            0   \n",
       "3                    0                     0                            0   \n",
       "4                    0                     0                            0   \n",
       "\n",
       "   gravity  gyroscope  gyroscope_uncalibrated  heart_beat  ...  pressure  \\\n",
       "0        0          0                       0           0  ...         0   \n",
       "1        0          0                       0           0  ...         0   \n",
       "2        0          0                       0           0  ...         0   \n",
       "3        0          0                       0           0  ...         0   \n",
       "4        0          0                       0           0  ...         0   \n",
       "\n",
       "   proximity  relative_humidity  rotation_vector  significant_motion  \\\n",
       "0          0                  0                0                   0   \n",
       "1          0                  0                0                   0   \n",
       "2          0                  0                0                   0   \n",
       "3          0                  0                0                   0   \n",
       "4          0                  0                0                   0   \n",
       "\n",
       "   stationary_detect  step_counter  step_detector  temperature  Malware  \n",
       "0                  0             0              0            0        0  \n",
       "1                  0             0              0            0        0  \n",
       "2                  0             0              0            0        0  \n",
       "3                  0             0              0            0        0  \n",
       "4                  0             0              0            0        0  \n",
       "\n",
       "[5 rows x 30 columns]"
      ]
     },
     "execution_count": 110,
     "metadata": {},
     "output_type": "execute_result"
    }
   ],
   "source": [
    "### get the ground truth labels\n",
    "dt['Malware/Benign']=dt['Malware/Benign'].apply(lambda x: 1 if x>0 else 0)\n",
    "sensor_usage=dt.iloc[:,-30:-1]\n",
    "sensor_usage['Malware']=dt['Malware/Benign']\n",
    "sensor_usage.head()"
   ]
  },
  {
   "cell_type": "code",
   "execution_count": 111,
   "metadata": {},
   "outputs": [
    {
     "data": {
      "text/plain": [
       "(9538, 30)"
      ]
     },
     "execution_count": 111,
     "metadata": {},
     "output_type": "execute_result"
    }
   ],
   "source": [
    "sensor_usage.shape"
   ]
  },
  {
   "cell_type": "markdown",
   "metadata": {},
   "source": [
    "### How many malware and benign apps?"
   ]
  },
  {
   "cell_type": "code",
   "execution_count": 112,
   "metadata": {
    "scrolled": true
   },
   "outputs": [
    {
     "name": "stdout",
     "output_type": "stream",
     "text": [
      "Number of Malware: 7534 ; Number of Benign Apps: 2004\n"
     ]
    }
   ],
   "source": [
    "print(\"Number of Malware:\", sensor_usage['Malware'].value_counts()[1], ';', \n",
    "      \"Number of Benign Apps:\", sensor_usage['Malware'].value_counts()[0])"
   ]
  },
  {
   "cell_type": "markdown",
   "metadata": {},
   "source": [
    "### How many apps using sensors in each of the two catogiries, malware and benign apps? (Percentage)"
   ]
  },
  {
   "cell_type": "code",
   "execution_count": 113,
   "metadata": {},
   "outputs": [],
   "source": [
    "sensor_usage['Number of Sensor Types'] = sensor_usage.drop(['Malware'], axis = 1).sum(axis = 1)\n",
    "sensor_usage['Using Sensors'] = sensor_usage['Number of Sensor Types'] > 0"
   ]
  },
  {
   "cell_type": "code",
   "execution_count": 114,
   "metadata": {
    "scrolled": true
   },
   "outputs": [
    {
     "data": {
      "text/html": [
       "<div>\n",
       "<style scoped>\n",
       "    .dataframe tbody tr th:only-of-type {\n",
       "        vertical-align: middle;\n",
       "    }\n",
       "\n",
       "    .dataframe tbody tr th {\n",
       "        vertical-align: top;\n",
       "    }\n",
       "\n",
       "    .dataframe thead th {\n",
       "        text-align: right;\n",
       "    }\n",
       "</style>\n",
       "<table border=\"1\" class=\"dataframe\">\n",
       "  <thead>\n",
       "    <tr style=\"text-align: right;\">\n",
       "      <th></th>\n",
       "      <th>accelerometer</th>\n",
       "      <th>accelerometer_uncalibrated</th>\n",
       "      <th>ambient_temperature</th>\n",
       "      <th>device_private_base</th>\n",
       "      <th>game_rotation_vector</th>\n",
       "      <th>geomagnetic_rotation_vector</th>\n",
       "      <th>gravity</th>\n",
       "      <th>gyroscope</th>\n",
       "      <th>gyroscope_uncalibrated</th>\n",
       "      <th>heart_beat</th>\n",
       "      <th>...</th>\n",
       "      <th>relative_humidity</th>\n",
       "      <th>rotation_vector</th>\n",
       "      <th>significant_motion</th>\n",
       "      <th>stationary_detect</th>\n",
       "      <th>step_counter</th>\n",
       "      <th>step_detector</th>\n",
       "      <th>temperature</th>\n",
       "      <th>Malware</th>\n",
       "      <th>Number of Sensor Types</th>\n",
       "      <th>Using Sensors</th>\n",
       "    </tr>\n",
       "  </thead>\n",
       "  <tbody>\n",
       "    <tr>\n",
       "      <th>0</th>\n",
       "      <td>0</td>\n",
       "      <td>0</td>\n",
       "      <td>0</td>\n",
       "      <td>0</td>\n",
       "      <td>0</td>\n",
       "      <td>0</td>\n",
       "      <td>0</td>\n",
       "      <td>0</td>\n",
       "      <td>0</td>\n",
       "      <td>0</td>\n",
       "      <td>...</td>\n",
       "      <td>0</td>\n",
       "      <td>0</td>\n",
       "      <td>0</td>\n",
       "      <td>0</td>\n",
       "      <td>0</td>\n",
       "      <td>0</td>\n",
       "      <td>0</td>\n",
       "      <td>0</td>\n",
       "      <td>0</td>\n",
       "      <td>False</td>\n",
       "    </tr>\n",
       "    <tr>\n",
       "      <th>1</th>\n",
       "      <td>0</td>\n",
       "      <td>0</td>\n",
       "      <td>0</td>\n",
       "      <td>0</td>\n",
       "      <td>0</td>\n",
       "      <td>0</td>\n",
       "      <td>0</td>\n",
       "      <td>0</td>\n",
       "      <td>0</td>\n",
       "      <td>0</td>\n",
       "      <td>...</td>\n",
       "      <td>0</td>\n",
       "      <td>0</td>\n",
       "      <td>0</td>\n",
       "      <td>0</td>\n",
       "      <td>0</td>\n",
       "      <td>0</td>\n",
       "      <td>0</td>\n",
       "      <td>0</td>\n",
       "      <td>0</td>\n",
       "      <td>False</td>\n",
       "    </tr>\n",
       "    <tr>\n",
       "      <th>2</th>\n",
       "      <td>0</td>\n",
       "      <td>0</td>\n",
       "      <td>0</td>\n",
       "      <td>0</td>\n",
       "      <td>0</td>\n",
       "      <td>0</td>\n",
       "      <td>0</td>\n",
       "      <td>0</td>\n",
       "      <td>0</td>\n",
       "      <td>0</td>\n",
       "      <td>...</td>\n",
       "      <td>0</td>\n",
       "      <td>0</td>\n",
       "      <td>0</td>\n",
       "      <td>0</td>\n",
       "      <td>0</td>\n",
       "      <td>0</td>\n",
       "      <td>0</td>\n",
       "      <td>0</td>\n",
       "      <td>0</td>\n",
       "      <td>False</td>\n",
       "    </tr>\n",
       "    <tr>\n",
       "      <th>3</th>\n",
       "      <td>0</td>\n",
       "      <td>0</td>\n",
       "      <td>0</td>\n",
       "      <td>0</td>\n",
       "      <td>0</td>\n",
       "      <td>0</td>\n",
       "      <td>0</td>\n",
       "      <td>0</td>\n",
       "      <td>0</td>\n",
       "      <td>0</td>\n",
       "      <td>...</td>\n",
       "      <td>0</td>\n",
       "      <td>0</td>\n",
       "      <td>0</td>\n",
       "      <td>0</td>\n",
       "      <td>0</td>\n",
       "      <td>0</td>\n",
       "      <td>0</td>\n",
       "      <td>0</td>\n",
       "      <td>0</td>\n",
       "      <td>False</td>\n",
       "    </tr>\n",
       "    <tr>\n",
       "      <th>4</th>\n",
       "      <td>0</td>\n",
       "      <td>0</td>\n",
       "      <td>0</td>\n",
       "      <td>0</td>\n",
       "      <td>0</td>\n",
       "      <td>0</td>\n",
       "      <td>0</td>\n",
       "      <td>0</td>\n",
       "      <td>0</td>\n",
       "      <td>0</td>\n",
       "      <td>...</td>\n",
       "      <td>0</td>\n",
       "      <td>0</td>\n",
       "      <td>0</td>\n",
       "      <td>0</td>\n",
       "      <td>0</td>\n",
       "      <td>0</td>\n",
       "      <td>0</td>\n",
       "      <td>0</td>\n",
       "      <td>0</td>\n",
       "      <td>False</td>\n",
       "    </tr>\n",
       "  </tbody>\n",
       "</table>\n",
       "<p>5 rows × 32 columns</p>\n",
       "</div>"
      ],
      "text/plain": [
       "   accelerometer  accelerometer_uncalibrated  ambient_temperature  \\\n",
       "0              0                           0                    0   \n",
       "1              0                           0                    0   \n",
       "2              0                           0                    0   \n",
       "3              0                           0                    0   \n",
       "4              0                           0                    0   \n",
       "\n",
       "   device_private_base  game_rotation_vector  geomagnetic_rotation_vector  \\\n",
       "0                    0                     0                            0   \n",
       "1                    0                     0                            0   \n",
       "2                    0                     0                            0   \n",
       "3                    0                     0                            0   \n",
       "4                    0                     0                            0   \n",
       "\n",
       "   gravity  gyroscope  gyroscope_uncalibrated  heart_beat  ...  \\\n",
       "0        0          0                       0           0  ...   \n",
       "1        0          0                       0           0  ...   \n",
       "2        0          0                       0           0  ...   \n",
       "3        0          0                       0           0  ...   \n",
       "4        0          0                       0           0  ...   \n",
       "\n",
       "   relative_humidity  rotation_vector  significant_motion  stationary_detect  \\\n",
       "0                  0                0                   0                  0   \n",
       "1                  0                0                   0                  0   \n",
       "2                  0                0                   0                  0   \n",
       "3                  0                0                   0                  0   \n",
       "4                  0                0                   0                  0   \n",
       "\n",
       "   step_counter  step_detector  temperature  Malware  Number of Sensor Types  \\\n",
       "0             0              0            0        0                       0   \n",
       "1             0              0            0        0                       0   \n",
       "2             0              0            0        0                       0   \n",
       "3             0              0            0        0                       0   \n",
       "4             0              0            0        0                       0   \n",
       "\n",
       "   Using Sensors  \n",
       "0          False  \n",
       "1          False  \n",
       "2          False  \n",
       "3          False  \n",
       "4          False  \n",
       "\n",
       "[5 rows x 32 columns]"
      ]
     },
     "execution_count": 114,
     "metadata": {},
     "output_type": "execute_result"
    }
   ],
   "source": [
    "sensor_usage.head()"
   ]
  },
  {
   "cell_type": "code",
   "execution_count": 115,
   "metadata": {},
   "outputs": [
    {
     "data": {
      "image/png": "[encoded data removed]",
      "text/plain": [
       "<Figure size 720x432 with 1 Axes>"
      ]
     },
     "metadata": {
      "needs_background": "light"
     },
     "output_type": "display_data"
    }
   ],
   "source": [
    "benign_sensor_distribution = (sensor_usage[sensor_usage['Malware'] == 0]['Number of Sensor Types'].value_counts()/sensor_usage[sensor_usage['Malware'] == 0].shape[0]).sort_index()\n",
    "malware_sensor_distribution = (sensor_usage[sensor_usage['Malware'] == 1]['Number of Sensor Types'].value_counts()/sensor_usage[sensor_usage['Malware'] == 1].shape[0]).sort_index()\n",
    "x_benign = [str(cnt) for cnt in benign_sensor_distribution.index.to_list()]\n",
    "x_malware = [str(cnt) for cnt in malware_sensor_distribution.index.to_list()]\n",
    "plt.figure(figsize = (10, 6))\n",
    "plt.bar(x_benign, benign_sensor_distribution.values, label = 'Benign apps')\n",
    "plt.bar(x_malware, malware_sensor_distribution.values, alpha = 0.4, label = 'Malware')\n",
    "plt.xlabel('Number of Sensor Types', fontsize = 13)\n",
    "plt.ylabel('Relative Frequency', fontsize = 13)\n",
    "plt.legend(fontsize = 13)\n",
    "plt.title('Distribution of Number of Sensor Types Used By an App', fontsize = 15)\n",
    "plt.show()"
   ]
  },
  {
   "cell_type": "code",
   "execution_count": 116,
   "metadata": {},
   "outputs": [],
   "source": [
    "benign_if_use_sensor = sensor_usage[sensor_usage['Malware'] == 0]['Using Sensors'].value_counts() / sensor_usage[sensor_usage['Malware'] == 0].shape[0]\n",
    "malware_if_use_sensor = sensor_usage[sensor_usage['Malware'] == 1]['Using Sensors'].value_counts() / sensor_usage[sensor_usage['Malware'] == 1].shape[0]"
   ]
  },
  {
   "cell_type": "code",
   "execution_count": 117,
   "metadata": {},
   "outputs": [
    {
     "data": {
      "text/plain": [
       "False    0.799708\n",
       "True     0.200292\n",
       "Name: Using Sensors, dtype: float64"
      ]
     },
     "execution_count": 117,
     "metadata": {},
     "output_type": "execute_result"
    }
   ],
   "source": [
    "malware_if_use_sensor"
   ]
  },
  {
   "cell_type": "code",
   "execution_count": 118,
   "metadata": {
    "scrolled": false
   },
   "outputs": [
    {
     "data": {
      "text/plain": [
       "Text(0.5, 1.0, 'Percentage of Apps Using Sensors & Not Using Senors')"
      ]
     },
     "execution_count": 118,
     "metadata": {},
     "output_type": "execute_result"
    },
    {
     "data": {
      "image/png": "[encoded data removed]",
      "text/plain": [
       "<Figure size 720x432 with 1 Axes>"
      ]
     },
     "metadata": {
      "needs_background": "light"
     },
     "output_type": "display_data"
    }
   ],
   "source": [
    "if_use_sensor = pd.DataFrame({'Benign': benign_if_use_sensor, 'Malware': malware_if_use_sensor}).T\n",
    "plt.figure(figsize = (10, 6))\n",
    "plt.bar(if_use_sensor.index, if_use_sensor[True].values, width = 0.5, label = 'True')\n",
    "plt.bar(if_use_sensor.index, if_use_sensor[False].values, bottom=if_use_sensor[True].values, width = 0.5, label = 'False')\n",
    "\n",
    "plt.xlabel('Type of App', fontsize = 13)\n",
    "plt.ylabel('Percentage', fontsize = 13)\n",
    "plt.legend(fontsize = 13)\n",
    "plt.title('Percentage of Apps Using Sensors & Not Using Senors', fontsize = 15)"
   ]
  },
  {
   "cell_type": "code",
   "execution_count": 119,
   "metadata": {
    "scrolled": true
   },
   "outputs": [
    {
     "name": "stdout",
     "output_type": "stream",
     "text": [
      "z_stat: -13.947, p_value: 0.000\n",
      "Reject the null hypothesis. The number of sensor types used by malware is statistically significant larger than that of original apps.\n"
     ]
    }
   ],
   "source": [
    "# Do statistical test\n",
    "# Null hypothesis: # sensor types used by malware <= # sensor types used by original apps\n",
    "# Alternative hypothesis: # sensor types used by malware > # sensor types used by original apps\n",
    "\n",
    "significance = 0.05\n",
    "\n",
    "sample_success_a, sample_size_a = (sensor_usage[sensor_usage['Malware'] == 0]['Using Sensors'].value_counts().values[1], sensor_usage[sensor_usage['Malware'] == 0].shape[0])\n",
    "sample_success_b, sample_size_b = (sensor_usage[sensor_usage['Malware'] == 1]['Using Sensors'].value_counts().values[1], sensor_usage[sensor_usage['Malware'] == 1].shape[0])\n",
    "\n",
    "successes = np.array([sample_success_a, sample_success_b])\n",
    "samples = np.array([sample_size_a, sample_size_b])\n",
    "\n",
    "stat, p_value = proportions_ztest(count = successes, nobs = samples, alternative = 'smaller')\n",
    "\n",
    "print('z_stat: %0.3f, p_value: %0.3f' % (stat, p_value))\n",
    "if p_value > significance:\n",
    "    print (\"Fail to reject the null hypothesis\")\n",
    "else:\n",
    "    print (\"Reject the null hypothesis. The number of sensor types used by malware is statistically significant larger than that of original apps.\")"
   ]
  },
  {
   "cell_type": "markdown",
   "metadata": {},
   "source": [
    "### Difference between Sensor combinations of each category"
   ]
  },
  {
   "cell_type": "code",
   "execution_count": 120,
   "metadata": {},
   "outputs": [],
   "source": [
    "int_sensor = {1: 'accelerometer', 35: 'accelerometer_uncalibrated', -1: 'all', \n",
    "              13: 'ambient_temperature', 65536: 'device_private_base', 15: 'game_rotation_vector', \n",
    "              20: 'geomagnetic_rotation_vector', 9: 'gravity', 4: 'gyroscope', 16: 'gyroscope_uncalibrated', \n",
    "              31: 'heart_beat', 21: 'heart_rate', 36: 'hinge_angle', 5: 'light', 10: 'linear_acceleration', \n",
    "              34: 'low_latency_offbody_detect', 2: 'magnetic_field', 14: 'magnetic_field_uncalibrated', \n",
    "              30: 'motion_detect', 3: 'orientation', 28: 'pose_6dof', 6: 'pressure', 8: 'proximity', \n",
    "              12: 'relative_humidity', 11: 'rotation_vector', 17: 'significant_motion', 29: 'stationary_detect', \n",
    "              19: 'step_counter', 18: 'step_detector', 7: 'temperature'}"
   ]
  },
  {
   "cell_type": "code",
   "execution_count": 121,
   "metadata": {},
   "outputs": [],
   "source": [
    "sensor_int = {val: key for key, val in int_sensor.items()}"
   ]
  },
  {
   "cell_type": "code",
   "execution_count": 122,
   "metadata": {},
   "outputs": [],
   "source": [
    "X = sensor_usage.drop(['Malware'], axis = 1)\n",
    "X.columns = [str(sensor_int.get(t)) for t in X.drop(['Number of Sensor Types', 'Using Sensors'], axis = 1).columns.to_list()] + ['Number of Sensor Types', 'Using Sensors']\n"
   ]
  },
  {
   "cell_type": "code",
   "execution_count": 123,
   "metadata": {},
   "outputs": [],
   "source": [
    "combinations = []\n",
    "for i in X.index:\n",
    "    combination = ''\n",
    "    for f in X.drop(['Number of Sensor Types', 'Using Sensors'], axis = 1).columns:\n",
    "        if X.loc[i][f] > 0:\n",
    "            combination += f + ','\n",
    "    combination = combination.strip(',')\n",
    "    combinations.append(combination)"
   ]
  },
  {
   "cell_type": "code",
   "execution_count": 125,
   "metadata": {},
   "outputs": [],
   "source": [
    "sensor_usage['Combination'] = combinations"
   ]
  },
  {
   "cell_type": "code",
   "execution_count": 126,
   "metadata": {},
   "outputs": [],
   "source": [
    "benign_combination_df = (sensor_usage[sensor_usage['Malware'] == 0]['Combination'].value_counts()[1:]/sensor_usage[(sensor_usage['Malware'] == 0) & (sensor_usage['Using Sensors'] == True)].shape[0]).to_frame().reset_index()\n",
    "malware_combination_df = (sensor_usage[sensor_usage['Malware'] == 1]['Combination'].value_counts()[1:]/sensor_usage[(sensor_usage['Malware'] == 1) & (sensor_usage['Using Sensors'] == True)].shape[0]).to_frame().reset_index()\n",
    "combination_df = benign_combination_df.merge(malware_combination_df, on = 'index', how = 'outer')\n",
    "combination_df.columns = ['Combination', 'Percentage_Benign', 'Percentage_Malware']\n",
    "combination_df = combination_df.fillna(0)"
   ]
  },
  {
   "cell_type": "code",
   "execution_count": 138,
   "metadata": {},
   "outputs": [
    {
     "data": {
      "text/plain": [
       "Text(0.5, 1.0, 'Distribution of Combination of Sensor Types Used By an App')"
      ]
     },
     "execution_count": 138,
     "metadata": {},
     "output_type": "execute_result"
    },
    {
     "data": {
      "image/png": "[encoded data removed]",
      "text/plain": [
       "<Figure size 720x432 with 1 Axes>"
      ]
     },
     "metadata": {
      "needs_background": "light"
     },
     "output_type": "display_data"
    }
   ],
   "source": [
    "plt.figure(figsize = (10, 6))\n",
    "plt.bar(combination_df['Combination'], combination_df['Percentage_Benign'], label = 'Benign apps')\n",
    "plt.bar(combination_df['Combination'], combination_df['Percentage_Malware'], alpha = 0.4, label = 'Malware')\n",
    "plt.xlabel('Combination of Sensor Types', fontsize = 13)\n",
    "plt.ylabel('Relative Frequency', fontsize = 13)\n",
    "plt.xticks(rotation = 25)\n",
    "plt.legend(fontsize = 13)\n",
    "plt.title('Distribution of Combination of Sensor Types Used By an App', fontsize = 15)"
   ]
  },
  {
   "cell_type": "markdown",
   "metadata": {},
   "source": [
    "### Correlation of sensor one-hot features with target"
   ]
  },
  {
   "cell_type": "code",
   "execution_count": 132,
   "metadata": {},
   "outputs": [],
   "source": [
    "# One-hot encode feature `Combiantion`\n",
    "sensor_usage = sensor_usage.join(pd.get_dummies(sensor_usage['Combination'], prefix='Combination')).drop(['Combination', 'Combination_'], axis = 1)"
   ]
  },
  {
   "cell_type": "code",
   "execution_count": 134,
   "metadata": {},
   "outputs": [],
   "source": [
    "X = sensor_usage.drop(['Malware'], axis = 1)\n",
    "y = sensor_usage['Malware']"
   ]
  },
  {
   "cell_type": "code",
   "execution_count": 135,
   "metadata": {},
   "outputs": [],
   "source": [
    "chi_2, p = chi2(X, y)"
   ]
  },
  {
   "cell_type": "code",
   "execution_count": 136,
   "metadata": {},
   "outputs": [
    {
     "data": {
      "text/plain": [
       "Text(0.5, 1.0, 'P-values of Chi2 Test')"
      ]
     },
     "execution_count": 136,
     "metadata": {},
     "output_type": "execute_result"
    },
    {
     "data": {
      "image/png": "[encoded data removed]",
      "text/plain": [
       "<Figure size 720x432 with 1 Axes>"
      ]
     },
     "metadata": {
      "needs_background": "light"
     },
     "output_type": "display_data"
    }
   ],
   "source": [
    "plt.figure(figsize = (10, 6))\n",
    "plt.scatter(np.arange(1, 1+X.shape[1]), p)\n",
    "plt.axhline(y = 0.05, color = 'r', linestyle = '-', label = 'p = 0.05')\n",
    "plt.xlabel('Features', fontsize = 13)\n",
    "plt.ylabel('p-value', fontsize = 13)\n",
    "plt.legend()\n",
    "plt.title('P-values of Chi2 Test', fontsize = 15)"
   ]
  },
  {
   "cell_type": "code",
   "execution_count": 137,
   "metadata": {},
   "outputs": [
    {
     "name": "stdout",
     "output_type": "stream",
     "text": [
      "The features not correlated with target are: ['accelerometer', 'light', 'proximity', 'temperature', 'Combination_1,2', 'Combination_1,2,8', 'Combination_1,3', 'Combination_1,5,2,3,8,7', 'Combination_1,8', 'Combination_5', 'Combination_8']\n"
     ]
    },
    {
     "name": "stderr",
     "output_type": "stream",
     "text": [
      "/Users/jessie/anaconda3/lib/python3.7/site-packages/ipykernel_launcher.py:1: RuntimeWarning: invalid value encountered in greater\n",
      "  \"\"\"Entry point for launching an IPython kernel.\n"
     ]
    }
   ],
   "source": [
    "print('The features not correlated with target are:',  X.iloc[:, p > 0.05].columns.to_list())"
   ]
  },
  {
   "cell_type": "code",
   "execution_count": null,
   "metadata": {},
   "outputs": [],
   "source": []
  }
 ],
 "metadata": {
  "kernelspec": {
   "display_name": "Python 3",
   "language": "python",
   "name": "python3"
  },
  "language_info": {
   "codemirror_mode": {
    "name": "ipython",
    "version": 3
   },
   "file_extension": ".py",
   "mimetype": "text/x-python",
   "name": "python",
   "nbconvert_exporter": "python",
   "pygments_lexer": "ipython3",
   "version": "3.7.3"
  }
 },
 "nbformat": 4,
 "nbformat_minor": 4
}
