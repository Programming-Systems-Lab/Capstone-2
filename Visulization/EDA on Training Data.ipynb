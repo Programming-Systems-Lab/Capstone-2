{
 "cells": [
  {
   "cell_type": "code",
   "execution_count": 1,
   "metadata": {},
   "outputs": [],
   "source": [
    "import pandas as pd\n",
    "import numpy as np\n",
    "import matplotlib.pyplot as plt\n",
    "pd.set_option('mode.chained_assignment', None)\n",
    "from sklearn.metrics import jaccard_score\n",
    "import umap"
   ]
  },
  {
   "cell_type": "code",
   "execution_count": 2,
   "metadata": {},
   "outputs": [],
   "source": [
    "# data import\n",
    "data = pd.read_csv('Training_Dataset.csv')\n",
    "pairs = pd.read_csv(\"/Users/duanyueyun/Desktop/Capstone/notebooks (final)/Download apk/repackaging_pairs.txt\")"
   ]
  },
  {
   "cell_type": "code",
   "execution_count": 3,
   "metadata": {},
   "outputs": [
    {
     "name": "stdout",
     "output_type": "stream",
     "text": [
      "Distribution of target:\n"
     ]
    },
    {
     "data": {
      "text/plain": [
       "1    0.816779\n",
       "0    0.183221\n",
       "Name: label, dtype: float64"
      ]
     },
     "execution_count": 3,
     "metadata": {},
     "output_type": "execute_result"
    }
   ],
   "source": [
    "print(\"Distribution of target:\")\n",
    "data['label'].value_counts()/data.shape[0]"
   ]
  },
  {
   "cell_type": "code",
   "execution_count": 4,
   "metadata": {},
   "outputs": [],
   "source": [
    "# Delete useless features told by Shirish\n",
    "data.drop(['Package_Name', 'ThumbPrint', 'Application_Category', \n",
    "        'Family_Name', 'Malware_Category', 'Malware/Benign',\n",
    "       'sdkVersion', 'targetSdkVersion'], axis = 1, inplace = True)"
   ]
  },
  {
   "cell_type": "code",
   "execution_count": 5,
   "metadata": {},
   "outputs": [],
   "source": [
    "# Drop features with 0 variance\n",
    "data.drop(data.columns[data.nunique()==1].to_list(), axis = 1, inplace = True)"
   ]
  },
  {
   "cell_type": "code",
   "execution_count": 6,
   "metadata": {},
   "outputs": [],
   "source": [
    "# drop duplicate rows\n",
    "data = data[~data.duplicated(keep='first')]\n",
    "y = data['label']"
   ]
  },
  {
   "cell_type": "code",
   "execution_count": 7,
   "metadata": {},
   "outputs": [
    {
     "data": {
      "text/plain": [
       "(10951, 354)"
      ]
     },
     "execution_count": 7,
     "metadata": {},
     "output_type": "execute_result"
    }
   ],
   "source": [
    "data.shape"
   ]
  },
  {
   "cell_type": "markdown",
   "metadata": {},
   "source": [
    "# Calculating Jaccard similarity"
   ]
  },
  {
   "cell_type": "code",
   "execution_count": 8,
   "metadata": {},
   "outputs": [
    {
     "name": "stdout",
     "output_type": "stream",
     "text": [
      "Number of original apps: 2004\n",
      "Number of repackaged apps: 8947\n"
     ]
    }
   ],
   "source": [
    "print(\"Number of original apps:\", data[data['label']==0].shape[0])\n",
    "print(\"Number of repackaged apps:\", data[data['label']==1].shape[0])"
   ]
  },
  {
   "cell_type": "code",
   "execution_count": 9,
   "metadata": {},
   "outputs": [
    {
     "data": {
      "text/plain": [
       "(3797, 2)"
      ]
     },
     "execution_count": 9,
     "metadata": {},
     "output_type": "execute_result"
    }
   ],
   "source": [
    "# obtain pairs where both the original and repackaged apps are in the benign/malware dataset\n",
    "sample_pairs = pairs[(pairs['SHA256_ORIGINAL'].isin(data['SHA256']))&\n",
    "                     (pairs['SHA256_REPACKAGE'].isin(data['SHA256']))]\n",
    "sample_pairs.shape"
   ]
  },
  {
   "cell_type": "code",
   "execution_count": 10,
   "metadata": {},
   "outputs": [
    {
     "name": "stdout",
     "output_type": "stream",
     "text": [
      "Number of original apps (with pair): 690\n",
      "Number of repackaged apps (with pair): 3797\n"
     ]
    }
   ],
   "source": [
    "print(\"Number of original apps (with pair):\", sample_pairs['SHA256_ORIGINAL'].nunique())\n",
    "print(\"Number of repackaged apps (with pair):\", sample_pairs['SHA256_REPACKAGE'].nunique())"
   ]
  },
  {
   "cell_type": "code",
   "execution_count": 11,
   "metadata": {},
   "outputs": [],
   "source": [
    "# compute jaccard similarity\n",
    "scores = []\n",
    "for idx, row in sample_pairs.iterrows():\n",
    "    # locate the feature vector of original app\n",
    "    original = data[data['SHA256']==row['SHA256_ORIGINAL']]\n",
    "    original = np.array(original.drop(columns=['label','SHA256']))\n",
    "    # locate the feature vector of repackaged app\n",
    "    repack = data[data['SHA256']==row['SHA256_REPACKAGE']]\n",
    "    repack = np.array(repack.drop(columns=['label','SHA256']))\n",
    "    # compute jaccard similarity\n",
    "    scores.append(jaccard_score(original[0], repack[0]))\n",
    "sample_pairs['Jaccard_similarity'] = scores"
   ]
  },
  {
   "cell_type": "code",
   "execution_count": 12,
   "metadata": {},
   "outputs": [
    {
     "data": {
      "text/plain": [
       "count    3797.000000\n",
       "mean        0.883665\n",
       "std         0.200107\n",
       "min         0.000000\n",
       "25%         0.852941\n",
       "50%         1.000000\n",
       "75%         1.000000\n",
       "max         1.000000\n",
       "Name: Jaccard_similarity, dtype: float64"
      ]
     },
     "execution_count": 12,
     "metadata": {},
     "output_type": "execute_result"
    }
   ],
   "source": [
    "# summary statistics\n",
    "sample_pairs['Jaccard_similarity'].describe()"
   ]
  },
  {
   "cell_type": "code",
   "execution_count": 13,
   "metadata": {},
   "outputs": [
    {
     "name": "stdout",
     "output_type": "stream",
     "text": [
      "Number of pairs with Jaccard similarity of 1: 1911\n",
      "Number of original apps: 385\n",
      "Number of repackaged apps: 1911\n"
     ]
    }
   ],
   "source": [
    "same_pairs = sample_pairs[sample_pairs['Jaccard_similarity']==1]\n",
    "print(\"Number of pairs with Jaccard similarity of 1:\", same_pairs.shape[0])\n",
    "print(\"Number of original apps:\", same_pairs['SHA256_ORIGINAL'].nunique())\n",
    "print(\"Number of repackaged apps:\", same_pairs['SHA256_REPACKAGE'].nunique())"
   ]
  },
  {
   "cell_type": "markdown",
   "metadata": {},
   "source": [
    "# Visualizing the apps in 2D Space"
   ]
  },
  {
   "cell_type": "code",
   "execution_count": 14,
   "metadata": {},
   "outputs": [
    {
     "data": {
      "text/plain": [
       "(10951, 354)"
      ]
     },
     "execution_count": 14,
     "metadata": {},
     "output_type": "execute_result"
    }
   ],
   "source": [
    "data.shape"
   ]
  },
  {
   "cell_type": "code",
   "execution_count": 15,
   "metadata": {},
   "outputs": [
    {
     "data": {
      "text/plain": [
       "(297, 354)"
      ]
     },
     "execution_count": 15,
     "metadata": {},
     "output_type": "execute_result"
    }
   ],
   "source": [
    "# sample apps that belong to an original-repackaged pair\n",
    "s = sample_pairs.sample(n=200, random_state=100)\n",
    "sample1 = data[(data['SHA256'].isin(s['SHA256_ORIGINAL']))|\n",
    "      ((data['SHA256'].isin(s['SHA256_REPACKAGE'])))]\n",
    "sample1.shape"
   ]
  },
  {
   "cell_type": "code",
   "execution_count": 16,
   "metadata": {},
   "outputs": [
    {
     "name": "stderr",
     "output_type": "stream",
     "text": [
      "/Users/duanyueyun/miniconda3/lib/python3.7/site-packages/umap/umap_.py:1530: UserWarning: gradient function is not yet implemented for jaccard distance metric; inverse_transform will be unavailable\n",
      "  \"inverse_transform will be unavailable\".format(self.metric)\n"
     ]
    },
    {
     "data": {
      "text/plain": [
       "(297, 2)"
      ]
     },
     "execution_count": 16,
     "metadata": {},
     "output_type": "execute_result"
    }
   ],
   "source": [
    "u = umap.UMAP(metric=\"jaccard\", n_neighbors=2, min_dist=0.1)\\\n",
    ".fit_transform(sample1.drop(columns=['SHA256','label']))\n",
    "u.shape"
   ]
  },
  {
   "cell_type": "code",
   "execution_count": 17,
   "metadata": {},
   "outputs": [],
   "source": [
    "sample1['x1'] = u[:,0]\n",
    "sample1['x2'] = u[:,1]"
   ]
  },
  {
   "cell_type": "code",
   "execution_count": 18,
   "metadata": {},
   "outputs": [
    {
     "data": {
      "image/png": "[encoded data removed]",
      "text/plain": [
       "<Figure size 576x360 with 1 Axes>"
      ]
     },
     "metadata": {
      "needs_background": "light"
     },
     "output_type": "display_data"
    }
   ],
   "source": [
    "plt.subplots(figsize=(8,5))\n",
    "plt.axis('off')\n",
    "plt.scatter(sample1[sample1['label']==1]['x1'], sample1[sample1['label']==1]['x2'], \n",
    "            marker ='^', c='red', alpha=0.5)\n",
    "plt.scatter(sample1[sample1['label']==0]['x1'], sample1[sample1['label']==0]['x2'],\n",
    "            marker = 'o', c='green',alpha=0.5)\n",
    "plt.legend(['Malware','Benign'], loc='upper center', bbox_to_anchor=(0.5, 0.05),\n",
    "          fancybox=True, shadow=True, ncol=5, markerscale=1.2, \n",
    "          fontsize=14)\n",
    "#plt.savefig(\"safe_learning.png\")\n",
    "plt.title(\"Original-Repackaged App Pairs\")\n",
    "plt.show()"
   ]
  },
  {
   "cell_type": "code",
   "execution_count": 19,
   "metadata": {},
   "outputs": [
    {
     "data": {
      "text/plain": [
       "(297, 354)"
      ]
     },
     "execution_count": 19,
     "metadata": {},
     "output_type": "execute_result"
    }
   ],
   "source": [
    "# sample apps without its original/repackaged counterpart\n",
    "s2 = data[~(data['SHA256'].isin(sample_pairs['SHA256_ORIGINAL']))&\n",
    "      (~(data['SHA256'].isin(sample_pairs['SHA256_REPACKAGE'])))]\n",
    "sample2 = s2.sample(n=297, random_state=100)\n",
    "sample2.shape"
   ]
  },
  {
   "cell_type": "code",
   "execution_count": 20,
   "metadata": {},
   "outputs": [
    {
     "name": "stderr",
     "output_type": "stream",
     "text": [
      "/Users/duanyueyun/miniconda3/lib/python3.7/site-packages/umap/umap_.py:1530: UserWarning: gradient function is not yet implemented for jaccard distance metric; inverse_transform will be unavailable\n",
      "  \"inverse_transform will be unavailable\".format(self.metric)\n"
     ]
    },
    {
     "data": {
      "text/plain": [
       "(297, 2)"
      ]
     },
     "execution_count": 20,
     "metadata": {},
     "output_type": "execute_result"
    }
   ],
   "source": [
    "u = umap.UMAP(metric=\"jaccard\", n_neighbors=2, min_dist=0.1)\\\n",
    ".fit_transform(sample2.drop(columns=['SHA256','label']))\n",
    "u.shape"
   ]
  },
  {
   "cell_type": "code",
   "execution_count": 21,
   "metadata": {},
   "outputs": [],
   "source": [
    "sample2['x1'] = u[:,0]\n",
    "sample2['x2'] = u[:,1]"
   ]
  },
  {
   "cell_type": "code",
   "execution_count": 22,
   "metadata": {},
   "outputs": [
    {
     "data": {
      "image/png": "[encoded data removed]",
      "text/plain": [
       "<Figure size 576x360 with 1 Axes>"
      ]
     },
     "metadata": {
      "needs_background": "light"
     },
     "output_type": "display_data"
    }
   ],
   "source": [
    "plt.subplots(figsize=(8,5))\n",
    "plt.axis('off')\n",
    "plt.scatter(sample2[sample2['label']==1]['x1'], sample2[sample2['label']==1]['x2'], \n",
    "            marker ='^', c='red', alpha=0.5)\n",
    "plt.scatter(sample2[sample2['label']==0]['x1'], sample2[sample2['label']==0]['x2'],\n",
    "            marker = 'o', c='green',alpha=0.5)\n",
    "plt.legend(['Malware','Benign'], loc='upper center', bbox_to_anchor=(0.5, 0.05),\n",
    "          fancybox=True, shadow=True, ncol=5, markerscale=1.2, \n",
    "          fontsize=14)\n",
    "plt.title(\"Apps without its Original/Repackaged Counterpart\")\n",
    "#plt.savefig(\"safe_learning.png\")\n",
    "plt.show()"
   ]
  }
 ],
 "metadata": {
  "kernelspec": {
   "display_name": "Python 3",
   "language": "python",
   "name": "python3"
  },
  "language_info": {
   "codemirror_mode": {
    "name": "ipython",
    "version": 3
   },
   "file_extension": ".py",
   "mimetype": "text/x-python",
   "name": "python",
   "nbconvert_exporter": "python",
   "pygments_lexer": "ipython3",
   "version": "3.7.6"
  }
 },
 "nbformat": 4,
 "nbformat_minor": 4
}
