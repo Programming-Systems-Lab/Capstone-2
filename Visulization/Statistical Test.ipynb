{
 "cells": [
  {
   "cell_type": "code",
   "execution_count": 1,
   "metadata": {},
   "outputs": [],
   "source": [
    "import pandas as pd\n",
    "import numpy as np\n",
    "import matplotlib.pyplot as plt\n",
    "from statsmodels.stats.proportion import proportions_ztest\n",
    "pd.set_option('mode.chained_assignment', None)"
   ]
  },
  {
   "cell_type": "code",
   "execution_count": 2,
   "metadata": {},
   "outputs": [],
   "source": [
    "# data import\n",
    "train = pd.read_csv('Training_Dataset.csv')\n",
    "train_labels = pd.read_csv(\"Labels_Train.csv\")\n",
    "test = pd.read_csv(\"Repackaged_Benign_Testset.csv\")\n",
    "test_labels = pd.read_csv(\"Labels_Repackaged_Benign_Test.csv\")"
   ]
  },
  {
   "cell_type": "code",
   "execution_count": 3,
   "metadata": {},
   "outputs": [],
   "source": [
    "train['label'] = train_labels['label']\n",
    "test['label'] = test_labels['label']\n",
    "data = pd.concat([train, test])"
   ]
  },
  {
   "cell_type": "code",
   "execution_count": 4,
   "metadata": {},
   "outputs": [
    {
     "name": "stdout",
     "output_type": "stream",
     "text": [
      "Number of benign apps: 4862\n",
      "Number of malicious apps: 9142\n"
     ]
    }
   ],
   "source": [
    "print(\"Number of benign apps:\", data[data['label']==0].shape[0])\n",
    "print(\"Number of malicious apps:\", data[data['label']==1].shape[0])"
   ]
  },
  {
   "cell_type": "code",
   "execution_count": 5,
   "metadata": {},
   "outputs": [],
   "source": [
    "sensor_types = data.iloc[:, -30:-1].columns"
   ]
  },
  {
   "cell_type": "code",
   "execution_count": 6,
   "metadata": {},
   "outputs": [],
   "source": [
    "# get number of sensors used\n",
    "data['num_sensors'] = data[sensor_types].sum(axis=1)"
   ]
  },
  {
   "cell_type": "code",
   "execution_count": 7,
   "metadata": {},
   "outputs": [
    {
     "data": {
      "text/plain": [
       "count    14004.000000\n",
       "mean         0.384462\n",
       "std          1.569956\n",
       "min          0.000000\n",
       "25%          0.000000\n",
       "50%          0.000000\n",
       "75%          0.000000\n",
       "max         29.000000\n",
       "Name: num_sensors, dtype: float64"
      ]
     },
     "execution_count": 7,
     "metadata": {},
     "output_type": "execute_result"
    }
   ],
   "source": [
    "data['num_sensors'].describe()"
   ]
  },
  {
   "cell_type": "code",
   "execution_count": 8,
   "metadata": {},
   "outputs": [
    {
     "data": {
      "text/plain": [
       "Text(0.5, 1.0, 'Distribution of number of sensors used (Malicious apps)')"
      ]
     },
     "execution_count": 8,
     "metadata": {},
     "output_type": "execute_result"
    },
    {
     "data": {
      "image/png": "[encoded data removed]",
      "text/plain": [
       "<Figure size 432x288 with 1 Axes>"
      ]
     },
     "metadata": {
      "needs_background": "light"
     },
     "output_type": "display_data"
    }
   ],
   "source": [
    "plt.hist(data[data['label']==1]['num_sensors'])\n",
    "plt.title(\"Distribution of number of sensors used (Malicious apps)\")"
   ]
  },
  {
   "cell_type": "code",
   "execution_count": 9,
   "metadata": {},
   "outputs": [
    {
     "data": {
      "text/plain": [
       "Text(0.5, 1.0, 'Distribution of number of sensors used (Benign apps)')"
      ]
     },
     "execution_count": 9,
     "metadata": {},
     "output_type": "execute_result"
    },
    {
     "data": {
      "image/png": "[encoded data removed]",
      "text/plain": [
       "<Figure size 432x288 with 1 Axes>"
      ]
     },
     "metadata": {
      "needs_background": "light"
     },
     "output_type": "display_data"
    }
   ],
   "source": [
    "plt.hist(data[data['label']==0]['num_sensors'])\n",
    "plt.title(\"Distribution of number of sensors used (Benign apps)\")"
   ]
  },
  {
   "cell_type": "code",
   "execution_count": 10,
   "metadata": {},
   "outputs": [],
   "source": [
    "# whether an app uses any sensors\n",
    "data['use_sensors'] = data['num_sensors']>0"
   ]
  },
  {
   "cell_type": "code",
   "execution_count": 11,
   "metadata": {},
   "outputs": [
    {
     "data": {
      "text/plain": [
       "label\n",
       "0    0.137392\n",
       "1    0.186721\n",
       "Name: use_sensors, dtype: float64"
      ]
     },
     "execution_count": 11,
     "metadata": {},
     "output_type": "execute_result"
    }
   ],
   "source": [
    "data.groupby('label')['use_sensors'].mean()"
   ]
  },
  {
   "cell_type": "markdown",
   "metadata": {},
   "source": [
    "Let $p$ be the proportion of apps that use at least one sensor.\n",
    "\n",
    "$$H_0: p_1 = p_2 $$\n",
    "\n",
    "$$H_a: p_1 > p_2 $$\n",
    "\n",
    "$p_1$: malicious apps\n",
    "\n",
    "$p_2$: benign apps"
   ]
  },
  {
   "cell_type": "code",
   "execution_count": 12,
   "metadata": {},
   "outputs": [
    {
     "name": "stdout",
     "output_type": "stream",
     "text": [
      "z_stat: 7.405, p_value: 0.000\n",
      "Reject the null hypothesis. Proportion of malicious apps using sensors is higher.\n"
     ]
    }
   ],
   "source": [
    "significance = 0.01\n",
    "\n",
    "sample_success_a, sample_size_a = (data[data['label']==1]['use_sensors'].value_counts().values[1], \n",
    "                                   data[data['label']==1]['use_sensors'].shape[0])\n",
    "sample_success_b, sample_size_b = (data[data['label']==0]['use_sensors'].value_counts().values[1], \n",
    "                                   data[data['label']==0]['use_sensors'].shape[0])\n",
    "\n",
    "successes = np.array([sample_success_a, sample_success_b])\n",
    "samples = np.array([sample_size_a, sample_size_b])\n",
    "\n",
    "stat, p_value = proportions_ztest(count = successes, nobs = samples, \n",
    "                                  alternative = 'larger')\n",
    "\n",
    "print('z_stat: %0.3f, p_value: %0.3f' % (stat, p_value))\n",
    "if p_value > significance:\n",
    "    print(\"Fail to reject the null hypothesis\")\n",
    "else:\n",
    "    print(\"Reject the null hypothesis. Proportion of malicious apps using sensors is higher.\")"
   ]
  },
  {
   "cell_type": "code",
   "execution_count": 19,
   "metadata": {},
   "outputs": [
    {
     "name": "stdout",
     "output_type": "stream",
     "text": [
      "p1: 0.187\n",
      "p2: 0.137\n"
     ]
    }
   ],
   "source": [
    "print('p1: %0.3f' % (sample_success_a / sample_size_a))\n",
    "print('p2: %0.3f' % (sample_success_b / sample_size_b))"
   ]
  }
 ],
 "metadata": {
  "kernelspec": {
   "display_name": "Python 3",
   "language": "python",
   "name": "python3"
  },
  "language_info": {
   "codemirror_mode": {
    "name": "ipython",
    "version": 3
   },
   "file_extension": ".py",
   "mimetype": "text/x-python",
   "name": "python",
   "nbconvert_exporter": "python",
   "pygments_lexer": "ipython3",
   "version": "3.7.6"
  }
 },
 "nbformat": 4,
 "nbformat_minor": 4
}
